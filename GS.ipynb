{
 "cells": [
  {
   "cell_type": "code",
   "execution_count": 15,
   "id": "72a701f3",
   "metadata": {},
   "outputs": [],
   "source": [
    "import math\n",
    "from functools import reduce\n",
    "from collections import deque\n",
    "from heapq import (\n",
    "    heapify, heappop, heappush\n",
    ")\n",
    "\n",
    "\n",
    "def pref_to_rank(pref):\n",
    "    return {\n",
    "        a: {b: idx for idx, b in enumerate(a_pref)}\n",
    "        for a, a_pref in pref.items()\n",
    "    }\n",
    "\n",
    "\n",
    "def gale_shapley(A, B, A_pref, B_pref):\n",
    "    \"\"\"Create a stable matching using the\n",
    "    Gale-Shapley algorithm.\n",
    "    \n",
    "    Args:\n",
    "        A(set): customer list\n",
    "        B(set): banker list\n",
    "        A_pref(dict[str, list[str]]): customer preference list\n",
    "        B_pref(dict[str, list[str]]): banker preference list\n",
    "\n",
    "    Return: \n",
    "        list of (a, b) pairs.\n",
    "    \"\"\"\n",
    "    B_rank = pref_to_rank(B_pref)\n",
    "    ask_list = {a: deque(bs) for a, bs in A_pref.items()}\n",
    "    pair = {}\n",
    "    remaining_A = set(A)\n",
    "    \n",
    "    while len(remaining_A) > 0:\n",
    "        a = remaining_A.pop()\n",
    "        b = ask_list[a].popleft()\n",
    "        if b not in pair:\n",
    "            pair[b] = a\n",
    "        else:\n",
    "            a0 = pair[b]\n",
    "            b_prefer_a0 = B_rank[b][a0] < B_rank[b][a]\n",
    "            if b_prefer_a0:\n",
    "                remaining_A.add(a)\n",
    "            else:\n",
    "                remaining_A.add(a0)\n",
    "                pair[b] = a\n",
    "    \n",
    "    return [(a, b) for b, a in pair.items()]"
   ]
  },
  {
   "cell_type": "code",
   "execution_count": 31,
   "id": "f9530d22",
   "metadata": {},
   "outputs": [],
   "source": [
    "def multiply_banker(bankers: list, banker_capacity: dict):\n",
    "    return reduce(lambda x, y: x + y, [[b] * banker_capacity[b] for b in bankers])"
   ]
  },
  {
   "cell_type": "code",
   "execution_count": 41,
   "id": "95c8eb27",
   "metadata": {},
   "outputs": [],
   "source": [
    "def gale_shapley_1vn(custs, bankers, cust_pref, banker_pref, banker_capacity=None):\n",
    "    \"\"\"Create a stable matching using the Gale-Shapley algorithm and allowing for the capacity of each b\n",
    "\n",
    "    Args:\n",
    "        custs(set): customer list\n",
    "        bankers(set): banker list\n",
    "        cust_pref(dict[str, list[str]]): customer preference list\n",
    "        banker_pref(dict[str, list[str]]): banker preference list\n",
    "        banker_capacity(dict[str, int]): banker capacity, how\n",
    "\n",
    "    Return:\n",
    "        list of (cust, b) pairs.\n",
    "    \"\"\"\n",
    "    if banker_capacity is None:\n",
    "        split_evenly = math.ceil(len(custs) / len(bankers))\n",
    "        banker_capacity = {b: split_evenly for b in bankers}\n",
    "        \n",
    "    B_rank = pref_to_rank(banker_pref)\n",
    "    ask_list = {cust: deque(multiply_banker(bs, banker_capacity)) for cust, bs in cust_pref.items()}\n",
    "    pair = {}\n",
    "    remaining_cust = set(custs)\n",
    "\n",
    "    while remaining_cust:\n",
    "        cust = remaining_cust.pop()\n",
    "        b = ask_list[cust].popleft()\n",
    "        if b not in pair:\n",
    "            pair[b] = [cust]\n",
    "        elif len(pair[b]) < banker_capacity[b]:\n",
    "                pair[b].append(cust)\n",
    "        else:\n",
    "            for cust0 in pair[b]:\n",
    "                b_prefer_cust = B_rank[b][cust0] > B_rank[b][cust]\n",
    "                if b_prefer_cust:\n",
    "                    pair[b].remove(cust0)\n",
    "                    pair[b].append(cust)\n",
    "                    remaining_cust.add(cust0)\n",
    "                    break\n",
    "            else:\n",
    "                remaining_cust.add(cust)\n",
    "\n",
    "    return [(cust, b) for b, cust in pair.items()]"
   ]
  },
  {
   "cell_type": "code",
   "execution_count": 74,
   "id": "15ba8181",
   "metadata": {},
   "outputs": [],
   "source": [
    "def gale_shapley_1vn_heap(custs, bankers, cust_pref, banker_pref, banker_capacity=None):\n",
    "    \"\"\"Create a stable matching using the Gale-Shapley algorithm and allowing for the capacity of each b\n",
    "\n",
    "    Args:\n",
    "        custs(set): customer list\n",
    "        bankers(set): banker list\n",
    "        cust_pref(dict[str, list[str]]): customer preference list\n",
    "        banker_pref(dict[str, list[str]]): banker preference list\n",
    "        banker_capacity(dict[str, int]): banker capacity, how\n",
    "\n",
    "    Return:\n",
    "        list of (cust, b) pairs.\n",
    "    \"\"\"\n",
    "    if banker_capacity is None:\n",
    "        split_evenly = math.ceil(len(custs) / len(bankers))\n",
    "        banker_capacity = {b: split_evenly for b in bankers}\n",
    "        \n",
    "    B_rank = pref_to_rank(banker_pref)\n",
    "    ask_list = {cust: deque(multiply_banker(bs, banker_capacity)) for cust, bs in cust_pref.items()}\n",
    "    pair = {}\n",
    "    remaining_cust = set(custs)\n",
    "\n",
    "    while remaining_cust:\n",
    "        cust = remaining_cust.pop()\n",
    "        b = ask_list[cust].popleft()\n",
    "        rank = -B_rank[b][cust]\n",
    "        if b not in pair:\n",
    "            pair[b] = [(rank, cust)]\n",
    "            heapify(pair[b])\n",
    "        elif len(pair[b]) < banker_capacity[b]:\n",
    "            heappush(pair[b], (rank, cust))\n",
    "        elif rank > pair[b][0][0]: # 比堆顶的客户排位高\n",
    "            dumped = heappop(pair[b])[-1]\n",
    "            heappush(pair[b], (rank, cust))\n",
    "            remaining_cust.add(dumped)\n",
    "        else:\n",
    "            remaining_cust.add(cust)\n",
    "\n",
    "    return [(cust, b) for b, cust in pair.items()]"
   ]
  },
  {
   "cell_type": "code",
   "execution_count": 71,
   "id": "2114663e",
   "metadata": {},
   "outputs": [],
   "source": [
    "custs = ['悟空', '白龙马', '沙僧', '八戒']\n",
    "bankers = ['杨幂', 'hzj']\n",
    "cust_pref = {\n",
    "    cust: bankers[:] for cust in custs\n",
    "}\n",
    "cust_pref['沙僧'] = bankers[::-1]\n",
    "\n",
    "banker_pref = {\n",
    "    'hzj': custs[:],\n",
    "    \"杨幂\": ['悟空', '沙僧', '白龙马', '八戒']\n",
    "}\n",
    "\n",
    "ans = gale_shapley_1vn(custs=custs, bankers=bankers, cust_pref=cust_pref, banker_pref=banker_pref)"
   ]
  },
  {
   "cell_type": "code",
   "execution_count": 72,
   "id": "b69b220f",
   "metadata": {},
   "outputs": [
    {
     "data": {
      "text/plain": [
       "[(['悟空', '白龙马'], '杨幂'), (['沙僧', '八戒'], 'hzj')]"
      ]
     },
     "execution_count": 72,
     "metadata": {},
     "output_type": "execute_result"
    }
   ],
   "source": [
    "ans"
   ]
  },
  {
   "cell_type": "code",
   "execution_count": 75,
   "id": "5961af8e",
   "metadata": {},
   "outputs": [],
   "source": [
    "males = ['一夫', '汤焱', '小余', 'giegie', '小刘', '小宽']\n",
    "females = ['郭郭', '斯宇', 'sq', '李总', '雨婷', '翟总']\n",
    "\n",
    "male_pref = {\n",
    "    \"一夫\": ['郭郭', 'sq', '雨婷', '斯宇', '翟总', '李总'],\n",
    "    '汤焱': ['斯宇', 'sq', '郭郭', '雨婷', '李总', '翟总'],\n",
    "    '小余': ['sq', '李总', '雨婷', '郭郭', '斯宇', '翟总'],\n",
    "    'giegie': ['sq', '翟总', '李总', '郭郭', '斯宇', '雨婷'],\n",
    "    '小刘': ['sq', '翟总', '雨婷', '李总', '郭郭', '斯宇'],\n",
    "    '小宽': ['雨婷', 'sq', '李总', '斯宇', '郭郭', '翟总']\n",
    "}\n",
    "\n",
    "female_pref = {\n",
    "    '郭郭': ['一夫', '小余', '小宽', '汤焱', '小刘', 'giegie'],\n",
    "    '斯宇': ['汤焱', '小刘', '小宽', 'giegie', '一夫', '小余'],\n",
    "    'sq': ['giegie', '小刘', '小余', '一夫', '汤焱', '小宽'],\n",
    "    '李总': ['小余', '小宽', '小刘', 'giegie', '一夫', '汤焱'],\n",
    "    '雨婷': ['一夫', '小宽','汤焱', '小刘', '小余', 'giegie'],\n",
    "    '翟总': ['小刘', 'giegie', '小余', '一夫', '汤焱', '小宽'] # 喜欢猛男\n",
    "}\n",
    "\n",
    "males.reverse()\n",
    "res = gale_shapley_1vn_heap(custs=males, bankers=females, cust_pref=male_pref, banker_pref=female_pref)"
   ]
  },
  {
   "cell_type": "code",
   "execution_count": 76,
   "id": "df4f546c",
   "metadata": {},
   "outputs": [
    {
     "data": {
      "text/plain": [
       "[([(0, 'giegie')], 'sq'),\n",
       " ([(0, '一夫')], '郭郭'),\n",
       " ([(0, '汤焱')], '斯宇'),\n",
       " ([(-1, '小宽')], '雨婷'),\n",
       " ([(0, '小余')], '李总'),\n",
       " ([(0, '小刘')], '翟总')]"
      ]
     },
     "execution_count": 76,
     "metadata": {},
     "output_type": "execute_result"
    }
   ],
   "source": [
    "res"
   ]
  },
  {
   "cell_type": "code",
   "execution_count": 83,
   "id": "1fa48f88",
   "metadata": {},
   "outputs": [
    {
     "data": {
      "text/plain": [
       "[([(-3, 'junru'), (-2, 'yiwei'), (-1, 'lishan')], 'o'),\n",
       " ([(-2, 'like'), (0, 'yueping')], 'a'),\n",
       " ([(-3, 'hzj'), (0, 'jiajie')], 't')]"
      ]
     },
     "execution_count": 83,
     "metadata": {},
     "output_type": "execute_result"
    }
   ],
   "source": [
    "employees = ['lishan', 'hzj', 'yiwei', 'jiajie', 'junru', 'yueping', 'like']\n",
    "tasks = ['o', 't', 'a']\n",
    "\n",
    "employee_pref = {\n",
    "    'lishan': ['o', 'a', 't'],\n",
    "    'hzj': ['a', 't', 'o'],\n",
    "    'yiwei': ['o', 't', 'a'],\n",
    "    'jiajie': ['t', 'o', 'a'],\n",
    "    'junru': ['o', 't', 'a'],\n",
    "    'yueping': ['a', 't', 'o'],\n",
    "    'like': ['a', 't', 'o']\n",
    "}\n",
    "\n",
    "task_pref = {\n",
    "    'o': ['hzj', 'lishan', 'yiwei', 'junru', 'like', 'jiajie', 'yueping'],\n",
    "    't': ['jiajie', 'lishan', 'yueping','hzj', 'yiwei', 'like', 'junru'],\n",
    "    'a': ['yueping', 'lishan', 'like', 'junru', 'hzj', 'jiajie', 'yiwei']\n",
    "}\n",
    "\n",
    "task_capacity = {\n",
    "    'o': 3, 't': 2, 'a': 2\n",
    "}\n",
    "\n",
    "\n",
    "params = {\"custs\": employees, \"cust_pref\": employee_pref, \"bankers\": tasks, \"banker_pref\": task_pref}\n",
    "gale_shapley_1vn_heap(banker_capacity=task_capacity, **params)"
   ]
  },
  {
   "cell_type": "code",
   "execution_count": 84,
   "id": "5571b8d9",
   "metadata": {},
   "outputs": [
    {
     "data": {
      "text/plain": [
       "[(['yiwei', 'junru', 'lishan'], 'o'),\n",
       " (['yueping', 'like'], 'a'),\n",
       " (['jiajie', 'hzj'], 't')]"
      ]
     },
     "execution_count": 84,
     "metadata": {},
     "output_type": "execute_result"
    }
   ],
   "source": [
    "gale_shapley_1vn(banker_capacity=task_capacity, **params)"
   ]
  },
  {
   "cell_type": "code",
   "execution_count": null,
   "id": "d717165a",
   "metadata": {},
   "outputs": [],
   "source": [
    "class Heap():\n",
    "    def __init__(self, l: list):\n",
    "        self.l = l\n",
    "        self.len = len(l)\n",
    "        \n",
    "    def _push_down"
   ]
  }
 ],
 "metadata": {
  "kernelspec": {
   "display_name": "Python 3",
   "language": "python",
   "name": "python3"
  },
  "language_info": {
   "codemirror_mode": {
    "name": "ipython",
    "version": 3
   },
   "file_extension": ".py",
   "mimetype": "text/x-python",
   "name": "python",
   "nbconvert_exporter": "python",
   "pygments_lexer": "ipython3",
   "version": "3.7.3"
  }
 },
 "nbformat": 4,
 "nbformat_minor": 5
}
