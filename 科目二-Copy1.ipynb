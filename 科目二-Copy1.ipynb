{
 "cells": [
  {
   "cell_type": "code",
   "execution_count": 1,
   "id": "07d47803",
   "metadata": {},
   "outputs": [
    {
     "name": "stdout",
     "output_type": "stream",
     "text": [
      "pygame 2.3.0 (SDL 2.24.2, Python 3.9.6)\n",
      "Hello from the pygame community. https://www.pygame.org/contribute.html\n"
     ]
    }
   ],
   "source": [
    "import pygame\n",
    "import random\n",
    "import math\n",
    "import numpy as np \n",
    "\n",
    "# 常量，屏幕宽高\n",
    "WIDTH, HEIGHT = 800, 600\n",
    "\n",
    "# 初始化操作\n",
    "pygame.init()\n",
    "pygame.mixer.init()\n",
    "# 创建游戏窗口\n",
    "screen = pygame.display.set_mode((WIDTH, HEIGHT))\n",
    "\n",
    "# 设置游戏标题\n",
    "pygame.display.set_caption('倒车入库')"
   ]
  },
  {
   "cell_type": "code",
   "execution_count": 2,
   "id": "d774d4ec",
   "metadata": {},
   "outputs": [],
   "source": [
    "# 添加系统时钟，用于设置帧的刷新\n",
    "FPS = 10\n",
    "clock = pygame.time.Clock()\n",
    "\n",
    "# 对于精灵定义了英雄。\n",
    "\n",
    "# 主角\n",
    "class Hero(pygame.sprite.Sprite):\n",
    "    CAR_LENGTH, CAR_WIDTH, TIRE_DIST = 60, 40, 40\n",
    "    \n",
    "    def __init__(self, speed=10):\n",
    "        from pygame.math import Vector2\n",
    "        super().__init__()  # 调用父类的初始化方法\n",
    "        self.image = pygame.image.load('./image/kart.jpeg')\n",
    "        self.rect = pygame.rect.Rect(0, 0, self.CAR_LENGTH, self.CAR_WIDTH)\n",
    "        self.image = pygame.transform.scale(self.image, (self.rect.width, self.rect.height))\n",
    "        self.original_image = self.image\n",
    "        self.direction = Vector2(1, 0)\n",
    "        # 主角初始化位置\n",
    "        self.rect.x, self.rect.y = 0, 100\n",
    "        self.angle_speed = 0\n",
    "        self.angle = 0\n",
    "\n",
    "    def update(self, *args):\n",
    "        keys = pygame.key.get_pressed()\n",
    "        delta_angle = 7.5\n",
    "        # top-left是(0, 0), y是倒过来的\n",
    "        if keys[pygame.K_LEFT]:\n",
    "            self.rotate(-delta_angle)\n",
    "                \n",
    "        if keys[pygame.K_RIGHT]:\n",
    "            self.rotate(delta_angle)\n",
    "        \n",
    "                \n",
    "    def rotate(self, delta_angle):\n",
    "        self.direction.rotate_ip(delta_angle)\n",
    "        self.angle += delta_angle\n",
    "        self.image = pygame.transform.rotate(self.original_image, -self.angle)\n",
    "        self.rect = self.image.get_rect(center=self.rect.center)\n",
    "        \n"
   ]
  },
  {
   "cell_type": "code",
   "execution_count": 3,
   "id": "7ce40099",
   "metadata": {},
   "outputs": [],
   "source": [
    "# 初始化精灵组\n",
    "hero_sprite = pygame.sprite.Group()\n",
    "\n",
    "# 定义人物\n",
    "hero1 = Hero(4)\n",
    "hero_sprite.add(hero1)\n",
    "\n",
    "WHITE = (0, 0, 0)"
   ]
  },
  {
   "cell_type": "code",
   "execution_count": 4,
   "id": "1d05a5fe",
   "metadata": {},
   "outputs": [
    {
     "name": "stderr",
     "output_type": "stream",
     "text": [
      "2023-04-13 23:23:26.813 Python[1994:96450] TSM AdjustCapsLockLEDForKeyTransitionHandling - _ISSetPhysicalKeyboardCapsLockLED Inhibit\n"
     ]
    },
    {
     "ename": "error",
     "evalue": "display Surface quit",
     "output_type": "error",
     "traceback": [
      "\u001b[0;31m---------------------------------------------------------------------------\u001b[0m",
      "\u001b[0;31merror\u001b[0m                                     Traceback (most recent call last)",
      "Cell \u001b[0;32mIn[4], line 14\u001b[0m\n\u001b[1;32m     11\u001b[0m         pygame\u001b[38;5;241m.\u001b[39mquit()\n\u001b[1;32m     12\u001b[0m         exit()\n\u001b[0;32m---> 14\u001b[0m \u001b[43mscreen\u001b[49m\u001b[38;5;241;43m.\u001b[39;49m\u001b[43mfill\u001b[49m\u001b[43m(\u001b[49m\u001b[43mWHITE\u001b[49m\u001b[43m)\u001b[49m\n\u001b[1;32m     15\u001b[0m \u001b[38;5;66;03m# draw contour of garage \u001b[39;00m\n\u001b[1;32m     16\u001b[0m pygame\u001b[38;5;241m.\u001b[39mdraw\u001b[38;5;241m.\u001b[39mline(screen, (\u001b[38;5;241m160\u001b[39m, \u001b[38;5;241m160\u001b[39m, \u001b[38;5;241m160\u001b[39m), (\u001b[38;5;241m0\u001b[39m, \u001b[38;5;241m80\u001b[39m), (\u001b[38;5;241m60\u001b[39m, \u001b[38;5;241m80\u001b[39m))\n",
      "\u001b[0;31merror\u001b[0m: display Surface quit"
     ]
    }
   ],
   "source": [
    "# 保持游戏运行状态(游戏循环）\n",
    "while True:\n",
    "    # ===========游戏帧的刷新===========\n",
    "    clock.tick(FPS)\n",
    "\n",
    "    # 检测事件\n",
    "    for event in pygame.event.get():\n",
    "        # 检测关闭按钮被点击的事件\n",
    "        if event.type == pygame.QUIT:\n",
    "            # 退出\n",
    "            pygame.quit()\n",
    "            exit()\n",
    "    \n",
    "    screen.fill(WHITE)\n",
    "    # draw contour of garage \n",
    "    pygame.draw.line(screen, (160, 160, 160), (0, 80), (60, 80))\n",
    "    pygame.draw.line(screen, (160, 160, 160), (0, 160), (60, 160))\n",
    "    pygame.draw.line(screen, (160, 160, 160), (300, 0), (300, 300))\n",
    "\n",
    "    \n",
    "    hero_sprite.update()\n",
    "    screen.fill(WHITE)\n",
    "    hero_sprite.draw(screen)\n",
    "        \n",
    "    pygame.display.update()"
   ]
  },
  {
   "cell_type": "code",
   "execution_count": null,
   "id": "6a0de541",
   "metadata": {},
   "outputs": [],
   "source": []
  }
 ],
 "metadata": {
  "kernelspec": {
   "display_name": "Python 3 (ipykernel)",
   "language": "python",
   "name": "python3"
  },
  "language_info": {
   "codemirror_mode": {
    "name": "ipython",
    "version": 3
   },
   "file_extension": ".py",
   "mimetype": "text/x-python",
   "name": "python",
   "nbconvert_exporter": "python",
   "pygments_lexer": "ipython3",
   "version": "3.9.6"
  }
 },
 "nbformat": 4,
 "nbformat_minor": 5
}
