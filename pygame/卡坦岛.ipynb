{
 "cells": [
  {
   "cell_type": "code",
   "execution_count": 1,
   "id": "07d47803",
   "metadata": {},
   "outputs": [
    {
     "name": "stdout",
     "output_type": "stream",
     "text": [
      "pygame 2.3.0 (SDL 2.24.2, Python 3.9.6)\n",
      "Hello from the pygame community. https://www.pygame.org/contribute.html\n"
     ]
    }
   ],
   "source": [
    "import pygame\n",
    "import random\n",
    "import math\n",
    "import numpy as np \n",
    "\n",
    "# 常量，屏幕宽高\n",
    "WIDTH, HEIGHT = 1000, 1000\n",
    "\n",
    "# 初始化操作\n",
    "pygame.init()\n",
    "pygame.mixer.init()\n",
    "# 创建游戏窗口\n",
    "screen = pygame.display.set_mode((WIDTH, HEIGHT))\n",
    "\n",
    "# 设置游戏标题\n",
    "pygame.display.set_caption('妹多局之卡坦岛')"
   ]
  },
  {
   "cell_type": "code",
   "execution_count": 2,
   "id": "382adc31",
   "metadata": {},
   "outputs": [],
   "source": [
    "red, blue, yellow = [pygame.Color(color) for color in ['red', 'blue', 'yellow']]"
   ]
  },
  {
   "cell_type": "code",
   "execution_count": 3,
   "id": "df673ad7",
   "metadata": {},
   "outputs": [],
   "source": [
    "# 添加系统时钟，用于设置帧的刷新\n",
    "FPS = 10\n",
    "clock = pygame.time.Clock()"
   ]
  },
  {
   "cell_type": "code",
   "execution_count": 4,
   "id": "4690d1e4",
   "metadata": {},
   "outputs": [],
   "source": [
    "class Text(pygame.sprite.Sprite):\n",
    "    def __init__(self, text, center, size=20, color=blue, width=10, height=10):\n",
    "        super().__init__()\n",
    "    \n",
    "        self.font = pygame.font.SysFont(\"Arial\", size)\n",
    "        self.text_surf = self.font.render(text, 1, color)\n",
    "        self.image = pygame.Surface((width, height))\n",
    "        W = self.text_surf.get_width()\n",
    "        H = self.text_surf.get_height()\n",
    "        self.rect = self.image.get_rect()\n",
    "#         self.image.fill(color)\n",
    "        self.image.blit(self.text_surf, center)\n",
    "        \n",
    "        \n",
    "class Edge(pygame.sprite.Sprite):\n",
    "    WIDTH = 5 \n",
    "    def __init__(self, start_pos, end_pos, color=yellow):\n",
    "        super().__init__()\n",
    "        self.image = pygame.Surface([10, 50])\n",
    "        self.image.set_colorkey(color)\n",
    "        self.rect = self.image.get_rect(center=((start_pos[0] + end_pos[0])/2, (start_pos[-1]+end_pos[-1])/2))\n",
    "        pygame.draw.line(screen, color, start_pos, end_pos, self.WIDTH)\n",
    "    \n",
    "    def update(self, color):\n",
    "#         self.image.set_colorkey(color)\n",
    "        colorImage = pygame.Surface(self.image.get_size()).convert_alpha()\n",
    "        colorImage.fill(color)\n",
    "        self.image.blit(colorImage, self.rect.center, special_flags = pygame.BLEND_RGBA_MULT)"
   ]
  },
  {
   "cell_type": "code",
   "execution_count": 5,
   "id": "b3c66fca",
   "metadata": {},
   "outputs": [],
   "source": [
    "# 定义class\n",
    "class Vertex(pygame.sprite.Sprite):\n",
    "    WIDTH, HEIGHT = 15, 15\n",
    "    \n",
    "    def __init__(self, x, y, color=red):\n",
    "        super().__init__()\n",
    "        self.center = (x, y)\n",
    "        self.rect = pygame.rect.Rect(x, y, self.WIDTH, self.HEIGHT)\n",
    "        self.image = pygame.Surface((self.WIDTH, self.HEIGHT))\n",
    "#         self.image.fill(color)\n",
    "        \n",
    "        # 用颜色填充\n",
    "        color_image = pygame.Surface(self.image.get_size()).convert_alpha()\n",
    "        color_image.fill(color)\n",
    "        self.image.blit(color_image, (x, y), special_flags = pygame.BLEND_RGBA_MULT)\n",
    "    \n",
    "    def update(self, color):\n",
    "        colorImage = pygame.Surface(self.image.get_size()).convert_alpha()\n",
    "        colorImage.fill(color)\n",
    "        self.image.blit(colorImage, self.center, special_flags = pygame.BLEND_RGBA_MULT)"
   ]
  },
  {
   "cell_type": "code",
   "execution_count": 6,
   "id": "94f3a776",
   "metadata": {},
   "outputs": [],
   "source": [
    "class Hexagon(pygame.sprite.Sprite):\n",
    "    \"\"\"hexagonal tile\n",
    "    \n",
    "    Attrs:\n",
    "        no: rolling number\n",
    "        res: resource type, options ['wool', 'lumber', 'wheat', 'ore', 'brick', 'jpeg']\n",
    "        vertices: six vertices, where players can build settlements\n",
    "        edges: six lines, where players can build road\n",
    "    \"\"\"\n",
    "    RADIUS = 40 \n",
    "    RESOURCE_TYPES = 'wool lumber wheat ore brick'.split(' ')\n",
    "    RESOURCE_IMAGES = [pygame.image.load(f\"./images/catan/{res}.jpeg\") for res in RESOURCE_TYPES]\n",
    "    TIPO2IMAGE = dict(zip(RESOURCE_TYPES, RESOURCE_IMAGES))\n",
    "    G3 = math.sqrt(3)\n",
    "    WIDTH, HEIGHT = RADIUS * 2 * G3 - 2 * Edge.WIDTH, 2 * RADIUS - 2 * Edge.WIDTH\n",
    "    \n",
    "    def __init__(self, resource_type, center_x, center_y, no):\n",
    "        super().__init__()\n",
    "        self.no = no\n",
    "        self.center_x, self.center_y = center_x, center_y\n",
    "        self.res = resource_type\n",
    "        self.image = self.TIPO2IMAGE[self.res]\n",
    "        self.image = pygame.transform.scale(self.image, (self.WIDTH, self.HEIGHT))\n",
    "        self.rect = pygame.rect.Rect(center_x - self.WIDTH / 2, center_y - self.RADIUS, self.WIDTH, self.HEIGHT)\n",
    "\n",
    "    def update(self):\n",
    "        self.text = Text(str(self.no), center=(self.center_x, self.center_y-self.RADIUS * 1.1))\n",
    "        angles = [i * math.pi / 3 + math.pi / 6 for i in range(6)]\n",
    "        self.vertices = [\n",
    "            Vertex(\n",
    "                x=self.center_x + self.RADIUS * 2 * math.cos(angle),\n",
    "                y=self.center_y + self.RADIUS * 2 * math.sin(angle),\n",
    "                \n",
    "            ) \n",
    "            for angle in angles\n",
    "        ]\n",
    "        \n",
    "        self.edges = [\n",
    "            Edge(start_pos=self.vertices[i].center, end_pos=self.vertices[(i+1) % 6].center)\n",
    "            for i in range(6)\n",
    "        ]"
   ]
  },
  {
   "cell_type": "code",
   "execution_count": 7,
   "id": "7ce40099",
   "metadata": {},
   "outputs": [],
   "source": [
    "# 初始化精灵组\n",
    "hex_group = pygame.sprite.Group()\n",
    "ver_group = pygame.sprite.Group()\n",
    "text_group = pygame.sprite.Group()\n",
    "edge_group = pygame.sprite.Group()\n",
    "\n",
    "# 定义人物\n",
    "hexs = [\n",
    "    Hexagon(\n",
    "        no=random.randint(2, 12),\n",
    "        center_x=Hexagon.G3 * Hexagon.RADIUS * (2*i+1),\n",
    "        center_y=3 * Hexagon.RADIUS,\n",
    "        resource_type=random.choice(Hexagon.RESOURCE_TYPES)\n",
    "    ) for i in range(6)\n",
    "]\n",
    "\n",
    "for ele in hexs:\n",
    "    hex_group.add(ele)\n",
    "#     for vertex in ele.vertices:\n",
    "#         ver_group.add(vertex)\n",
    "#     for edge in ele.edges:\n",
    "#         edge_group.add(edge)\n",
    "#     text_group.add(ele.text)"
   ]
  },
  {
   "cell_type": "code",
   "execution_count": 8,
   "id": "1d05a5fe",
   "metadata": {},
   "outputs": [
    {
     "ename": "error",
     "evalue": "display Surface quit",
     "output_type": "error",
     "traceback": [
      "\u001b[0;31m---------------------------------------------------------------------------\u001b[0m",
      "\u001b[0;31merror\u001b[0m                                     Traceback (most recent call last)",
      "Cell \u001b[0;32mIn[8], line 14\u001b[0m\n\u001b[1;32m     11\u001b[0m         pygame\u001b[38;5;241m.\u001b[39mquit()\n\u001b[1;32m     12\u001b[0m         exit()\n\u001b[0;32m---> 14\u001b[0m \u001b[43mscreen\u001b[49m\u001b[38;5;241;43m.\u001b[39;49m\u001b[43mfill\u001b[49m\u001b[43m(\u001b[49m\u001b[43m(\u001b[49m\u001b[38;5;241;43m100\u001b[39;49m\u001b[43m,\u001b[49m\u001b[43m \u001b[49m\u001b[38;5;241;43m100\u001b[39;49m\u001b[43m,\u001b[49m\u001b[43m \u001b[49m\u001b[38;5;241;43m100\u001b[39;49m\u001b[43m)\u001b[49m\u001b[43m)\u001b[49m\n\u001b[1;32m     15\u001b[0m \u001b[38;5;28;01mfor\u001b[39;00m group \u001b[38;5;129;01min\u001b[39;00m [hex_group]:\n\u001b[1;32m     16\u001b[0m     group\u001b[38;5;241m.\u001b[39mupdate()\n",
      "\u001b[0;31merror\u001b[0m: display Surface quit"
     ]
    }
   ],
   "source": [
    "# 保持游戏运行状态(游戏循环）\n",
    "while True:\n",
    "    # ===========游戏帧的刷新===========\n",
    "    clock.tick(FPS)\n",
    "\n",
    "    # 检测事件\n",
    "    for event in pygame.event.get():\n",
    "        # 检测关闭按钮被点击的事件\n",
    "        if event.type == pygame.QUIT:\n",
    "            # 退出\n",
    "            pygame.quit()\n",
    "            exit()\n",
    "    \n",
    "    screen.fill((100, 100, 100))\n",
    "    for group in [hex_group]:\n",
    "        group.update()\n",
    "        for edge in hexs[0].edges:\n",
    "            edge.update(red)\n",
    "\n",
    "        group.draw(screen)\n",
    "    \n",
    "    pygame.display.update()"
   ]
  },
  {
   "cell_type": "code",
   "execution_count": null,
   "id": "6a0de541",
   "metadata": {},
   "outputs": [],
   "source": []
  }
 ],
 "metadata": {
  "kernelspec": {
   "display_name": "Python 3 (ipykernel)",
   "language": "python",
   "name": "python3"
  },
  "language_info": {
   "codemirror_mode": {
    "name": "ipython",
    "version": 3
   },
   "file_extension": ".py",
   "mimetype": "text/x-python",
   "name": "python",
   "nbconvert_exporter": "python",
   "pygments_lexer": "ipython3",
   "version": "3.9.6"
  }
 },
 "nbformat": 4,
 "nbformat_minor": 5
}
