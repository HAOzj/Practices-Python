{
 "cells": [
  {
   "cell_type": "markdown",
   "metadata": {},
   "source": [
    "*分箱*  \n",
    "有监督学习中,有时候我们需要把连续性自变量转变为离散性自变量,这个过程叫做分箱,也就是把坐标轴上连续的点分到有限数量的区间中,就像点集放入箱子.  \n",
    "[Randy Kerber](http://sci2s.ugr.es/keel/pdf/algorithm/congreso/1992-Kerber-ChimErge-AAAI92.pdf)认为区间是对种类分布的描述,分箱的原则是区间内种类分布尽量一致而相邻区间的种类分布尽量不同(否则就该合并).区间分布一致性可以用[Chi Stat](https://en.wikipedia.org/wiki/Chi-squared_test)来表示.[Chi Merge](http://sci2s.ugr.es/keel/pdf/algorithm/congreso/1992-Kerber-ChimErge-AAAI92.pdf)应运而生.  \n",
    "\n",
    "*Chi Merge*\n",
    "这是一种从底向上的分箱方法.  \n",
    "1. 先将自变量序列排序,序列中每个点作为一个bucket,\n",
    "2. 计算每对相邻buckets频数分布的Chi Stat,\n",
    "3. 选择Chi Stat中最小并小于合并阈值的相邻区间合并\n",
    "4. 重复2.3步直到Chi stat全部大于合并阈值或区间数小于等于最少区间数"
   ]
  },
  {
   "cell_type": "markdown",
   "metadata": {},
   "source": [
    "*两组频数分布的Chi Stat*  \n",
    "不妨设两组频数分布分别为$(n_1^1, n_1^1, ..., n_K^1)$和$(n_1^2, n_1^2, ..., n_K^2)$,K为种类数  \n",
    "$Chi = \\sum\\limits_{i=1,2} \\sum\\limits_{j =1}^{K}  \\frac{ ( A_i^j - E_i^j ) ^2}{E_i^j} $  \n",
    "其中  \n",
    "$A_i^j$ 为i区间j类的实际频数,   \n",
    "$E_i^j = P^j * n_i$  表示i区间j类的期望频数.  \n",
    "$P^j = \\frac{n_1^j + n_2^j}{\\sum_{i,k} n_i^j}$表示j类的期望频率  \n",
    "$n_i = \\sum\\limits_{j} n_i^j$表示i区间的样例数\n",
    "\n"
   ]
  },
  {
   "cell_type": "code",
   "execution_count": 1,
   "metadata": {},
   "outputs": [],
   "source": [
    "from bucketing import ChiMerge\n",
    "import numpy as np"
   ]
  },
  {
   "cell_type": "code",
   "execution_count": 2,
   "metadata": {},
   "outputs": [],
   "source": [
    "X = [1e-2, 0.5, 0.7, 0.9, 0.3, 1, 1.6, 1.8, 1.55, 2.2, 2.5, 2, 10]\n",
    "y = ['超低','低',  '低'   , '低'   , '低' , '中'  , '中' , '中' , '中'   , '高'   ,'高'   , '高', '超高']\n",
    "X= np.array(X)\n",
    "y = np.array(y)"
   ]
  },
  {
   "cell_type": "code",
   "execution_count": 3,
   "metadata": {},
   "outputs": [
    {
     "name": "stdout",
     "output_type": "stream",
     "text": [
      "一共有5个类\n",
      "Chi Statistic的阈值为 7.779440339734858\n"
     ]
    }
   ],
   "source": [
    "结果, classes, intervals =ChiMerge(X,y, 0.9, 5) # classes和intervals不是一一对应的"
   ]
  },
  {
   "cell_type": "code",
   "execution_count": 4,
   "metadata": {},
   "outputs": [
    {
     "data": {
      "text/plain": [
       "['中', '低', '超高', '高', '超低']"
      ]
     },
     "execution_count": 4,
     "metadata": {},
     "output_type": "execute_result"
    }
   ],
   "source": [
    "classes"
   ]
  },
  {
   "cell_type": "code",
   "execution_count": 5,
   "metadata": {},
   "outputs": [
    {
     "data": {
      "text/plain": [
       "[0.01, 0.29999999999999999, 1.0, 2.0, 10.0]"
      ]
     },
     "execution_count": 5,
     "metadata": {},
     "output_type": "execute_result"
    }
   ],
   "source": [
    "intervals"
   ]
  },
  {
   "cell_type": "code",
   "execution_count": null,
   "metadata": {},
   "outputs": [],
   "source": []
  }
 ],
 "metadata": {
  "kernelspec": {
   "display_name": "Python 3",
   "language": "python",
   "name": "python3"
  },
  "language_info": {
   "codemirror_mode": {
    "name": "ipython",
    "version": 3
   },
   "file_extension": ".py",
   "mimetype": "text/x-python",
   "name": "python",
   "nbconvert_exporter": "python",
   "pygments_lexer": "ipython3",
   "version": "3.5.2"
  }
 },
 "nbformat": 4,
 "nbformat_minor": 2
}
