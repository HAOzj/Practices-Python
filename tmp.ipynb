{
 "cells": [
  {
   "cell_type": "code",
   "execution_count": 46,
   "id": "32a55543",
   "metadata": {},
   "outputs": [],
   "source": [
    "from math import sqrt\n",
    "def three_mean(a: int, b: int=2) -> (float, float, float):\n",
    "    \"\"\"get arithmetic,  geometric, and harmonic means of a and b\n",
    "    \n",
    "    :param a: int\n",
    "    :param b: int\n",
    "    rtype: float, float, float\n",
    "    \"\"\"\n",
    "    assert a >=0 and b >= 0, print(\"a and b should be non-negative integers\")\n",
    "    def check_divisor():\n",
    "        nonlocal a, b \n",
    "        if a == 0:\n",
    "            a += 1\n",
    "        if b == 0:\n",
    "            b += 1\n",
    "        return (a + b) * 1.0 / 2, sqrt(a * b), (2 * a * b) / (a + b)\n",
    "    return check_divisor"
   ]
  },
  {
   "cell_type": "code",
   "execution_count": 56,
   "id": "523a20a7",
   "metadata": {},
   "outputs": [],
   "source": [
    "xixi = three_mean(1, 2)"
   ]
  },
  {
   "cell_type": "code",
   "execution_count": 59,
   "id": "0f8ee605",
   "metadata": {},
   "outputs": [
    {
     "data": {
      "text/plain": [
       "{'a': int, 'b': int, 'return': (float, float, float)}"
      ]
     },
     "execution_count": 59,
     "metadata": {},
     "output_type": "execute_result"
    }
   ],
   "source": [
    "three_mean.__annotations__"
   ]
  },
  {
   "cell_type": "code",
   "execution_count": 50,
   "id": "6813132d",
   "metadata": {},
   "outputs": [
    {
     "data": {
      "text/plain": [
       "(2,)"
      ]
     },
     "execution_count": 50,
     "metadata": {},
     "output_type": "execute_result"
    }
   ],
   "source": [
    "three_mean.__defaults__"
   ]
  },
  {
   "cell_type": "code",
   "execution_count": 51,
   "id": "3ca47b10",
   "metadata": {},
   "outputs": [
    {
     "data": {
      "text/plain": [
       "'get arithmetic,  geometric, and harmonic means of a and b\\n    \\n    :param a: int\\n    :param b: int\\n    rtype: float, float, float\\n    '"
      ]
     },
     "execution_count": 51,
     "metadata": {},
     "output_type": "execute_result"
    }
   ],
   "source": [
    "three_mean.__doc__"
   ]
  },
  {
   "cell_type": "code",
   "execution_count": 52,
   "id": "b56637ac",
   "metadata": {},
   "outputs": [
    {
     "data": {
      "text/plain": [
       "'three_mean'"
      ]
     },
     "execution_count": 52,
     "metadata": {},
     "output_type": "execute_result"
    }
   ],
   "source": [
    "three_mean.__name__"
   ]
  },
  {
   "cell_type": "code",
   "execution_count": 53,
   "id": "bd871105",
   "metadata": {},
   "outputs": [
    {
     "data": {
      "text/plain": [
       "'three_mean'"
      ]
     },
     "execution_count": 53,
     "metadata": {},
     "output_type": "execute_result"
    }
   ],
   "source": [
    "three_mean.__qualname__"
   ]
  },
  {
   "cell_type": "code",
   "execution_count": 54,
   "id": "2171bc3e",
   "metadata": {},
   "outputs": [
    {
     "data": {
      "text/plain": [
       "('a', 'b', 'check_divisor')"
      ]
     },
     "execution_count": 54,
     "metadata": {},
     "output_type": "execute_result"
    }
   ],
   "source": [
    "three_mean.__code__.co_varnames"
   ]
  },
  {
   "cell_type": "code",
   "execution_count": 69,
   "id": "01f3703f",
   "metadata": {},
   "outputs": [
    {
     "name": "stdout",
     "output_type": "stream",
     "text": [
      "a: 1\n",
      "b: 2\n"
     ]
    }
   ],
   "source": [
    "for name, var in zip(xixi.__code__.co_freevars, xixi.__closure__):\n",
    "    print(name, var.cell_contents, sep=\": \")"
   ]
  },
  {
   "cell_type": "code",
   "execution_count": 70,
   "id": "b90eb822",
   "metadata": {},
   "outputs": [],
   "source": [
    "from functools import partial"
   ]
  },
  {
   "cell_type": "code",
   "execution_count": 71,
   "id": "352a0de2",
   "metadata": {},
   "outputs": [],
   "source": [
    "triple = partial(lambda x, y: x * y, 3)"
   ]
  },
  {
   "cell_type": "code",
   "execution_count": 73,
   "id": "cc8f3c4f",
   "metadata": {},
   "outputs": [
    {
     "data": {
      "text/plain": [
       "[0, 3, 6]"
      ]
     },
     "execution_count": 73,
     "metadata": {},
     "output_type": "execute_result"
    }
   ],
   "source": [
    "[triple(i) for i in range(3)]"
   ]
  },
  {
   "cell_type": "code",
   "execution_count": null,
   "id": "18641b41",
   "metadata": {},
   "outputs": [],
   "source": []
  },
  {
   "cell_type": "code",
   "execution_count": 15,
   "id": "b8dd09c5",
   "metadata": {},
   "outputs": [],
   "source": [
    "from functools import singledispatch\n",
    "from numbers import Integral\n",
    "\n",
    "@singledispatch\n",
    "def add(a, b):\n",
    "    assert type(a) == type(b), print('a and b should be of the same type')\n",
    "    return ''\n",
    "\n",
    "@add.register(Integral)\n",
    "def _(a, b):\n",
    "    print(\"it's int!\")\n",
    "    return a + b\n",
    "    \n",
    "    \n",
    "@add.register(str)\n",
    "def _(text1, text2):\n",
    "    print('xixi')\n",
    "    return text1 + text2 \n",
    "\n",
    "from collections import abc\n",
    "@add.register(abc.MutableSequence)\n",
    "def _(seq1, seq2):\n",
    "    return seq1 + seq2"
   ]
  },
  {
   "cell_type": "code",
   "execution_count": 16,
   "id": "58271d32",
   "metadata": {},
   "outputs": [
    {
     "name": "stdout",
     "output_type": "stream",
     "text": [
      "it's int!\n"
     ]
    },
    {
     "ename": "TypeError",
     "evalue": "unsupported operand type(s) for +: 'int' and 'str'",
     "output_type": "error",
     "traceback": [
      "\u001b[0;31m---------------------------------------------------------------------------\u001b[0m",
      "\u001b[0;31mTypeError\u001b[0m                                 Traceback (most recent call last)",
      "\u001b[0;32m<ipython-input-16-fd86f97e670d>\u001b[0m in \u001b[0;36m<module>\u001b[0;34m\u001b[0m\n\u001b[0;32m----> 1\u001b[0;31m \u001b[0madd\u001b[0m\u001b[0;34m(\u001b[0m\u001b[0;36m1\u001b[0m\u001b[0;34m,\u001b[0m \u001b[0;34m'2'\u001b[0m\u001b[0;34m)\u001b[0m\u001b[0;34m\u001b[0m\u001b[0;34m\u001b[0m\u001b[0m\n\u001b[0m",
      "\u001b[0;32m/Library/Frameworks/Python.framework/Versions/3.7/lib/python3.7/functools.py\u001b[0m in \u001b[0;36mwrapper\u001b[0;34m(*args, **kw)\u001b[0m\n\u001b[1;32m    825\u001b[0m                             '1 positional argument')\n\u001b[1;32m    826\u001b[0m \u001b[0;34m\u001b[0m\u001b[0m\n\u001b[0;32m--> 827\u001b[0;31m         \u001b[0;32mreturn\u001b[0m \u001b[0mdispatch\u001b[0m\u001b[0;34m(\u001b[0m\u001b[0margs\u001b[0m\u001b[0;34m[\u001b[0m\u001b[0;36m0\u001b[0m\u001b[0;34m]\u001b[0m\u001b[0;34m.\u001b[0m\u001b[0m__class__\u001b[0m\u001b[0;34m)\u001b[0m\u001b[0;34m(\u001b[0m\u001b[0;34m*\u001b[0m\u001b[0margs\u001b[0m\u001b[0;34m,\u001b[0m \u001b[0;34m**\u001b[0m\u001b[0mkw\u001b[0m\u001b[0;34m)\u001b[0m\u001b[0;34m\u001b[0m\u001b[0;34m\u001b[0m\u001b[0m\n\u001b[0m\u001b[1;32m    828\u001b[0m \u001b[0;34m\u001b[0m\u001b[0m\n\u001b[1;32m    829\u001b[0m     \u001b[0mfuncname\u001b[0m \u001b[0;34m=\u001b[0m \u001b[0mgetattr\u001b[0m\u001b[0;34m(\u001b[0m\u001b[0mfunc\u001b[0m\u001b[0;34m,\u001b[0m \u001b[0;34m'__name__'\u001b[0m\u001b[0;34m,\u001b[0m \u001b[0;34m'singledispatch function'\u001b[0m\u001b[0;34m)\u001b[0m\u001b[0;34m\u001b[0m\u001b[0;34m\u001b[0m\u001b[0m\n",
      "\u001b[0;32m<ipython-input-15-5e418ad22c76>\u001b[0m in \u001b[0;36m_\u001b[0;34m(a, b)\u001b[0m\n\u001b[1;32m     10\u001b[0m \u001b[0;32mdef\u001b[0m \u001b[0m_\u001b[0m\u001b[0;34m(\u001b[0m\u001b[0ma\u001b[0m\u001b[0;34m,\u001b[0m \u001b[0mb\u001b[0m\u001b[0;34m)\u001b[0m\u001b[0;34m:\u001b[0m\u001b[0;34m\u001b[0m\u001b[0;34m\u001b[0m\u001b[0m\n\u001b[1;32m     11\u001b[0m     \u001b[0mprint\u001b[0m\u001b[0;34m(\u001b[0m\u001b[0;34m\"it's int!\"\u001b[0m\u001b[0;34m)\u001b[0m\u001b[0;34m\u001b[0m\u001b[0;34m\u001b[0m\u001b[0m\n\u001b[0;32m---> 12\u001b[0;31m     \u001b[0;32mreturn\u001b[0m \u001b[0ma\u001b[0m \u001b[0;34m+\u001b[0m \u001b[0mb\u001b[0m\u001b[0;34m\u001b[0m\u001b[0;34m\u001b[0m\u001b[0m\n\u001b[0m\u001b[1;32m     13\u001b[0m \u001b[0;34m\u001b[0m\u001b[0m\n\u001b[1;32m     14\u001b[0m \u001b[0;34m\u001b[0m\u001b[0m\n",
      "\u001b[0;31mTypeError\u001b[0m: unsupported operand type(s) for +: 'int' and 'str'"
     ]
    }
   ],
   "source": [
    "add(1, '2')"
   ]
  },
  {
   "cell_type": "code",
   "execution_count": null,
   "id": "1a658337",
   "metadata": {},
   "outputs": [],
   "source": []
  },
  {
   "cell_type": "code",
   "execution_count": 25,
   "id": "39a290eb",
   "metadata": {},
   "outputs": [],
   "source": [
    "class Solution:\n",
    "    def findNumberIn2DArray(self, matrix: list, target: int) -> bool:\n",
    "        if target < matrix[0][0] or target > matrix[-1][-1]:\n",
    "            return False \n",
    "        \n",
    "        def bisect(nums, start=None, end=None, target=target):\n",
    "            if end is None:\n",
    "                end = len(nums) - 1\n",
    "            if start is None:\n",
    "                start = 0 \n",
    "            if target == nums[start]:\n",
    "                return start, end, True  \n",
    "            if target == nums[end]:\n",
    "                return end, end, True \n",
    "            \n",
    "            l, r = start, end\n",
    "            m = (l + r) // 2\n",
    "            while l < m:\n",
    "                if nums[m] == target:\n",
    "                    return m, m, True \n",
    "                elif nums[m] > target:\n",
    "                    r = m \n",
    "                else:\n",
    "                    l = m \n",
    "                m = (l + r) // 2\n",
    "            return start, m + 1, False \n",
    "        \n",
    "        start, end, flag = bisect([row[0] for row in matrix])\n",
    "        print(start, end, flag)\n",
    "        if flag:\n",
    "            return True \n",
    "        start = None\n",
    "        for i, row in enumerate(matrix[:end + 1]):\n",
    "            start, end, flag = bisect(start=start, nums=row)\n",
    "            print(i, row, start, end, flag)\n",
    "            if flag:\n",
    "                return True \n",
    "        return False \n",
    "            \n",
    "        "
   ]
  },
  {
   "cell_type": "code",
   "execution_count": 26,
   "id": "60d8e9ad",
   "metadata": {},
   "outputs": [],
   "source": [
    "solu = Solution()"
   ]
  },
  {
   "cell_type": "code",
   "execution_count": 27,
   "id": "c545168a",
   "metadata": {},
   "outputs": [
    {
     "name": "stdout",
     "output_type": "stream",
     "text": [
      "0 1 False\n",
      "0 [1, 4] 0 1 False\n",
      "1 [2, 5] 1 1 True\n"
     ]
    },
    {
     "data": {
      "text/plain": [
       "True"
      ]
     },
     "execution_count": 27,
     "metadata": {},
     "output_type": "execute_result"
    }
   ],
   "source": [
    "solu.findNumberIn2DArray(\n",
    "    matrix=[[1,4],[2,5]], \n",
    "    target=5)"
   ]
  },
  {
   "cell_type": "code",
   "execution_count": 29,
   "id": "bd0d84f9",
   "metadata": {},
   "outputs": [
    {
     "name": "stdout",
     "output_type": "stream",
     "text": [
      "0 0\n",
      "0 1\n",
      "0 2\n",
      "break\n",
      "1 0\n",
      "1 1\n",
      "1 2\n",
      "break\n",
      "2 0\n",
      "2 1\n",
      "2 2\n",
      "break\n",
      "3 0\n",
      "3 1\n",
      "3 2\n",
      "break\n",
      "4 0\n",
      "4 1\n",
      "4 2\n",
      "break\n"
     ]
    }
   ],
   "source": [
    "for i in range(5):\n",
    "    for j in range(4):\n",
    "        print(i, j)\n",
    "        if j == 2:\n",
    "            print('break')\n",
    "            break "
   ]
  },
  {
   "cell_type": "code",
   "execution_count": 53,
   "id": "3904e6b0",
   "metadata": {},
   "outputs": [],
   "source": [
    "class Solution:\n",
    "    def isMatch(self, s: str, p: str) -> bool:\n",
    "        n, m = len(s), len(p)\n",
    "        if m == n == 0:\n",
    "            return True \n",
    "        if n == 0 and not all([ele == '*' for ele in p[1::2]]):\n",
    "            return False \n",
    "        if m == 1:\n",
    "            if n > 1:\n",
    "                return False \n",
    "            elif n == 1:\n",
    "                return p[0] in [s[0], '.']\n",
    "            else:\n",
    "                return False\n",
    "\n",
    "        dp = [[False] * (n + 1) for _ in range(m + 1)]\n",
    "        dp[0][0] = True \n",
    "\n",
    "        for i, ch in enumerate(p, 1):\n",
    "            if i % 2 == 0:\n",
    "                if ch == '*':\n",
    "                    dp[i][0] = True \n",
    "                else:\n",
    "                    break \n",
    "        for i in range(m):\n",
    "            for j in range(n):\n",
    "                if dp[i][j]:\n",
    "                    if p[i] in ['.', s[j]] or (p[i] == '*' and p[i - 1] == s[j]):\n",
    "                        dp[i + 1][j + 1] = True \n",
    "                    if p[i] == '*' and p[i - 1] == '.':\n",
    "                        dp[i + 1][j + 1:] = [True] * (n - j)\n",
    "                        break \n",
    "                # * represents 0 or 1 or more than 2\n",
    "                if p[i] == '*':\n",
    "                    if dp[i - 1][j + 1] or dp[i][j + 1] or (dp[i + 1][j] and p[i - 1] == s[j]):\n",
    "                        dp[i + 1][j + 1] = True\n",
    "        \n",
    "        p = [''] + list(p)\n",
    "        for i, row in enumerate(dp):\n",
    "            print(p[i], list(map(lambda x: 1 if x else 0, row)))\n",
    "        \n",
    "        return dp[-1][-1]"
   ]
  },
  {
   "cell_type": "code",
   "execution_count": 52,
   "id": "9461f08a",
   "metadata": {},
   "outputs": [
    {
     "name": "stdout",
     "output_type": "stream",
     "text": [
      " [1, 0, 0, 0, 0, 0, 0, 0, 0, 0, 0, 0, 0, 0, 0, 0, 0, 0]\n",
      "c [0, 1, 0, 0, 0, 0, 0, 0, 0, 0, 0, 0, 0, 0, 0, 0, 0, 0]\n",
      "* [1, 1, 0, 0, 0, 0, 0, 0, 0, 0, 0, 0, 0, 0, 0, 0, 0, 0]\n",
      "b [0, 0, 1, 0, 0, 0, 0, 0, 0, 0, 0, 0, 0, 0, 0, 0, 0, 0]\n",
      "* [1, 1, 1, 0, 0, 0, 0, 0, 0, 0, 0, 0, 0, 0, 0, 0, 0, 0]\n",
      "b [0, 0, 1, 0, 0, 0, 0, 0, 0, 0, 0, 0, 0, 0, 0, 0, 0, 0]\n",
      "* [1, 1, 1, 0, 0, 0, 0, 0, 0, 0, 0, 0, 0, 0, 0, 0, 0, 0]\n",
      ". [0, 1, 1, 1, 0, 0, 0, 0, 0, 0, 0, 0, 0, 0, 0, 0, 0, 0]\n",
      "* [1, 1, 1, 1, 1, 1, 1, 1, 1, 1, 1, 1, 1, 1, 1, 1, 1, 1]\n",
      "a [0, 0, 0, 1, 1, 0, 1, 0, 1, 1, 0, 0, 0, 1, 1, 0, 0, 0]\n",
      "c [0, 0, 0, 0, 0, 1, 0, 1, 0, 0, 1, 0, 0, 0, 0, 0, 0, 0]\n",
      "* [0, 0, 0, 1, 1, 1, 1, 1, 1, 1, 1, 1, 0, 1, 1, 0, 0, 0]\n",
      ". [0, 0, 0, 0, 1, 1, 1, 1, 1, 1, 1, 1, 1, 0, 1, 1, 0, 0]\n",
      "* [0, 0, 0, 1, 1, 1, 1, 1, 1, 1, 1, 1, 1, 1, 1, 1, 1, 1]\n",
      "b [0, 0, 0, 0, 0, 0, 0, 0, 0, 0, 0, 0, 1, 0, 0, 1, 0, 1]\n",
      "c [0, 0, 0, 0, 0, 0, 0, 0, 0, 0, 0, 0, 0, 0, 0, 0, 1, 0]\n",
      "* [0, 0, 0, 0, 0, 0, 0, 0, 0, 0, 0, 0, 1, 0, 0, 1, 1, 1]\n",
      "a [0, 0, 0, 0, 0, 0, 0, 0, 0, 0, 0, 0, 0, 1, 0, 0, 0, 0]\n",
      "* [0, 0, 0, 0, 0, 0, 0, 0, 0, 0, 0, 0, 1, 1, 1, 1, 1, 1]\n"
     ]
    },
    {
     "data": {
      "text/plain": [
       "True"
      ]
     },
     "execution_count": 52,
     "metadata": {},
     "output_type": "execute_result"
    }
   ],
   "source": [
    "solu = Solution()\n",
    "solu.isMatch(\n",
    "    s=\"cbaacacaaccbaabcb\",     \n",
    "    p=\"c*b*b*.*ac*.*bc*a*\")"
   ]
  },
  {
   "cell_type": "code",
   "execution_count": 54,
   "id": "8e375298",
   "metadata": {},
   "outputs": [
    {
     "name": "stdout",
     "output_type": "stream",
     "text": [
      " [1, 0, 0, 0, 0, 0, 0, 0, 0, 0, 0, 0, 0, 0, 0, 0, 0, 0]\n",
      "c [0, 1, 0, 0, 0, 0, 0, 0, 0, 0, 0, 0, 0, 0, 0, 0, 0, 0]\n",
      "* [1, 1, 0, 0, 0, 0, 0, 0, 0, 0, 0, 0, 0, 0, 0, 0, 0, 0]\n",
      "b [0, 0, 1, 0, 0, 0, 0, 0, 0, 0, 0, 0, 0, 0, 0, 0, 0, 0]\n",
      "* [1, 1, 1, 0, 0, 0, 0, 0, 0, 0, 0, 0, 0, 0, 0, 0, 0, 0]\n",
      "b [0, 0, 1, 0, 0, 0, 0, 0, 0, 0, 0, 0, 0, 0, 0, 0, 0, 0]\n",
      "* [1, 1, 1, 0, 0, 0, 0, 0, 0, 0, 0, 0, 0, 0, 0, 0, 0, 0]\n",
      ". [0, 1, 1, 1, 0, 0, 0, 0, 0, 0, 0, 0, 0, 0, 0, 0, 0, 0]\n",
      "* [1, 1, 1, 1, 1, 1, 1, 1, 1, 1, 1, 1, 1, 1, 1, 1, 1, 1]\n",
      "a [0, 0, 0, 1, 1, 0, 1, 0, 1, 1, 0, 0, 0, 1, 1, 0, 0, 0]\n",
      "c [0, 0, 0, 0, 0, 1, 0, 1, 0, 0, 1, 0, 0, 0, 0, 0, 0, 0]\n",
      "* [0, 0, 0, 1, 1, 1, 0, 1, 0, 1, 1, 1, 0, 1, 1, 0, 0, 0]\n",
      ". [0, 0, 0, 0, 1, 1, 1, 0, 1, 0, 1, 1, 1, 0, 1, 1, 0, 0]\n",
      "* [0, 0, 0, 1, 1, 1, 1, 1, 1, 1, 1, 1, 1, 1, 1, 1, 1, 1]\n",
      "b [0, 0, 0, 0, 0, 0, 0, 0, 0, 0, 0, 0, 1, 0, 0, 1, 0, 1]\n",
      "c [0, 0, 0, 0, 0, 0, 0, 0, 0, 0, 0, 0, 0, 0, 0, 0, 1, 0]\n",
      "* [0, 0, 0, 0, 0, 0, 0, 0, 0, 0, 0, 0, 1, 0, 0, 1, 1, 0]\n",
      "a [0, 0, 0, 0, 0, 0, 0, 0, 0, 0, 0, 0, 0, 1, 0, 0, 0, 0]\n",
      "* [0, 0, 0, 0, 0, 0, 0, 0, 0, 0, 0, 0, 1, 1, 1, 1, 1, 0]\n"
     ]
    },
    {
     "data": {
      "text/plain": [
       "False"
      ]
     },
     "execution_count": 54,
     "metadata": {},
     "output_type": "execute_result"
    }
   ],
   "source": [
    "solu = Solution()\n",
    "solu.isMatch(\n",
    "    s=\"cbaacacaaccbaabcb\",     \n",
    "    p=\"c*b*b*.*ac*.*bc*a*\")"
   ]
  },
  {
   "cell_type": "code",
   "execution_count": null,
   "id": "6747b2c3",
   "metadata": {},
   "outputs": [],
   "source": []
  }
 ],
 "metadata": {
  "kernelspec": {
   "display_name": "Python 3",
   "language": "python",
   "name": "python3"
  },
  "language_info": {
   "codemirror_mode": {
    "name": "ipython",
    "version": 3
   },
   "file_extension": ".py",
   "mimetype": "text/x-python",
   "name": "python",
   "nbconvert_exporter": "python",
   "pygments_lexer": "ipython3",
   "version": "3.7.3"
  }
 },
 "nbformat": 4,
 "nbformat_minor": 5
}
