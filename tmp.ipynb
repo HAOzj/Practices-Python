{
 "cells": [
  {
   "cell_type": "markdown",
   "id": "ff256d2f",
   "metadata": {},
   "source": [
    "\n",
    "\n"
   ]
  },
  {
   "cell_type": "code",
   "execution_count": 37,
   "id": "6a571e86",
   "metadata": {},
   "outputs": [],
   "source": [
    "def homage_2_17(nums: list):\n",
    "    curr_pos, curr_furthest = 0, nums[0]\n",
    "    res = 1\n",
    "    print('第一步最远跳到', curr_furthest)\n",
    "    while curr_furthest < len(nums) - 1: \n",
    "        curr = max([(ind + val, ind) for ind, val in enumerate(nums[curr_pos+1: curr_furthest+1], curr_pos+1)])\n",
    "        curr_pos = curr[1]\n",
    "        curr_furthest = curr[0]\n",
    "        res += 1\n",
    "        print(f\"第{res}步,跳到{curr_pos},下一步最远可以跳到{curr_furthest}\")\n",
    "        print(f\"{', '.join(map(str, nums[:curr_pos]))}\", end='')\n",
    "        print(colored(', ' + str(nums[curr_pos]) + ', ', color='red'), end='')\n",
    "        print(f\"{', '.join(map(str, nums[curr_pos+1:]))}\")\n",
    "    return res"
   ]
  },
  {
   "cell_type": "code",
   "execution_count": 38,
   "id": "b7396232",
   "metadata": {},
   "outputs": [],
   "source": [
    "from termcolor import colored"
   ]
  },
  {
   "cell_type": "code",
   "execution_count": 39,
   "id": "a7e47605",
   "metadata": {},
   "outputs": [
    {
     "name": "stdout",
     "output_type": "stream",
     "text": [
      "[4, 4, 5, 3, 7, 1, 2, 7, 4, 6, 3, 1, 1, 2, 5, 6, 6, 1, 1, 3]\n",
      "第一步最远跳到 4\n",
      "第2步,跳到4,下一步最远可以跳到11\n",
      "4, 4, 5, 3\u001b[31m, 7, \u001b[0m1, 2, 7, 4, 6, 3, 1, 1, 2, 5, 6, 6, 1, 1, 3\n",
      "第3步,跳到9,下一步最远可以跳到15\n",
      "4, 4, 5, 3, 7, 1, 2, 7, 4\u001b[31m, 6, \u001b[0m3, 1, 1, 2, 5, 6, 6, 1, 1, 3\n",
      "第4步,跳到15,下一步最远可以跳到21\n",
      "4, 4, 5, 3, 7, 1, 2, 7, 4, 6, 3, 1, 1, 2, 5\u001b[31m, 6, \u001b[0m6, 1, 1, 3\n"
     ]
    },
    {
     "data": {
      "text/plain": [
       "4"
      ]
     },
     "execution_count": 39,
     "metadata": {},
     "output_type": "execute_result"
    }
   ],
   "source": [
    "import random\n",
    "\n",
    "nums = [random.randint(1, 7) for _ in range(20)]\n",
    "print(nums)\n",
    "\n",
    "homage_2_17(nums)"
   ]
  },
  {
   "cell_type": "code",
   "execution_count": 4,
   "id": "e44760cb",
   "metadata": {},
   "outputs": [
    {
     "name": "stdout",
     "output_type": "stream",
     "text": [
      "I'm a main process and my pid is 1763 and I created a child process 1800\n",
      "I'm a child process whose pid is 1800 and my ppid is 1763\n"
     ]
    }
   ],
   "source": [
    "import os \n",
    "\n",
    "pid = os.fork()\n",
    "if pid == 0:\n",
    "    print(f\"I'm a child process whose pid is {os.getpid()} and my ppid is {os.getppid()}\")\n",
    "else:\n",
    "    print(f\"I'm a main process and my pid is {os.getpid()} and I created a child process {pid}\")"
   ]
  },
  {
   "cell_type": "code",
   "execution_count": null,
   "id": "eb904f26",
   "metadata": {},
   "outputs": [],
   "source": []
  },
  {
   "cell_type": "code",
   "execution_count": 1,
   "id": "16d594d3",
   "metadata": {},
   "outputs": [],
   "source": [
    "import numpy as np "
   ]
  },
  {
   "cell_type": "code",
   "execution_count": 5,
   "id": "ca3202af",
   "metadata": {},
   "outputs": [],
   "source": [
    "import pygraphviz as pgv "
   ]
  },
  {
   "cell_type": "code",
   "execution_count": 6,
   "id": "03f148fe",
   "metadata": {},
   "outputs": [],
   "source": [
    "G = pgv.AGraph(directed=True)\n",
    "nodes = ['s', '1', '2', 't']\n",
    "capacity = [[0, 100, 100, 0], [0, 0, 1, 10], [0, 0, 0, 100], [0] * 4]"
   ]
  },
  {
   "cell_type": "code",
   "execution_count": 7,
   "id": "dbb0d23d",
   "metadata": {},
   "outputs": [],
   "source": [
    "G.add_nodes_from(nodes)\n",
    "for i, row in enumerate(capacity):\n",
    "    for j, ele in enumerate(row):\n",
    "        weight = capacity[i][j]\n",
    "        if weight:\n",
    "            G.add_(nodes[i], nodes[j], weight=weight)"
   ]
  },
  {
   "cell_type": "code",
   "execution_count": 8,
   "id": "e78a0759",
   "metadata": {},
   "outputs": [],
   "source": [
    "G.layout()"
   ]
  },
  {
   "cell_type": "code",
   "execution_count": 10,
   "id": "fee3db80",
   "metadata": {},
   "outputs": [],
   "source": [
    "G.draw('试试.png', prog='dot')"
   ]
  },
  {
   "cell_type": "code",
   "execution_count": 11,
   "id": "d39e4a53",
   "metadata": {},
   "outputs": [
    {
     "name": "stdout",
     "output_type": "stream",
     "text": [
      "Help on method draw in module pygraphviz.agraph:\n",
      "\n",
      "draw(path=None, format=None, prog=None, args='') method of pygraphviz.agraph.AGraph instance\n",
      "    Output graph to path in specified format.\n",
      "    \n",
      "    An attempt will be made to guess the output format based on the file\n",
      "    extension of `path`.  If that fails, then the `format` parameter will\n",
      "    be used.\n",
      "    \n",
      "    Note, if `path` is a file object returned by a call to os.fdopen(),\n",
      "    then the method for discovering the format will not work.  In such\n",
      "    cases, one should explicitly set the `format` parameter; otherwise, it\n",
      "    will default to 'dot'.\n",
      "    \n",
      "    If path is None, the result is returned as a Bytes object.\n",
      "    \n",
      "    Formats (not all may be available on every system depending on\n",
      "    how Graphviz was built)\n",
      "    \n",
      "        'canon', 'cmap', 'cmapx', 'cmapx_np', 'dia', 'dot',\n",
      "        'fig', 'gd', 'gd2', 'gif', 'hpgl', 'imap', 'imap_np',\n",
      "        'ismap', 'jpe', 'jpeg', 'jpg', 'mif', 'mp', 'pcl', 'pdf',\n",
      "        'pic', 'plain', 'plain-ext', 'png', 'ps', 'ps2', 'svg',\n",
      "        'svgz', 'vml', 'vmlz', 'vrml', 'vtx', 'wbmp', 'xdot', 'xlib'\n",
      "    \n",
      "    \n",
      "    If prog is not specified and the graph has positions\n",
      "    (see layout()) then no additional graph positioning will\n",
      "    be performed.\n",
      "    \n",
      "    Optional prog=['neato'|'dot'|'twopi'|'circo'|'fdp'|'nop']\n",
      "    will use specified graphviz layout method.\n",
      "    \n",
      "    >>> import pygraphviz as pgv\n",
      "    >>> G = pgv.AGraph()\n",
      "    >>> G.add_edges_from([(0, 1), (1, 2), (2, 0), (2, 3)])\n",
      "    >>> G.layout()\n",
      "    \n",
      "    # use current node positions, output pdf in 'file.pdf'\n",
      "    >>> G.draw(\"file.pdf\")\n",
      "    \n",
      "    # use dot to position, output png in 'file'\n",
      "    >>> G.draw(\"file\", format=\"png\", prog=\"dot\")\n",
      "    \n",
      "    # use keyword 'args' to pass additional arguments to graphviz\n",
      "    >>> G.draw(\"test.pdf\", prog=\"twopi\", args=\"-Gepsilon=1\")\n",
      "    >>> G.draw(\"test2.pdf\", args=\"-Nshape=box -Edir=forward -Ecolor=red \")\n",
      "    \n",
      "    The layout might take a long time on large graphs.\n",
      "\n"
     ]
    }
   ],
   "source": [
    "help(G.draw)"
   ]
  },
  {
   "cell_type": "code",
   "execution_count": 2,
   "id": "ea5df4d1",
   "metadata": {},
   "outputs": [],
   "source": [
    "nsample = 50\n",
    "sig = 0.5\n",
    "x = np.linspace(0, 20, nsample)\n",
    "X = np.column_stack((x, np.sin(x), (x-5)**2, np.ones(nsample)))\n",
    "beta = [0.5, 0.5, -0.02, 5.]\n",
    "y_true = np.dot(X, beta)\n",
    "y = y_true + sig * np.random.normal(size=nsample)"
   ]
  },
  {
   "cell_type": "code",
   "execution_count": null,
   "id": "4f24e9cb",
   "metadata": {},
   "outputs": [],
   "source": []
  },
  {
   "cell_type": "code",
   "execution_count": 8,
   "id": "d6ed90fe",
   "metadata": {},
   "outputs": [],
   "source": [
    "import scipy\n",
    "import numpy as np \n",
    "from scipy.sparse import (hstack, random)"
   ]
  },
  {
   "cell_type": "code",
   "execution_count": 7,
   "id": "b0ae7dff",
   "metadata": {},
   "outputs": [
    {
     "data": {
      "text/plain": [
       "(10, 10)"
      ]
     },
     "execution_count": 7,
     "metadata": {},
     "output_type": "execute_result"
    }
   ],
   "source": [
    "a = np.random.rand(10, 10)\n",
    "a.shape"
   ]
  },
  {
   "cell_type": "code",
   "execution_count": 10,
   "id": "ac949be5",
   "metadata": {},
   "outputs": [],
   "source": [
    "\n",
    "b = random(10, 5, 0.2)\n",
    "a_sparse = hstack([a, b])"
   ]
  },
  {
   "cell_type": "code",
   "execution_count": 12,
   "id": "e90c8e7e",
   "metadata": {},
   "outputs": [
    {
     "data": {
      "text/plain": [
       "(10, 15)"
      ]
     },
     "execution_count": 12,
     "metadata": {},
     "output_type": "execute_result"
    }
   ],
   "source": [
    "a_sparse.shape"
   ]
  },
  {
   "cell_type": "code",
   "execution_count": 1,
   "id": "9e358f98",
   "metadata": {},
   "outputs": [],
   "source": [
    "from xgboost import XGBClassifier\n",
    "# read data\n",
    "from sklearn.datasets import load_iris"
   ]
  },
  {
   "cell_type": "code",
   "execution_count": 2,
   "id": "b4d6c24f",
   "metadata": {},
   "outputs": [],
   "source": [
    "data = load_iris()"
   ]
  },
  {
   "cell_type": "code",
   "execution_count": 5,
   "id": "496d8b88",
   "metadata": {},
   "outputs": [
    {
     "data": {
      "text/plain": [
       "array([[5.1, 3.5, 1.4, 0.2],\n",
       "       [4.9, 3. , 1.4, 0.2],\n",
       "       [4.7, 3.2, 1.3, 0.2],\n",
       "       [4.6, 3.1, 1.5, 0.2],\n",
       "       [5. , 3.6, 1.4, 0.2],\n",
       "       [5.4, 3.9, 1.7, 0.4],\n",
       "       [4.6, 3.4, 1.4, 0.3],\n",
       "       [5. , 3.4, 1.5, 0.2],\n",
       "       [4.4, 2.9, 1.4, 0.2],\n",
       "       [4.9, 3.1, 1.5, 0.1],\n",
       "       [5.4, 3.7, 1.5, 0.2],\n",
       "       [4.8, 3.4, 1.6, 0.2],\n",
       "       [4.8, 3. , 1.4, 0.1],\n",
       "       [4.3, 3. , 1.1, 0.1],\n",
       "       [5.8, 4. , 1.2, 0.2],\n",
       "       [5.7, 4.4, 1.5, 0.4],\n",
       "       [5.4, 3.9, 1.3, 0.4],\n",
       "       [5.1, 3.5, 1.4, 0.3],\n",
       "       [5.7, 3.8, 1.7, 0.3],\n",
       "       [5.1, 3.8, 1.5, 0.3],\n",
       "       [5.4, 3.4, 1.7, 0.2],\n",
       "       [5.1, 3.7, 1.5, 0.4],\n",
       "       [4.6, 3.6, 1. , 0.2],\n",
       "       [5.1, 3.3, 1.7, 0.5],\n",
       "       [4.8, 3.4, 1.9, 0.2],\n",
       "       [5. , 3. , 1.6, 0.2],\n",
       "       [5. , 3.4, 1.6, 0.4],\n",
       "       [5.2, 3.5, 1.5, 0.2],\n",
       "       [5.2, 3.4, 1.4, 0.2],\n",
       "       [4.7, 3.2, 1.6, 0.2],\n",
       "       [4.8, 3.1, 1.6, 0.2],\n",
       "       [5.4, 3.4, 1.5, 0.4],\n",
       "       [5.2, 4.1, 1.5, 0.1],\n",
       "       [5.5, 4.2, 1.4, 0.2],\n",
       "       [4.9, 3.1, 1.5, 0.2],\n",
       "       [5. , 3.2, 1.2, 0.2],\n",
       "       [5.5, 3.5, 1.3, 0.2],\n",
       "       [4.9, 3.6, 1.4, 0.1],\n",
       "       [4.4, 3. , 1.3, 0.2],\n",
       "       [5.1, 3.4, 1.5, 0.2],\n",
       "       [5. , 3.5, 1.3, 0.3],\n",
       "       [4.5, 2.3, 1.3, 0.3],\n",
       "       [4.4, 3.2, 1.3, 0.2],\n",
       "       [5. , 3.5, 1.6, 0.6],\n",
       "       [5.1, 3.8, 1.9, 0.4],\n",
       "       [4.8, 3. , 1.4, 0.3],\n",
       "       [5.1, 3.8, 1.6, 0.2],\n",
       "       [4.6, 3.2, 1.4, 0.2],\n",
       "       [5.3, 3.7, 1.5, 0.2],\n",
       "       [5. , 3.3, 1.4, 0.2],\n",
       "       [7. , 3.2, 4.7, 1.4],\n",
       "       [6.4, 3.2, 4.5, 1.5],\n",
       "       [6.9, 3.1, 4.9, 1.5],\n",
       "       [5.5, 2.3, 4. , 1.3],\n",
       "       [6.5, 2.8, 4.6, 1.5],\n",
       "       [5.7, 2.8, 4.5, 1.3],\n",
       "       [6.3, 3.3, 4.7, 1.6],\n",
       "       [4.9, 2.4, 3.3, 1. ],\n",
       "       [6.6, 2.9, 4.6, 1.3],\n",
       "       [5.2, 2.7, 3.9, 1.4],\n",
       "       [5. , 2. , 3.5, 1. ],\n",
       "       [5.9, 3. , 4.2, 1.5],\n",
       "       [6. , 2.2, 4. , 1. ],\n",
       "       [6.1, 2.9, 4.7, 1.4],\n",
       "       [5.6, 2.9, 3.6, 1.3],\n",
       "       [6.7, 3.1, 4.4, 1.4],\n",
       "       [5.6, 3. , 4.5, 1.5],\n",
       "       [5.8, 2.7, 4.1, 1. ],\n",
       "       [6.2, 2.2, 4.5, 1.5],\n",
       "       [5.6, 2.5, 3.9, 1.1],\n",
       "       [5.9, 3.2, 4.8, 1.8],\n",
       "       [6.1, 2.8, 4. , 1.3],\n",
       "       [6.3, 2.5, 4.9, 1.5],\n",
       "       [6.1, 2.8, 4.7, 1.2],\n",
       "       [6.4, 2.9, 4.3, 1.3],\n",
       "       [6.6, 3. , 4.4, 1.4],\n",
       "       [6.8, 2.8, 4.8, 1.4],\n",
       "       [6.7, 3. , 5. , 1.7],\n",
       "       [6. , 2.9, 4.5, 1.5],\n",
       "       [5.7, 2.6, 3.5, 1. ],\n",
       "       [5.5, 2.4, 3.8, 1.1],\n",
       "       [5.5, 2.4, 3.7, 1. ],\n",
       "       [5.8, 2.7, 3.9, 1.2],\n",
       "       [6. , 2.7, 5.1, 1.6],\n",
       "       [5.4, 3. , 4.5, 1.5],\n",
       "       [6. , 3.4, 4.5, 1.6],\n",
       "       [6.7, 3.1, 4.7, 1.5],\n",
       "       [6.3, 2.3, 4.4, 1.3],\n",
       "       [5.6, 3. , 4.1, 1.3],\n",
       "       [5.5, 2.5, 4. , 1.3],\n",
       "       [5.5, 2.6, 4.4, 1.2],\n",
       "       [6.1, 3. , 4.6, 1.4],\n",
       "       [5.8, 2.6, 4. , 1.2],\n",
       "       [5. , 2.3, 3.3, 1. ],\n",
       "       [5.6, 2.7, 4.2, 1.3],\n",
       "       [5.7, 3. , 4.2, 1.2],\n",
       "       [5.7, 2.9, 4.2, 1.3],\n",
       "       [6.2, 2.9, 4.3, 1.3],\n",
       "       [5.1, 2.5, 3. , 1.1],\n",
       "       [5.7, 2.8, 4.1, 1.3],\n",
       "       [6.3, 3.3, 6. , 2.5],\n",
       "       [5.8, 2.7, 5.1, 1.9],\n",
       "       [7.1, 3. , 5.9, 2.1],\n",
       "       [6.3, 2.9, 5.6, 1.8],\n",
       "       [6.5, 3. , 5.8, 2.2],\n",
       "       [7.6, 3. , 6.6, 2.1],\n",
       "       [4.9, 2.5, 4.5, 1.7],\n",
       "       [7.3, 2.9, 6.3, 1.8],\n",
       "       [6.7, 2.5, 5.8, 1.8],\n",
       "       [7.2, 3.6, 6.1, 2.5],\n",
       "       [6.5, 3.2, 5.1, 2. ],\n",
       "       [6.4, 2.7, 5.3, 1.9],\n",
       "       [6.8, 3. , 5.5, 2.1],\n",
       "       [5.7, 2.5, 5. , 2. ],\n",
       "       [5.8, 2.8, 5.1, 2.4],\n",
       "       [6.4, 3.2, 5.3, 2.3],\n",
       "       [6.5, 3. , 5.5, 1.8],\n",
       "       [7.7, 3.8, 6.7, 2.2],\n",
       "       [7.7, 2.6, 6.9, 2.3],\n",
       "       [6. , 2.2, 5. , 1.5],\n",
       "       [6.9, 3.2, 5.7, 2.3],\n",
       "       [5.6, 2.8, 4.9, 2. ],\n",
       "       [7.7, 2.8, 6.7, 2. ],\n",
       "       [6.3, 2.7, 4.9, 1.8],\n",
       "       [6.7, 3.3, 5.7, 2.1],\n",
       "       [7.2, 3.2, 6. , 1.8],\n",
       "       [6.2, 2.8, 4.8, 1.8],\n",
       "       [6.1, 3. , 4.9, 1.8],\n",
       "       [6.4, 2.8, 5.6, 2.1],\n",
       "       [7.2, 3. , 5.8, 1.6],\n",
       "       [7.4, 2.8, 6.1, 1.9],\n",
       "       [7.9, 3.8, 6.4, 2. ],\n",
       "       [6.4, 2.8, 5.6, 2.2],\n",
       "       [6.3, 2.8, 5.1, 1.5],\n",
       "       [6.1, 2.6, 5.6, 1.4],\n",
       "       [7.7, 3. , 6.1, 2.3],\n",
       "       [6.3, 3.4, 5.6, 2.4],\n",
       "       [6.4, 3.1, 5.5, 1.8],\n",
       "       [6. , 3. , 4.8, 1.8],\n",
       "       [6.9, 3.1, 5.4, 2.1],\n",
       "       [6.7, 3.1, 5.6, 2.4],\n",
       "       [6.9, 3.1, 5.1, 2.3],\n",
       "       [5.8, 2.7, 5.1, 1.9],\n",
       "       [6.8, 3.2, 5.9, 2.3],\n",
       "       [6.7, 3.3, 5.7, 2.5],\n",
       "       [6.7, 3. , 5.2, 2.3],\n",
       "       [6.3, 2.5, 5. , 1.9],\n",
       "       [6.5, 3. , 5.2, 2. ],\n",
       "       [6.2, 3.4, 5.4, 2.3],\n",
       "       [5.9, 3. , 5.1, 1.8]])"
      ]
     },
     "execution_count": 5,
     "metadata": {},
     "output_type": "execute_result"
    }
   ],
   "source": [
    "data['data']"
   ]
  },
  {
   "cell_type": "code",
   "execution_count": null,
   "id": "e93e243c",
   "metadata": {},
   "outputs": [],
   "source": []
  },
  {
   "cell_type": "code",
   "execution_count": null,
   "id": "6f75a916",
   "metadata": {},
   "outputs": [],
   "source": []
  },
  {
   "cell_type": "code",
   "execution_count": 1,
   "id": "78c27246",
   "metadata": {},
   "outputs": [],
   "source": [
    "from scipy.optimize import linear_sum_assignment"
   ]
  },
  {
   "cell_type": "code",
   "execution_count": 12,
   "id": "21080f3c",
   "metadata": {},
   "outputs": [
    {
     "name": "stdout",
     "output_type": "stream",
     "text": [
      "[1 2] [0 1]\n"
     ]
    }
   ],
   "source": [
    "cost = [[1, 2], [4, 3], [3, 3.5]]\n",
    "import numpy as np\n",
    "cost = np.array(cost)\n",
    "\n",
    "row_ind, col_ind = linear_sum_assignment(cost, maximize=True)\n",
    "print(row_ind, col_ind)"
   ]
  },
  {
   "cell_type": "code",
   "execution_count": 11,
   "id": "f0cef38d",
   "metadata": {},
   "outputs": [
    {
     "data": {
      "text/plain": [
       "array([4. , 3.5])"
      ]
     },
     "execution_count": 11,
     "metadata": {},
     "output_type": "execute_result"
    }
   ],
   "source": [
    "\n",
    "cost[row_ind, col_ind]"
   ]
  },
  {
   "cell_type": "code",
   "execution_count": 7,
   "id": "d3196965",
   "metadata": {},
   "outputs": [
    {
     "name": "stdout",
     "output_type": "stream",
     "text": [
      "Help on function linear_sum_assignment in module scipy.optimize._lsap:\n",
      "\n",
      "linear_sum_assignment(cost_matrix, maximize=False)\n",
      "    Solve the linear sum assignment problem.\n",
      "    \n",
      "    Parameters\n",
      "    ----------\n",
      "    cost_matrix : array\n",
      "        The cost matrix of the bipartite graph.\n",
      "    \n",
      "    maximize : bool (default: False)\n",
      "        Calculates a maximum weight matching if true.\n",
      "    \n",
      "    Returns\n",
      "    -------\n",
      "    row_ind, col_ind : array\n",
      "        An array of row indices and one of corresponding column indices giving\n",
      "        the optimal assignment. The cost of the assignment can be computed\n",
      "        as ``cost_matrix[row_ind, col_ind].sum()``. The row indices will be\n",
      "        sorted; in the case of a square cost matrix they will be equal to\n",
      "        ``numpy.arange(cost_matrix.shape[0])``.\n",
      "    \n",
      "    See Also\n",
      "    --------\n",
      "    scipy.sparse.csgraph.min_weight_full_bipartite_matching : for sparse inputs\n",
      "    \n",
      "    Notes\n",
      "    -----\n",
      "    \n",
      "    The linear sum assignment problem [1]_ is also known as minimum weight\n",
      "    matching in bipartite graphs. A problem instance is described by a matrix\n",
      "    C, where each C[i,j] is the cost of matching vertex i of the first partite\n",
      "    set (a \"worker\") and vertex j of the second set (a \"job\"). The goal is to\n",
      "    find a complete assignment of workers to jobs of minimal cost.\n",
      "    \n",
      "    Formally, let X be a boolean matrix where :math:`X[i,j] = 1` iff row i is\n",
      "    assigned to column j. Then the optimal assignment has cost\n",
      "    \n",
      "    .. math::\n",
      "        \\min \\sum_i \\sum_j C_{i,j} X_{i,j}\n",
      "    \n",
      "    where, in the case where the matrix X is square, each row is assigned to\n",
      "    exactly one column, and each column to exactly one row.\n",
      "    \n",
      "    This function can also solve a generalization of the classic assignment\n",
      "    problem where the cost matrix is rectangular. If it has more rows than\n",
      "    columns, then not every row needs to be assigned to a column, and vice\n",
      "    versa.\n",
      "    \n",
      "    This implementation is a modified Jonker-Volgenant algorithm with no\n",
      "    initialization, described in ref. [2]_.\n",
      "    \n",
      "    .. versionadded:: 0.17.0\n",
      "    \n",
      "    References\n",
      "    ----------\n",
      "    \n",
      "    .. [1] https://en.wikipedia.org/wiki/Assignment_problem\n",
      "    \n",
      "    .. [2] DF Crouse. On implementing 2D rectangular assignment algorithms.\n",
      "           *IEEE Transactions on Aerospace and Electronic Systems*,\n",
      "           52(4):1679-1696, August 2016, :doi:`10.1109/TAES.2016.140952`\n",
      "    \n",
      "    Examples\n",
      "    --------\n",
      "    >>> cost = np.array([[4, 1, 3], [2, 0, 5], [3, 2, 2]])\n",
      "    >>> from scipy.optimize import linear_sum_assignment\n",
      "    >>> row_ind, col_ind = linear_sum_assignment(cost)\n",
      "    >>> col_ind\n",
      "    array([1, 0, 2])\n",
      "    >>> cost[row_ind, col_ind].sum()\n",
      "    5\n",
      "\n"
     ]
    }
   ],
   "source": [
    "help(linear_sum_assignment)"
   ]
  },
  {
   "cell_type": "code",
   "execution_count": 1,
   "id": "e59eafb8",
   "metadata": {},
   "outputs": [],
   "source": [
    "from rank_bm25 import BM25Okapi\n",
    "import jieba"
   ]
  },
  {
   "cell_type": "code",
   "execution_count": 2,
   "id": "cee6ae37",
   "metadata": {},
   "outputs": [
    {
     "name": "stdout",
     "output_type": "stream",
     "text": [
      "Help on method lcut in module jieba:\n",
      "\n",
      "lcut(*args, **kwargs) method of jieba.Tokenizer instance\n",
      "\n"
     ]
    }
   ],
   "source": [
    "help(jieba.lcut)"
   ]
  },
  {
   "cell_type": "code",
   "execution_count": 3,
   "id": "45979a9d",
   "metadata": {},
   "outputs": [],
   "source": [
    "remove_chars = set(list('[·’!\"\\#$%&\\'()＃！（）*+,-./:;<=>?\\@，：?￥★、…．＞【】［］《》？“”‘’\\[\\\\]^_`{|}~]+'))\n"
   ]
  },
  {
   "cell_type": "code",
   "execution_count": 4,
   "id": "e8ecd8c2",
   "metadata": {},
   "outputs": [
    {
     "name": "stderr",
     "output_type": "stream",
     "text": [
      "Building prefix dict from the default dictionary ...\n",
      "Loading model from cache /var/folders/pk/qw79sgmj73s29bssnqpzngd80000gn/T/jieba.cache\n",
      "Loading model cost 0.791 seconds.\n",
      "Prefix dict has been built successfully.\n"
     ]
    },
    {
     "name": "stdout",
     "output_type": "stream",
     "text": [
      "['每', '一个', '冬天', '的', '句号', '都', '是', '春暖花开']\n",
      "['知之为知之', '不知为不知']\n",
      "['为政以德', '譬如', '北辰']\n",
      "['看', '一眼', '爆炸', '再', '一眼', '融化']\n"
     ]
    }
   ],
   "source": [
    "corpus = ['每一个冬天的句号都是春暖花开', '知之为知之,不知为不知', '为政以德,譬如北辰', '看一眼爆炸,再一眼融化']\n",
    "for doc in corpus:\n",
    "    print([token for token in jieba.lcut(doc, cut_all=False) if token not in remove_chars])"
   ]
  },
  {
   "cell_type": "code",
   "execution_count": 5,
   "id": "98adb73f",
   "metadata": {},
   "outputs": [],
   "source": [
    "tokenized_corpus = [[token for token in jieba.lcut(doc, cut_all=False) if token not in remove_chars] for doc in corpus]"
   ]
  },
  {
   "cell_type": "code",
   "execution_count": 6,
   "id": "4cf35cf4",
   "metadata": {},
   "outputs": [],
   "source": [
    "bm25 = BM25Okapi(corpus=tokenized_corpus)"
   ]
  },
  {
   "cell_type": "code",
   "execution_count": 7,
   "id": "0f24eee1",
   "metadata": {},
   "outputs": [
    {
     "name": "stdout",
     "output_type": "stream",
     "text": [
      "Help on method get_top_n in module rank_bm25:\n",
      "\n",
      "get_top_n(query, documents, n=5) method of rank_bm25.BM25Okapi instance\n",
      "\n"
     ]
    }
   ],
   "source": [
    "help(bm25.get_top_n)"
   ]
  },
  {
   "cell_type": "code",
   "execution_count": 8,
   "id": "9e6e0573",
   "metadata": {},
   "outputs": [
    {
     "data": {
      "text/plain": [
       "['冬天', '煤气', '爆炸']"
      ]
     },
     "execution_count": 8,
     "metadata": {},
     "output_type": "execute_result"
    }
   ],
   "source": [
    "query = [token for token in jieba.lcut('冬天煤气爆炸,') if token not in remove_chars]\n",
    "query"
   ]
  },
  {
   "cell_type": "code",
   "execution_count": 9,
   "id": "a5d210d7",
   "metadata": {},
   "outputs": [
    {
     "name": "stdout",
     "output_type": "stream",
     "text": [
      "[0.64783337 0.         0.         0.75758397]\n"
     ]
    }
   ],
   "source": [
    "import numpy as np\n",
    "scores = bm25.get_scores(query)\n",
    "print(scores)"
   ]
  },
  {
   "cell_type": "code",
   "execution_count": 10,
   "id": "f3f158c6",
   "metadata": {},
   "outputs": [
    {
     "data": {
      "text/plain": [
       "array([3, 0, 1, 2])"
      ]
     },
     "execution_count": 10,
     "metadata": {},
     "output_type": "execute_result"
    }
   ],
   "source": [
    "np.argsort(-scores)"
   ]
  },
  {
   "cell_type": "code",
   "execution_count": 28,
   "id": "6b0c4823",
   "metadata": {},
   "outputs": [
    {
     "data": {
      "text/plain": [
       "[['看', '一眼', '爆炸', '再', '一眼', '融化'],\n",
       " ['每', '一个', '冬天', '的', '句号', '都', '是', '春暖花开']]"
      ]
     },
     "execution_count": 28,
     "metadata": {},
     "output_type": "execute_result"
    }
   ],
   "source": [
    "bm25.get_top_n(query, documents=tokenized_corpus, n=2)"
   ]
  },
  {
   "cell_type": "code",
   "execution_count": 11,
   "id": "5646781c",
   "metadata": {},
   "outputs": [],
   "source": [
    "from simhash import Simhash"
   ]
  },
  {
   "cell_type": "code",
   "execution_count": 12,
   "id": "c9969acb",
   "metadata": {},
   "outputs": [],
   "source": [
    "simhash_list = [Simhash(doc) for doc in corpus]"
   ]
  },
  {
   "cell_type": "code",
   "execution_count": 13,
   "id": "956edda9",
   "metadata": {},
   "outputs": [
    {
     "name": "stdout",
     "output_type": "stream",
     "text": [
      "Help on method distance in module simhash:\n",
      "\n",
      "distance(another) method of simhash.Simhash instance\n",
      "\n"
     ]
    }
   ],
   "source": [
    "help(simhash_list[0].distance)"
   ]
  },
  {
   "cell_type": "code",
   "execution_count": 14,
   "id": "e7fc9f0e",
   "metadata": {},
   "outputs": [
    {
     "name": "stdout",
     "output_type": "stream",
     "text": [
      "0\n",
      "27\n",
      "34\n",
      "27\n"
     ]
    }
   ],
   "source": [
    "for sh in simhash_list:\n",
    "    print(sh.distance(simhash_list[0]))"
   ]
  },
  {
   "cell_type": "code",
   "execution_count": null,
   "id": "2c22de2f",
   "metadata": {},
   "outputs": [],
   "source": []
  },
  {
   "cell_type": "code",
   "execution_count": 2,
   "id": "8c258d1e",
   "metadata": {},
   "outputs": [],
   "source": [
    "import inspect\n",
    "from text2vec import BM25"
   ]
  },
  {
   "cell_type": "code",
   "execution_count": 3,
   "id": "f91dfe12",
   "metadata": {},
   "outputs": [
    {
     "name": "stdout",
     "output_type": "stream",
     "text": [
      "Help on class BM25 in module text2vec.bm25:\n",
      "\n",
      "class BM25(builtins.object)\n",
      " |  BM25(corpus: Union[List[str], str])\n",
      " |  \n",
      " |  Methods defined here:\n",
      " |  \n",
      " |  __init__(self, corpus: Union[List[str], str])\n",
      " |      Search sim doc with rank bm25\n",
      " |      :param corpus: list of str.\n",
      " |          A list of doc.(no need segment, do it in init)\n",
      " |  \n",
      " |  get_scores(self, query: str, top_k: Union[int, NoneType] = None) -> List[Tuple[str, float]]\n",
      " |      Get scores between query and docs\n",
      " |      :param query: str, input str, no need segment, auto segment by jieba\n",
      " |      :param top_k: int, top k results, default is None, means return all results\n",
      " |      :return: list, List[corpus_str, score] for query between docs\n",
      " |  \n",
      " |  init(self)\n",
      " |  \n",
      " |  ----------------------------------------------------------------------\n",
      " |  Data descriptors defined here:\n",
      " |  \n",
      " |  __dict__\n",
      " |      dictionary for instance variables (if defined)\n",
      " |  \n",
      " |  __weakref__\n",
      " |      list of weak references to the object (if defined)\n",
      "\n"
     ]
    }
   ],
   "source": [
    "help(BM25)"
   ]
  },
  {
   "cell_type": "code",
   "execution_count": null,
   "id": "f1452f87",
   "metadata": {},
   "outputs": [],
   "source": []
  },
  {
   "cell_type": "markdown",
   "id": "a7dc75a8",
   "metadata": {},
   "source": [
    "## Index\n",
    "\n",
    "* .[Dunder Method](#Dunder-Method)\n",
    "* .[Partial](#Partial)\n",
    "* .[Singledispatch](#Singledispatch)\n",
    "* .[Leet Code](#LC)\n",
    "* .[Python Bin Int](#Python-Bin-Int)"
   ]
  },
  {
   "cell_type": "markdown",
   "id": "3c6ee4f5",
   "metadata": {},
   "source": [
    "### Dunder Method"
   ]
  },
  {
   "cell_type": "code",
   "execution_count": 46,
   "id": "58787aaf",
   "metadata": {},
   "outputs": [],
   "source": [
    "from math import sqrt\n",
    "def three_mean(a: int, b: int=2) -> (float, float, float):\n",
    "    \"\"\"get arithmetic,  geometric, and harmonic means of a and b\n",
    "    \n",
    "    :param a: int\n",
    "    :param b: int\n",
    "    rtype: float, float, float\n",
    "    \"\"\"\n",
    "    assert a >=0 and b >= 0, print(\"a and b should be non-negative integers\")\n",
    "    def check_divisor():\n",
    "        nonlocal a, b \n",
    "        if a == 0:\n",
    "            a += 1\n",
    "        if b == 0:\n",
    "            b += 1\n",
    "        return (a + b) * 1.0 / 2, sqrt(a * b), (2 * a * b) / (a + b)\n",
    "    return check_divisor"
   ]
  },
  {
   "cell_type": "code",
   "execution_count": 56,
   "id": "cc72aeaa",
   "metadata": {},
   "outputs": [],
   "source": [
    "xixi = three_mean(1, 2)"
   ]
  },
  {
   "cell_type": "code",
   "execution_count": 59,
   "id": "d816e1e5",
   "metadata": {},
   "outputs": [
    {
     "data": {
      "text/plain": [
       "{'a': int, 'b': int, 'return': (float, float, float)}"
      ]
     },
     "execution_count": 59,
     "metadata": {},
     "output_type": "execute_result"
    }
   ],
   "source": [
    "three_mean.__annotations__"
   ]
  },
  {
   "cell_type": "code",
   "execution_count": 50,
   "id": "1bfd0651",
   "metadata": {},
   "outputs": [
    {
     "data": {
      "text/plain": [
       "(2,)"
      ]
     },
     "execution_count": 50,
     "metadata": {},
     "output_type": "execute_result"
    }
   ],
   "source": [
    "three_mean.__defaults__"
   ]
  },
  {
   "cell_type": "code",
   "execution_count": 51,
   "id": "0a097b6d",
   "metadata": {},
   "outputs": [
    {
     "data": {
      "text/plain": [
       "'get arithmetic,  geometric, and harmonic means of a and b\\n    \\n    :param a: int\\n    :param b: int\\n    rtype: float, float, float\\n    '"
      ]
     },
     "execution_count": 51,
     "metadata": {},
     "output_type": "execute_result"
    }
   ],
   "source": [
    "three_mean.__doc__"
   ]
  },
  {
   "cell_type": "code",
   "execution_count": 52,
   "id": "e77382cb",
   "metadata": {},
   "outputs": [
    {
     "data": {
      "text/plain": [
       "'three_mean'"
      ]
     },
     "execution_count": 52,
     "metadata": {},
     "output_type": "execute_result"
    }
   ],
   "source": [
    "three_mean.__name__"
   ]
  },
  {
   "cell_type": "code",
   "execution_count": 53,
   "id": "6f621ca7",
   "metadata": {},
   "outputs": [
    {
     "data": {
      "text/plain": [
       "'three_mean'"
      ]
     },
     "execution_count": 53,
     "metadata": {},
     "output_type": "execute_result"
    }
   ],
   "source": [
    "three_mean.__qualname__"
   ]
  },
  {
   "cell_type": "code",
   "execution_count": 54,
   "id": "8883e5e1",
   "metadata": {},
   "outputs": [
    {
     "data": {
      "text/plain": [
       "('a', 'b', 'check_divisor')"
      ]
     },
     "execution_count": 54,
     "metadata": {},
     "output_type": "execute_result"
    }
   ],
   "source": [
    "three_mean.__code__.co_varnames"
   ]
  },
  {
   "cell_type": "code",
   "execution_count": 69,
   "id": "24bd99e2",
   "metadata": {},
   "outputs": [
    {
     "name": "stdout",
     "output_type": "stream",
     "text": [
      "a: 1\n",
      "b: 2\n"
     ]
    }
   ],
   "source": [
    "for name, var in zip(xixi.__code__.co_freevars, xixi.__closure__):\n",
    "    print(name, var.cell_contents, sep=\": \")"
   ]
  },
  {
   "cell_type": "markdown",
   "id": "e07e87aa",
   "metadata": {},
   "source": [
    "### Partial"
   ]
  },
  {
   "cell_type": "code",
   "execution_count": 70,
   "id": "15ec1a57",
   "metadata": {},
   "outputs": [],
   "source": [
    "from functools import partial"
   ]
  },
  {
   "cell_type": "code",
   "execution_count": 71,
   "id": "e22e862d",
   "metadata": {},
   "outputs": [],
   "source": [
    "triple = partial(lambda x, y: x * y, 3)"
   ]
  },
  {
   "cell_type": "code",
   "execution_count": 73,
   "id": "6ad418d1",
   "metadata": {},
   "outputs": [
    {
     "data": {
      "text/plain": [
       "[0, 3, 6]"
      ]
     },
     "execution_count": 73,
     "metadata": {},
     "output_type": "execute_result"
    }
   ],
   "source": [
    "[triple(i) for i in range(3)]"
   ]
  },
  {
   "cell_type": "markdown",
   "id": "9991c392",
   "metadata": {},
   "source": [
    "### Singledispatch"
   ]
  },
  {
   "cell_type": "code",
   "execution_count": 15,
   "id": "6ba37fb2",
   "metadata": {},
   "outputs": [],
   "source": [
    "from functools import singledispatch\n",
    "from numbers import Integral\n",
    "\n",
    "@singledispatch\n",
    "def add(a, b):\n",
    "    assert type(a) == type(b), print('a and b should be of the same type')\n",
    "    return ''\n",
    "\n",
    "@add.register(Integral)\n",
    "def _(a, b):\n",
    "    print(\"it's int!\")\n",
    "    return a + b\n",
    "    \n",
    "    \n",
    "@add.register(str)\n",
    "def _(text1, text2):\n",
    "    print('xixi')\n",
    "    return text1 + text2 \n",
    "\n",
    "from collections import abc\n",
    "@add.register(abc.MutableSequence)\n",
    "def _(seq1, seq2):\n",
    "    return seq1 + seq2"
   ]
  },
  {
   "cell_type": "code",
   "execution_count": 16,
   "id": "1ede8f2f",
   "metadata": {},
   "outputs": [
    {
     "name": "stdout",
     "output_type": "stream",
     "text": [
      "it's int!\n"
     ]
    },
    {
     "ename": "TypeError",
     "evalue": "unsupported operand type(s) for +: 'int' and 'str'",
     "output_type": "error",
     "traceback": [
      "\u001b[0;31m---------------------------------------------------------------------------\u001b[0m",
      "\u001b[0;31mTypeError\u001b[0m                                 Traceback (most recent call last)",
      "\u001b[0;32m<ipython-input-16-fd86f97e670d>\u001b[0m in \u001b[0;36m<module>\u001b[0;34m\u001b[0m\n\u001b[0;32m----> 1\u001b[0;31m \u001b[0madd\u001b[0m\u001b[0;34m(\u001b[0m\u001b[0;36m1\u001b[0m\u001b[0;34m,\u001b[0m \u001b[0;34m'2'\u001b[0m\u001b[0;34m)\u001b[0m\u001b[0;34m\u001b[0m\u001b[0;34m\u001b[0m\u001b[0m\n\u001b[0m",
      "\u001b[0;32m/Library/Frameworks/Python.framework/Versions/3.7/lib/python3.7/functools.py\u001b[0m in \u001b[0;36mwrapper\u001b[0;34m(*args, **kw)\u001b[0m\n\u001b[1;32m    825\u001b[0m                             '1 positional argument')\n\u001b[1;32m    826\u001b[0m \u001b[0;34m\u001b[0m\u001b[0m\n\u001b[0;32m--> 827\u001b[0;31m         \u001b[0;32mreturn\u001b[0m \u001b[0mdispatch\u001b[0m\u001b[0;34m(\u001b[0m\u001b[0margs\u001b[0m\u001b[0;34m[\u001b[0m\u001b[0;36m0\u001b[0m\u001b[0;34m]\u001b[0m\u001b[0;34m.\u001b[0m\u001b[0m__class__\u001b[0m\u001b[0;34m)\u001b[0m\u001b[0;34m(\u001b[0m\u001b[0;34m*\u001b[0m\u001b[0margs\u001b[0m\u001b[0;34m,\u001b[0m \u001b[0;34m**\u001b[0m\u001b[0mkw\u001b[0m\u001b[0;34m)\u001b[0m\u001b[0;34m\u001b[0m\u001b[0;34m\u001b[0m\u001b[0m\n\u001b[0m\u001b[1;32m    828\u001b[0m \u001b[0;34m\u001b[0m\u001b[0m\n\u001b[1;32m    829\u001b[0m     \u001b[0mfuncname\u001b[0m \u001b[0;34m=\u001b[0m \u001b[0mgetattr\u001b[0m\u001b[0;34m(\u001b[0m\u001b[0mfunc\u001b[0m\u001b[0;34m,\u001b[0m \u001b[0;34m'__name__'\u001b[0m\u001b[0;34m,\u001b[0m \u001b[0;34m'singledispatch function'\u001b[0m\u001b[0;34m)\u001b[0m\u001b[0;34m\u001b[0m\u001b[0;34m\u001b[0m\u001b[0m\n",
      "\u001b[0;32m<ipython-input-15-5e418ad22c76>\u001b[0m in \u001b[0;36m_\u001b[0;34m(a, b)\u001b[0m\n\u001b[1;32m     10\u001b[0m \u001b[0;32mdef\u001b[0m \u001b[0m_\u001b[0m\u001b[0;34m(\u001b[0m\u001b[0ma\u001b[0m\u001b[0;34m,\u001b[0m \u001b[0mb\u001b[0m\u001b[0;34m)\u001b[0m\u001b[0;34m:\u001b[0m\u001b[0;34m\u001b[0m\u001b[0;34m\u001b[0m\u001b[0m\n\u001b[1;32m     11\u001b[0m     \u001b[0mprint\u001b[0m\u001b[0;34m(\u001b[0m\u001b[0;34m\"it's int!\"\u001b[0m\u001b[0;34m)\u001b[0m\u001b[0;34m\u001b[0m\u001b[0;34m\u001b[0m\u001b[0m\n\u001b[0;32m---> 12\u001b[0;31m     \u001b[0;32mreturn\u001b[0m \u001b[0ma\u001b[0m \u001b[0;34m+\u001b[0m \u001b[0mb\u001b[0m\u001b[0;34m\u001b[0m\u001b[0;34m\u001b[0m\u001b[0m\n\u001b[0m\u001b[1;32m     13\u001b[0m \u001b[0;34m\u001b[0m\u001b[0m\n\u001b[1;32m     14\u001b[0m \u001b[0;34m\u001b[0m\u001b[0m\n",
      "\u001b[0;31mTypeError\u001b[0m: unsupported operand type(s) for +: 'int' and 'str'"
     ]
    }
   ],
   "source": [
    "add(1, '2')"
   ]
  },
  {
   "cell_type": "markdown",
   "id": "1b599ec1",
   "metadata": {},
   "source": [
    "# LC"
   ]
  },
  {
   "cell_type": "code",
   "execution_count": 3,
   "id": "233cff8f",
   "metadata": {},
   "outputs": [
    {
     "data": {
      "text/plain": [
       "[0, -2, -2, 2, -7]"
      ]
     },
     "execution_count": 3,
     "metadata": {},
     "output_type": "execute_result"
    }
   ],
   "source": [
    "from functools import cmp_to_key\n",
    "\n",
    "\n",
    "def sort_by_abs(x, y):\n",
    "    if abs(x) > abs(y):\n",
    "        return 1 \n",
    "    elif abs(x) == abs(y):\n",
    "        if x > y:\n",
    "            return 1 \n",
    "    return -1 \n",
    "\n",
    "\n",
    "arr = [2, -7, -2, -2, 0]\n",
    "sorted(arr, key=cmp_to_key(sort_by_abs))"
   ]
  },
  {
   "cell_type": "code",
   "execution_count": 4,
   "id": "ab7d74af",
   "metadata": {},
   "outputs": [
    {
     "data": {
      "text/plain": [
       "[0, -2, -2, 2, -7]"
      ]
     },
     "execution_count": 4,
     "metadata": {},
     "output_type": "execute_result"
    }
   ],
   "source": [
    "sorted(arr, key=lambda x: (abs(x), 1 if x >= 0 else -1))"
   ]
  },
  {
   "cell_type": "code",
   "execution_count": 25,
   "id": "ca990631",
   "metadata": {},
   "outputs": [],
   "source": [
    "class Solution:\n",
    "    def findNumberIn2DArray(self, matrix: list, target: int) -> bool:\n",
    "        if target < matrix[0][0] or target > matrix[-1][-1]:\n",
    "            return False \n",
    "        \n",
    "        def bisect(nums, start=None, end=None, target=target):\n",
    "            if end is None:\n",
    "                end = len(nums) - 1\n",
    "            if start is None:\n",
    "                start = 0 \n",
    "            if target == nums[start]:\n",
    "                return start, end, True  \n",
    "            if target == nums[end]:\n",
    "                return end, end, True \n",
    "            \n",
    "            l, r = start, end\n",
    "            m = (l + r) // 2\n",
    "            while l < m:\n",
    "                if nums[m] == target:\n",
    "                    return m, m, True \n",
    "                elif nums[m] > target:\n",
    "                    r = m \n",
    "                else:\n",
    "                    l = m \n",
    "                m = (l + r) // 2\n",
    "            return start, m + 1, False \n",
    "        \n",
    "        start, end, flag = bisect([row[0] for row in matrix])\n",
    "        print(start, end, flag)\n",
    "        if flag:\n",
    "            return True \n",
    "        start = None\n",
    "        for i, row in enumerate(matrix[:end + 1]):\n",
    "            start, end, flag = bisect(start=start, nums=row)\n",
    "            print(i, row, start, end, flag)\n",
    "            if flag:\n",
    "                return True \n",
    "        return False \n",
    "            \n",
    "        "
   ]
  },
  {
   "cell_type": "code",
   "execution_count": 26,
   "id": "8de50f45",
   "metadata": {},
   "outputs": [],
   "source": [
    "solu = Solution()"
   ]
  },
  {
   "cell_type": "code",
   "execution_count": 27,
   "id": "ddb93d87",
   "metadata": {},
   "outputs": [
    {
     "name": "stdout",
     "output_type": "stream",
     "text": [
      "0 1 False\n",
      "0 [1, 4] 0 1 False\n",
      "1 [2, 5] 1 1 True\n"
     ]
    },
    {
     "data": {
      "text/plain": [
       "True"
      ]
     },
     "execution_count": 27,
     "metadata": {},
     "output_type": "execute_result"
    }
   ],
   "source": [
    "solu.findNumberIn2DArray(\n",
    "    matrix=[[1,4],[2,5]], \n",
    "    target=5)"
   ]
  },
  {
   "cell_type": "code",
   "execution_count": 29,
   "id": "e243a4f3",
   "metadata": {},
   "outputs": [
    {
     "name": "stdout",
     "output_type": "stream",
     "text": [
      "0 0\n",
      "0 1\n",
      "0 2\n",
      "break\n",
      "1 0\n",
      "1 1\n",
      "1 2\n",
      "break\n",
      "2 0\n",
      "2 1\n",
      "2 2\n",
      "break\n",
      "3 0\n",
      "3 1\n",
      "3 2\n",
      "break\n",
      "4 0\n",
      "4 1\n",
      "4 2\n",
      "break\n"
     ]
    }
   ],
   "source": [
    "for i in range(5):\n",
    "    for j in range(4):\n",
    "        print(i, j)\n",
    "        if j == 2:\n",
    "            print('break')\n",
    "            break "
   ]
  },
  {
   "cell_type": "code",
   "execution_count": 53,
   "id": "e87de1f1",
   "metadata": {},
   "outputs": [],
   "source": [
    "class Solution:\n",
    "    def isMatch(self, s: str, p: str) -> bool:\n",
    "        n, m = len(s), len(p)\n",
    "        if m == n == 0:\n",
    "            return True \n",
    "        if n == 0 and not all([ele == '*' for ele in p[1::2]]):\n",
    "            return False \n",
    "        if m == 1:\n",
    "            if n > 1:\n",
    "                return False \n",
    "            elif n == 1:\n",
    "                return p[0] in [s[0], '.']\n",
    "            else:\n",
    "                return False\n",
    "\n",
    "        dp = [[False] * (n + 1) for _ in range(m + 1)]\n",
    "        dp[0][0] = True \n",
    "\n",
    "        for i, ch in enumerate(p, 1):\n",
    "            if i % 2 == 0:\n",
    "                if ch == '*':\n",
    "                    dp[i][0] = True \n",
    "                else:\n",
    "                    break \n",
    "        for i in range(m):\n",
    "            for j in range(n):\n",
    "                if dp[i][j]:\n",
    "                    if p[i] in ['.', s[j]] or (p[i] == '*' and p[i - 1] == s[j]):\n",
    "                        dp[i + 1][j + 1] = True \n",
    "                    if p[i] == '*' and p[i - 1] == '.':\n",
    "                        dp[i + 1][j + 1:] = [True] * (n - j)\n",
    "                        break \n",
    "                # * represents 0 or 1 or more than 2\n",
    "                if p[i] == '*':\n",
    "                    if dp[i - 1][j + 1] or dp[i][j + 1] or (dp[i + 1][j] and p[i - 1] == s[j]):\n",
    "                        dp[i + 1][j + 1] = True\n",
    "        \n",
    "        p = [''] + list(p)\n",
    "        for i, row in enumerate(dp):\n",
    "            print(p[i], list(map(lambda x: 1 if x else 0, row)))\n",
    "        \n",
    "        return dp[-1][-1]"
   ]
  },
  {
   "cell_type": "code",
   "execution_count": 52,
   "id": "c3ccf323",
   "metadata": {},
   "outputs": [
    {
     "name": "stdout",
     "output_type": "stream",
     "text": [
      " [1, 0, 0, 0, 0, 0, 0, 0, 0, 0, 0, 0, 0, 0, 0, 0, 0, 0]\n",
      "c [0, 1, 0, 0, 0, 0, 0, 0, 0, 0, 0, 0, 0, 0, 0, 0, 0, 0]\n",
      "* [1, 1, 0, 0, 0, 0, 0, 0, 0, 0, 0, 0, 0, 0, 0, 0, 0, 0]\n",
      "b [0, 0, 1, 0, 0, 0, 0, 0, 0, 0, 0, 0, 0, 0, 0, 0, 0, 0]\n",
      "* [1, 1, 1, 0, 0, 0, 0, 0, 0, 0, 0, 0, 0, 0, 0, 0, 0, 0]\n",
      "b [0, 0, 1, 0, 0, 0, 0, 0, 0, 0, 0, 0, 0, 0, 0, 0, 0, 0]\n",
      "* [1, 1, 1, 0, 0, 0, 0, 0, 0, 0, 0, 0, 0, 0, 0, 0, 0, 0]\n",
      ". [0, 1, 1, 1, 0, 0, 0, 0, 0, 0, 0, 0, 0, 0, 0, 0, 0, 0]\n",
      "* [1, 1, 1, 1, 1, 1, 1, 1, 1, 1, 1, 1, 1, 1, 1, 1, 1, 1]\n",
      "a [0, 0, 0, 1, 1, 0, 1, 0, 1, 1, 0, 0, 0, 1, 1, 0, 0, 0]\n",
      "c [0, 0, 0, 0, 0, 1, 0, 1, 0, 0, 1, 0, 0, 0, 0, 0, 0, 0]\n",
      "* [0, 0, 0, 1, 1, 1, 1, 1, 1, 1, 1, 1, 0, 1, 1, 0, 0, 0]\n",
      ". [0, 0, 0, 0, 1, 1, 1, 1, 1, 1, 1, 1, 1, 0, 1, 1, 0, 0]\n",
      "* [0, 0, 0, 1, 1, 1, 1, 1, 1, 1, 1, 1, 1, 1, 1, 1, 1, 1]\n",
      "b [0, 0, 0, 0, 0, 0, 0, 0, 0, 0, 0, 0, 1, 0, 0, 1, 0, 1]\n",
      "c [0, 0, 0, 0, 0, 0, 0, 0, 0, 0, 0, 0, 0, 0, 0, 0, 1, 0]\n",
      "* [0, 0, 0, 0, 0, 0, 0, 0, 0, 0, 0, 0, 1, 0, 0, 1, 1, 1]\n",
      "a [0, 0, 0, 0, 0, 0, 0, 0, 0, 0, 0, 0, 0, 1, 0, 0, 0, 0]\n",
      "* [0, 0, 0, 0, 0, 0, 0, 0, 0, 0, 0, 0, 1, 1, 1, 1, 1, 1]\n"
     ]
    },
    {
     "data": {
      "text/plain": [
       "True"
      ]
     },
     "execution_count": 52,
     "metadata": {},
     "output_type": "execute_result"
    }
   ],
   "source": [
    "solu = Solution()\n",
    "solu.isMatch(\n",
    "    s=\"cbaacacaaccbaabcb\",     \n",
    "    p=\"c*b*b*.*ac*.*bc*a*\")"
   ]
  },
  {
   "cell_type": "code",
   "execution_count": 54,
   "id": "caaad5b3",
   "metadata": {},
   "outputs": [
    {
     "name": "stdout",
     "output_type": "stream",
     "text": [
      " [1, 0, 0, 0, 0, 0, 0, 0, 0, 0, 0, 0, 0, 0, 0, 0, 0, 0]\n",
      "c [0, 1, 0, 0, 0, 0, 0, 0, 0, 0, 0, 0, 0, 0, 0, 0, 0, 0]\n",
      "* [1, 1, 0, 0, 0, 0, 0, 0, 0, 0, 0, 0, 0, 0, 0, 0, 0, 0]\n",
      "b [0, 0, 1, 0, 0, 0, 0, 0, 0, 0, 0, 0, 0, 0, 0, 0, 0, 0]\n",
      "* [1, 1, 1, 0, 0, 0, 0, 0, 0, 0, 0, 0, 0, 0, 0, 0, 0, 0]\n",
      "b [0, 0, 1, 0, 0, 0, 0, 0, 0, 0, 0, 0, 0, 0, 0, 0, 0, 0]\n",
      "* [1, 1, 1, 0, 0, 0, 0, 0, 0, 0, 0, 0, 0, 0, 0, 0, 0, 0]\n",
      ". [0, 1, 1, 1, 0, 0, 0, 0, 0, 0, 0, 0, 0, 0, 0, 0, 0, 0]\n",
      "* [1, 1, 1, 1, 1, 1, 1, 1, 1, 1, 1, 1, 1, 1, 1, 1, 1, 1]\n",
      "a [0, 0, 0, 1, 1, 0, 1, 0, 1, 1, 0, 0, 0, 1, 1, 0, 0, 0]\n",
      "c [0, 0, 0, 0, 0, 1, 0, 1, 0, 0, 1, 0, 0, 0, 0, 0, 0, 0]\n",
      "* [0, 0, 0, 1, 1, 1, 0, 1, 0, 1, 1, 1, 0, 1, 1, 0, 0, 0]\n",
      ". [0, 0, 0, 0, 1, 1, 1, 0, 1, 0, 1, 1, 1, 0, 1, 1, 0, 0]\n",
      "* [0, 0, 0, 1, 1, 1, 1, 1, 1, 1, 1, 1, 1, 1, 1, 1, 1, 1]\n",
      "b [0, 0, 0, 0, 0, 0, 0, 0, 0, 0, 0, 0, 1, 0, 0, 1, 0, 1]\n",
      "c [0, 0, 0, 0, 0, 0, 0, 0, 0, 0, 0, 0, 0, 0, 0, 0, 1, 0]\n",
      "* [0, 0, 0, 0, 0, 0, 0, 0, 0, 0, 0, 0, 1, 0, 0, 1, 1, 0]\n",
      "a [0, 0, 0, 0, 0, 0, 0, 0, 0, 0, 0, 0, 0, 1, 0, 0, 0, 0]\n",
      "* [0, 0, 0, 0, 0, 0, 0, 0, 0, 0, 0, 0, 1, 1, 1, 1, 1, 0]\n"
     ]
    },
    {
     "data": {
      "text/plain": [
       "False"
      ]
     },
     "execution_count": 54,
     "metadata": {},
     "output_type": "execute_result"
    }
   ],
   "source": [
    "solu = Solution()\n",
    "solu.isMatch(\n",
    "    s=\"cbaacacaaccbaabcb\",     \n",
    "    p=\"c*b*b*.*ac*.*bc*a*\")"
   ]
  },
  {
   "cell_type": "code",
   "execution_count": 18,
   "id": "3ac31ae2",
   "metadata": {},
   "outputs": [],
   "source": [
    "def findNumber(arr):\n",
    "    if arr[0] >= len(arr) or arr[-1] < 0:\n",
    "        return -1 \n",
    "    \n",
    "    l, r = 0, len(arr) - 1\n",
    "    while l <= r:\n",
    "        m = (l + r) // 2\n",
    "        if arr[m] == m:\n",
    "            return m \n",
    "        elif arr[m] > m:\n",
    "            r = m - 1\n",
    "        else:\n",
    "            l = m + 1\n",
    "    return -1"
   ]
  },
  {
   "cell_type": "code",
   "execution_count": 23,
   "id": "a855d3dd",
   "metadata": {},
   "outputs": [
    {
     "data": {
      "text/plain": [
       "4"
      ]
     },
     "execution_count": 23,
     "metadata": {},
     "output_type": "execute_result"
    }
   ],
   "source": [
    "a = [-2, 0, 1, 2, 4, 5, 9, 11, 13]\n",
    "findNumber(a)"
   ]
  },
  {
   "cell_type": "code",
   "execution_count": 53,
   "id": "0dfca46f",
   "metadata": {},
   "outputs": [],
   "source": [
    "class Solution:\n",
    "    def reversePairs(self, nums: list) -> int:\n",
    "        if not nums:\n",
    "            return 0 \n",
    "        ans = 0 \n",
    "\n",
    "        # merge sort \n",
    "        span = 1 \n",
    "        n = len(nums)\n",
    "        while span < n:\n",
    "            for i in range(0, n, 2*span):\n",
    "                # merge nums[i: i+span]和nums[i+span: i+2*span]\n",
    "                l1, l2 = nums[i: i+span], nums[i+span: i+2*span]\n",
    "                tmp = []\n",
    "\n",
    "                indl, indr = 0, 0\n",
    "                while indl < len(l1) and indr < len(l2):\n",
    "                    if l1[indl] > l2[indr]:\n",
    "                        tmp.append(l2[indr])\n",
    "                        indr += 1\n",
    "                    else:\n",
    "                        tmp.append(l1[indl])\n",
    "                        indl += 1\n",
    "                        ans += indr\n",
    "                if indl < len(l1):\n",
    "                    tmp += l1[indl:]\n",
    "                    ans += len(l2) * (len(l1) - indl)\n",
    "                else:\n",
    "                    tmp += l2[indr:]\n",
    "                nums[i: i+2*span] = tmp\n",
    "                print(f\"start is {i*span}, end is {(i+2)*span}, tmp is {tmp}\")\n",
    "            print('span is {}, ans = {}, nums = {}\\n'.format(span, ans, nums))\n",
    "            span *= 2\n",
    "        \n",
    "        return ans "
   ]
  },
  {
   "cell_type": "code",
   "execution_count": 55,
   "id": "876de155",
   "metadata": {},
   "outputs": [
    {
     "name": "stdout",
     "output_type": "stream",
     "text": [
      "start is 0, end is 2, tmp is [1, 3]\n",
      "start is 2, end is 4, tmp is [2, 3]\n",
      "start is 4, end is 6, tmp is [1]\n",
      "span is 1, ans = 0, nums = [1, 3, 2, 3, 1]\n",
      "\n",
      "start is 0, end is 4, tmp is [1, 2, 3, 3]\n",
      "start is 8, end is 12, tmp is [1]\n",
      "span is 2, ans = 1, nums = [1, 2, 3, 3, 1]\n",
      "\n",
      "start is 0, end is 8, tmp is [1, 1, 2, 3, 3]\n",
      "span is 4, ans = 4, nums = [1, 1, 2, 3, 3]\n",
      "\n"
     ]
    },
    {
     "data": {
      "text/plain": [
       "4"
      ]
     },
     "execution_count": 55,
     "metadata": {},
     "output_type": "execute_result"
    }
   ],
   "source": [
    "solu = Solution()\n",
    "a = [1,3,2,3,1]\n",
    "solu.reversePairs(a)"
   ]
  },
  {
   "cell_type": "code",
   "execution_count": 31,
   "id": "3287db2c",
   "metadata": {},
   "outputs": [],
   "source": [
    "def absSort(arr):\n",
    "    new_arr = []\n",
    "    for num in arr:\n",
    "        new_arr.append((abs(num), -1 if num < 0 else 1))\n",
    "    del arr\n",
    "    print(new_arr)\n",
    "\n",
    "    def swap(arr, i, j):\n",
    "            arr[i], arr[j] = arr[j], arr[i]\n",
    "            \n",
    "    def find_pivot(arr, begin, end):\n",
    "        pivot, val = begin, arr[begin]\n",
    "        for i, num in enumerate(arr[begin: end], begin):\n",
    "            if num < val:\n",
    "                swap(arr, i, pivot)\n",
    "                pivot += 1\n",
    "                swap(arr, i, pivot)\n",
    "        return pivot \n",
    "    \n",
    "    def quick_sort(arr, begin, end):\n",
    "        if end - begin <= 1:\n",
    "            return \n",
    "        pivot = find_pivot(arr, begin, end)\n",
    "        print(begin, end, pivot, arr)\n",
    "        quick_sort(arr, begin, pivot)\n",
    "        quick_sort(arr, pivot+1, end)\n",
    "\n",
    "\n",
    "    quick_sort(new_arr, 0, len(new_arr))\n",
    "    ans = new_arr\n",
    "    return [t2[0] * t2[1] for t2 in ans]\n",
    "\n"
   ]
  },
  {
   "cell_type": "code",
   "execution_count": 32,
   "id": "029541c5",
   "metadata": {},
   "outputs": [
    {
     "name": "stdout",
     "output_type": "stream",
     "text": [
      "[(2, 1), (7, -1), (2, -1), (2, -1), (0, 1)]\n",
      "0 5 3 [(2, -1), (2, -1), (0, 1), (2, 1), (7, -1)]\n",
      "0 3 1 [(0, 1), (2, -1), (2, -1), (2, 1), (7, -1)]\n"
     ]
    },
    {
     "data": {
      "text/plain": [
       "[0, -2, -2, 2, -7]"
      ]
     },
     "execution_count": 32,
     "metadata": {},
     "output_type": "execute_result"
    }
   ],
   "source": [
    "absSort([2, -7, -2, -2, 0])"
   ]
  },
  {
   "cell_type": "code",
   "execution_count": 23,
   "id": "d67e9661",
   "metadata": {},
   "outputs": [],
   "source": [
    "class Solution:\n",
    "    def threeSum(self, nums: list) -> list:\n",
    "        self.quick_sort(nums, 0, len(nums))\n",
    "        ans = []\n",
    "        for i, num1 in enumerate(nums[:-2]):\n",
    "            a = []\n",
    "            if num1 > 0:\n",
    "                break \n",
    "            if i > 0 and num1 == nums[i-1]:\n",
    "                continue \n",
    "            for j, num2 in enumerate(nums[i+1: -1], i+1):\n",
    "                target = -num1 - num2\n",
    "                if nums[-1] < target or (j > i+1 and nums[j-1] == num2):\n",
    "                    continue\n",
    "                for k, num3 in enumerate(nums[j+1:], j+1):\n",
    "                    if k > j+1 and num3 == nums[k-1]:\n",
    "                        continue\n",
    "                    if num3 == target:\n",
    "                        ans.append([num1, num2, num3])\n",
    "        return ans \n",
    "\n",
    "    @staticmethod\n",
    "    def quick_sort(arr, begin, end):\n",
    "        if end - begin < 2:\n",
    "            return \n",
    "\n",
    "        def swap(arr,i, j):\n",
    "            arr[i], arr[j] = arr[j], arr[i]\n",
    "\n",
    "        def find_pivot(arr, begin, end):\n",
    "            pivot, pivot_val = begin, arr[begin]\n",
    "            for i, num in enumerate(arr[begin+1: end], begin+1):\n",
    "                if num < pivot_val:\n",
    "                    swap(arr, i, pivot)\n",
    "                    pivot += 1\n",
    "                    swap(arr, i, pivot)\n",
    "            return pivot \n",
    "        \n",
    "        pivot = find_pivot(arr, begin, end)\n",
    "        Solution.quick_sort(arr, begin, pivot)\n",
    "        Solution.quick_sort(arr, pivot+1, end)\n"
   ]
  },
  {
   "cell_type": "code",
   "execution_count": 24,
   "id": "d4dedd72",
   "metadata": {},
   "outputs": [
    {
     "data": {
      "text/plain": [
       "[[-99927, 2246, 97681],\n",
       " [-99927, 12687, 87240],\n",
       " [-99927, 14861, 85066],\n",
       " [-99927, 17307, 82620],\n",
       " [-99927, 24208, 75719],\n",
       " [-99927, 25014, 74913],\n",
       " [-99927, 27134, 72793],\n",
       " [-99927, 33447, 66480],\n",
       " [-99927, 37446, 62481],\n",
       " [-99927, 40680, 59247],\n",
       " [-99851, 10093, 89758],\n",
       " [-99851, 11474, 88377],\n",
       " [-99851, 13483, 86368],\n",
       " [-99851, 14367, 85484],\n",
       " [-99851, 14848, 85003],\n",
       " [-99851, 16659, 83192],\n",
       " [-99851, 21412, 78439],\n",
       " [-99851, 21779, 78072],\n",
       " [-99851, 28095, 71756],\n",
       " [-99851, 33686, 66165],\n",
       " [-99851, 34153, 65698],\n",
       " [-99851, 35241, 64610],\n",
       " [-99851, 35368, 64483],\n",
       " [-99851, 39726, 60125],\n",
       " [-99851, 40887, 58964],\n",
       " [-99851, 42518, 57333],\n",
       " [-99851, 48050, 51801],\n",
       " [-99822, 21, 99801],\n",
       " [-99822, 12582, 87240],\n",
       " [-99822, 12741, 87081],\n",
       " [-99822, 13200, 86622],\n",
       " [-99822, 28007, 71815],\n",
       " [-99822, 34348, 65474],\n",
       " [-99822, 34557, 65265],\n",
       " [-99822, 35805, 64017],\n",
       " [-99822, 36095, 63727],\n",
       " [-99822, 46773, 53049],\n",
       " [-99637, 4508, 95129],\n",
       " [-99637, 11276, 88361],\n",
       " [-99637, 21395, 78242],\n",
       " [-99637, 21638, 77999],\n",
       " [-99637, 32506, 67131],\n",
       " [-99637, 37179, 62458],\n",
       " [-99637, 37906, 61731],\n",
       " [-99637, 39522, 60115],\n",
       " [-99637, 49277, 50360],\n",
       " [-99583, 46, 99537],\n",
       " [-99583, 6822, 92761],\n",
       " [-99583, 8838, 90745],\n",
       " [-99583, 12642, 86941],\n",
       " [-99583, 18593, 80990],\n",
       " [-99583, 26585, 72998],\n",
       " [-99583, 32289, 67294],\n",
       " [-99583, 33132, 66451],\n",
       " [-99583, 34323, 65260],\n",
       " [-99583, 37179, 62404],\n",
       " [-99583, 40699, 58884],\n",
       " [-99583, 41704, 57879],\n",
       " [-99583, 44727, 54856],\n",
       " [-99583, 49088, 50495],\n",
       " [-99555, 2099, 97456],\n",
       " [-99555, 10151, 89404],\n",
       " [-99555, 13033, 86522],\n",
       " [-99555, 19553, 80002],\n",
       " [-99555, 20497, 79058],\n",
       " [-99555, 22451, 77104],\n",
       " [-99555, 31349, 68206],\n",
       " [-99555, 31495, 68060],\n",
       " [-99555, 32138, 67417],\n",
       " [-99555, 34102, 65453],\n",
       " [-99555, 39105, 60450],\n",
       " [-99555, 40551, 59004],\n",
       " [-99555, 46482, 53073],\n",
       " [-99525, 1897, 97628],\n",
       " [-99525, 8990, 90535],\n",
       " [-99525, 9541, 89984],\n",
       " [-99525, 23552, 75973],\n",
       " [-99525, 31015, 68510],\n",
       " [-99525, 31679, 67846],\n",
       " [-99525, 34312, 65213],\n",
       " [-99525, 35041, 64484],\n",
       " [-99525, 35845, 63680],\n",
       " [-99525, 37179, 62346],\n",
       " [-99525, 44249, 55276],\n",
       " [-99525, 48049, 51476],\n",
       " [-99524, -394, 99918],\n",
       " [-99524, 6184, 93340],\n",
       " [-99524, 9612, 89912],\n",
       " [-99524, 22062, 77462],\n",
       " [-99524, 25327, 74197],\n",
       " [-99524, 33686, 65838],\n",
       " [-99524, 34311, 65213],\n",
       " [-99524, 35041, 64483],\n",
       " [-99524, 41779, 57745],\n",
       " [-99524, 43457, 56067],\n",
       " [-99524, 43770, 55754],\n",
       " [-99524, 46475, 53049],\n",
       " [-99524, 46991, 52533],\n",
       " [-99508, 3649, 95859],\n",
       " [-99508, 5852, 93656],\n",
       " [-99508, 16634, 82874],\n",
       " [-99508, 17921, 81587],\n",
       " [-99508, 19878, 79630],\n",
       " [-99508, 25209, 74299],\n",
       " [-99508, 39948, 59560],\n",
       " [-99508, 40830, 58678],\n",
       " [-99508, 41779, 57729],\n",
       " [-99508, 42702, 56806],\n",
       " [-99508, 46091, 53417],\n",
       " [-99500, 860, 98640],\n",
       " [-99500, 4460, 95040],\n",
       " [-99500, 4675, 94825],\n",
       " [-99500, 6739, 92761],\n",
       " [-99500, 19343, 80157],\n",
       " [-99500, 21874, 77626],\n",
       " [-99500, 28301, 71199],\n",
       " [-99500, 32083, 67417],\n",
       " [-99500, 33701, 65799],\n",
       " [-99500, 35243, 64257],\n",
       " [-99500, 37154, 62346],\n",
       " [-99500, 41014, 58486],\n",
       " [-99500, 49088, 50412],\n",
       " [-99486, 874, 98612],\n",
       " [-99486, 2759, 96727],\n",
       " [-99486, 7332, 92154],\n",
       " [-99486, 16822, 82664],\n",
       " [-99486, 24422, 75064],\n",
       " [-99486, 31640, 67846],\n",
       " [-99486, 41206, 58280],\n",
       " [-99486, 44047, 55439],\n",
       " [-99486, 48010, 51476],\n",
       " [-99468, 2391, 97077],\n",
       " [-99468, 16296, 83172],\n",
       " [-99468, 22755, 76713],\n",
       " [-99468, 25014, 74454],\n",
       " [-99468, 25131, 74337],\n",
       " [-99468, 25160, 74308],\n",
       " [-99468, 32429, 67039],\n",
       " [-99468, 33994, 65474],\n",
       " [-99468, 35008, 64460],\n",
       " [-99468, 44119, 55349],\n",
       " [-99468, 46269, 53199],\n",
       " [-99280, 5897, 93383],\n",
       " [-99280, 13211, 86069],\n",
       " [-99280, 19664, 79616],\n",
       " [-99280, 28152, 71128],\n",
       " [-99280, 30513, 68767],\n",
       " [-99280, 36863, 62417],\n",
       " [-99280, 37179, 62101],\n",
       " [-99233, -585, 99818],\n",
       " [-99233, 2391, 96842],\n",
       " [-99233, 4856, 94377],\n",
       " [-99233, 13686, 85547],\n",
       " [-99233, 15498, 83735],\n",
       " [-99233, 16822, 82411],\n",
       " [-99233, 17718, 81515],\n",
       " [-99233, 18242, 80991],\n",
       " [-99233, 20123, 79110],\n",
       " [-99233, 31953, 67280],\n",
       " [-99233, 39331, 59902],\n",
       " [-99233, 41488, 57745],\n",
       " [-99233, 43564, 55669],\n",
       " [-99233, 47124, 52109],\n",
       " [-99156, 6364, 92792],\n",
       " [-99156, 16814, 82342],\n",
       " [-99156, 23618, 75538],\n",
       " [-99156, 24179, 74977],\n",
       " [-99156, 25742, 73414],\n",
       " [-99156, 28160, 70996],\n",
       " [-99156, 35241, 63915],\n",
       " [-99156, 41779, 57377],\n",
       " [-98986, 1909, 97077],\n",
       " [-98986, 4713, 94273],\n",
       " [-98986, 20577, 78409],\n",
       " [-98986, 24296, 74690],\n",
       " [-98986, 26898, 72088],\n",
       " [-98986, 32506, 66480],\n",
       " [-98986, 34331, 64655],\n",
       " [-98986, 47342, 51644],\n",
       " [-98952, -585, 99537],\n",
       " [-98952, -542, 99494],\n",
       " [-98952, 15922, 83030],\n",
       " [-98952, 15970, 82982],\n",
       " [-98952, 17016, 81936],\n",
       " [-98952, 17642, 81310],\n",
       " [-98952, 22422, 76530],\n",
       " [-98952, 23414, 75538],\n",
       " [-98952, 24514, 74438],\n",
       " [-98952, 24873, 74079],\n",
       " [-98952, 31495, 67457],\n",
       " [-98952, 31658, 67294],\n",
       " [-98952, 35225, 63727],\n",
       " [-98952, 39948, 59004],\n",
       " [-98952, 40680, 58272],\n",
       " [-98952, 43994, 54958],\n",
       " [-98952, 46491, 52461],\n",
       " [-98929, 3213, 95716],\n",
       " [-98929, 4656, 94273],\n",
       " [-98929, 21274, 77655],\n",
       " [-98929, 28301, 70628],\n",
       " [-98929, 33994, 64935],\n",
       " [-98929, 41014, 57915],\n",
       " [-98929, 44047, 54882],\n",
       " [-98929, 48569, 50360],\n",
       " [-98897, 15922, 82975],\n",
       " [-98897, 19355, 79542],\n",
       " [-98897, 20997, 77900],\n",
       " [-98897, 25209, 73688],\n",
       " [-98897, 33005, 65892],\n",
       " [-98897, 33483, 65414],\n",
       " [-98897, 33684, 65213],\n",
       " [-98897, 38528, 60369],\n",
       " [-98897, 43564, 55333],\n",
       " [-98836, 792, 98044],\n",
       " [-98836, 5453, 93383],\n",
       " [-98836, 15396, 83440],\n",
       " [-98836, 16296, 82540],\n",
       " [-98836, 17642, 81194],\n",
       " [-98836, 19121, 79715],\n",
       " [-98836, 23772, 75064],\n",
       " [-98836, 41791, 57045],\n",
       " [-98836, 43457, 55379],\n",
       " [-98810, 8940, 89870],\n",
       " [-98810, 10029, 88781],\n",
       " [-98810, 12642, 86168],\n",
       " [-98810, 12741, 86069],\n",
       " [-98810, 15016, 83794],\n",
       " [-98810, 19700, 79110],\n",
       " [-98810, 20811, 77999],\n",
       " [-98810, 27054, 71756],\n",
       " [-98810, 28846, 69964],\n",
       " [-98810, 31679, 67131],\n",
       " [-98757, 46, 98711],\n",
       " [-98757, 925, 97832],\n",
       " [-98757, 4508, 94249],\n",
       " [-98757, 8845, 89912],\n",
       " [-98757, 10079, 88678],\n",
       " [-98757, 13483, 85274],\n",
       " [-98757, 20515, 78242],\n",
       " [-98757, 26942, 71815],\n",
       " [-98757, 33590, 65167],\n",
       " [-98757, 34102, 64655],\n",
       " [-98757, 36952, 61805],\n",
       " [-98757, 43003, 55754],\n",
       " [-98724, 18179, 80545],\n",
       " [-98724, 25309, 73415],\n",
       " [-98724, 28301, 70423],\n",
       " [-98715, 1988, 96727],\n",
       " [-98715, 4280, 94435],\n",
       " [-98715, 8731, 89984],\n",
       " [-98715, 8845, 89870],\n",
       " [-98715, 22002, 76713],\n",
       " [-98715, 27821, 70894],\n",
       " [-98715, 27979, 70736],\n",
       " [-98715, 29948, 68767],\n",
       " [-98715, 30113, 68602],\n",
       " [-98715, 33407, 65308],\n",
       " [-98715, 34328, 64387],\n",
       " [-98715, 48355, 50360],\n",
       " [-98698, 2705, 95993],\n",
       " [-98698, 4675, 94023],\n",
       " [-98698, 8940, 89758],\n",
       " [-98698, 11839, 86859],\n",
       " [-98698, 17708, 80990],\n",
       " [-98698, 17764, 80934],\n",
       " [-98698, 19700, 78998],\n",
       " [-98698, 26942, 71756],\n",
       " [-98698, 30218, 68480],\n",
       " [-98698, 34311, 64387],\n",
       " [-98698, 38269, 60429],\n",
       " [-98698, 40517, 58181],\n",
       " [-98698, 40969, 57729],\n",
       " [-98676, 252, 98424],\n",
       " [-98676, 8959, 89717],\n",
       " [-98676, 21638, 77038],\n",
       " [-98676, 24597, 74079],\n",
       " [-98647, 8940, 89707],\n",
       " [-98647, 13777, 84870],\n",
       " [-98647, 23670, 74977],\n",
       " [-98647, 32083, 66564],\n",
       " [-98647, 34037, 64610],\n",
       " [-98647, 42117, 56530],\n",
       " [-98641, 10142, 88499],\n",
       " [-98641, 10406, 88235],\n",
       " [-98641, 14906, 83735],\n",
       " [-98641, 18096, 80545],\n",
       " [-98641, 25227, 73414],\n",
       " [-98641, 33928, 64713],\n",
       " [-98641, 34386, 64255],\n",
       " [-98641, 38739, 59902],\n",
       " [-98641, 45328, 53313],\n",
       " [-98578, 9174, 89404],\n",
       " [-98578, 10079, 88499],\n",
       " [-98578, 19672, 78906],\n",
       " [-98578, 30997, 67581],\n",
       " [-98578, 31539, 67039],\n",
       " [-98578, 34323, 64255],\n",
       " [-98578, 34660, 63918],\n",
       " [-98578, 39331, 59247],\n",
       " [-98578, 40699, 57879],\n",
       " [-98578, 42020, 56558],\n",
       " [-98578, 46085, 52493],\n",
       " [-98421, 1209, 97212],\n",
       " [-98421, 2705, 95716],\n",
       " [-98421, 12741, 85680],\n",
       " [-98421, 14627, 83794],\n",
       " [-98421, 32622, 65799],\n",
       " [-98421, 33496, 64925],\n",
       " [-98421, 39417, 59004],\n",
       " [-98362, 14627, 83735],\n",
       " [-98362, 18179, 80183],\n",
       " [-98362, 29119, 69243],\n",
       " [-98362, 29174, 69188],\n",
       " [-98362, 31349, 67013],\n",
       " [-98362, 32075, 66287],\n",
       " [-98362, 32289, 66073],\n",
       " [-98362, 44240, 54122],\n",
       " [-98362, 44808, 53554],\n",
       " [-98362, 45869, 52493],\n",
       " [-98362, 47778, 50584],\n",
       " [-98291, -1343, 99634],\n",
       " [-98291, 1209, 97082],\n",
       " [-98291, 4031, 94260],\n",
       " [-98291, 18749, 79542],\n",
       " [-98291, 21122, 77169],\n",
       " [-98291, 30997, 67294],\n",
       " [-98291, 32429, 65862],\n",
       " [-98291, 33033, 65258],\n",
       " [-98291, 33636, 64655],\n",
       " [-98291, 33684, 64607],\n",
       " [-98291, 41326, 56965],\n",
       " [-98291, 41779, 56512],\n",
       " [-98291, 43338, 54953],\n",
       " [-98256, -1408, 99664],\n",
       " [-98256, -1331, 99587],\n",
       " [-98256, 20, 98236],\n",
       " [-98256, 14367, 83889],\n",
       " [-98256, 20356, 77900],\n",
       " [-98256, 46048, 52208],\n",
       " [-98048, 6019, 92029],\n",
       " [-98048, 8434, 89614],\n",
       " [-98048, 10710, 87338],\n",
       " [-98048, 18096, 79952],\n",
       " [-98048, 19997, 78051],\n",
       " [-98048, 35111, 62937],\n",
       " [-98048, 47271, 50777],\n",
       " [-97960, -1958, 99918],\n",
       " [-97960, -602, 98562],\n",
       " [-97960, 1919, 96041],\n",
       " [-97960, 13048, 84912],\n",
       " [-97960, 15086, 82874],\n",
       " [-97960, 18008, 79952],\n",
       " [-97960, 22422, 75538],\n",
       " [-97960, 29754, 68206],\n",
       " [-97960, 35502, 62458],\n",
       " [-97960, 36028, 61932],\n",
       " [-97960, 36152, 61808],\n",
       " [-97960, 46085, 51875],\n",
       " [-97822, -602, 98424],\n",
       " [-97822, 30528, 67294],\n",
       " [-97822, 32564, 65258],\n",
       " [-97822, 38004, 59818],\n",
       " [-97822, 44749, 53073],\n",
       " [-97814, 6739, 91075],\n",
       " [-97814, 14079, 83735],\n",
       " [-97814, 14906, 82908],\n",
       " [-97814, 21276, 76538],\n",
       " [-97814, 21710, 76104],\n",
       " [-97814, 23772, 74042],\n",
       " [-97814, 24179, 73635],\n",
       " [-97814, 26956, 70858],\n",
       " [-97814, 27308, 70506],\n",
       " [-97814, 29608, 68206],\n",
       " [-97814, 29754, 68060],\n",
       " [-97814, 32506, 65308],\n",
       " [-97814, 39328, 58486],\n",
       " [-97814, 42668, 55146],\n",
       " [-97691, 7252, 90439],\n",
       " [-97691, 14162, 83529],\n",
       " [-97691, 28924, 68767],\n",
       " [-97691, 32756, 64935],\n",
       " [-97691, 32867, 64824],\n",
       " [-97691, 37145, 60546],\n",
       " [-97691, 37202, 60489],\n",
       " [-97691, 39795, 57896],\n",
       " [-97691, 42342, 55349],\n",
       " [-97680, 9147, 88533],\n",
       " [-97680, 12326, 85354],\n",
       " [-97680, 15016, 82664],\n",
       " [-97680, 28846, 68834],\n",
       " [-97680, 41728, 55952],\n",
       " [-97621, 3295, 94326],\n",
       " [-97621, 5467, 92154],\n",
       " [-97621, 14349, 83272],\n",
       " [-97621, 19355, 78266],\n",
       " [-97621, 42668, 54953],\n",
       " [-97621, 45413, 52208],\n",
       " [-97621, 47124, 50497],\n",
       " [-97532, 4031, 93501],\n",
       " [-97532, 10052, 87480],\n",
       " [-97532, 10673, 86859],\n",
       " [-97532, 11092, 86440],\n",
       " [-97532, 18593, 78939],\n",
       " [-97532, 20496, 77036],\n",
       " [-97532, 24597, 72935],\n",
       " [-97532, 31640, 65892],\n",
       " [-97532, 38528, 59004],\n",
       " [-97516, 2759, 94757],\n",
       " [-97516, 6001, 91515],\n",
       " [-97516, 8731, 88785],\n",
       " [-97516, 8838, 88678],\n",
       " [-97516, 15929, 81587],\n",
       " [-97516, 21412, 76104],\n",
       " [-97516, 22452, 75064],\n",
       " [-97516, 23319, 74197],\n",
       " [-97516, 30159, 67357],\n",
       " [-97516, 30952, 66564],\n",
       " [-97516, 33033, 64483],\n",
       " [-97516, 37633, 59883],\n",
       " [-97516, 38269, 59247],\n",
       " [-97516, 40551, 56965],\n",
       " [-97516, 44254, 53262],\n",
       " [-97478, -2156, 99634],\n",
       " [-97478, 21, 97457],\n",
       " [-97478, 2803, 94675],\n",
       " [-97478, 13091, 84387],\n",
       " [-97478, 19450, 78028],\n",
       " [-97478, 27203, 70275],\n",
       " [-97478, 28794, 68684],\n",
       " [-97478, 28924, 68554],\n",
       " [-97478, 31640, 65838],\n",
       " [-97478, 31679, 65799],\n",
       " [-97478, 32976, 64502],\n",
       " [-97478, 35673, 61805],\n",
       " [-97460, -2445, 99905],\n",
       " [-97460, 6184, 91276],\n",
       " [-97460, 11092, 86368],\n",
       " [-97460, 13170, 84290],\n",
       " [-97460, 18593, 78867],\n",
       " [-97460, 20356, 77104],\n",
       " [-97460, 23772, 73688],\n",
       " [-97460, 31295, 66165],\n",
       " [-97460, 32976, 64484],\n",
       " [-97460, 34348, 63112],\n",
       " [-97460, 35528, 61932],\n",
       " [-97460, 38773, 58687],\n",
       " [-97460, 41791, 55669],\n",
       " [-97460, 42184, 55276],\n",
       " [-97460, 43338, 54122],\n",
       " [-97425, -1187, 98612],\n",
       " [-97425, 4103, 93322],\n",
       " [-97425, 19450, 77975],\n",
       " [-97425, 22481, 74944],\n",
       " [-97425, 25610, 71815],\n",
       " [-97425, 28134, 69291],\n",
       " [-97425, 28483, 68942],\n",
       " [-97425, 30008, 67417],\n",
       " [-97425, 31539, 65886],\n",
       " [-97425, 32165, 65260],\n",
       " [-97425, 32622, 64803],\n",
       " [-97425, 35008, 62417],\n",
       " [-97425, 43136, 54289],\n",
       " [-97410, 3213, 94197],\n",
       " [-97410, 13616, 83794],\n",
       " [-97410, 13974, 83436],\n",
       " [-97410, 34473, 62937],\n",
       " [-97410, 35368, 62042],\n",
       " [-97410, 42264, 55146],\n",
       " [-97410, 46887, 50523],\n",
       " [-97410, 47703, 49707],\n",
       " [-97401, 324, 97077],\n",
       " [-97401, 3900, 93501],\n",
       " [-97401, 11721, 85680],\n",
       " [-97401, 14861, 82540],\n",
       " [-97401, 17016, 80385],\n",
       " [-97401, 18403, 78998],\n",
       " [-97401, 19746, 77655],\n",
       " [-97401, 25874, 71527],\n",
       " [-97401, 31539, 65862],\n",
       " [-97401, 32687, 64714],\n",
       " [-97401, 33483, 63918],\n",
       " [-97401, 39105, 58296],\n",
       " [-97401, 39522, 57879],\n",
       " [-97397, 3695, 93702],\n",
       " [-97397, 6184, 91213],\n",
       " [-97397, 6364, 91033],\n",
       " [-97397, 14367, 83030],\n",
       " [-97397, 19369, 78028],\n",
       " [-97397, 25309, 72088],\n",
       " [-97397, 25610, 71787],\n",
       " [-97397, 32742, 64655],\n",
       " [-97397, 34312, 63085],\n",
       " [-97397, 41728, 55669],\n",
       " [-97329, -1331, 98660],\n",
       " [-97329, -759, 98088],\n",
       " [-97329, 252, 97077],\n",
       " [-97329, 12326, 85003],\n",
       " [-97329, 19878, 77451],\n",
       " [-97329, 27054, 70275],\n",
       " [-97329, 37446, 59883],\n",
       " [-97160, 10079, 87081],\n",
       " [-97160, 15966, 81194],\n",
       " [-97160, 19121, 78039],\n",
       " [-97160, 31087, 66073],\n",
       " [-97160, 37633, 59527],\n",
       " [-97159, 3114, 94045],\n",
       " [-97159, 13141, 84018],\n",
       " [-97159, 14184, 82975],\n",
       " [-97159, 20123, 77036],\n",
       " [-97159, 25689, 71470],\n",
       " [-97159, 28009, 69150],\n",
       " [-97159, 30218, 66941],\n",
       " [-97159, 46491, 50668],\n",
       " [-97108, -104, 97212],\n",
       " [-97108, 20, 97088],\n",
       " [-97108, 1637, 95471],\n",
       " [-97108, 3063, 94045],\n",
       " [-97108, 8731, 88377],\n",
       " [-97108, 15396, 81712],\n",
       " [-97108, 18669, 78439],\n",
       " [-97108, 21652, 75456],\n",
       " [-97108, 38375, 58733],\n",
       " [-97108, 46085, 51023],\n",
       " [-97108, 48010, 49098],\n",
       " [-97074, 4103, 92971],\n",
       " [-97074, 12687, 84387],\n",
       " [-97074, 18683, 78391],\n",
       " [-97074, 24986, 72088],\n",
       " [-97074, 25227, 71847],\n",
       " [-97074, 31621, 65453],\n",
       " [-97074, 32687, 64387],\n",
       " [-97074, 39345, 57729],\n",
       " [-97074, 44254, 52820],\n",
       " [-96987, -90, 97077],\n",
       " [-96987, 12052, 84935],\n",
       " [-96987, 14079, 82908],\n",
       " [-96987, 14367, 82620],\n",
       " [-96987, 29948, 67039],\n",
       " [-96987, 31679, 65308],\n",
       " [-96987, 32506, 64481],\n",
       " [-96987, 46141, 50846],\n",
       " [-96916, -2989, 99905],\n",
       " [-96916, -2243, 99159],\n",
       " [-96916, 2590, 94326],\n",
       " [-96916, 9337, 87579],\n",
       " [-96916, 11474, 85442],\n",
       " [-96916, 19878, 77038],\n",
       " [-96916, 21781, 75135],\n",
       " [-96916, 25160, 71756],\n",
       " [-96916, 26585, 70331],\n",
       " [-96916, 27979, 68937],\n",
       " [-96916, 28149, 68767],\n",
       " [-96916, 31658, 65258],\n",
       " [-96916, 34323, 62593],\n",
       " [-96916, 34381, 62535],\n",
       " [-96916, 35111, 61805],\n",
       " [-96916, 46421, 50495],\n",
       " [-96916, 48137, 48779],\n",
       " [-96836, 9344, 87492],\n",
       " [-96836, 13042, 83794],\n",
       " [-96836, 20123, 76713],\n",
       " [-96836, 25309, 71527],\n",
       " [-96836, 28152, 68684],\n",
       " [-96836, 32867, 63969],\n",
       " [-96836, 33496, 63340],\n",
       " [-96836, 43136, 53700],\n",
       " [-96836, 44727, 52109],\n",
       " [-96836, 45192, 51644],\n",
       " [-96770, 2705, 94065],\n",
       " [-96770, 3114, 93656],\n",
       " [-96770, 3695, 93075],\n",
       " [-96770, 4675, 92095],\n",
       " [-96770, 15779, 80991],\n",
       " [-96770, 20057, 76713],\n",
       " [-96770, 23772, 72998],\n",
       " [-96770, 25014, 71756],\n",
       " [-96770, 25327, 71443],\n",
       " [-96770, 28924, 67846],\n",
       " [-96770, 32289, 64481],\n",
       " [-96770, 34312, 62458],\n",
       " [-96770, 36952, 59818],\n",
       " [-96770, 37766, 59004],\n",
       " [-96770, 43457, 53313],\n",
       " [-96770, 48050, 48720],\n",
       " [-96684, -3221, 99905],\n",
       " [-96684, 9255, 87429],\n",
       " [-96684, 9623, 87061],\n",
       " [-96684, 12900, 83784],\n",
       " [-96684, 15750, 80934],\n",
       " [-96684, 26714, 69970],\n",
       " [-96684, 27821, 68863],\n",
       " [-96684, 32429, 64255],\n",
       " [-96684, 36255, 60429],\n",
       " [-96683, -2951, 99634],\n",
       " [-96683, -1741, 98424],\n",
       " [-96683, -394, 97077],\n",
       " [-96683, 9104, 87579],\n",
       " [-96683, 10052, 86631],\n",
       " [-96683, 12687, 83996],\n",
       " [-96683, 33590, 63093],\n",
       " [-96683, 34878, 61805],\n",
       " [-96683, 41014, 55669],\n",
       " [-96683, 41728, 54955],\n",
       " [-96683, 44808, 51875],\n",
       " [-96683, 45941, 50742],\n",
       " [-96610, -602, 97212],\n",
       " [-96610, 13170, 83440],\n",
       " [-96610, 14961, 81649],\n",
       " [-96610, 16590, 80020],\n",
       " [-96610, 19758, 76852],\n",
       " [-96610, 25874, 70736],\n",
       " [-96610, 30159, 66451],\n",
       " [-96610, 41728, 54882],\n",
       " [-96593, 2344, 94249],\n",
       " [-96593, 6001, 90592],\n",
       " [-96593, 9255, 87338],\n",
       " [-96593, 10153, 86440],\n",
       " [-96593, 11092, 85501],\n",
       " [-96593, 28095, 68498],\n",
       " [-96593, 28501, 68092],\n",
       " [-96593, 30113, 66480],\n",
       " [-96593, 31658, 64935],\n",
       " [-96593, 37906, 58687],\n",
       " [-96593, 44484, 52109],\n",
       " [-96465, 3342, 93123],\n",
       " [-96465, 5475, 90990],\n",
       " [-96465, 13483, 82982],\n",
       " [-96465, 15966, 80499],\n",
       " [-96465, 19927, 76538],\n",
       " [-96465, 28134, 68331],\n",
       " [-96465, 34660, 61805],\n",
       " [-96465, 36095, 60370],\n",
       " [-96465, 38736, 57729],\n",
       " [-96465, 40398, 56067],\n",
       " [-96465, 43645, 52820],\n",
       " [-96321, -585, 96906],\n",
       " [-96321, 7228, 89093],\n",
       " [-96321, 10153, 86168],\n",
       " [-96321, 30218, 66103],\n",
       " [-96321, 31640, 64681],\n",
       " [-96321, 39356, 56965],\n",
       " [-96321, 46421, 49900],\n",
       " [-96259, -1187, 97446],\n",
       " [-96259, 11219, 85040],\n",
       " [-96259, 12241, 84018],\n",
       " [-96259, 13848, 82411],\n",
       " [-96259, 19546, 76713],\n",
       " [-96259, 21960, 74299],\n",
       " [-96259, 22062, 74197],\n",
       " [-96259, 25131, 71128],\n",
       " [-96259, 27749, 68510],\n",
       " [-96259, 39701, 56558],\n",
       " [-96259, 42518, 53741],\n",
       " [-96259, 45413, 50846],\n",
       " [-96255, 3649, 92606],\n",
       " [-96255, 9174, 87081],\n",
       " [-96255, 9612, 86643],\n",
       " [-96255, 14162, 82093],\n",
       " [-96255, 14740, 81515],\n",
       " [-96255, 18242, 78013],\n",
       " [-96255, 20937, 75318],\n",
       " [-96255, 22062, 74193],\n",
       " [-96255, 22755, 73500],\n",
       " [-96255, 25797, 70458],\n",
       " [-96255, 26898, 69357],\n",
       " [-96255, 30997, 65258],\n",
       " [-96255, 34323, 61932],\n",
       " [-96255, 35805, 60450],\n",
       " [-96255, 44047, 52208],\n",
       " [-96255, 44611, 51644],\n",
       " [-96252, -3333, 99585],\n",
       " [-96252, -2388, 98640],\n",
       " [-96252, 5262, 90990],\n",
       " [-96252, 20497, 75755],\n",
       " [-96252, 28160, 68092],\n",
       " [-96252, 29239, 67013],\n",
       " [-96252, 30414, 65838],\n",
       " [-96252, 31539, 64713],\n",
       " [-96252, 37766, 58486],\n",
       " [-96252, 46545, 49707],\n",
       " [-96130, -1958, 98088],\n",
       " [-96130, 12241, 83889],\n",
       " [-96130, 21692, 74438],\n",
       " [-96130, 26942, 69188],\n",
       " [-96130, 27632, 68498],\n",
       " [-96130, 28149, 67981],\n",
       " [-96130, 33537, 62593],\n",
       " [-96130, 36952, 59178],\n",
       " [-96130, 37280, 58850],\n",
       " [-96130, 47678, 48452],\n",
       " [-96075, -2919, 98994],\n",
       " [-96075, -2460, 98535],\n",
       " [-96075, 15690, 80385],\n",
       " [-96075, 19553, 76522],\n",
       " [-96075, 20356, 75719],\n",
       " [-96075, 20496, 75579],\n",
       " [-96075, 20757, 75318],\n",
       " [-96075, 22903, 73172],\n",
       " [-96075, 27308, 68767],\n",
       " [-96075, 33447, 62628],\n",
       " [-96075, 38160, 57915],\n",
       " [-96005, -3303, 99308],\n",
       " [-96005, -2989, 98994],\n",
       " [-96005, -1523, 97528],\n",
       " [-96005, 3213, 92792],\n",
       " [-96005, 6912, 89093],\n",
       " [-96005, 13343, 82662],\n",
       " [-96005, 25009, 70996],\n",
       " [-96005, 26714, 69291],\n",
       " [-96005, 27518, 68487],\n",
       " [-96005, 30113, 65892],\n",
       " [-96005, 32687, 63318],\n",
       " [-96005, 36028, 59977],\n",
       " [-96005, 37145, 58860],\n",
       " [-96005, 42264, 53741],\n",
       " [-96005, 47703, 48302],\n",
       " [-95906, -3728, 99634],\n",
       " [-95906, 3114, 92792],\n",
       " [-95906, 5467, 90439],\n",
       " [-95906, 7228, 88678],\n",
       " [-95906, 8845, 87061],\n",
       " [-95906, 10481, 85425],\n",
       " [-95906, 22002, 73904],\n",
       " [-95906, 32564, 63342],\n",
       " [-95906, 33489, 62417],\n",
       " [-95906, 34098, 61808],\n",
       " [-95906, 42833, 53073],\n",
       " [-95906, 45238, 50668],\n",
       " [-95803, -3218, 99021],\n",
       " [-95803, -1119, 96922],\n",
       " [-95803, 3649, 92154],\n",
       " [-95803, 5897, 89906],\n",
       " [-95803, 6086, 89717],\n",
       " [-95803, 13141, 82662],\n",
       " [-95803, 17764, 78039],\n",
       " [-95803, 27036, 68767],\n",
       " [-95803, 29239, 66564],\n",
       " [-95803, 31953, 63850],\n",
       " [-95803, 35243, 60560],\n",
       " [-95803, 36398, 59405],\n",
       " [-95785, 7252, 88533],\n",
       " [-95785, 10390, 85395],\n",
       " [-95785, 14198, 81587],\n",
       " [-95785, 18749, 77036],\n",
       " [-95785, 25327, 70458],\n",
       " [-95785, 33684, 62101],\n",
       " [-95785, 35225, 60560],\n",
       " [-95785, 37906, 57879],\n",
       " [-95785, 40830, 54955],\n",
       " [-95620, 17994, 77626],\n",
       " [-95620, 18516, 77104],\n",
       " [-95620, 26377, 69243],\n",
       " [-95620, 44774, 50846],\n",
       " [-95597, -3990, 99587],\n",
       " [-95597, -1859, 97456],\n",
       " [-95597, 14198, 81399],\n",
       " [-95597, 15690, 79907],\n",
       " [-95597, 16822, 78775],\n",
       " [-95597, 19878, 75719],\n",
       " [-95597, 31679, 63918],\n",
       " [-95597, 33496, 62101],\n",
       " [-95597, 33665, 61932],\n",
       " [-95597, 43136, 52461],\n",
       " [-95422, -3218, 98640],\n",
       " [-95422, 1919, 93503],\n",
       " [-95422, 22001, 73421],\n",
       " [-95422, 26942, 68480],\n",
       " [-95422, 28971, 66451],\n",
       " [-95422, 29948, 65474],\n",
       " [-95422, 30008, 65414],\n",
       " [-95422, 32329, 63093],\n",
       " [-95422, 33005, 62417],\n",
       " [-94948, -1958, 96906],\n",
       " [-94948, 925, 94023],\n",
       " [-94948, 14014, 80934],\n",
       " [-94948, 14996, 79952],\n",
       " [-94948, 17910, 77038],\n",
       " [-94948, 18096, 76852],\n",
       " [-94948, 19369, 75579],\n",
       " [-94948, 23552, 71396],\n",
       " [-94948, 28007, 66941],\n",
       " [-94948, 44850, 50098],\n",
       " [-94948, 46811, 48137],\n",
       " [-94866, -4026, 98892],\n",
       " [-94866, 6214, 88652],\n",
       " [-94866, 12326, 82540],\n",
       " [-94866, 14367, 80499],\n",
       " [-94866, 23470, 71396],\n",
       " [-94866, 25131, 69735],\n",
       " [-94866, 26003, 68863],\n",
       " [-94866, 29608, 65258],\n",
       " [-94866, 41014, 53852],\n",
       " [-94855, -3303, 98158],\n",
       " [-94855, -1186, 96041],\n",
       " [-94855, 2344, 92511],\n",
       " [-94855, 2826, 92029],\n",
       " [-94855, 3340, 91515],\n",
       " [-94855, 4320, 90535],\n",
       " [-94855, 8860, 85995],\n",
       " [-94855, 19878, 74977],\n",
       " [-94855, 22062, 72793],\n",
       " [-94855, 22755, 72100],\n",
       " [-94855, 33298, 61557],\n",
       " [-94855, 34878, 59977],\n",
       " [-94855, 39522, 55333],\n",
       " [-94823, -3221, 98044],\n",
       " [-94823, -1636, 96459],\n",
       " [-94823, 20515, 74308],\n",
       " [-94823, 20811, 74012],\n",
       " [-94823, 35939, 58884],\n",
       " [-94823, 37446, 57377],\n",
       " [-94823, 45735, 49088],\n",
       " [-94823, 46773, 48050],\n",
       " [-94790, -2141, 96931],\n",
       " [-94790, 8940, 85850],\n",
       " [-94790, 13141, 81649],\n",
       " [-94790, 18766, 76024],\n",
       " [-94790, 28632, 66158],\n",
       " [-94790, 42702, 52088],\n",
       " [-94790, 43767, 51023],\n",
       " [-94790, 46221, 48569],\n",
       " [-94619, 1209, 93410],\n",
       " [-94619, 2590, 92029],\n",
       " [-94619, 4713, 89906],\n",
       " [-94619, 6086, 88533],\n",
       " [-94619, 14906, 79713],\n",
       " [-94619, 18123, 76496],\n",
       " [-94619, 20577, 74042],\n",
       " [-94619, 30159, 64460],\n",
       " [-94619, 32026, 62593],\n",
       " [-94619, 32138, 62481],\n",
       " [-94619, 32687, 61932],\n",
       " [-94619, 43564, 51055],\n",
       " [-94619, 46482, 48137],\n",
       " [-94562, -3596, 98158],\n",
       " [-94562, -3490, 98052],\n",
       " [-94562, 860, 93702],\n",
       " [-94562, 1591, 92971],\n",
       " [-94562, 4656, 89906],\n",
       " [-94562, 10673, 83889],\n",
       " [-94562, 16296, 78266],\n",
       " [-94562, 33005, 61557],\n",
       " [-94562, 34660, 59902],\n",
       " [-94562, 38004, 56558],\n",
       " [-94562, 40551, 54011],\n",
       " [-94562, 46091, 48471],\n",
       " [-94425, 250, 94175],\n",
       " [-94425, 1454, 92971],\n",
       " [-94425, 7344, 87081],\n",
       " [-94425, 23108, 71317],\n",
       " [-94425, 35939, 58486],\n",
       " [-94425, 42264, 52161],\n",
       " [-94425, 45328, 49097],\n",
       " [-94163, -4259, 98422],\n",
       " [-94163, -2919, 97082],\n",
       " [-94163, 10029, 84134],\n",
       " [-94163, 13805, 80358],\n",
       " [-94163, 28301, 65862],\n",
       " [-94163, 31570, 62593],\n",
       " [-94163, 35111, 59052],\n",
       " [-94163, 36172, 57991],\n",
       " [-94163, 37633, 56530],\n",
       " [-94163, 39560, 54603],\n",
       " [-94163, 40311, 53852],\n",
       " [-94163, 41702, 52461],\n",
       " [-94160, 1897, 92263],\n",
       " [-94160, 6822, 87338],\n",
       " [-94160, 10142, 84018],\n",
       " [-94160, 13041, 81119],\n",
       " [-94160, 13170, 80990],\n",
       " [-94160, 13615, 80545],\n",
       " [-94160, 16244, 77916],\n",
       " [-94160, 17056, 77104],\n",
       " [-94160, 20472, 73688],\n",
       " [-94160, 22843, 71317],\n",
       " [-94160, 31679, 62481],\n",
       " [-94160, 32429, 61731],\n",
       " [-94160, 46457, 47703],\n",
       " [-94160, 46482, 47678],\n",
       " [-94036, -3046, 97082],\n",
       " [-94036, 26339, 67697],\n",
       " [-94036, 26905, 67131],\n",
       " [-94036, 27749, 66287],\n",
       " [-94036, 34153, 59883],\n",
       " [-94036, 37296, 56740],\n",
       " [-94030, 8990, 85040],\n",
       " [-94030, 10236, 83794],\n",
       " [-94030, 29546, 64484],\n",
       " [-94030, 31495, 62535],\n",
       " [-94030, 31640, 62390],\n",
       " [-94030, 34473, 59557],\n",
       " [-94030, 36985, 57045],\n",
       " [-93996, -5589, 99585],\n",
       " [-93996, 5680, 88316],\n",
       " [-93996, 7252, 86744],\n",
       " [-93996, 9337, 84659],\n",
       " [-93996, 15129, 78867],\n",
       " [-93996, 17318, 76678],\n",
       " [-93996, 20496, 73500],\n",
       " [-93996, 28134, 65862],\n",
       " [-93996, 33590, 60406],\n",
       " [-93996, 38160, 55836],\n",
       " [-93815, -3642, 97457],\n",
       " [-93815, -562, 94377],\n",
       " [-93815, 1209, 92606],\n",
       " [-93815, 2590, 91225],\n",
       " [-93815, 18096, 75719],\n",
       " [-93815, 24873, 68942],\n",
       " [-93815, 25131, 68684],\n",
       " [-93815, 40398, 53417],\n",
       " [-93815, 44727, 49088],\n",
       " [-93815, 46691, 47124],\n",
       " [-93703, -2156, 95859],\n",
       " [-93703, -1806, 95509],\n",
       " [-93703, 10673, 83030],\n",
       " [-93703, 15690, 78013],\n",
       " [-93703, 17165, 76538],\n",
       " [-93703, 17984, 75719],\n",
       " [-93703, 29853, 63850],\n",
       " [-93703, 30414, 63289],\n",
       " [-93703, 31621, 62082],\n",
       " [-93703, 37145, 56558],\n",
       " [-93703, 38375, 55328],\n",
       " [-93651, -6167, 99818],\n",
       " [-93651, -3271, 96922],\n",
       " [-93651, -394, 94045],\n",
       " [-93651, 4247, 89404],\n",
       " [-93651, 18516, 75135],\n",
       " [-93651, 19343, 74308],\n",
       " [-93651, 22452, 71199],\n",
       " [-93651, 34473, 59178],\n",
       " [-93651, 38375, 55276],\n",
       " [-93618, -5475, 99093],\n",
       " [-93618, -759, 94377],\n",
       " [-93618, -447, 94065],\n",
       " [-93618, 8959, 84659],\n",
       " [-93618, 9883, 83735],\n",
       " [-93618, 10710, 82908],\n",
       " [-93618, 11276, 82342],\n",
       " [-93618, 13616, 80002],\n",
       " [-93618, 25131, 68487],\n",
       " [-93618, 27054, 66564],\n",
       " [-93618, 28794, 64824],\n",
       " [-93618, 38269, 55349],\n",
       " [-93618, 38342, 55276],\n",
       " [-93618, 38736, 54882],\n",
       " [-93616, -3596, 97212],\n",
       " [-93616, -2243, 95859],\n",
       " [-93616, 2391, 91225],\n",
       " [-93616, 7344, 86272],\n",
       " [-93616, 16244, 77372],\n",
       " [-93616, 22452, 71164],\n",
       " [-93616, 25014, 68602],\n",
       " [-93616, 27778, 65838],\n",
       " [-93616, 33127, 60489],\n",
       " [-93476, -3251, 96727],\n",
       " [-93476, 5897, 87579],\n",
       " [-93476, 9947, 83529],\n",
       " [-93476, 13091, 80385],\n",
       " [-93476, 14014, 79462],\n",
       " [-93476, 17452, 76024],\n",
       " [-93476, 17764, 75712],\n",
       " [-93476, 27778, 65698],\n",
       " [-93476, 29755, 63721],\n",
       " [-93476, 32429, 61047],\n",
       " [-93476, 36946, 56530],\n",
       " [-93310, -5589, 98899],\n",
       " [-93310, -3596, 96906],\n",
       " [-93310, 13848, 79462],\n",
       " [-93310, 16814, 76496],\n",
       " [-93310, 22452, 70858],\n",
       " [-93310, 24626, 68684],\n",
       " [-93310, 24979, 68331],\n",
       " [-93252, -6242, 99494],\n",
       " [-93252, 3340, 89912],\n",
       " [-93252, 3638, 89614],\n",
       " [-93252, 3848, 89404],\n",
       " [-93252, 5017, 88235],\n",
       " [-93252, 14861, 78391],\n",
       " [-93252, 24873, 68379],\n",
       " [-93252, 25160, 68092],\n",
       " [-93252, 27778, 65474],\n",
       " [-93252, 30159, 63093],\n",
       " [-93252, 32622, 60630],\n",
       " [-93252, 33127, 60125],\n",
       " [-93252, 37296, 55956],\n",
       " [-93252, 42668, 50584],\n",
       " [-93248, -1187, 94435],\n",
       " [-93248, 3342, 89906],\n",
       " [-93248, 4713, 88535],\n",
       " [-93248, 12200, 81048],\n",
       " [-93248, 13091, 80157],\n",
       " [-93248, 35369, 57879],\n",
       " [-93248, 37296, 55952],\n",
       " [-93248, 45238, 48010],\n",
       " [-93248, 46475, 46773],\n",
       " [-93095, -5860, 98955],\n",
       " [-93095, 20, 93075],\n",
       " [-93095, 16059, 77036],\n",
       " [-93095, 21652, 71443],\n",
       " ...]"
      ]
     },
     "execution_count": 24,
     "metadata": {},
     "output_type": "execute_result"
    }
   ],
   "source": [
    "solu = Solution()\n",
    "nums = [82597,-9243,62390,83030,-97960,-26521,-61011,83390,-38677,12333,75987,46091,83794,19355,-71037,-6242,-28801,324,1202,-90885,-2989,-95597,-34333,35528,5680,89093,-90606,50360,-29393,-27012,53313,65213,99818,-82405,-41661,-3333,-51952,72135,-1523,26377,74685,96992,92263,15929,5467,-99555,-43348,-41689,-60383,-3990,32165,65265,-72973,-58372,12741,-48568,-46596,72419,-1859,34153,62937,81310,-61823,-96770,-54944,8845,-91184,24208,-29078,31495,65258,14198,85395,70506,-40908,56740,-12228,-40072,32429,93001,68445,-73927,25731,-91859,-24150,10093,-60271,-81683,-18126,51055,48189,-6468,25057,81194,-58628,74042,66158,-14452,-49851,-43667,11092,39189,-17025,-79173,13606,83172,92647,-59741,19343,-26644,-57607,82908,-20655,1637,80060,98994,39331,-31274,-61523,91225,-72953,13211,-75116,-98421,-41571,-69074,99587,39345,42151,-2460,98236,15690,-52507,-95803,-48935,-46492,-45606,-79254,-99851,52533,73486,39948,-7240,71815,-585,-96252,90990,-93815,93340,-71848,58733,-14859,-83082,-75794,-82082,-24871,-15206,91207,-56469,-93618,67131,-8682,75719,87429,-98757,-7535,-24890,-94160,85003,33928,75538,97456,-66424,-60074,-8527,-28697,-22308,2246,-70134,-82319,-10184,87081,-34949,-28645,-47352,-83966,-60418,-15293,-53067,-25921,55172,75064,95859,48049,34311,-86931,-38586,33686,-36714,96922,76713,-22165,-80585,-34503,-44516,39217,-28457,47227,-94036,43457,24626,-87359,26898,-70819,30528,-32397,-69486,84912,-1187,-98986,-32958,4280,-79129,-65604,9344,58964,50584,71128,-55480,24986,15086,-62360,-42977,-49482,-77256,-36895,-74818,20,3063,-49426,28152,-97329,6086,86035,-88743,35241,44249,19927,-10660,89404,24179,-26621,-6511,57745,-28750,96340,-97160,-97822,-49979,52307,79462,94273,-24808,77104,9255,-83057,77655,21361,55956,-9096,48599,-40490,-55107,2689,29608,20497,66834,-34678,23553,-81400,-66630,-96321,-34499,-12957,-20564,25610,-4322,-58462,20801,53700,71527,24669,-54534,57879,-3221,33636,3900,97832,-27688,-98715,5992,24520,-55401,-57613,-69926,57377,-77610,20123,52174,860,60429,-91994,-62403,-6218,-90610,-37263,-15052,62069,-96465,44254,89892,-3406,19121,-41842,-87783,-64125,-56120,73904,-22797,-58118,-4866,5356,75318,46119,21276,-19246,-9241,-97425,57333,-15802,93149,25689,-5532,95716,39209,-87672,-29470,-16324,-15331,27632,-39454,56530,-16000,29853,46475,78242,-46602,83192,-73440,-15816,50964,-36601,89758,38375,-40007,-36675,-94030,67576,46811,-64919,45595,76530,40398,35845,41791,67697,-30439,-82944,63115,33447,-36046,-50122,-34789,43003,-78947,-38763,-89210,32756,-20389,-31358,-90526,-81607,88741,86643,98422,47389,-75189,13091,95993,-15501,94260,-25584,-1483,-67261,-70753,25160,89614,-90620,-48542,83889,-12388,-9642,-37043,-67663,28794,-8801,13621,12241,55379,84290,21692,-95906,-85617,-17341,-63767,80183,-4942,-51478,30997,-13658,8838,17452,-82869,-39897,68449,31964,98158,-49489,62283,-62209,-92792,-59342,55146,-38533,20496,62667,62593,36095,-12470,5453,-50451,74716,-17902,3302,-16760,-71642,-34819,96459,-72860,21638,47342,-69897,-40180,44466,76496,84659,13848,-91600,-90887,-63742,-2156,-84981,-99280,94326,-33854,92029,-50811,98711,-36459,-75555,79110,-88164,-97397,-84217,97457,64387,30513,-53190,-83215,252,2344,-27177,-92945,-89010,82662,-11670,86069,53417,42702,97082,3695,-14530,-46334,17910,77999,28009,-12374,15498,-46941,97088,-35030,95040,92095,-59469,-24761,46491,67357,-66658,37446,-65130,-50416,99197,30925,27308,54122,-44719,12582,-99525,-38446,-69050,-22352,94757,-56062,33684,-40199,-46399,96842,-50881,-22380,-65021,40582,53623,-76034,77018,-97074,-84838,-22953,-74205,79715,-33920,-35794,-91369,73421,-82492,63680,-14915,-33295,37145,76852,-69442,60125,-74166,74308,-1900,-30195,-16267,-60781,-27760,5852,38917,25742,-3765,49097,-63541,98612,-92865,-30248,9612,-8798,53262,95781,-42278,-36529,7252,-27394,-5021,59178,80934,-48480,-75131,-54439,-19145,-48140,98457,-6601,-51616,-89730,78028,32083,-48904,16822,-81153,-8832,48720,-80728,-45133,-86647,-4259,-40453,2590,28613,50523,-4105,-27790,-74579,-17223,63721,33489,-47921,97628,-97691,-14782,-65644,18008,-93651,-71266,80990,-76732,-47104,35368,28632,59818,-86269,-89753,34557,-92230,-5933,-3487,-73557,-13174,-43981,-43630,-55171,30254,-83710,-99583,-13500,71787,5017,-25117,-78586,86941,-3251,-23867,-36315,75973,86272,-45575,77462,-98836,-10859,70168,-32971,-38739,-12761,93410,14014,-30706,-77356,-85965,-62316,63918,-59914,-64088,1591,-10957,38004,15129,-83602,-51791,34381,-89382,-26056,8942,5465,71458,-73805,-87445,-19921,-80784,69150,-34168,28301,-68955,18041,6059,82342,9947,39795,44047,-57313,48569,81936,-2863,-80932,32976,-86454,-84207,33033,32867,9104,-16580,-25727,80157,-70169,53741,86522,84651,68480,84018,61932,7332,-61322,-69663,76370,41206,12326,-34689,17016,82975,-23386,39417,72793,44774,-96259,3213,79952,29265,-61492,-49337,14162,65886,3342,-41622,-62659,-90402,-24751,88511,54739,-21383,-40161,-96610,-24944,-602,-76842,-21856,69964,43994,-15121,-85530,12718,13170,-13547,69222,62417,-75305,-81446,-38786,-52075,-23110,97681,-82800,-53178,11474,35857,94197,-58148,-23689,32506,92154,-64536,-73930,-77138,97446,-83459,70963,22452,68472,-3728,-25059,-49405,95129,-6167,12808,99918,30113,-12641,-26665,86362,-33505,50661,26714,33701,89012,-91540,40517,-12716,-57185,-87230,29914,-59560,13200,-72723,58272,23913,-45586,-96593,-26265,-2141,31087,81399,92511,-34049,20577,2803,26003,8940,42117,40887,-82715,38269,40969,-50022,72088,21291,-67280,-16523,90535,18669,94342,-39568,-88080,-99486,-20716,23108,-28037,63342,36863,-29420,-44016,75135,73415,16059,-4899,86893,43136,-7041,33483,-67612,25327,40830,6184,61805,4247,81119,-22854,-26104,-63466,63093,-63685,60369,51023,51644,-16350,74438,-83514,99083,10079,-58451,-79621,48471,67131,-86940,99093,11855,-22272,-67683,-44371,9541,18123,37766,-70922,80385,-57513,-76021,-47890,36154,72935,84387,-92681,-88303,-7810,59902,-90,-64704,-28396,-66403,8860,13343,33882,85680,7228,28160,-14003,54369,-58893,92606,-63492,-10101,64714,58486,29948,-44679,-22763,10151,-56695,4031,-18242,-36232,86168,-14263,9883,47124,47271,92761,-24958,-73263,-79661,-69147,-18874,29546,-92588,-85771,26451,-86650,-43306,-59094,-47492,-34821,-91763,-47670,33537,22843,67417,-759,92159,63075,94065,-26988,55276,65903,30414,-67129,-99508,-83092,-91493,-50426,14349,-83216,-76090,32742,-5306,-93310,-60750,-60620,-45484,-21108,-58341,-28048,-52803,69735,78906,81649,32565,-86804,-83202,-65688,-1760,89707,93322,-72750,84134,71900,-37720,19450,-78018,22001,-23604,26276,-21498,65892,-72117,-89834,-23867,55817,-77963,42518,93123,-83916,63260,-2243,-97108,85442,-36775,17984,-58810,99664,-19082,93075,-69329,87061,79713,16296,70996,13483,-74582,49900,-27669,-40562,1209,-20572,34660,83193,75579,7344,64925,88361,60969,3114,44611,-27445,53049,-16085,-92851,-53306,13859,-33532,86622,-75666,-18159,-98256,51875,-42251,-27977,-18080,23772,38160,41779,9147,94175,99905,-85755,62535,-88412,-52038,-68171,93255,-44684,-11242,-104,31796,62346,-54931,-55790,-70032,46221,56541,-91947,90592,93503,4071,20646,4856,-63598,15396,-50708,32138,-85164,38528,-89959,53852,57915,-42421,-88916,-75072,67030,-29066,49542,-71591,61708,-53985,-43051,28483,46991,-83216,80991,-46254,-48716,39356,-8270,-47763,-34410,874,-1186,-7049,28846,11276,21960,-13304,-11433,-4913,55754,79616,70423,-27523,64803,49277,14906,-97401,-92390,91075,70736,21971,-3303,55333,-93996,76538,54603,-75899,98801,46887,35041,48302,-52318,55439,24574,14079,-24889,83440,14961,34312,-89260,-22293,-81271,-2586,-71059,-10640,-93095,-5453,-70041,66543,74012,-11662,-52477,-37597,-70919,92971,-17452,-67306,-80418,7225,-89296,24296,86547,37154,-10696,74436,-63959,58860,33590,-88925,-97814,-83664,85484,-8385,-50879,57729,-74728,-87852,-15524,-91120,22062,28134,80917,32026,49707,-54252,-44319,-35139,13777,44660,85274,25043,58781,-89035,-76274,6364,-63625,72855,43242,-35033,12820,-27460,77372,-47578,-61162,-70758,-1343,-4159,64935,56024,-2151,43770,19758,-30186,-86040,24666,-62332,-67542,73180,-25821,-27826,-45504,-36858,-12041,20017,-24066,-56625,-52097,-47239,-90694,8959,7712,-14258,-5860,55349,61808,-4423,-93703,64681,-98641,-25222,46999,-83831,-54714,19997,-68477,66073,51801,-66491,52061,-52866,79907,-39736,-68331,68937,91464,98892,910,93501,31295,-85873,27036,-57340,50412,21,-2445,29471,71317,82093,-94823,-54458,-97410,39560,-7628,66452,39701,54029,37906,46773,58296,60370,-61090,85501,-86874,71443,-72702,-72047,14848,34102,77975,-66294,-36576,31349,52493,-70833,-80287,94435,39745,-98291,84524,-18942,10236,93448,50846,94023,-6939,47999,14740,30165,81048,84935,-19177,-13594,32289,62628,-90612,-542,-66627,64255,71199,-83841,-82943,-73885,8623,-67214,-9474,-35249,62254,-14087,-90969,21515,-83303,94377,-91619,19956,-98810,96727,-91939,29119,-85473,-82153,-69008,44850,74299,-76459,-86464,8315,-49912,-28665,59052,-69708,76024,-92738,50098,18683,-91438,18096,-19335,35659,91826,15779,-73070,67873,-12458,-71440,-46721,54856,97212,-81875,35805,36952,68498,81627,-34231,81712,27100,-9741,-82612,18766,-36392,2759,41728,69743,26825,48355,-17790,17165,56558,3295,-24375,55669,-16109,24079,73414,48990,-11931,-78214,90745,19878,35673,-15317,-89086,94675,-92513,88410,-93248,-19475,-74041,-19165,32329,-26266,-46828,-18747,45328,8990,-78219,-25874,-74801,-44956,-54577,-29756,-99822,-35731,-18348,-68915,-83518,-53451,95471,-2954,-13706,-8763,-21642,-37210,16814,-60070,-42743,27697,-36333,-42362,11576,85742,-82536,68767,-56103,-63012,71396,-78464,-68101,-15917,-11113,-3596,77626,-60191,-30585,-73584,6214,-84303,18403,23618,-15619,-89755,-59515,-59103,-74308,-63725,-29364,-52376,-96130,70894,-12609,50845,-2314,42264,-70825,64481,55752,4460,-68603,-88701,4713,-50441,-51333,-77907,97412,-66616,-49430,60489,-85262,-97621,-18980,44727,-69321,-57730,66287,-92566,-64427,-14270,11515,-92612,-87645,61557,24197,-81923,-39831,-10301,-23640,-76219,-68025,92761,-76493,68554,-77734,-95620,-11753,-51700,98234,-68544,-61838,29467,46603,-18221,-35441,74537,40327,-58293,75755,-57301,-7532,-94163,18179,-14388,-22258,-46417,-48285,18242,-77551,82620,250,-20060,-79568,-77259,82052,-98897,-75464,48773,-79040,-11293,45941,-67876,-69204,-46477,-46107,792,60546,-34573,-12879,-94562,20356,-48004,-62429,96242,40594,2099,99494,25724,-39394,-2388,-18563,-56510,-83570,-29214,3015,74454,74197,76678,-46597,60630,-76093,37578,-82045,-24077,62082,-87787,-74936,58687,12200,-98952,70155,-77370,21710,-84625,-60556,-84128,925,65474,-15741,-94619,88377,89334,44749,22002,-45750,-93081,-14600,-83447,46691,85040,-66447,-80085,56308,44310,24979,-29694,57991,4675,-71273,-44508,13615,-54710,23552,-78253,-34637,50497,68706,81543,-88408,-21405,6001,-33834,-21570,-46692,-25344,20310,71258,-97680,11721,59977,59247,-48949,98955,-50276,-80844,-27935,-76102,55858,-33492,40680,66691,-33188,8284,64893,-7528,6019,-85523,8434,-64366,-56663,26862,30008,-7611,-12179,-70076,21426,-11261,-36864,-61937,-59677,929,-21052,3848,-20888,-16065,98995,-32293,-86121,-54564,77831,68602,74977,31658,40699,29755,98424,80358,-69337,26339,13213,-46016,-18331,64713,-46883,-58451,-70024,-92393,-4088,70628,-51185,71164,-75791,-1636,-29102,-16929,-87650,-84589,-24229,-42137,-15653,94825,13042,88499,-47100,-90358,-7180,29754,-65727,-42659,-85560,-9037,-52459,20997,-47425,17318,21122,20472,-23037,65216,-63625,-7877,-91907,24100,-72516,22903,-85247,-8938,73878,54953,87480,-31466,-99524,35369,-78376,89984,-15982,94045,-7269,23319,-80456,-37653,-76756,2909,81936,54958,-12393,60560,-84664,-82413,66941,-26573,-97532,64460,18593,-85789,-38820,-92575,-43663,-89435,83272,-50585,13616,-71541,-53156,727,-27644,16538,34049,57745,34348,35009,16634,-18791,23271,-63844,95817,21781,16590,59669,15966,-6864,48050,-36143,97427,-59390,96931,78939,-1958,50777,43338,-51149,39235,-27054,-43492,67457,-83616,37179,10390,85818,2391,73635,87579,-49127,-81264,-79023,-81590,53554,-74972,-83940,-13726,-39095,29174,78072,76104,47778,25797,-29515,-6493,-92793,22481,-36197,-65560,42342,15750,97556,99634,-56048,-35688,13501,63969,-74291,50911,39225,93702,-3490,-59461,-30105,-46761,-80113,92906,-68487,50742,36152,-90240,-83631,24597,-50566,-15477,18470,77038,40223,-80364,-98676,70957,-63647,99537,13041,31679,86631,37633,-16866,13686,-71565,21652,-46053,-80578,-61382,68487,-6417,4656,20811,67013,-30868,-11219,46,74944,14627,56965,42275,-52480,52162,-84883,-52579,-90331,92792,42184,-73422,-58440,65308,-25069,5475,-57996,59557,-17561,2826,-56939,14996,-94855,-53707,99159,43645,-67719,-1331,21412,41704,31612,32622,1919,-69333,-69828,22422,-78842,57896,-17363,27979,-76897,35008,46482,-75289,65799,20057,7170,41326,-76069,90840,-81253,-50749,3649,-42315,45238,-33924,62101,96906,58884,-7617,-28689,-66578,62458,50876,-57553,6739,41014,-64040,-34916,37940,13048,-97478,-11318,-89440,-31933,-40357,-59737,-76718,-14104,-31774,28001,4103,41702,-25120,-31654,63085,-3642,84870,-83896,-76422,-61520,12900,88678,85547,33132,-88627,52820,63915,-27472,78867,-51439,33005,-23447,-3271,-39308,39726,-74260,-31874,-36893,93656,910,-98362,60450,-88048,99308,13947,83996,-90415,-35117,70858,-55332,-31721,97528,82982,-86218,6822,25227,36946,97077,-4257,-41526,56795,89870,75860,-70802,21779,14184,-16511,-89156,-31422,71470,69600,-78498,74079,-19410,40311,28501,26397,-67574,-32518,68510,38615,19355,-6088,-97159,-29255,-92523,3023,-42536,-88681,64255,41206,44119,52208,39522,-52108,91276,-70514,83436,63289,-79741,9623,99559,12642,85950,83735,-21156,-67208,98088,-7341,-27763,-30048,-44099,-14866,-45504,-91704,19369,13700,10481,-49344,-85686,33994,19672,36028,60842,66564,-24919,33950,-93616,-47430,-35391,-28279,56806,74690,39284,-96683,-7642,-75232,37657,-14531,-86870,-9274,-26173,98640,88652,64257,46457,37814,-19370,9337,-22556,-41525,39105,-28719,51611,-93252,98044,-90996,21710,-47605,-64259,-32727,53611,-31918,-3555,33316,-66472,21274,-37731,-2919,15016,48779,-88868,1897,41728,46344,-89667,37848,68092,-44011,85354,-43776,38739,-31423,-66330,65167,-22016,59405,34328,-60042,87660,-67698,-59174,-1408,-46809,-43485,-88807,-60489,13974,22319,55836,-62995,-37375,-4185,32687,-36551,-75237,58280,26942,-73756,71756,78775,-40573,14367,-71622,-77338,24112,23414,-7679,-51721,87492,85066,-21612,57045,10673,-96836,52461,-62218,-9310,65862,-22748,89906,-96987,-98698,26956,-43428,46141,47456,28095,55952,67323,-36455,-60202,-43302,-82932,42020,77036,10142,60406,70331,63836,58850,-66752,52109,21395,-10238,-98647,-41962,27778,69060,98535,-28680,-52263,-56679,66103,-42426,27203,80021,10153,58678,36398,63112,34911,20515,62082,-15659,-40785,27054,43767,-20289,65838,-6954,-60228,-72226,52236,-35464,25209,-15462,-79617,-41668,-84083,62404,-69062,18913,46545,20757,13805,24717,-18461,-47009,-25779,68834,64824,34473,39576,31570,14861,-15114,-41233,95509,68232,67846,84902,-83060,17642,-18422,73688,77671,-26930,64484,-99637,73875,6428,21034,-73471,19664,-68031,15922,-27028,48137,54955,-82793,-41144,-10218,-24921,-28299,-2288,68518,-54452,15686,-41814,66165,-72207,-61986,80020,50544,-99500,16244,78998,40989,14525,-56061,-24692,-94790,21111,37296,-90794,72100,70550,-31757,17708,-74290,61910,78039,-78629,-25033,73172,-91953,10052,64502,99585,-1741,90324,-73723,68942,28149,30218,24422,16659,10710,-62594,94249,96588,46192,34251,73500,-65995,-81168,41412,-98724,-63710,-54696,-52407,19746,45869,27821,-94866,-76705,-13417,-61995,-71560,43450,67384,-8838,-80293,-28937,23330,-89694,-40586,46918,80429,-5475,78013,25309,-34162,37236,-77577,86744,26281,-29033,-91813,35347,13033,-13631,-24459,3325,-71078,-75359,81311,19700,47678,-74680,-84113,45192,35502,37675,19553,76522,-51098,-18211,89717,4508,-82946,27749,85995,89912,-53678,-64727,-14778,32075,-63412,-40524,86440,-2707,-36821,63850,-30883,67294,-99468,-23708,34932,34386,98899,29239,-23385,5897,54882,98660,49098,70275,17718,88533,52161,63340,50061,-89457,19491,-99156,24873,-17008,64610,-55543,50495,17056,-10400,-56678,-29073,-42960,-76418,98562,-88104,-96255,10159,-90724,54011,12052,45871,-90933,-69420,67039,37202,78051,-52197,-40278,-58425,65414,-23394,-1415,6912,-53447,7352,17307,-78147,63727,98905,55412,-57658,-32884,-44878,22755,39730,3638,35111,39777,74193,38736,-11829,-61188,-92757,55946,-71232,-63032,-83947,39147,-96684,-99233,25131,-32197,24406,-55428,-61941,25874,-69453,64483,-19644,-68441,12783,87338,-48676,66451,-447,-61590,50932,-11270,29035,65698,-63544,10029,80499,-9461,86368,91365,-81810,-71914,-52056,-13782,44240,-30093,-2437,24007,67581,-17365,-69164,-8420,-69289,-29370,48010,90439,13141,69243,50668,39328,61731,78266,-81313,17921,-38196,55261,9948,-24970,75712,-72106,28696,7461,31621,61047,51476,56512,11839,-96916,-82739,28924,-99927,58449,37280,69357,11219,-32119,-62050,-48745,-83486,-52376,42668,82659,68882,38773,46269,-96005,97630,25009,-2951,-67811,99801,81587,-79793,-18547,-83086,69512,33127,-92145,-88497,47703,59527,1909,88785,-88882,69188,-46131,-5589,-15086,36255,-53238,-33009,82664,53901,35939,-42946,-25571,33298,69291,53199,74746,-40127,-39050,91033,51717,-98048,87240,36172,65453,-94425,-63694,-30027,59004,88660,3649,-20267,-52565,-67321,34037,4320,91515,-56753,60115,27134,68617,-61395,-26503,-98929,-8849,-63318,10709,-16151,61905,-95785,5262,23670,-25277,90206,-19391,45735,37208,-31992,-92450,18516,-90452,-58870,-58602,93383,14333,17994,82411,-54126,-32576,35440,-60526,-78764,-25069,-9022,-394,92186,-38057,55328,-61569,67780,77169,19546,-92664,-94948,44484,-13439,83529,27518,-48333,72998,38342,-90553,-98578,-76906,81515,-16464,78439,92529,35225,-39968,-10130,-7845,-32245,-74955,-74996,67731,-13897,-82493,33407,93619,59560,-24404,-57553,19486,-45341,34098,-24978,-33612,79058,71847,76713,-95422,6421,-96075,-59130,-28976,-16922,-62203,69970,68331,21874,40551,89650,51908,58181,66480,-68177,34323,-3046,-49656,-59758,43564,-10960,-30796,15473,-20216,46085,-85355,41515,-30669,-87498,57711,56067,63199,-83805,62042,91213,-14606,4394,-562,74913,10406,96810,-61595,32564,31640,-9732,42058,98052,-7908,-72330,1558,-80301,34878,32900,3939,-8824,88316,20937,21566,-3218,-66080,-31620,86859,54289,90476,-42889,-15016,-18838,75456,30159,-67101,42328,-92703,85850,-5475,23470,-80806,68206,17764,88235,46421,-41578,74005,-81142,80545,20868,-1560,64017,83784,68863,-97516,-13016,-72223,79630,-55692,82255,88467,28007,-34686,-69049,-41677,88535,-8217,68060,-51280,28971,49088,49235,26905,-81117,-44888,40623,74337,-24662,97476,79542,-72082,-35093,98175,-61761,-68169,59697,-62542,-72965,59883,-64026,-37656,-92392,-12113,-73495,98258,68379,-21545,64607,-70957,-92254,-97460,-63436,-8853,-19357,-51965,-76582,12687,-49712,45413,-60043,33496,31539,-57347,41837,67280,-68813,52088,-13155,-86430,-15239,-45030,96041,18749,-23992,46048,35243,-79450,85425,-58524,88781,-39454,53073,-48864,-82289,39086,82540,-11555,25014,-5431,-39585,-89526,2705,31953,-81611,36985,-56022,68684,-27101,11422,64655,-26965,-63081,-13840,-91003,-78147,-8966,41488,1988,99021,-61575,-47060,65260,-23844,-21781,-91865,-19607,44808,2890,63692,-88663,-58272,15970,-65195,-45416,-48444,-78226,-65332,-24568,42833,-1806,-71595,80002,-52250,30952,48452,-90106,31015,-22073,62339,63318,78391,28699,77900,-4026,-76870,-45943,33665,9174,-84360,-22684,-16832,-67949,-38077,-38987,-32847,51443,-53580,-13505,9344,-92337,26585,70458,-52764,-67471,-68411,-1119,-2072,-93476,67981,40887,-89304,-12235,41488,1454,5355,-34855,-72080,24514,-58305,3340,34331,8731,77451,-64983,-57876,82874,62481,-32754,-39902,22451,-79095,-23904,78409,-7418,77916]\n",
    "solu.threeSum(nums)"
   ]
  },
  {
   "cell_type": "markdown",
   "id": "c7deac51",
   "metadata": {},
   "source": [
    "#### Python Bin Int"
   ]
  },
  {
   "cell_type": "code",
   "execution_count": 50,
   "id": "8fb01e56",
   "metadata": {},
   "outputs": [],
   "source": [
    "def bin_representation_32_bits(num: int, bit: int=70):\n",
    "    for i in range(bit, -1, -1):\n",
    "        print('{},'.format(num >> i & 1), end='')"
   ]
  },
  {
   "cell_type": "code",
   "execution_count": 41,
   "id": "db91554c",
   "metadata": {},
   "outputs": [
    {
     "name": "stdout",
     "output_type": "stream",
     "text": [
      "0,0,0,0,0,0,0,0,0,0,0,0,0,0,0,0,0,0,0,0,0,0,0,0,0,0,0,0,0,0,0,0,0,0,0,0,0,0,0,1,0,0,0,0,0,0,0,0,0,0,0,0,0,0,0,0,0,0,0,0,0,0,0,0,0,0,0,0,0,0,0,"
     ]
    }
   ],
   "source": [
    "bin_representation_32_bits(2 ** 31)"
   ]
  },
  {
   "cell_type": "code",
   "execution_count": 42,
   "id": "1a75ec30",
   "metadata": {},
   "outputs": [
    {
     "name": "stdout",
     "output_type": "stream",
     "text": [
      "0,0,0,0,0,0,0,0,0,0,0,0,0,0,0,0,0,0,0,0,0,0,0,0,0,0,0,0,0,0,0,0,0,0,0,0,0,0,0,0,1,1,1,1,1,1,1,1,1,1,1,1,1,1,1,1,1,1,1,1,1,1,1,1,1,1,1,1,1,1,1,"
     ]
    }
   ],
   "source": [
    "bin_representation_32_bits(2 ** 31 - 1)"
   ]
  },
  {
   "cell_type": "code",
   "execution_count": 43,
   "id": "d785a64f",
   "metadata": {},
   "outputs": [
    {
     "name": "stdout",
     "output_type": "stream",
     "text": [
      "1,1,1,1,1,1,1,1,1,1,1,1,1,1,1,1,1,1,1,1,1,1,1,1,1,1,1,1,1,1,1,1,1,1,1,1,1,1,1,1,0,0,0,0,0,0,0,0,0,0,0,0,0,0,0,0,0,0,0,0,0,0,0,0,0,0,0,0,0,0,0,"
     ]
    }
   ],
   "source": [
    "bin_representation_32_bits(-2 ** 31)"
   ]
  },
  {
   "cell_type": "code",
   "execution_count": 44,
   "id": "f6f67a49",
   "metadata": {},
   "outputs": [
    {
     "name": "stdout",
     "output_type": "stream",
     "text": [
      "0,0,0,0,0,0,0,0,0,0,0,0,0,0,0,0,0,0,0,0,0,0,0,0,0,0,0,0,0,0,0,0,0,0,0,0,0,0,1,1,0,0,0,0,0,0,0,0,0,0,0,0,0,0,0,0,0,0,0,0,0,0,0,0,0,0,0,0,0,0,0,"
     ]
    }
   ],
   "source": [
    "bin_representation_32_bits(2 ** 31 * 3)"
   ]
  },
  {
   "cell_type": "code",
   "execution_count": 45,
   "id": "1bc2551b",
   "metadata": {},
   "outputs": [
    {
     "name": "stdout",
     "output_type": "stream",
     "text": [
      "1,1,1,1,1,1,1,1,1,1,1,1,1,1,1,1,1,1,1,1,1,1,1,1,1,1,1,1,1,1,1,1,1,1,1,1,1,1,1,1,1,1,1,1,1,1,1,1,1,1,1,1,1,1,1,1,1,1,1,1,1,1,1,1,1,1,1,1,1,1,1,"
     ]
    }
   ],
   "source": [
    "bin_representation_32_bits(-1)"
   ]
  },
  {
   "cell_type": "code",
   "execution_count": 46,
   "id": "58baacf9",
   "metadata": {},
   "outputs": [
    {
     "name": "stdout",
     "output_type": "stream",
     "text": [
      "1,1,1,1,1,1,1,1,1,1,1,1,1,1,1,1,1,1,1,1,1,1,1,1,1,1,1,1,1,1,1,1,1,1,1,1,1,1,1,1,1,1,1,1,1,1,1,1,1,1,1,1,1,1,1,1,1,1,1,1,1,1,1,1,1,1,1,1,1,1,0,"
     ]
    }
   ],
   "source": [
    "bin_representation_32_bits(-2)"
   ]
  },
  {
   "cell_type": "code",
   "execution_count": 51,
   "id": "80788c73",
   "metadata": {},
   "outputs": [
    {
     "name": "stdout",
     "output_type": "stream",
     "text": [
      "1,1,1,1,1,1,1,1,1,1,1,1,1,1,1,1,1,1,1,1,1,1,1,1,1,1,1,1,1,1,1,1,1,1,1,1,1,1,1,1,1,1,1,1,1,1,1,1,1,1,1,1,1,1,1,1,1,1,1,1,1,1,1,1,1,1,1,1,1,1,1,"
     ]
    }
   ],
   "source": [
    "bin_representation_32_bits(2 ** 71 - 1)"
   ]
  },
  {
   "cell_type": "code",
   "execution_count": 52,
   "id": "489a45a0",
   "metadata": {},
   "outputs": [
    {
     "name": "stdout",
     "output_type": "stream",
     "text": [
      "0,0,0,0,0,0,0,0,0,0,1,1,1,1,1,1,1,1,1,1,1,1,1,1,1,1,1,1,1,1,1,1,1,1,1,1,1,1,1,1,1,1,1,1,1,1,1,1,1,1,1,1,1,1,1,1,1,1,1,1,1,1,1,1,1,1,1,1,1,1,1,1,1,1,1,1,1,1,1,1,1,"
     ]
    }
   ],
   "source": [
    "bin_representation_32_bits(2 ** 71 - 1, 80)"
   ]
  },
  {
   "cell_type": "code",
   "execution_count": 55,
   "id": "eff712b7",
   "metadata": {},
   "outputs": [
    {
     "name": "stdout",
     "output_type": "stream",
     "text": [
      "1,1,1,1,1,1,1,1,1,1,1,1,1,1,1,1,1,1,1,1,1,1,1,1,1,1,1,1,1,1,1,1,1,1,1,1,1,1,1,1,1,1,1,1,1,1,1,1,1,1,1,1,1,1,1,1,1,1,1,1,1,1,1,1,1,1,1,1,1,1,1,1,1,1,1,1,1,1,1,1,1,1,1,1,1,1,1,1,1,1,1,1,1,1,1,1,1,1,1,1,1,1,1,1,1,1,1,1,1,1,1,1,1,1,1,1,1,1,1,1,1,1,1,1,1,1,1,1,1,1,0,"
     ]
    }
   ],
   "source": [
    "bin_representation_32_bits(-2, 130)"
   ]
  },
  {
   "cell_type": "code",
   "execution_count": null,
   "id": "f9ad7007",
   "metadata": {},
   "outputs": [],
   "source": []
  }
 ],
 "metadata": {
  "kernelspec": {
   "display_name": "Python 3",
   "language": "python",
   "name": "python3"
  },
  "language_info": {
   "codemirror_mode": {
    "name": "ipython",
    "version": 3
   },
   "file_extension": ".py",
   "mimetype": "text/x-python",
   "name": "python",
   "nbconvert_exporter": "python",
   "pygments_lexer": "ipython3",
   "version": "3.7.3"
  }
 },
 "nbformat": 4,
 "nbformat_minor": 5
}
