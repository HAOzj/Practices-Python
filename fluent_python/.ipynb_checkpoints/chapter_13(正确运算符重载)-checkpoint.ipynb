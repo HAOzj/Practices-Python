{
 "cells": [
  {
   "cell_type": "markdown",
   "id": "27332c81",
   "metadata": {},
   "source": [
    "## 正确运算符重载\n",
    "\n",
    "- [运算符重载](#运算符重载)\n",
    "- .[运算符类型](#运算符类型)\n",
    "    - .[unary operator](#unary-operator)\n",
    "    - .[infix operator](#infix-operator)\n",
    "        - .[中缀运算符列表](#list)\n",
    "- .[正确重载向量加法运算符](#向量加法运算符)\n",
    "    - .[e.g. Array](#monkey)\n",
    "- .[正确重载向量乘法运算符](#mul)\n",
    "- .[众多比较运算符](#cmp)\n",
    "- .[增量赋值运算符](#增量)   \n",
    "    - .[不可变类型](#val)"
   ]
  },
  {
   "cell_type": "markdown",
   "id": "e149b841",
   "metadata": {},
   "source": [
    "#### 运算符重载\n",
    "\n",
    "- built-in类型不支持\n",
    "- 不能新建运算符\n",
    "- 部分运算符不能重载,比如 and, is, or, not"
   ]
  },
  {
   "cell_type": "markdown",
   "id": "f9a69c05",
   "metadata": {},
   "source": [
    "#### 运算符类型\n",
    "\n",
    "按照operands主要分为\n",
    "- unary operator 一元运算符,比如-(neg), +(pos), ~(invert)\n",
    "- infix operator 中缀运算符,比如+-(向量加减法), == > <等(比较运算符)和+= -=(增量赋值运算符)"
   ]
  },
  {
   "cell_type": "code",
   "execution_count": 1,
   "id": "03852e67",
   "metadata": {},
   "outputs": [
    {
     "name": "stdout",
     "output_type": "stream",
     "text": [
      "importing Jupyter notebook from chapter_10.ipynb\n"
     ]
    }
   ],
   "source": [
    "import import_ipynb\n",
    "from chapter_10 import Array"
   ]
  },
  {
   "cell_type": "markdown",
   "id": "46373e51",
   "metadata": {},
   "source": [
    "#### unary operator"
   ]
  },
  {
   "cell_type": "code",
   "execution_count": 2,
   "id": "41d1e906",
   "metadata": {},
   "outputs": [],
   "source": [
    "a = Array([1, 2])"
   ]
  },
  {
   "cell_type": "code",
   "execution_count": 3,
   "id": "43f5c468",
   "metadata": {},
   "outputs": [],
   "source": [
    "from functools import partial\n",
    "import math\n",
    "\n",
    "def power(base, n):\n",
    "    return base ** n\n",
    "\n",
    "square = partial(power, n=2)\n",
    "\n",
    "def array_abs(self):\n",
    "    return math.sqrt(sum(map(square, self)))\n",
    "\n",
    "\n",
    "def _neg(self):\n",
    "    return Array(-x for x in self)"
   ]
  },
  {
   "cell_type": "code",
   "execution_count": 4,
   "id": "75b61603",
   "metadata": {},
   "outputs": [
    {
     "data": {
      "text/plain": [
       "2.23606797749979"
      ]
     },
     "execution_count": 4,
     "metadata": {},
     "output_type": "execute_result"
    }
   ],
   "source": [
    "Array.__abs__ = array_abs\n",
    "\n",
    "\n",
    "abs(a)"
   ]
  },
  {
   "cell_type": "code",
   "execution_count": 5,
   "id": "63198a98",
   "metadata": {},
   "outputs": [],
   "source": [
    "#-a # TypeError: bad operand type for unary -: 'Array'"
   ]
  },
  {
   "cell_type": "code",
   "execution_count": 6,
   "id": "084f3374",
   "metadata": {},
   "outputs": [
    {
     "data": {
      "text/plain": [
       "Vector([-1.0, -2.0])"
      ]
     },
     "execution_count": 6,
     "metadata": {},
     "output_type": "execute_result"
    }
   ],
   "source": [
    "Array.__neg__ = _neg\n",
    "\n",
    "-a"
   ]
  },
  {
   "cell_type": "markdown",
   "id": "4103da14",
   "metadata": {},
   "source": [
    "#### infix operator\n",
    "\n",
    "中缀运算符,二元运算符,运算符位于两个operands中间"
   ]
  },
  {
   "cell_type": "markdown",
   "id": "54aea0b6",
   "metadata": {},
   "source": [
    "####  中缀运算符列表 <a id='list'></a>\n",
    "\n",
    "\n",
    "| 运算符 | dunder method| 解释|\n",
    "| --- | ---- | ---|\n",
    "| + | __add__ | 加法|\n",
    "| - | __sub__ | 减法|\n",
    "| * | __mul__| |\n",
    "| / | __truediv__ ||\n",
    "| // | __floordiv__ | |\n",
    "| % | __mod__ | |\n",
    "| divmod | __divmod__ | 返回整除的商和模组成的元组|\n",
    "| ** pow | __pow__ | 取幂|\n",
    "| @ | __matmul__| |\n",
    "| & | __and__ | |\n",
    "| \\| | __or__ | |\n",
    "| ^ | __xor__ | |\n",
    "| << | __lshift__ | 按位左移 |\n",
    "| >> | __rshift__ | 按位右移 | "
   ]
  },
  {
   "cell_type": "markdown",
   "id": "b6b61d2f",
   "metadata": {},
   "source": [
    "#### 向量加法运算符"
   ]
  },
  {
   "cell_type": "markdown",
   "id": "aaf343e9",
   "metadata": {},
   "source": [
    "#### 猴子补丁来定义__add__方法 <a id='monkey'></a>"
   ]
  },
  {
   "cell_type": "code",
   "execution_count": 7,
   "id": "28e57c90",
   "metadata": {},
   "outputs": [],
   "source": [
    "from itertools import zip_longest\n",
    "\n",
    "def vector_add(self, other):\n",
    "    pairs = zip_longest(self, other, fillvalue=0.0)\n",
    "    return Array(a+b for a, b in pairs)   \n",
    "\n",
    "\n",
    "Array.__add__ = vector_add"
   ]
  },
  {
   "cell_type": "code",
   "execution_count": 8,
   "id": "4d1d9cee",
   "metadata": {},
   "outputs": [
    {
     "data": {
      "text/plain": [
       "Vector([3.0, 5.0, 4.0])"
      ]
     },
     "execution_count": 8,
     "metadata": {},
     "output_type": "execute_result"
    }
   ],
   "source": [
    "a = Array([1, 2])\n",
    "\n",
    "b = Array([2, 3, 4])\n",
    "a + b"
   ]
  },
  {
   "cell_type": "code",
   "execution_count": 9,
   "id": "1bc836cb",
   "metadata": {},
   "outputs": [
    {
     "data": {
      "text/plain": [
       "Vector([2.1, 4.2])"
      ]
     },
     "execution_count": 9,
     "metadata": {},
     "output_type": "execute_result"
    }
   ],
   "source": [
    "a + [1.1, 2.2]"
   ]
  },
  {
   "cell_type": "markdown",
   "id": "48a6e373",
   "metadata": {},
   "source": [
    "#### radd方法\n",
    "\n",
    "right加法"
   ]
  },
  {
   "cell_type": "code",
   "execution_count": 10,
   "id": "9a4a24c4",
   "metadata": {},
   "outputs": [
    {
     "name": "stdout",
     "output_type": "stream",
     "text": [
      "importing Jupyter notebook from chapter_9.ipynb\n",
      "(3.0, 4.0)\n",
      "3.0\n",
      "4.0\n",
      "There are only two elements\n"
     ]
    },
    {
     "ename": "TypeError",
     "evalue": "unsupported operand type(s) for +: 'Array2D' and 'Array'",
     "output_type": "error",
     "traceback": [
      "\u001b[0;31m---------------------------------------------------------------------------\u001b[0m",
      "\u001b[0;31mTypeError\u001b[0m                                 Traceback (most recent call last)",
      "\u001b[0;32m<ipython-input-10-c66fd2d47718>\u001b[0m in \u001b[0;36m<module>\u001b[0;34m\u001b[0m\n\u001b[1;32m      2\u001b[0m \u001b[0mc\u001b[0m \u001b[0;34m=\u001b[0m \u001b[0mArray2D\u001b[0m\u001b[0;34m(\u001b[0m\u001b[0;36m3\u001b[0m\u001b[0;34m,\u001b[0m \u001b[0;36m4\u001b[0m\u001b[0;34m)\u001b[0m\u001b[0;34m\u001b[0m\u001b[0;34m\u001b[0m\u001b[0m\n\u001b[1;32m      3\u001b[0m \u001b[0;34m\u001b[0m\u001b[0m\n\u001b[0;32m----> 4\u001b[0;31m \u001b[0mc\u001b[0m \u001b[0;34m+\u001b[0m \u001b[0mb\u001b[0m \u001b[0;31m# Array2D的__add__方法没有实现\u001b[0m\u001b[0;34m\u001b[0m\u001b[0;34m\u001b[0m\u001b[0m\n\u001b[0m",
      "\u001b[0;31mTypeError\u001b[0m: unsupported operand type(s) for +: 'Array2D' and 'Array'"
     ]
    }
   ],
   "source": [
    "from chapter_9 import Array2D\n",
    "c = Array2D(3, 4)\n",
    "\n",
    "c + b # Array2D的__add__方法没有实现"
   ]
  },
  {
   "cell_type": "code",
   "execution_count": 11,
   "id": "3ce0174c",
   "metadata": {},
   "outputs": [
    {
     "data": {
      "text/plain": [
       "Vector([5.0, 7.0, 4.0])"
      ]
     },
     "execution_count": 11,
     "metadata": {},
     "output_type": "execute_result"
    }
   ],
   "source": [
    "def vector_radd(self, other):\n",
    "    return self + other\n",
    "\n",
    "Array.__radd__ = vector_add\n",
    "c + b  # 调用 b的__radd__方法"
   ]
  },
  {
   "cell_type": "markdown",
   "id": "48b0cf2e",
   "metadata": {},
   "source": [
    "#### 安全重载加法\n",
    "\n",
    "如果类型出错时,报错信息复杂无效"
   ]
  },
  {
   "cell_type": "code",
   "execution_count": 12,
   "id": "b63faac9",
   "metadata": {},
   "outputs": [
    {
     "ename": "TypeError",
     "evalue": "zip_longest argument #2 must support iteration",
     "output_type": "error",
     "traceback": [
      "\u001b[0;31m---------------------------------------------------------------------------\u001b[0m",
      "\u001b[0;31mTypeError\u001b[0m                                 Traceback (most recent call last)",
      "\u001b[0;32m<ipython-input-12-ca42ed42e993>\u001b[0m in \u001b[0;36m<module>\u001b[0;34m\u001b[0m\n\u001b[0;32m----> 1\u001b[0;31m \u001b[0ma\u001b[0m \u001b[0;34m+\u001b[0m \u001b[0;36m1\u001b[0m\u001b[0;34m\u001b[0m\u001b[0;34m\u001b[0m\u001b[0m\n\u001b[0m",
      "\u001b[0;32m<ipython-input-7-64410b8fe6fc>\u001b[0m in \u001b[0;36mvector_add\u001b[0;34m(self, other)\u001b[0m\n\u001b[1;32m      2\u001b[0m \u001b[0;34m\u001b[0m\u001b[0m\n\u001b[1;32m      3\u001b[0m \u001b[0;32mdef\u001b[0m \u001b[0mvector_add\u001b[0m\u001b[0;34m(\u001b[0m\u001b[0mself\u001b[0m\u001b[0;34m,\u001b[0m \u001b[0mother\u001b[0m\u001b[0;34m)\u001b[0m\u001b[0;34m:\u001b[0m\u001b[0;34m\u001b[0m\u001b[0;34m\u001b[0m\u001b[0m\n\u001b[0;32m----> 4\u001b[0;31m     \u001b[0mpairs\u001b[0m \u001b[0;34m=\u001b[0m \u001b[0mzip_longest\u001b[0m\u001b[0;34m(\u001b[0m\u001b[0mself\u001b[0m\u001b[0;34m,\u001b[0m \u001b[0mother\u001b[0m\u001b[0;34m,\u001b[0m \u001b[0mfillvalue\u001b[0m\u001b[0;34m=\u001b[0m\u001b[0;36m0.0\u001b[0m\u001b[0;34m)\u001b[0m\u001b[0;34m\u001b[0m\u001b[0;34m\u001b[0m\u001b[0m\n\u001b[0m\u001b[1;32m      5\u001b[0m     \u001b[0;32mreturn\u001b[0m \u001b[0mArray\u001b[0m\u001b[0;34m(\u001b[0m\u001b[0ma\u001b[0m\u001b[0;34m+\u001b[0m\u001b[0mb\u001b[0m \u001b[0;32mfor\u001b[0m \u001b[0ma\u001b[0m\u001b[0;34m,\u001b[0m \u001b[0mb\u001b[0m \u001b[0;32min\u001b[0m \u001b[0mpairs\u001b[0m\u001b[0;34m)\u001b[0m\u001b[0;34m\u001b[0m\u001b[0;34m\u001b[0m\u001b[0m\n\u001b[1;32m      6\u001b[0m \u001b[0;34m\u001b[0m\u001b[0m\n",
      "\u001b[0;31mTypeError\u001b[0m: zip_longest argument #2 must support iteration"
     ]
    }
   ],
   "source": [
    "a + 1"
   ]
  },
  {
   "cell_type": "code",
   "execution_count": 13,
   "id": "96f360d4",
   "metadata": {},
   "outputs": [
    {
     "ename": "TypeError",
     "evalue": "unsupported operand type(s) for +: 'Array' and 'int'",
     "output_type": "error",
     "traceback": [
      "\u001b[0;31m---------------------------------------------------------------------------\u001b[0m",
      "\u001b[0;31mTypeError\u001b[0m                                 Traceback (most recent call last)",
      "\u001b[0;32m<ipython-input-13-61d7ac4cc31e>\u001b[0m in \u001b[0;36m<module>\u001b[0;34m\u001b[0m\n\u001b[1;32m     11\u001b[0m \u001b[0;34m\u001b[0m\u001b[0m\n\u001b[1;32m     12\u001b[0m \u001b[0;34m\u001b[0m\u001b[0m\n\u001b[0;32m---> 13\u001b[0;31m \u001b[0ma\u001b[0m \u001b[0;34m+\u001b[0m \u001b[0;36m1\u001b[0m\u001b[0;34m\u001b[0m\u001b[0;34m\u001b[0m\u001b[0m\n\u001b[0m",
      "\u001b[0;31mTypeError\u001b[0m: unsupported operand type(s) for +: 'Array' and 'int'"
     ]
    }
   ],
   "source": [
    "def add_safe(self, other):\n",
    "    \"\"\"\"\"\"\n",
    "    try:\n",
    "        pairs = zip_longest(self, other, fillvalue=0.0)\n",
    "        return Array(pairs)\n",
    "    except TypeError:\n",
    "        return NotImplemented\n",
    "        \n",
    "        \n",
    "Array.__add__ = add_safe\n",
    "        \n",
    "        \n",
    "a + 1"
   ]
  },
  {
   "cell_type": "markdown",
   "id": "61d59883",
   "metadata": {},
   "source": [
    "### 乘法 <a id='mul'></a>\n",
    "\n",
    "$ \\text{__mul__}, \\text{__rmul__} $"
   ]
  },
  {
   "cell_type": "code",
   "execution_count": 14,
   "id": "d61569b5",
   "metadata": {},
   "outputs": [
    {
     "data": {
      "text/plain": [
       "Vector([3.0, 6.0])"
      ]
     },
     "execution_count": 14,
     "metadata": {},
     "output_type": "execute_result"
    }
   ],
   "source": [
    "def mul(self, other):\n",
    "    import numbers\n",
    "    if isinstance(other, numbers.Real):\n",
    "        return Array(x * other for x in self)\n",
    "    \n",
    "    \n",
    "Array.__mul__ = mul \n",
    "\n",
    "a * 3"
   ]
  },
  {
   "cell_type": "markdown",
   "id": "77046bec",
   "metadata": {},
   "source": [
    "### 众多比较运算符 <a id='cmp'></a>\n",
    "\n",
    "| 运算符 |dunder method | 说明|\n",
    "| --- | --- | ----|\n",
    "| == | __eq__ | |\n",
    "| != | __ne__ | |\n",
    "| > | __gt__ | |\n",
    "| >= | __ge__ | |\n",
    "| < | __lt__ | |\n",
    "| <= | __le__ | |\n"
   ]
  },
  {
   "cell_type": "code",
   "execution_count": 15,
   "id": "020cc65a",
   "metadata": {},
   "outputs": [
    {
     "data": {
      "text/plain": [
       "True"
      ]
     },
     "execution_count": 15,
     "metadata": {},
     "output_type": "execute_result"
    }
   ],
   "source": [
    "def array_eq(self, other):\n",
    "    if isinstance(other, Array):\n",
    "        return len(other) == len(self) and all(x == y for x, y in zip(self, other))\n",
    "    else:\n",
    "        return NotImplemented\n",
    "    \n",
    "    \n",
    "Array.__eq__ = array_eq\n",
    "\n",
    "a == Array([1, 2])"
   ]
  },
  {
   "cell_type": "code",
   "execution_count": 16,
   "id": "d5acb148",
   "metadata": {},
   "outputs": [
    {
     "data": {
      "text/plain": [
       "False"
      ]
     },
     "execution_count": 16,
     "metadata": {},
     "output_type": "execute_result"
    }
   ],
   "source": [
    "a == 2  # 调用__ne__方法,然后比较id"
   ]
  },
  {
   "cell_type": "markdown",
   "id": "c63d3aed",
   "metadata": {},
   "source": [
    "### 增量赋值 <a id='增量'></a>"
   ]
  },
  {
   "cell_type": "markdown",
   "id": "8fbc28ab",
   "metadata": {},
   "source": [
    "+=始终会新建对象 <a id='val'></a>"
   ]
  },
  {
   "cell_type": "code",
   "execution_count": 17,
   "id": "ee23c216",
   "metadata": {},
   "outputs": [
    {
     "data": {
      "text/plain": [
       "4361309456"
      ]
     },
     "execution_count": 17,
     "metadata": {},
     "output_type": "execute_result"
    }
   ],
   "source": [
    "tmp = 4\n",
    "id(tmp)"
   ]
  },
  {
   "cell_type": "code",
   "execution_count": 18,
   "id": "caf8ee72",
   "metadata": {},
   "outputs": [
    {
     "data": {
      "text/plain": [
       "4361309424"
      ]
     },
     "execution_count": 18,
     "metadata": {},
     "output_type": "execute_result"
    }
   ],
   "source": [
    "tmp -= 1\n",
    "id(tmp)"
   ]
  },
  {
   "cell_type": "code",
   "execution_count": 25,
   "id": "3f60267c",
   "metadata": {},
   "outputs": [
    {
     "name": "stdout",
     "output_type": "stream",
     "text": [
      "140548017497648 140548017497648\n"
     ]
    },
    {
     "data": {
      "text/plain": [
       "Vector([2.4, 2.6])"
      ]
     },
     "execution_count": 25,
     "metadata": {},
     "output_type": "execute_result"
    }
   ],
   "source": [
    "def array_iadd(self, other):\n",
    "    if isinstance(other, Array) and len(other) == len(self):\n",
    "        return Array(x + y for x, y in zip(self, other))\n",
    "    else:\n",
    "        return NotImplemented\n",
    "    \n",
    "Array.__iadd__ = array_iadd\n",
    "a1 = Array([1.2, 1.3])\n",
    "a1_alias = a1\n",
    "print(id(a1), id(a1_alias))\n",
    "\n",
    "a1 += a1 # 创建新的对象\n",
    "a1"
   ]
  },
  {
   "cell_type": "code",
   "execution_count": 26,
   "id": "1c1dfee7",
   "metadata": {},
   "outputs": [
    {
     "ename": "TypeError",
     "evalue": "unsupported operand type(s) for +=: 'Array' and 'int'",
     "output_type": "error",
     "traceback": [
      "\u001b[0;31m---------------------------------------------------------------------------\u001b[0m",
      "\u001b[0;31mTypeError\u001b[0m                                 Traceback (most recent call last)",
      "\u001b[0;32m<ipython-input-26-ae0e14770f02>\u001b[0m in \u001b[0;36m<module>\u001b[0;34m\u001b[0m\n\u001b[0;32m----> 1\u001b[0;31m \u001b[0ma\u001b[0m \u001b[0;34m+=\u001b[0m \u001b[0;36m2\u001b[0m\u001b[0;34m\u001b[0m\u001b[0;34m\u001b[0m\u001b[0m\n\u001b[0m",
      "\u001b[0;31mTypeError\u001b[0m: unsupported operand type(s) for +=: 'Array' and 'int'"
     ]
    }
   ],
   "source": [
    "a += 2"
   ]
  },
  {
   "cell_type": "code",
   "execution_count": 27,
   "id": "84a9ee27",
   "metadata": {},
   "outputs": [
    {
     "name": "stdout",
     "output_type": "stream",
     "text": [
      "140548017496528 140548017497648\n"
     ]
    }
   ],
   "source": [
    "print(id(a1), id(a1_alias))"
   ]
  },
  {
   "cell_type": "code",
   "execution_count": null,
   "id": "33801e7c",
   "metadata": {},
   "outputs": [],
   "source": []
  }
 ],
 "metadata": {
  "kernelspec": {
   "display_name": "Python 3",
   "language": "python",
   "name": "python3"
  },
  "language_info": {
   "codemirror_mode": {
    "name": "ipython",
    "version": 3
   },
   "file_extension": ".py",
   "mimetype": "text/x-python",
   "name": "python",
   "nbconvert_exporter": "python",
   "pygments_lexer": "ipython3",
   "version": "3.7.3"
  }
 },
 "nbformat": 4,
 "nbformat_minor": 5
}
