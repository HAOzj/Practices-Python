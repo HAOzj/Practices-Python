{
 "cells": [
  {
   "cell_type": "markdown",
   "id": "dc311248",
   "metadata": {},
   "source": [
    "## 继承的优缺点\n",
    "\n",
    "* [子类化内置类型](#subclass-built-in)\n",
    "* .[多重继承](#多重继承)\n",
    "* .[多重继承的真实应用](#多重继承的真实应用)"
   ]
  },
  {
   "cell_type": "markdown",
   "id": "326b9fbc",
   "metadata": {},
   "source": [
    "### 子类化内置类型很麻烦 <a id='subclass-built-in'></a>\n",
    "\n",
    "dict, list等内置类型的子类容易出错,因为内置类型的方法很容易忽略用户覆盖的方法.  \n",
    "\n",
    "我们可以继承UseDict来避免"
   ]
  },
  {
   "cell_type": "code",
   "execution_count": 11,
   "id": "0ec9059d",
   "metadata": {},
   "outputs": [
    {
     "name": "stdout",
     "output_type": "stream",
     "text": [
      "1\n"
     ]
    },
    {
     "data": {
      "text/plain": [
       "{'one': 1, 'two': [2, 2]}"
      ]
     },
     "execution_count": 11,
     "metadata": {},
     "output_type": "execute_result"
    }
   ],
   "source": [
    "class DoppelDict(dict):\n",
    "    def __setitem__(self, key, val):\n",
    "        super().__setitem__(key, [val] * 2)\n",
    "        \n",
    "        \n",
    "a = DoppelDict(one=1)\n",
    "print(a['one'])  # __init__并未调用子类的__setitem__\n",
    "a['two'] = 2 \n",
    "a"
   ]
  },
  {
   "cell_type": "code",
   "execution_count": 12,
   "id": "82fa6a13",
   "metadata": {},
   "outputs": [
    {
     "name": "stdout",
     "output_type": "stream",
     "text": [
      "[1, 1]\n"
     ]
    },
    {
     "data": {
      "text/plain": [
       "{'one': [1, 1], 'two': [2, 2]}"
      ]
     },
     "execution_count": 12,
     "metadata": {},
     "output_type": "execute_result"
    }
   ],
   "source": [
    "from collections import UserDict\n",
    "\n",
    "class DoppelDict2(UserDict):\n",
    "    def __setitem__(self, key, val):\n",
    "        super().__setitem__(key, [val] * 2)\n",
    "        \n",
    "        \n",
    "a = DoppelDict2(one=1)\n",
    "print(a['one'])\n",
    "a['two'] = 2 \n",
    "a"
   ]
  },
  {
   "cell_type": "markdown",
   "id": "d146b566",
   "metadata": {},
   "source": [
    "### 多重继承"
   ]
  },
  {
   "cell_type": "code",
   "execution_count": 1,
   "id": "30aa99cb",
   "metadata": {},
   "outputs": [
    {
     "name": "stdout",
     "output_type": "stream",
     "text": [
      "pong: <__main__.D object at 0x7fbbfdabb358>\n"
     ]
    }
   ],
   "source": [
    "class A:\n",
    "    def ping(self):\n",
    "        print('ping:', self)\n",
    "        \n",
    "\n",
    "class B(A):\n",
    "    def pong(self):\n",
    "        print('pong:', self)\n",
    "        \n",
    "class C(A):\n",
    "    def pong(self):\n",
    "        print('PONG:', self)\n",
    "        \n",
    "class D(B, C):\n",
    "    def ping(self):\n",
    "        super().ping()\n",
    "        print('post-ping:', self)\n",
    "        \n",
    "    def pingpong(self):\n",
    "        self.ping()  # \n",
    "        super().ping()\n",
    "        self.pong()\n",
    "        super().pong()\n",
    "        C.pong(self)\n",
    "        \n",
    "d = D()\n",
    "d.pong()"
   ]
  },
  {
   "cell_type": "code",
   "execution_count": 2,
   "id": "841989cf",
   "metadata": {},
   "outputs": [
    {
     "name": "stdout",
     "output_type": "stream",
     "text": [
      "PONG: <__main__.D object at 0x7fbbfdabb358>\n"
     ]
    }
   ],
   "source": [
    "# super依赖于mro,可以直接得用超类的方法\n",
    "C.pong(d)"
   ]
  },
  {
   "cell_type": "code",
   "execution_count": 3,
   "id": "ac9126bf",
   "metadata": {},
   "outputs": [
    {
     "data": {
      "text/plain": [
       "(__main__.D, __main__.B, __main__.C, __main__.A, object)"
      ]
     },
     "execution_count": 3,
     "metadata": {},
     "output_type": "execute_result"
    }
   ],
   "source": [
    "D.__mro__"
   ]
  },
  {
   "cell_type": "markdown",
   "id": "b219c756",
   "metadata": {},
   "source": [
    "### 多重继承的真实应用"
   ]
  },
  {
   "cell_type": "code",
   "execution_count": null,
   "id": "bf28ce26",
   "metadata": {},
   "outputs": [],
   "source": []
  }
 ],
 "metadata": {
  "kernelspec": {
   "display_name": "Python 3",
   "language": "python",
   "name": "python3"
  },
  "language_info": {
   "codemirror_mode": {
    "name": "ipython",
    "version": 3
   },
   "file_extension": ".py",
   "mimetype": "text/x-python",
   "name": "python",
   "nbconvert_exporter": "python",
   "pygments_lexer": "ipython3",
   "version": "3.7.3"
  }
 },
 "nbformat": 4,
 "nbformat_minor": 5
}
