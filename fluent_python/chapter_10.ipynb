{
 "cells": [
  {
   "cell_type": "markdown",
   "id": "bb570e3d",
   "metadata": {},
   "source": [
    "## 序列的修改,hashable和slice\n",
    "\n",
    "* .[类定义](#类定义)\n",
    "* .[序列属性](#支持序列属性)\n",
    "* .[自定义属性](#自定义属性)\n",
    "* .[hashable](#hashable)"
   ]
  },
  {
   "cell_type": "markdown",
   "id": "791e5b36",
   "metadata": {},
   "source": [
    "### 类定义"
   ]
  },
  {
   "cell_type": "code",
   "execution_count": 8,
   "id": "e6cd7a55",
   "metadata": {},
   "outputs": [],
   "source": [
    "import reprlib\n",
    "import functools\n",
    "import operator\n",
    "from array import array \n",
    "from numbers import Integral"
   ]
  },
  {
   "cell_type": "code",
   "execution_count": 68,
   "id": "314845e5",
   "metadata": {},
   "outputs": [],
   "source": [
    "\n",
    "\n",
    "class Array:\n",
    "    typecode = 'd'\n",
    "    shortcut_names = 'xyzt'\n",
    "    \n",
    "    def __init__(self, component):\n",
    "        self._components = array(self.typecode, component)\n",
    "    \n",
    "    def __len__(self):\n",
    "        return len(self._components)\n",
    "        \n",
    "    def __getitem__(self, pos):\n",
    "        \"\"\"when indice is slice, the return type is also Array\n",
    "        \"\"\"\n",
    "        cls = type(self)\n",
    "        if isinstance(pos, slice):\n",
    "            return cls(self._components[pos])\n",
    "        elif instance(pos, Integral):\n",
    "            return self._components[pos]\n",
    "        else:\n",
    "            raise TypeError(f'{cls.__name__} indices must be integers')\n",
    "\n",
    "    def __getattr__(self, attr):\n",
    "        cls = type(self)\n",
    "        if len(attr) == 1:\n",
    "            ind = cls.shortcut_names.find(attr)\n",
    "            if 0 <= ind < len(self):\n",
    "                return self._components[ind]\n",
    "        msg = '{cls.__name__} has not attribute {attr}'\n",
    "        raise AttributeError(msg.format(cls=cls, attr=attr))\n",
    "    \n",
    "    def __setattr__(self, name, value):\n",
    "        cls = type(self)\n",
    "        if len(name) == 1:\n",
    "            if name in cls.shortcut_names:\n",
    "                err = 'readonly attribute {attr_name}'\n",
    "            elif name.islower():\n",
    "                err = \"can't set attributes 'a' to 'z' in {cls_name}\"\n",
    "            else:\n",
    "                err = ''\n",
    "            \n",
    "            if err:\n",
    "                msg = err.format(attr_name=name, cls_name=cls.__name__)\n",
    "                raise AttributeError(msg)\n",
    "        super().__setattr__(name, value)\n",
    "      \n",
    "    # __eq__和__hash__使得hashable\n",
    "    def __eq__(self, other):\n",
    "        '''为什么&&不行,必须and呢?'''\n",
    "        return len(self) == len(other) and all(a==b for a, b in zip(self, other))\n",
    "    \n",
    "    def __hash__(self):\n",
    "        return functools.reduce(operator.xor, map(hash, self), 0)\n",
    "        \n",
    "    def __iter__(self):\n",
    "        return iter(self._components)\n",
    "    \n",
    "    def __bytes__(self):\n",
    "        return (bytes([ord(self.typecode)])) + bytes(array(self.typecode, self))\n",
    "    \n",
    "    def __repr__(self):\n",
    "        components = reprlib.repr(self._components) \n",
    "        components = components[components.find('['):-1] \n",
    "        return 'Vector({})'.format(components)\n",
    "    \n",
    "    def __abs__(self):\n",
    "        return math.sqrt(sum([x ** 2 for x in self]))\n",
    "    \n",
    "    def __bool__(self):\n",
    "        return not abs(self) == 0\n",
    "\n",
    "    @classmethod\n",
    "    def frombytes(cls, bytes):\n",
    "        typecode = chr(bytes[0])\n",
    "        memv = memoryview(bytes[1:]).cast(typecode)\n",
    "        return cls(*memv)"
   ]
  },
  {
   "cell_type": "code",
   "execution_count": 69,
   "id": "72ecc10e",
   "metadata": {},
   "outputs": [
    {
     "data": {
      "text/plain": [
       "Vector([0.0, 1.0, 2.0, 3.0, 4.0, ...])"
      ]
     },
     "execution_count": 69,
     "metadata": {},
     "output_type": "execute_result"
    }
   ],
   "source": [
    "vector = Array(range(10))\n",
    "vector"
   ]
  },
  {
   "cell_type": "markdown",
   "id": "028a8dcf",
   "metadata": {},
   "source": [
    "#### 序列属性\n",
    "需要定义\\_\\_len\\_\\_和\\_\\_getitem\\_\\_,后者需要支持slice类"
   ]
  },
  {
   "cell_type": "code",
   "execution_count": 70,
   "id": "ae27209f",
   "metadata": {},
   "outputs": [
    {
     "data": {
      "text/plain": [
       "Vector([2.0, 3.0, 4.0])"
      ]
     },
     "execution_count": 70,
     "metadata": {},
     "output_type": "execute_result"
    }
   ],
   "source": [
    "vector2 = vector[2:5]\n",
    "vector2"
   ]
  },
  {
   "cell_type": "markdown",
   "id": "f0a2f58c",
   "metadata": {},
   "source": [
    "#### 自定义属性\n",
    "\n",
    "需要定义\\_\\_getattr\\_\\_和\\_\\_setattr\\_\\_,后者用来防止行为不一致,比如语法中赋值了x,但是取值还是原值"
   ]
  },
  {
   "cell_type": "code",
   "execution_count": 71,
   "id": "2475b9aa",
   "metadata": {},
   "outputs": [
    {
     "data": {
      "text/plain": [
       "4.0"
      ]
     },
     "execution_count": 71,
     "metadata": {},
     "output_type": "execute_result"
    }
   ],
   "source": [
    "vector2.z"
   ]
  },
  {
   "cell_type": "code",
   "execution_count": 72,
   "id": "6da06f87",
   "metadata": {},
   "outputs": [
    {
     "data": {
      "text/plain": [
       "3.0"
      ]
     },
     "execution_count": 72,
     "metadata": {},
     "output_type": "execute_result"
    }
   ],
   "source": [
    "vector.t"
   ]
  },
  {
   "cell_type": "code",
   "execution_count": 73,
   "id": "7b16f6ea",
   "metadata": {},
   "outputs": [
    {
     "ename": "AttributeError",
     "evalue": "Array has not attribute t",
     "output_type": "error",
     "traceback": [
      "\u001b[0;31m---------------------------------------------------------------------------\u001b[0m",
      "\u001b[0;31mAttributeError\u001b[0m                            Traceback (most recent call last)",
      "\u001b[0;32m<ipython-input-73-726898ebc459>\u001b[0m in \u001b[0;36m<module>\u001b[0;34m\u001b[0m\n\u001b[0;32m----> 1\u001b[0;31m \u001b[0mvector2\u001b[0m\u001b[0;34m.\u001b[0m\u001b[0mt\u001b[0m\u001b[0;34m\u001b[0m\u001b[0;34m\u001b[0m\u001b[0m\n\u001b[0m",
      "\u001b[0;32m<ipython-input-68-cadaedd15243>\u001b[0m in \u001b[0;36m__getattr__\u001b[0;34m(self, attr)\u001b[0m\n\u001b[1;32m     30\u001b[0m                 \u001b[0;32mreturn\u001b[0m \u001b[0mself\u001b[0m\u001b[0;34m.\u001b[0m\u001b[0m_components\u001b[0m\u001b[0;34m[\u001b[0m\u001b[0mind\u001b[0m\u001b[0;34m]\u001b[0m\u001b[0;34m\u001b[0m\u001b[0;34m\u001b[0m\u001b[0m\n\u001b[1;32m     31\u001b[0m         \u001b[0mmsg\u001b[0m \u001b[0;34m=\u001b[0m \u001b[0;34m'{cls.__name__} has not attribute {attr}'\u001b[0m\u001b[0;34m\u001b[0m\u001b[0;34m\u001b[0m\u001b[0m\n\u001b[0;32m---> 32\u001b[0;31m         \u001b[0;32mraise\u001b[0m \u001b[0mAttributeError\u001b[0m\u001b[0;34m(\u001b[0m\u001b[0mmsg\u001b[0m\u001b[0;34m.\u001b[0m\u001b[0mformat\u001b[0m\u001b[0;34m(\u001b[0m\u001b[0mcls\u001b[0m\u001b[0;34m=\u001b[0m\u001b[0mcls\u001b[0m\u001b[0;34m,\u001b[0m \u001b[0mattr\u001b[0m\u001b[0;34m=\u001b[0m\u001b[0mattr\u001b[0m\u001b[0;34m)\u001b[0m\u001b[0;34m)\u001b[0m\u001b[0;34m\u001b[0m\u001b[0;34m\u001b[0m\u001b[0m\n\u001b[0m\u001b[1;32m     33\u001b[0m \u001b[0;34m\u001b[0m\u001b[0m\n\u001b[1;32m     34\u001b[0m     \u001b[0;32mdef\u001b[0m \u001b[0m__setattr__\u001b[0m\u001b[0;34m(\u001b[0m\u001b[0mself\u001b[0m\u001b[0;34m,\u001b[0m \u001b[0mname\u001b[0m\u001b[0;34m,\u001b[0m \u001b[0mvalue\u001b[0m\u001b[0;34m)\u001b[0m\u001b[0;34m:\u001b[0m\u001b[0;34m\u001b[0m\u001b[0;34m\u001b[0m\u001b[0m\n",
      "\u001b[0;31mAttributeError\u001b[0m: Array has not attribute t"
     ]
    }
   ],
   "source": [
    "# vector2.t   # AttributeError: Array has not attribute t"
   ]
  },
  {
   "cell_type": "code",
   "execution_count": 74,
   "id": "27c179c6",
   "metadata": {},
   "outputs": [
    {
     "ename": "AttributeError",
     "evalue": "readonly attribute x",
     "output_type": "error",
     "traceback": [
      "\u001b[0;31m---------------------------------------------------------------------------\u001b[0m",
      "\u001b[0;31mAttributeError\u001b[0m                            Traceback (most recent call last)",
      "\u001b[0;32m<ipython-input-74-8de21d093642>\u001b[0m in \u001b[0;36m<module>\u001b[0;34m\u001b[0m\n\u001b[0;32m----> 1\u001b[0;31m \u001b[0mvector2\u001b[0m\u001b[0;34m.\u001b[0m\u001b[0mx\u001b[0m \u001b[0;34m=\u001b[0m \u001b[0;36m1\u001b[0m\u001b[0;34m\u001b[0m\u001b[0;34m\u001b[0m\u001b[0m\n\u001b[0m",
      "\u001b[0;32m<ipython-input-68-cadaedd15243>\u001b[0m in \u001b[0;36m__setattr__\u001b[0;34m(self, name, value)\u001b[0m\n\u001b[1;32m     44\u001b[0m             \u001b[0;32mif\u001b[0m \u001b[0merr\u001b[0m\u001b[0;34m:\u001b[0m\u001b[0;34m\u001b[0m\u001b[0;34m\u001b[0m\u001b[0m\n\u001b[1;32m     45\u001b[0m                 \u001b[0mmsg\u001b[0m \u001b[0;34m=\u001b[0m \u001b[0merr\u001b[0m\u001b[0;34m.\u001b[0m\u001b[0mformat\u001b[0m\u001b[0;34m(\u001b[0m\u001b[0mattr_name\u001b[0m\u001b[0;34m=\u001b[0m\u001b[0mname\u001b[0m\u001b[0;34m,\u001b[0m \u001b[0mcls_name\u001b[0m\u001b[0;34m=\u001b[0m\u001b[0mcls\u001b[0m\u001b[0;34m.\u001b[0m\u001b[0m__name__\u001b[0m\u001b[0;34m)\u001b[0m\u001b[0;34m\u001b[0m\u001b[0;34m\u001b[0m\u001b[0m\n\u001b[0;32m---> 46\u001b[0;31m                 \u001b[0;32mraise\u001b[0m \u001b[0mAttributeError\u001b[0m\u001b[0;34m(\u001b[0m\u001b[0mmsg\u001b[0m\u001b[0;34m)\u001b[0m\u001b[0;34m\u001b[0m\u001b[0;34m\u001b[0m\u001b[0m\n\u001b[0m\u001b[1;32m     47\u001b[0m         \u001b[0msuper\u001b[0m\u001b[0;34m(\u001b[0m\u001b[0;34m)\u001b[0m\u001b[0;34m.\u001b[0m\u001b[0m__setattr__\u001b[0m\u001b[0;34m(\u001b[0m\u001b[0mname\u001b[0m\u001b[0;34m,\u001b[0m \u001b[0mvalue\u001b[0m\u001b[0;34m)\u001b[0m\u001b[0;34m\u001b[0m\u001b[0;34m\u001b[0m\u001b[0m\n\u001b[1;32m     48\u001b[0m \u001b[0;34m\u001b[0m\u001b[0m\n",
      "\u001b[0;31mAttributeError\u001b[0m: readonly attribute x"
     ]
    }
   ],
   "source": [
    "# vector2.x = 1   # AttributeError: readonly attribute x"
   ]
  },
  {
   "cell_type": "markdown",
   "id": "84d4e222",
   "metadata": {},
   "source": [
    "### hashable\n",
    "需要定义\\_\\_eq\\_\\_ 和\\_\\_hash\\_\\_"
   ]
  },
  {
   "cell_type": "code",
   "execution_count": 75,
   "id": "9b1041bf",
   "metadata": {},
   "outputs": [
    {
     "data": {
      "text/plain": [
       "Vector([2.0, 3.0, 4.0])"
      ]
     },
     "execution_count": 75,
     "metadata": {},
     "output_type": "execute_result"
    }
   ],
   "source": [
    "vector22 = Array(range(2, 5))\n",
    "vector22"
   ]
  },
  {
   "cell_type": "code",
   "execution_count": 76,
   "id": "ecfd12c7",
   "metadata": {},
   "outputs": [
    {
     "data": {
      "text/plain": [
       "Vector([2.0, 3.0, 4.0])"
      ]
     },
     "execution_count": 76,
     "metadata": {},
     "output_type": "execute_result"
    }
   ],
   "source": [
    "vector2"
   ]
  },
  {
   "cell_type": "code",
   "execution_count": 77,
   "id": "25d6bda7",
   "metadata": {},
   "outputs": [
    {
     "data": {
      "text/plain": [
       "True"
      ]
     },
     "execution_count": 77,
     "metadata": {},
     "output_type": "execute_result"
    }
   ],
   "source": [
    "vector2 == vector22"
   ]
  },
  {
   "cell_type": "code",
   "execution_count": 82,
   "id": "c541ce73",
   "metadata": {},
   "outputs": [
    {
     "data": {
      "text/plain": [
       "5"
      ]
     },
     "execution_count": 82,
     "metadata": {},
     "output_type": "execute_result"
    }
   ],
   "source": [
    "hash(vector2)"
   ]
  },
  {
   "cell_type": "code",
   "execution_count": null,
   "id": "39ff11ab",
   "metadata": {},
   "outputs": [],
   "source": []
  }
 ],
 "metadata": {
  "kernelspec": {
   "display_name": "Python 3 (ipykernel)",
   "language": "python",
   "name": "python3"
  },
  "language_info": {
   "codemirror_mode": {
    "name": "ipython",
    "version": 3
   },
   "file_extension": ".py",
   "mimetype": "text/x-python",
   "name": "python",
   "nbconvert_exporter": "python",
   "pygments_lexer": "ipython3",
   "version": "3.9.6"
  }
 },
 "nbformat": 4,
 "nbformat_minor": 5
}
