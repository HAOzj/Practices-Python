{
 "cells": [
  {
   "cell_type": "markdown",
   "id": "8fdfc28c",
   "metadata": {},
   "source": [
    "# 可迭代对象,迭代器和生成器\n",
    "\n",
    "   - .[sentence第一版](#sentence第一版)\n",
    "   - .[iterable and iterator](#iterable-and-iterator)\n",
    "        * .[iterable](#iterable)\n",
    "        * .[iterator](#iterator)\n",
    "   - .[SentenceV2:典型的迭代器](#v2)\n",
    "   - .[SentenceV3:生成器函数](#v3)\n",
    "   - .[SentenceV4:惰性实现](#v4)\n",
    "   - .[SentenceV5:生成器表达式](#v5)\n",
    "   - .[生成器表达式](#expr)\n",
    "   - .[等差数列生成器](#dcsl)\n",
    "   - .[标准库中的生成器函数](#std)"
   ]
  },
  {
   "cell_type": "markdown",
   "id": "71c993bf",
   "metadata": {},
   "source": [
    "## sentence第一版"
   ]
  },
  {
   "cell_type": "code",
   "execution_count": 3,
   "id": "63daa76e",
   "metadata": {},
   "outputs": [],
   "source": [
    "import re \n",
    "import reprlib\n",
    "\n",
    "RE_WORD = re.compile('\\w+')\n",
    "\n",
    "class Sentence:    \n",
    "    def __init__(self, text):\n",
    "        self.text = text\n",
    "        self.words = RE_WORD.findall(text)\n",
    "    \n",
    "    def __getitem__(self, pos):\n",
    "        return self.words[pos]\n",
    "    \n",
    "    def __len__(self):\n",
    "        '''为了完善序列协议'''\n",
    "        return len(self.words)\n",
    "    \n",
    "    def __repr__(self):\n",
    "        return 'Sentence(%s)' % self.text"
   ]
  },
  {
   "cell_type": "code",
   "execution_count": 9,
   "id": "d3053c46",
   "metadata": {},
   "outputs": [
    {
     "data": {
      "text/plain": [
       "<__main__.Sentence at 0x7fa23b8bfe80>"
      ]
     },
     "execution_count": 9,
     "metadata": {},
     "output_type": "execute_result"
    }
   ],
   "source": [
    "s = Sentence('\"The time has come,\" the Walrus said')\n",
    "s"
   ]
  },
  {
   "cell_type": "code",
   "execution_count": 10,
   "id": "a25a52b2",
   "metadata": {},
   "outputs": [
    {
     "name": "stdout",
     "output_type": "stream",
     "text": [
      "The\n",
      "time\n",
      "has\n",
      "come\n",
      "the\n",
      "Walrus\n",
      "said\n"
     ]
    }
   ],
   "source": [
    "for word in s:\n",
    "    print(word)"
   ]
  },
  {
   "cell_type": "code",
   "execution_count": 13,
   "id": "7916ae0e",
   "metadata": {},
   "outputs": [
    {
     "ename": "TypeError",
     "evalue": "'Sentence' object is not subscriptable",
     "output_type": "error",
     "traceback": [
      "\u001b[0;31m---------------------------------------------------------------------------\u001b[0m",
      "\u001b[0;31mTypeError\u001b[0m                                 Traceback (most recent call last)",
      "\u001b[0;32m<ipython-input-13-76c3dce40054>\u001b[0m in \u001b[0;36m<module>\u001b[0;34m\u001b[0m\n\u001b[0;32m----> 1\u001b[0;31m \u001b[0ms\u001b[0m\u001b[0;34m[\u001b[0m\u001b[0;34m-\u001b[0m\u001b[0;36m1\u001b[0m\u001b[0;34m]\u001b[0m\u001b[0;34m\u001b[0m\u001b[0;34m\u001b[0m\u001b[0m\n\u001b[0m",
      "\u001b[0;31mTypeError\u001b[0m: 'Sentence' object is not subscriptable"
     ]
    }
   ],
   "source": [
    "s[-1]"
   ]
  },
  {
   "cell_type": "code",
   "execution_count": 12,
   "id": "5a460812",
   "metadata": {},
   "outputs": [
    {
     "data": {
      "text/plain": [
       "['The', 'time', 'has', 'come', 'the', 'Walrus', 'said']"
      ]
     },
     "execution_count": 12,
     "metadata": {},
     "output_type": "execute_result"
    }
   ],
   "source": [
    "list(s)"
   ]
  },
  {
   "cell_type": "markdown",
   "id": "9ce497ae",
   "metadata": {},
   "source": [
    "## iterable and iterator"
   ]
  },
  {
   "cell_type": "markdown",
   "id": "f828dcfe",
   "metadata": {},
   "source": [
    "### iterable\n",
    "可以用iter()函数获取迭代器的对象\n",
    "\n",
    "### iter函数 \n",
    "先调用$__iter__$;如果没有则调用$__getitem__$,从0开始"
   ]
  },
  {
   "cell_type": "markdown",
   "id": "a0df1f25",
   "metadata": {},
   "source": [
    "### iterator\n",
    "\n",
    "实现了无参数的$__next__$方法,返回序列中的下一个元素;如果没有则raise StopIteration\n",
    "\n",
    "\n",
    "iterator要实现$__next__和__iter__$方法"
   ]
  },
  {
   "cell_type": "markdown",
   "id": "4da49590",
   "metadata": {},
   "source": [
    "## SentenceV2:典型的迭代器 <a id='v2'></a>"
   ]
  },
  {
   "cell_type": "code",
   "execution_count": 8,
   "id": "b1ea44a3",
   "metadata": {},
   "outputs": [],
   "source": [
    "class Sentence:\n",
    "    def __init__(self, text):\n",
    "        self.text = text\n",
    "        self.words = RE_WORD.findall(text)\n",
    "        \n",
    "    def __iter__(self):\n",
    "        '''返回一个迭代器'''\n",
    "        return SentenceIterator(self.words)\n",
    "    \n",
    "class SentenceIterator:\n",
    "    def __init__(self, words):\n",
    "        self.words = words\n",
    "        self.index = 0\n",
    "        \n",
    "    def __next__(self):\n",
    "        try:\n",
    "            word = self.words[self.index]\n",
    "        except IndexError:\n",
    "            raise StopIteration\n",
    "        self.index += 1\n",
    "        return word\n",
    "    \n",
    "    def __iter__(self):\n",
    "        '''返回迭代器本身'''\n",
    "        return self"
   ]
  },
  {
   "cell_type": "markdown",
   "id": "4138a7de",
   "metadata": {},
   "source": [
    "不要给Sentence实现$__next__$方法,因为iterable要支持多种遍历,也就是支持从一个iterable实例中获取多个独立的iterator"
   ]
  },
  {
   "cell_type": "markdown",
   "id": "306505ee",
   "metadata": {},
   "source": [
    "## SentenceV3:生成器函数 <a id='v3'></a>"
   ]
  },
  {
   "cell_type": "code",
   "execution_count": 14,
   "id": "4455638d",
   "metadata": {},
   "outputs": [],
   "source": [
    "class Sentence:\n",
    "    def __init__(self, text):\n",
    "        self.text = text\n",
    "        self.words = RE_WORD.findall(text)\n",
    "        \n",
    "    def __iter__(self):\n",
    "        '''返回一个迭代器'''\n",
    "        for word in self.words:\n",
    "            yield word \n",
    "        "
   ]
  },
  {
   "cell_type": "code",
   "execution_count": 26,
   "id": "2986a23c",
   "metadata": {},
   "outputs": [],
   "source": [
    "def gen_123():\n",
    "    print('hello') # 创建实例时并不触发\n",
    "    yield '1' # 隐式调用next\n",
    "    print('world')\n",
    "    yield '2'\n",
    "    print('bye')\n",
    "    yield '3'\n",
    "    \n",
    "\n",
    "g = gen_123()"
   ]
  },
  {
   "cell_type": "code",
   "execution_count": 27,
   "id": "c4ff18bf",
   "metadata": {},
   "outputs": [
    {
     "name": "stdout",
     "output_type": "stream",
     "text": [
      "hello\n",
      "1\n",
      "world\n",
      "2\n",
      "bye\n",
      "3\n"
     ]
    }
   ],
   "source": [
    "# for机制的作用与g=iter(gen_123())一样,用于获取生成器对象\n",
    "for a in g:\n",
    "    print(a)"
   ]
  },
  {
   "cell_type": "code",
   "execution_count": 28,
   "id": "3e5c2d7c",
   "metadata": {},
   "outputs": [
    {
     "name": "stdout",
     "output_type": "stream",
     "text": [
      "hello\n"
     ]
    }
   ],
   "source": [
    "def def_1():\n",
    "    print('hello')\n",
    "    return 1\n",
    "\n",
    "d = def_1()"
   ]
  },
  {
   "cell_type": "code",
   "execution_count": 29,
   "id": "1abc34a9",
   "metadata": {},
   "outputs": [
    {
     "data": {
      "text/plain": [
       "1"
      ]
     },
     "execution_count": 29,
     "metadata": {},
     "output_type": "execute_result"
    }
   ],
   "source": [
    "d"
   ]
  },
  {
   "cell_type": "markdown",
   "id": "3f1713e8",
   "metadata": {},
   "source": [
    "## SentenceV4:惰性实现 <a id='v4'></a>\n",
    "\n",
    "lazy evaluation和eager evaluation相对,之前的版本急切得构建了文本中的单词列表,然后绑定到self.words属性上.列表使用的内存可能和文本一样多,而有些使用场景可能只需要查看前几个单词"
   ]
  },
  {
   "cell_type": "code",
   "execution_count": 30,
   "id": "4b51a985",
   "metadata": {},
   "outputs": [],
   "source": [
    "class Sentence:\n",
    "    def __init__(self, text):\n",
    "        self.text = text\n",
    "        \n",
    "    def __iter__(self):\n",
    "        '''返回一个迭代器'''\n",
    "        for match in RE_WORD.finditer(self.text):\n",
    "            yield match.group() "
   ]
  },
  {
   "cell_type": "code",
   "execution_count": 31,
   "id": "935d8bf1",
   "metadata": {},
   "outputs": [
    {
     "name": "stdout",
     "output_type": "stream",
     "text": [
      "The\n",
      "time\n",
      "has\n",
      "come\n",
      "the\n",
      "Walrus\n",
      "said\n"
     ]
    }
   ],
   "source": [
    "s = Sentence('\"The time has come,\" the Walrus said')\n",
    "for word in s:\n",
    "    print(word)"
   ]
  },
  {
   "cell_type": "markdown",
   "id": "db24f7fe",
   "metadata": {},
   "source": [
    "## SentenceV5:生成器表达式 <a id='v5'></a>\n",
    "\n",
    "用生成器表达式 (xx for xx in xxx)来代替生成器函数"
   ]
  },
  {
   "cell_type": "code",
   "execution_count": 32,
   "id": "012e1d2e",
   "metadata": {},
   "outputs": [],
   "source": [
    "class Sentence:\n",
    "    def __init__(self, text):\n",
    "        self.text = text\n",
    "        \n",
    "    def __iter__(self):\n",
    "        '''返回一个迭代器'''\n",
    "        return (match.group() for match in RE_WORD.finditer(self.text))\n"
   ]
  },
  {
   "cell_type": "code",
   "execution_count": 33,
   "id": "cee4b071",
   "metadata": {},
   "outputs": [
    {
     "name": "stdout",
     "output_type": "stream",
     "text": [
      "The\n",
      "time\n",
      "has\n",
      "come\n",
      "the\n",
      "Walrus\n",
      "said\n"
     ]
    }
   ],
   "source": [
    "s = Sentence('\"The time has come,\" the Walrus said')\n",
    "for word in s:\n",
    "    print(word)"
   ]
  },
  {
   "cell_type": "markdown",
   "id": "e5b30b62",
   "metadata": {},
   "source": [
    "## 生成器表达式  <a id='expr'></a>  \n",
    "\n",
    "如果函数只有一个参数时,不用多()  \n",
    "如果一行写不完,最好使用生成器函数,提高readibility\n"
   ]
  },
  {
   "cell_type": "markdown",
   "id": "25ea6703",
   "metadata": {},
   "source": [
    "## 等差数列生成器 <a id='dcsl'></a>"
   ]
  },
  {
   "cell_type": "code",
   "execution_count": 35,
   "id": "9ef6f061",
   "metadata": {},
   "outputs": [
    {
     "name": "stdout",
     "output_type": "stream",
     "text": [
      "1\n",
      "4/3\n",
      "5/3\n"
     ]
    }
   ],
   "source": [
    "class ArithmeticProgression:\n",
    "    def __init__(self, begin, step, end=None):\n",
    "        self.begin = begin\n",
    "        self.step = step \n",
    "        self.end = end # end -> 无穷数列\n",
    "    \n",
    "    def __iter__(self):\n",
    "        result = type(self.begin + self.step)(self.begin)\n",
    "        forever = self.end is None \n",
    "        index = 0 \n",
    "        while forever or result < self.end:\n",
    "            yield result \n",
    "            index += 1\n",
    "            result = self.begin + index * self.step # 不increment result是为了处理float时累计致错的风险\n",
    "            \n",
    "\n",
    "from fractions import Fraction\n",
    "ap = ArithmeticProgression(1, Fraction(1, 3), 2)\n",
    "for x in ap:\n",
    "    print(x)        "
   ]
  },
  {
   "cell_type": "code",
   "execution_count": 36,
   "id": "61cca6f9",
   "metadata": {},
   "outputs": [
    {
     "data": {
      "text/plain": [
       "Fraction(1, 1)"
      ]
     },
     "execution_count": 36,
     "metadata": {},
     "output_type": "execute_result"
    }
   ],
   "source": [
    "def aritprog_gen(begin, step, end=None):\n",
    "    result = type(begin + step)(begin)\n",
    "    forever = end is None\n",
    "    index = 0\n",
    "    while forever or result < end:\n",
    "        yield result\n",
    "        index += 1\n",
    "        result = begin + step * index\n",
    "        \n",
    "\n",
    "ap = aritprog_gen(1, Fraction(1, 3), 2)\n",
    "next(ap)"
   ]
  },
  {
   "cell_type": "code",
   "execution_count": 37,
   "id": "282a9685",
   "metadata": {},
   "outputs": [
    {
     "data": {
      "text/plain": [
       "Fraction(4, 3)"
      ]
     },
     "execution_count": 37,
     "metadata": {},
     "output_type": "execute_result"
    }
   ],
   "source": [
    "next(ap)"
   ]
  },
  {
   "cell_type": "code",
   "execution_count": 38,
   "id": "03a5672b",
   "metadata": {},
   "outputs": [
    {
     "data": {
      "text/plain": [
       "Fraction(5, 3)"
      ]
     },
     "execution_count": 38,
     "metadata": {},
     "output_type": "execute_result"
    }
   ],
   "source": [
    "next(ap)"
   ]
  },
  {
   "cell_type": "code",
   "execution_count": 39,
   "id": "fd6d1d17",
   "metadata": {},
   "outputs": [
    {
     "ename": "StopIteration",
     "evalue": "",
     "output_type": "error",
     "traceback": [
      "\u001b[0;31m---------------------------------------------------------------------------\u001b[0m",
      "\u001b[0;31mStopIteration\u001b[0m                             Traceback (most recent call last)",
      "\u001b[0;32m<ipython-input-39-32ebcd82b1ec>\u001b[0m in \u001b[0;36m<module>\u001b[0;34m\u001b[0m\n\u001b[0;32m----> 1\u001b[0;31m \u001b[0mnext\u001b[0m\u001b[0;34m(\u001b[0m\u001b[0map\u001b[0m\u001b[0;34m)\u001b[0m\u001b[0;34m\u001b[0m\u001b[0;34m\u001b[0m\u001b[0m\n\u001b[0m",
      "\u001b[0;31mStopIteration\u001b[0m: "
     ]
    }
   ],
   "source": [
    "next(ap)"
   ]
  },
  {
   "cell_type": "code",
   "execution_count": 40,
   "id": "7e610057",
   "metadata": {},
   "outputs": [
    {
     "data": {
      "text/plain": [
       "1"
      ]
     },
     "execution_count": 40,
     "metadata": {},
     "output_type": "execute_result"
    }
   ],
   "source": [
    "import itertools\n",
    "gen = itertools.count(1, .5)  # 从不停止\n",
    "next(gen)"
   ]
  },
  {
   "cell_type": "code",
   "execution_count": 41,
   "id": "c28f9a2c",
   "metadata": {},
   "outputs": [
    {
     "data": {
      "text/plain": [
       "1.5"
      ]
     },
     "execution_count": 41,
     "metadata": {},
     "output_type": "execute_result"
    }
   ],
   "source": [
    "next(gen)"
   ]
  },
  {
   "cell_type": "code",
   "execution_count": 42,
   "id": "6132eef7",
   "metadata": {},
   "outputs": [
    {
     "data": {
      "text/plain": [
       "2.0"
      ]
     },
     "execution_count": 42,
     "metadata": {},
     "output_type": "execute_result"
    }
   ],
   "source": [
    "next(gen)"
   ]
  },
  {
   "cell_type": "code",
   "execution_count": 44,
   "id": "7f498ee9",
   "metadata": {},
   "outputs": [
    {
     "data": {
      "text/plain": [
       "[1, 1.5, 2.0, 2.5]"
      ]
     },
     "execution_count": 44,
     "metadata": {},
     "output_type": "execute_result"
    }
   ],
   "source": [
    "gen = itertools.takewhile(lambda n: n < 3, itertools.count(1, .5)) # 用takewhile来停止\n",
    "list(gen)"
   ]
  },
  {
   "cell_type": "markdown",
   "id": "fbaa86bc",
   "metadata": {},
   "source": [
    "## 标准库中的生成器函数 <a id='std'></a>"
   ]
  },
  {
   "cell_type": "code",
   "execution_count": null,
   "id": "e8f8c360",
   "metadata": {},
   "outputs": [],
   "source": []
  }
 ],
 "metadata": {
  "kernelspec": {
   "display_name": "Python 3 (ipykernel)",
   "language": "python",
   "name": "python3"
  },
  "language_info": {
   "codemirror_mode": {
    "name": "ipython",
    "version": 3
   },
   "file_extension": ".py",
   "mimetype": "text/x-python",
   "name": "python",
   "nbconvert_exporter": "python",
   "pygments_lexer": "ipython3",
   "version": "3.9.6"
  }
 },
 "nbformat": 4,
 "nbformat_minor": 5
}
