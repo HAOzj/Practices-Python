{
 "cells": [
  {
   "cell_type": "markdown",
   "id": "0fa70595",
   "metadata": {},
   "source": [
    "#### 符合python风格的对象\n",
    "* .[显示](#显示)\n",
    "    - [repr](#repr)\n",
    "    - [str](#str)\n",
    "    - [format](#format)\n",
    "* .[用bytes来重建](#用bytes来重建)"
   ]
  },
  {
   "cell_type": "code",
   "execution_count": 1,
   "id": "21c4992d",
   "metadata": {},
   "outputs": [],
   "source": [
    "from array import array\n",
    "import math"
   ]
  },
  {
   "cell_type": "code",
   "execution_count": 2,
   "id": "1ebfd601",
   "metadata": {},
   "outputs": [],
   "source": [
    "class Array2D:\n",
    "    typecode = 'd'\n",
    "    __slots__ = ('__x', '__y', '__weakref__', '__index') # other attributes are not allowed\n",
    "    \n",
    "    def __init__(self, x, y):\n",
    "        self.__x = float(x)\n",
    "        self.__y = float(y)\n",
    "\n",
    "    @property\n",
    "    def x(self):\n",
    "        # user property to avoid redefining self.__x to ensure the instance is hashable\n",
    "        return self.__x\n",
    "    \n",
    "    @property\n",
    "    def y(self):\n",
    "        return self.__y\n",
    "\n",
    "    def __eq__(self, other):\n",
    "        if self.x == other.x and self.y == other.y:\n",
    "            return True\n",
    "        return False\n",
    "\n",
    "    def __hash__(self):\n",
    "        return hash(self.x) ^ hash(self.y)\n",
    "\n",
    "    def __iter__(self):\n",
    "        self.__index = 0\n",
    "#         return (i for i in (self.x, self.y))\n",
    "        yield self.x; yield self.y\n",
    "    \n",
    "    def __next__(self):\n",
    "        self.__index += 1\n",
    "        if self.__index == 1:\n",
    "            return self.x \n",
    "        elif self.__index == 2:\n",
    "            return self.y\n",
    "        else:\n",
    "            raise StopIteration('There are only two elements')\n",
    "\n",
    "    def __str__(self):\n",
    "        return '({!r}, {!r})'.format(*self)\n",
    "    \n",
    "    def __repr__(self):\n",
    "        # 如果fmt_spec中不指定0, 1, 2会报\n",
    "        # ValueError: cannot switch from automatic field numbering to manual field specification\n",
    "        class_name = type(self).__name__\n",
    "        return '{0:}({1:0.3f}, {2:0.3f})'.format(class_name, *self)  \n",
    "    \n",
    "    def __bytes__(self):\n",
    "        return (bytes([ord(self.typecode)])) + bytes(array(self.typecode, self))\n",
    "    \n",
    "    def __format__(self, fmt_spec: str):\n",
    "        # polar coordination\n",
    "        if fmt_spec.endswith('p'): \n",
    "            outer_fmt = '<{}, {}>'\n",
    "            fmt_spec = fmt_spec[:-1]\n",
    "            coords = (abs(self), self.angle())\n",
    "        else:\n",
    "            outer_fmt = '({}, {})'\n",
    "            coords = self\n",
    "        components = (format(c, fmt_spec) for c in coords)\n",
    "        return outer_fmt.format(*components)\n",
    "    \n",
    "    def __abs__(self):\n",
    "        ret = 0\n",
    "        for i in self:\n",
    "            ret += i ** 2\n",
    "        return math.sqrt(ret)\n",
    "    \n",
    "    def angle(self):\n",
    "        return math.atan2(self.y, self.x)\n",
    "    \n",
    "    def __bool__(self):\n",
    "        if abs(self) == 0:\n",
    "            return False \n",
    "        return True\n",
    "\n",
    "    @classmethod\n",
    "    def frombytes(cls, bytes):\n",
    "        typecode = chr(bytes[0])\n",
    "        memv = memoryview(bytes[1:]).cast(typecode)\n",
    "        return cls(*memv)"
   ]
  },
  {
   "cell_type": "code",
   "execution_count": 3,
   "id": "efaf0f00",
   "metadata": {},
   "outputs": [],
   "source": [
    "v2 = Array2D(3, 4)\n"
   ]
  },
  {
   "cell_type": "markdown",
   "id": "6e1a4bfe",
   "metadata": {},
   "source": [
    "#### 显示\n",
    "  \n"
   ]
  },
  {
   "cell_type": "markdown",
   "id": "2fe1aa24",
   "metadata": {},
   "source": [
    "##### \\_\\_repr\\_\\_   <a name='repr'></a>\n",
    "开发者调试用"
   ]
  },
  {
   "cell_type": "code",
   "execution_count": 4,
   "id": "5b3b168b",
   "metadata": {},
   "outputs": [
    {
     "data": {
      "text/plain": [
       "Array2D(3.000, 4.000)"
      ]
     },
     "execution_count": 4,
     "metadata": {},
     "output_type": "execute_result"
    }
   ],
   "source": [
    "v2 # 调用__repr__"
   ]
  },
  {
   "cell_type": "markdown",
   "id": "50fba723",
   "metadata": {},
   "source": [
    "##### \\_\\_str\\_\\_   <a id='str'></a>\n",
    "输出用"
   ]
  },
  {
   "cell_type": "code",
   "execution_count": 5,
   "id": "adbc34eb",
   "metadata": {},
   "outputs": [
    {
     "name": "stdout",
     "output_type": "stream",
     "text": [
      "(3.0, 4.0)\n"
     ]
    }
   ],
   "source": [
    "print(v2) # 调用__str__"
   ]
  },
  {
   "cell_type": "code",
   "execution_count": 6,
   "id": "98afae44",
   "metadata": {},
   "outputs": [
    {
     "name": "stdout",
     "output_type": "stream",
     "text": [
      "3.0\n",
      "4.0\n",
      "There are only two elements\n"
     ]
    }
   ],
   "source": [
    "try: \n",
    "    while True:\n",
    "        print(next(v2))\n",
    "except StopIteration as err:\n",
    "    print(err)"
   ]
  },
  {
   "cell_type": "code",
   "execution_count": 7,
   "id": "1316a6c1",
   "metadata": {},
   "outputs": [
    {
     "data": {
      "text/plain": [
       "5.0"
      ]
     },
     "execution_count": 7,
     "metadata": {},
     "output_type": "execute_result"
    }
   ],
   "source": [
    "abs(v2)"
   ]
  },
  {
   "cell_type": "code",
   "execution_count": 8,
   "id": "33daf05f",
   "metadata": {},
   "outputs": [
    {
     "data": {
      "text/plain": [
       "True"
      ]
     },
     "execution_count": 8,
     "metadata": {},
     "output_type": "execute_result"
    }
   ],
   "source": [
    "bool(v2)"
   ]
  },
  {
   "cell_type": "markdown",
   "id": "5861836a",
   "metadata": {},
   "source": [
    "##### \\_\\_format\\_\\_ <a name='format'></a>\n",
    "用来支持format(my_obj, format_spec)"
   ]
  },
  {
   "cell_type": "code",
   "execution_count": 9,
   "id": "d2e83d4f",
   "metadata": {},
   "outputs": [
    {
     "data": {
      "text/plain": [
       "'<  5.000   ,   0.927   >'"
      ]
     },
     "execution_count": 9,
     "metadata": {},
     "output_type": "execute_result"
    }
   ],
   "source": [
    "format(v2, '^10.3fp') # 调用__format__方法,如果没定义则继承__str__方法"
   ]
  },
  {
   "cell_type": "code",
   "execution_count": 10,
   "id": "03e66395",
   "metadata": {},
   "outputs": [
    {
     "data": {
      "text/plain": [
       "'(3.000e+00, 4.000e+00)'"
      ]
     },
     "execution_count": 10,
     "metadata": {},
     "output_type": "execute_result"
    }
   ],
   "source": [
    "format(v2, '.3e')"
   ]
  },
  {
   "cell_type": "markdown",
   "id": "2def83c0",
   "metadata": {},
   "source": [
    "## 用bytes来重建"
   ]
  },
  {
   "cell_type": "code",
   "execution_count": 11,
   "id": "946f65e9",
   "metadata": {},
   "outputs": [
    {
     "data": {
      "text/plain": [
       "b'd\\x00\\x00\\x00\\x00\\x00\\x00\\x08@\\x00\\x00\\x00\\x00\\x00\\x00\\x10@'"
      ]
     },
     "execution_count": 11,
     "metadata": {},
     "output_type": "execute_result"
    }
   ],
   "source": [
    "c = bytes(v2) # 调用__bytes__\n",
    "c"
   ]
  },
  {
   "cell_type": "code",
   "execution_count": 12,
   "id": "77fa8c4c",
   "metadata": {},
   "outputs": [
    {
     "data": {
      "text/plain": [
       "True"
      ]
     },
     "execution_count": 12,
     "metadata": {},
     "output_type": "execute_result"
    }
   ],
   "source": [
    "a = Array2D.frombytes(c)\n",
    "a == v2 # 调用__eq__"
   ]
  },
  {
   "cell_type": "code",
   "execution_count": 13,
   "id": "70d2e5b4",
   "metadata": {},
   "outputs": [
    {
     "data": {
      "text/plain": [
       "False"
      ]
     },
     "execution_count": 13,
     "metadata": {},
     "output_type": "execute_result"
    }
   ],
   "source": [
    "a is v2 # compare id "
   ]
  },
  {
   "cell_type": "code",
   "execution_count": 14,
   "id": "99bb18a3",
   "metadata": {},
   "outputs": [
    {
     "data": {
      "text/plain": [
       "Array2D(3.000, 4.000)"
      ]
     },
     "execution_count": 14,
     "metadata": {},
     "output_type": "execute_result"
    }
   ],
   "source": [
    "a"
   ]
  },
  {
   "cell_type": "code",
   "execution_count": 15,
   "id": "572cff81",
   "metadata": {},
   "outputs": [
    {
     "data": {
      "text/plain": [
       "7"
      ]
     },
     "execution_count": 15,
     "metadata": {},
     "output_type": "execute_result"
    }
   ],
   "source": [
    "hash(a)"
   ]
  },
  {
   "cell_type": "code",
   "execution_count": 16,
   "id": "bdd0f4a3",
   "metadata": {},
   "outputs": [
    {
     "data": {
      "text/plain": [
       "__main__.Array2D"
      ]
     },
     "execution_count": 16,
     "metadata": {},
     "output_type": "execute_result"
    }
   ],
   "source": [
    "type(a)"
   ]
  },
  {
   "cell_type": "code",
   "execution_count": null,
   "id": "d01366e5",
   "metadata": {},
   "outputs": [],
   "source": []
  }
 ],
 "metadata": {
  "kernelspec": {
   "display_name": "Python 3",
   "language": "python",
   "name": "python3"
  },
  "language_info": {
   "codemirror_mode": {
    "name": "ipython",
    "version": 3
   },
   "file_extension": ".py",
   "mimetype": "text/x-python",
   "name": "python",
   "nbconvert_exporter": "python",
   "pygments_lexer": "ipython3",
   "version": "3.7.3"
  }
 },
 "nbformat": 4,
 "nbformat_minor": 5
}
