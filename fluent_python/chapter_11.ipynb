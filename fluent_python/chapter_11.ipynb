{
 "cells": [
  {
   "cell_type": "markdown",
   "id": "5150bb60",
   "metadata": {},
   "source": [
    "### 接口: 从协议到抽象基类\n",
    "\n",
    "* .[猴子补丁](#猴子补丁)\n",
    "* .[抽象基类](#abc)\n",
    "    - .[静态接口](#check)\n",
    "    - .[虚拟子类](#虚拟子类)\n",
    "    - .[mro](#mro)"
   ]
  },
  {
   "cell_type": "markdown",
   "id": "78ee1591",
   "metadata": {},
   "source": [
    "#### 猴子补丁\n",
    "\n",
    "动态得定义类的属性,比如为了使得FrenchDeck有shuffle功能,定义\\_\\_setitem\\_\\_来继承可变序列的属性"
   ]
  },
  {
   "cell_type": "code",
   "execution_count": 38,
   "id": "09f162a8",
   "metadata": {},
   "outputs": [],
   "source": [
    "class FrenchDeck:\n",
    "    suits = 'spade heart diamond club'.split()\n",
    "    ranks = list(range(2, 11)) + list('JQKA')\n",
    "    def __init__(self):\n",
    "        self._cards = [(rank, suit)   for suit in self.suits\n",
    "                                       for rank in self.ranks]\n",
    "        \n",
    "    def __getitem__(self, pos):\n",
    "        return self._cards[pos]\n",
    "    \n",
    "    def __len__(self):\n",
    "        return len(self._cards)"
   ]
  },
  {
   "cell_type": "code",
   "execution_count": 39,
   "id": "b7007b87",
   "metadata": {},
   "outputs": [],
   "source": [
    "def set_item(fd: FrenchDeck, pos: int, val):\n",
    "    fd._cards[pos] = val \n",
    "    \n",
    "\n",
    "FrenchDeck.__setitem__ = set_item"
   ]
  },
  {
   "cell_type": "code",
   "execution_count": 40,
   "id": "6f4c47e8",
   "metadata": {},
   "outputs": [
    {
     "data": {
      "text/plain": [
       "[(2, 'spade'), (3, 'spade'), (4, 'spade'), (5, 'spade'), (6, 'spade')]"
      ]
     },
     "execution_count": 40,
     "metadata": {},
     "output_type": "execute_result"
    }
   ],
   "source": [
    "fd = FrenchDeck()\n",
    "fd[:5]"
   ]
  },
  {
   "cell_type": "code",
   "execution_count": 41,
   "id": "d0870da4",
   "metadata": {},
   "outputs": [
    {
     "data": {
      "text/plain": [
       "[(2, 'spade'), (2, 'heart'), (2, 'diamond'), (2, 'club')]"
      ]
     },
     "execution_count": 41,
     "metadata": {},
     "output_type": "execute_result"
    }
   ],
   "source": [
    "fd[:50:13]"
   ]
  },
  {
   "cell_type": "code",
   "execution_count": 42,
   "id": "c430f9fe",
   "metadata": {},
   "outputs": [
    {
     "data": {
      "text/plain": [
       "[(7, 'heart'),\n",
       " ('Q', 'diamond'),\n",
       " ('K', 'diamond'),\n",
       " (7, 'diamond'),\n",
       " (5, 'spade')]"
      ]
     },
     "execution_count": 42,
     "metadata": {},
     "output_type": "execute_result"
    }
   ],
   "source": [
    "from random import shuffle\n",
    "shuffle(fd)\n",
    "fd[:50:12]"
   ]
  },
  {
   "cell_type": "markdown",
   "id": "69fa7497",
   "metadata": {},
   "source": [
    "### 自定义抽象基类 <a id='abc'></a>\n",
    "\n",
    "\n",
    "抽象基类Abstract Base Classes,主要是用于制定一套接口规范.\n",
    "\n",
    "用abstractmethod来定义接口,子类必须包含相关方法.这些是抽象基类的静态接口.\n",
    "同时也有动态特性: 虚拟子类"
   ]
  },
  {
   "cell_type": "code",
   "execution_count": 59,
   "id": "f26e546a",
   "metadata": {},
   "outputs": [],
   "source": [
    "import abc\n",
    "\n",
    "\n",
    "class Tombola(abc.ABC):\n",
    "    @abc.abstractmethod\n",
    "    def load(self, iterables):\n",
    "        \"\"\"从可迭代对象中添加元素\"\"\"\n",
    "    \n",
    "    @abc.abstractmethod\n",
    "    def pick(self):\n",
    "        \"\"\"随机删除元素,然后将其返回\n",
    "        \n",
    "        如果实例为空,抛出LookupError\n",
    "        \"\"\"\n",
    "        \n",
    "    def loaded(self):\n",
    "        \"\"\"如果至少有一个元素,返回True\"\"\"\n",
    "        return bool(self.inspect())\n",
    "    \n",
    "    def inspect(self):\n",
    "        \"\"\"返回一个有序元祖,由当前元素组成\"\"\"\n",
    "        items = []\n",
    "        while True:\n",
    "            try:\n",
    "                item.append(self.pick())\n",
    "            except LookupError:\n",
    "                break \n",
    "        self.load(items)\n",
    "        return tuple(sorted(items))"
   ]
  },
  {
   "cell_type": "markdown",
   "id": "553538c6",
   "metadata": {},
   "source": [
    "####  静态接口 <a id='check'></a>\n",
    "\n",
    "实例化时检查子类是否符合抽象基类的接口"
   ]
  },
  {
   "cell_type": "code",
   "execution_count": 60,
   "id": "de07555f",
   "metadata": {},
   "outputs": [
    {
     "ename": "TypeError",
     "evalue": "Can't instantiate abstract class Fake with abstract methods load",
     "output_type": "error",
     "traceback": [
      "\u001b[0;31m---------------------------------------------------------------------------\u001b[0m",
      "\u001b[0;31mTypeError\u001b[0m                                 Traceback (most recent call last)",
      "\u001b[0;32m<ipython-input-60-ec88e9c5f36a>\u001b[0m in \u001b[0;36m<module>\u001b[0;34m\u001b[0m\n\u001b[1;32m      4\u001b[0m \u001b[0;34m\u001b[0m\u001b[0m\n\u001b[1;32m      5\u001b[0m \u001b[0;34m\u001b[0m\u001b[0m\n\u001b[0;32m----> 6\u001b[0;31m \u001b[0mfake\u001b[0m \u001b[0;34m=\u001b[0m \u001b[0mFake\u001b[0m\u001b[0;34m(\u001b[0m\u001b[0;34m)\u001b[0m\u001b[0;34m\u001b[0m\u001b[0;34m\u001b[0m\u001b[0m\n\u001b[0m",
      "\u001b[0;31mTypeError\u001b[0m: Can't instantiate abstract class Fake with abstract methods load"
     ]
    }
   ],
   "source": [
    "class Fake(Tombola):\n",
    "    def pick(self):\n",
    "        return 13\n",
    "    \n",
    "    \n",
    "fake = Fake()"
   ]
  },
  {
   "cell_type": "code",
   "execution_count": 66,
   "id": "b2c96472",
   "metadata": {},
   "outputs": [
    {
     "name": "stdout",
     "output_type": "stream",
     "text": [
      "b\n"
     ]
    },
    {
     "data": {
      "text/plain": [
       "'c'"
      ]
     },
     "execution_count": 66,
     "metadata": {},
     "output_type": "execute_result"
    }
   ],
   "source": [
    "import random \n",
    "\n",
    "\n",
    "class BingoCage(Tombola):\n",
    "    def __init__(self, items):\n",
    "        self._randomizer = random.SystemRandom()\n",
    "        self._items = []\n",
    "        self.load(items)\n",
    "        \n",
    "    def load(self, items):\n",
    "        self._items.extend(items)\n",
    "        self._randomizer.shuffle(self._items)\n",
    "        \n",
    "    def pick(self):\n",
    "        try:\n",
    "            return self._items.pop()\n",
    "        except IndexError:\n",
    "            raise LookupError('pick from empty BingoCage')\n",
    "    \n",
    "    def __call__(self):\n",
    "        return self.pick()\n",
    "  \n",
    "\n",
    "\n",
    "haha = BingoCage(list('abc'))\n",
    "print(haha())\n",
    "haha.pick()"
   ]
  },
  {
   "cell_type": "code",
   "execution_count": 67,
   "id": "c10278b2",
   "metadata": {},
   "outputs": [
    {
     "name": "stdout",
     "output_type": "stream",
     "text": [
      "True\n"
     ]
    },
    {
     "data": {
      "text/plain": [
       "2"
      ]
     },
     "execution_count": 67,
     "metadata": {},
     "output_type": "execute_result"
    }
   ],
   "source": [
    "class LotteryBlower(Tombola):\n",
    "    def __init__(self, iterables):\n",
    "        self._balls = list(iterables)\n",
    "        \n",
    "    def load(self, iterables):\n",
    "        self._balls.extend(iterables)\n",
    "        \n",
    "    def pick(self):\n",
    "        try:\n",
    "            pos = random.randrange(len(self._balls))\n",
    "        except ValueError:\n",
    "            raise LookupError('pick from empty LotteryBlower')\n",
    "        return self._balls.pop(pos)\n",
    "    \n",
    "    def loaded(self):\n",
    "        return bool(self._balls)\n",
    "    \n",
    "    def inspect(self):\n",
    "        return tuple(sorted(self._balls))\n",
    "    \n",
    "    \n",
    "xixi = LotteryBlower(range(3))\n",
    "print(issubclass(LotteryBlower, Tombola))\n",
    "xixi.pick()"
   ]
  },
  {
   "cell_type": "markdown",
   "id": "1f0f415e",
   "metadata": {},
   "source": [
    "#### 虚拟子类\n",
    "\n",
    "在子类上加装饰器\n",
    "不继承基类接口,也不检查是否符合接口.但是issubclass和isinstance能识别"
   ]
  },
  {
   "cell_type": "code",
   "execution_count": 81,
   "id": "eb28f2a3",
   "metadata": {},
   "outputs": [
    {
     "data": {
      "text/plain": [
       "True"
      ]
     },
     "execution_count": 81,
     "metadata": {},
     "output_type": "execute_result"
    }
   ],
   "source": [
    "@Tombola.register\n",
    "class TomboList(list):\n",
    "    def pick(self):\n",
    "        if self:\n",
    "            pos = random.randrange(len(self))\n",
    "            return self.pop(pos)\n",
    "        else:\n",
    "            raise LookupError('pick from empty TomboList')\n",
    "        \n",
    "    load = list.extend\n",
    "    \n",
    "    def loaded(self):\n",
    "        return bool(self)\n",
    "    \n",
    "    def inspect(self):\n",
    "        return tuple(sorted(self))\n",
    "    \n",
    "\n",
    "t = TomboList(range(10))\n",
    "isinstance(t, Tombola)"
   ]
  },
  {
   "cell_type": "markdown",
   "id": "a13f4cf7",
   "metadata": {},
   "source": [
    "#### mro\n",
    "\n",
    "Method Resolution Order,按顺序列出类及其超类"
   ]
  },
  {
   "cell_type": "code",
   "execution_count": 70,
   "id": "2efd6b71",
   "metadata": {},
   "outputs": [
    {
     "data": {
      "text/plain": [
       "(__main__.TomboList, list, object)"
      ]
     },
     "execution_count": 70,
     "metadata": {},
     "output_type": "execute_result"
    }
   ],
   "source": [
    "TomboList.__mro__"
   ]
  },
  {
   "cell_type": "code",
   "execution_count": 72,
   "id": "77fdb162",
   "metadata": {},
   "outputs": [
    {
     "data": {
      "text/plain": [
       "[__main__.Fake, __main__.BingoCage, __main__.LotteryBlower]"
      ]
     },
     "execution_count": 72,
     "metadata": {},
     "output_type": "execute_result"
    }
   ],
   "source": [
    "Tombola.__subclasses__()"
   ]
  },
  {
   "cell_type": "code",
   "execution_count": 82,
   "id": "045d1964",
   "metadata": {},
   "outputs": [
    {
     "data": {
      "text/plain": [
       "<_abc_data at 0x7fa826c40f00>"
      ]
     },
     "execution_count": 82,
     "metadata": {},
     "output_type": "execute_result"
    }
   ],
   "source": [
    "Tombola._abc_"
   ]
  },
  {
   "cell_type": "code",
   "execution_count": null,
   "id": "d2ef0bc9",
   "metadata": {},
   "outputs": [],
   "source": []
  }
 ],
 "metadata": {
  "kernelspec": {
   "display_name": "Python 3",
   "language": "python",
   "name": "python3"
  },
  "language_info": {
   "codemirror_mode": {
    "name": "ipython",
    "version": 3
   },
   "file_extension": ".py",
   "mimetype": "text/x-python",
   "name": "python",
   "nbconvert_exporter": "python",
   "pygments_lexer": "ipython3",
   "version": "3.7.3"
  }
 },
 "nbformat": 4,
 "nbformat_minor": 5
}
