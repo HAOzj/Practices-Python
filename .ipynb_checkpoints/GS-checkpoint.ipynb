{
 "cells": [
  {
   "cell_type": "code",
   "execution_count": 15,
   "id": "8d92519d",
   "metadata": {},
   "outputs": [],
   "source": [
    "from collections import deque\n",
    "\n",
    "\n",
    "def pref_to_rank(pref):\n",
    "    return {\n",
    "        a: {b: idx for idx, b in enumerate(a_pref)}\n",
    "        for a, a_pref in pref.items()\n",
    "    }\n",
    "\n",
    "\n",
    "def gale_shapley(A, B, A_pref, B_pref):\n",
    "    \"\"\"Create a stable matching using the\n",
    "    Gale-Shapley algorithm.\n",
    "    \n",
    "    Args:\n",
    "        A(set): customer list\n",
    "        B(set): banker list\n",
    "        A_pref(dict[str, list[str]]): customer preference list\n",
    "        B_pref(dict[str, list[str]]): banker preference list\n",
    "\n",
    "    Return: \n",
    "        list of (a, b) pairs.\n",
    "    \"\"\"\n",
    "    B_rank = pref_to_rank(B_pref)\n",
    "    ask_list = {a: deque(bs) for a, bs in A_pref.items()}\n",
    "    pair = {}\n",
    "    remaining_A = set(A)\n",
    "    \n",
    "    while len(remaining_A) > 0:\n",
    "        a = remaining_A.pop()\n",
    "        b = ask_list[a].popleft()\n",
    "        if b not in pair:\n",
    "            pair[b] = a\n",
    "        else:\n",
    "            a0 = pair[b]\n",
    "            b_prefer_a0 = B_rank[b][a0] < B_rank[b][a]\n",
    "            if b_prefer_a0:\n",
    "                remaining_A.add(a)\n",
    "            else:\n",
    "                remaining_A.add(a0)\n",
    "                pair[b] = a\n",
    "    \n",
    "    return [(a, b) for b, a in pair.items()]"
   ]
  },
  {
   "cell_type": "code",
   "execution_count": 9,
   "id": "0014639b",
   "metadata": {},
   "outputs": [],
   "source": [
    "a = ['hzj', 'wbb']\n",
    "\n",
    "a2b = {\n",
    "    \"hzj\": ['程序员', '算法'],\n",
    "    'wbb': ['血液内', 'hated', '市二院']\n",
    "}\n",
    "\n",
    "res = []"
   ]
  },
  {
   "cell_type": "code",
   "execution_count": 10,
   "id": "a6df7238",
   "metadata": {},
   "outputs": [
    {
     "name": "stdout",
     "output_type": "stream",
     "text": [
      "血液内\n",
      "程序员\n",
      "算法\n"
     ]
    },
    {
     "data": {
      "text/plain": [
       "'hzj'"
      ]
     },
     "execution_count": 10,
     "metadata": {},
     "output_type": "execute_result"
    }
   ],
   "source": [
    "while a:\n",
    "    ele = a.pop()\n",
    "    for b in a2b[ele]:\n",
    "        if b == 'hated':\n",
    "            break\n",
    "        print(b)\n",
    "    else:\n",
    "        res.append(ele)\n",
    "\n",
    "ele"
   ]
  },
  {
   "cell_type": "code",
   "execution_count": 11,
   "id": "1ba03250",
   "metadata": {},
   "outputs": [
    {
     "data": {
      "text/plain": [
       "2"
      ]
     },
     "execution_count": 11,
     "metadata": {},
     "output_type": "execute_result"
    }
   ],
   "source": [
    "import math\n",
    "math.ceil(5/ 3)"
   ]
  },
  {
   "cell_type": "code",
   "execution_count": 30,
   "id": "85f60ae5",
   "metadata": {},
   "outputs": [
    {
     "data": {
      "text/plain": [
       "[1, 2, 3, 3.5]"
      ]
     },
     "execution_count": 30,
     "metadata": {},
     "output_type": "execute_result"
    }
   ],
   "source": [
    "from functools import reduce\n",
    "\n",
    "a = [[1, 2], [3, 3.5]]\n",
    "reduce(lambda x,y: x + y, a)"
   ]
  },
  {
   "cell_type": "code",
   "execution_count": 31,
   "id": "f4bc5bcf",
   "metadata": {},
   "outputs": [],
   "source": [
    "def multiply_banker(bankers: list, banker_capacity: dict):\n",
    "    return reduce(lambda x, y: x + y, [[b] * banker_capacity[b] for b in bankers])"
   ]
  },
  {
   "cell_type": "code",
   "execution_count": 36,
   "id": "a5677eae",
   "metadata": {},
   "outputs": [],
   "source": [
    "def gale_shapley_1vn(custs, bankers, cust_pref, banker_pref, banker_capacity=None):\n",
    "    \"\"\"Create a stable matching using the Gale-Shapley algorithm and allowing for the capacity of each b\n",
    "\n",
    "    Args:\n",
    "        custs(set): customer list\n",
    "        bankers(set): banker list\n",
    "        cust_pref(dict[str, list[str]]): customer preference list\n",
    "        banker_pref(dict[str, list[str]]): banker preference list\n",
    "        banker_capacity(dict[str, int]): banker capacity, how\n",
    "\n",
    "    Return:\n",
    "        list of (cust, b) pairs.\n",
    "    \"\"\"\n",
    "    if banker_capacity is None:\n",
    "        split_evenly = math.ceil(len(custs) / len(bankers))\n",
    "        banker_capacity = {b: split_evenly for b in bankers}\n",
    "        \n",
    "    B_rank = pref_to_rank(banker_pref)\n",
    "    ask_list = {cust: deque(multiply_banker(bs, banker_capacity)) for cust, bs in cust_pref.items()}\n",
    "    pair = {}\n",
    "    remaining_cust = set(custs)\n",
    "\n",
    "    while remaining_cust:\n",
    "        cust = remaining_cust.pop()\n",
    "        b = ask_list[cust].popleft()\n",
    "        if b not in pair:\n",
    "            pair[b] = [cust]\n",
    "        elif len(pair[b]) < banker_capacity[b]:\n",
    "                pair[b].append(cust)\n",
    "        else:\n",
    "            for cust0 in pair[b]:\n",
    "                b_prefer_cust = B_rank[b][cust0] > B_rank[b][cust]\n",
    "                if b_prefer_cust:\n",
    "                    pair[b].remove(cust0)\n",
    "                    pair[b].append(cust)\n",
    "                    remaining_cust.add(cust0)\n",
    "                    break\n",
    "            else:\n",
    "                remaining_cust.add(cust)\n",
    "#         print(cust, \"来配对\")     \n",
    "#         print(pair)\n",
    "#         print(remaining_cust)\n",
    "#         print(ask_list)\n",
    "\n",
    "    return [(cust, b) for b, cust in pair.items()]"
   ]
  },
  {
   "cell_type": "code",
   "execution_count": 39,
   "id": "35961fcc",
   "metadata": {},
   "outputs": [
    {
     "name": "stdout",
     "output_type": "stream",
     "text": [
      "banker_capacity is  {'杨幂': 2, 'hzj': 2}\n",
      "八戒 来配对\n",
      "{'杨幂': ['八戒']}\n",
      "{'悟空', '白龙马', '沙僧'}\n",
      "{'悟空': deque(['杨幂', '杨幂', 'hzj', 'hzj']), '白龙马': deque(['杨幂', '杨幂', 'hzj', 'hzj']), '沙僧': deque(['hzj', 'hzj', '杨幂', '杨幂']), '八戒': deque(['杨幂', 'hzj', 'hzj'])}\n",
      "悟空 来配对\n",
      "{'杨幂': ['八戒', '悟空']}\n",
      "{'白龙马', '沙僧'}\n",
      "{'悟空': deque(['杨幂', 'hzj', 'hzj']), '白龙马': deque(['杨幂', '杨幂', 'hzj', 'hzj']), '沙僧': deque(['hzj', 'hzj', '杨幂', '杨幂']), '八戒': deque(['杨幂', 'hzj', 'hzj'])}\n",
      "白龙马 来配对\n",
      "{'杨幂': ['八戒', '悟空']}\n",
      "{'白龙马', '沙僧'}\n",
      "{'悟空': deque(['杨幂', 'hzj', 'hzj']), '白龙马': deque(['杨幂', 'hzj', 'hzj']), '沙僧': deque(['hzj', 'hzj', '杨幂', '杨幂']), '八戒': deque(['杨幂', 'hzj', 'hzj'])}\n",
      "沙僧 来配对\n",
      "{'杨幂': ['八戒', '悟空'], 'hzj': ['沙僧']}\n",
      "{'白龙马'}\n",
      "{'悟空': deque(['杨幂', 'hzj', 'hzj']), '白龙马': deque(['杨幂', 'hzj', 'hzj']), '沙僧': deque(['hzj', '杨幂', '杨幂']), '八戒': deque(['杨幂', 'hzj', 'hzj'])}\n",
      "白龙马 来配对\n",
      "{'杨幂': ['八戒', '悟空'], 'hzj': ['沙僧']}\n",
      "{'白龙马'}\n",
      "{'悟空': deque(['杨幂', 'hzj', 'hzj']), '白龙马': deque(['hzj', 'hzj']), '沙僧': deque(['hzj', '杨幂', '杨幂']), '八戒': deque(['杨幂', 'hzj', 'hzj'])}\n",
      "白龙马 来配对\n",
      "{'杨幂': ['八戒', '悟空'], 'hzj': ['沙僧', '白龙马']}\n",
      "set()\n",
      "{'悟空': deque(['杨幂', 'hzj', 'hzj']), '白龙马': deque(['hzj']), '沙僧': deque(['hzj', '杨幂', '杨幂']), '八戒': deque(['杨幂', 'hzj', 'hzj'])}\n"
     ]
    }
   ],
   "source": [
    "custs = ['悟空', '白龙马', '沙僧', '八戒']\n",
    "bankers = ['杨幂', 'hzj']\n",
    "cust_pref = {\n",
    "    cust: bankers[:] for cust in custs\n",
    "}\n",
    "cust_pref['沙僧'] = bankers[::-1]\n",
    "\n",
    "banker_pref = {\n",
    "    'hzj': custs[:],\n",
    "    \"杨幂\": ['悟空', '八戒', '沙僧', '白龙马']\n",
    "}\n",
    "\n",
    "ans = gale_shapley_1vn(custs=custs, bankers=bankers, cust_pref=cust_pref, banker_pref=banker_pref)"
   ]
  },
  {
   "cell_type": "code",
   "execution_count": null,
   "id": "40d53002",
   "metadata": {},
   "outputs": [],
   "source": []
  }
 ],
 "metadata": {
  "kernelspec": {
   "display_name": "Python 3",
   "language": "python",
   "name": "python3"
  },
  "language_info": {
   "codemirror_mode": {
    "name": "ipython",
    "version": 3
   },
   "file_extension": ".py",
   "mimetype": "text/x-python",
   "name": "python",
   "nbconvert_exporter": "python",
   "pygments_lexer": "ipython3",
   "version": "3.7.3"
  }
 },
 "nbformat": 4,
 "nbformat_minor": 5
}
