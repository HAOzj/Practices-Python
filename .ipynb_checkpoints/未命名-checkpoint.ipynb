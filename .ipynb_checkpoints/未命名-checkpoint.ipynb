{
 "cells": [
  {
   "cell_type": "markdown",
   "id": "5188a98a",
   "metadata": {},
   "source": [
    "- .[Davies Bouldin](#DBI)\n",
    "- .[Silhouette Score](#sil)"
   ]
  },
  {
   "cell_type": "markdown",
   "id": "6d5b43fb",
   "metadata": {},
   "source": [
    "# Davies Bouldin Index <a id='DBI'></a>"
   ]
  },
  {
   "cell_type": "code",
   "execution_count": 18,
   "id": "094ab644",
   "metadata": {},
   "outputs": [],
   "source": [
    "import random\n",
    "import numpy as np\n",
    "from sklearn.metrics import pairwise_distances, davies_bouldin_score\n",
    "\n",
    "n_feature = 5\n",
    "n_sample = 100\n",
    "X = [[random.random() for _ in range(n_feature)] for _ in range(n_sample)]\n",
    "labels = [random.randint(1, 3) for _ in range(n_sample)]\n",
    "X, labels = np.array(X), np.array(labels)\n",
    "\n",
    "\n",
    "\n",
    "def get_center_and_intra(cluster_x: np.array) -> tuple:\n",
    "    center = np.mean(cluster_x, axis=0)\n",
    "    print(center.shape)\n",
    "    dist = pairwise_distances(cluster_x, [center])\n",
    "    return (center, np.mean(dist))"
   ]
  },
  {
   "cell_type": "code",
   "execution_count": 19,
   "id": "893ad5ba",
   "metadata": {},
   "outputs": [
    {
     "name": "stdout",
     "output_type": "stream",
     "text": [
      "(43, 5)\n",
      "(5,)\n",
      "(30, 5)\n",
      "(5,)\n",
      "(27, 5)\n",
      "(5,)\n"
     ]
    }
   ],
   "source": [
    "from tqdm import tqdm\n",
    "center_and_intras = []\n",
    "for i in range(1, 4):\n",
    "    cluster_x = X[labels == i]\n",
    "    center_and_intras.append(get_center_and_intra(cluster_x))"
   ]
  },
  {
   "cell_type": "code",
   "execution_count": 22,
   "id": "9d53ee98",
   "metadata": {},
   "outputs": [],
   "source": [
    "from collections import namedtuple\n",
    "Distance = namedtuple('Distance', ['cluster', 'dist'])\n",
    "\n",
    "\n",
    "cluster2other = dict()\n",
    "for i, t2 in enumerate(center_and_intras, 1):\n",
    "    for j, other_t2 in enumerate(center_and_intras, 1):\n",
    "        if j <= i:\n",
    "            continue\n",
    "        delta = t2[1] + other_t2[1]\n",
    "        sigma = np.linalg.norm(t2[0] - other_t2[0])\n",
    "        distance = delta / sigma\n",
    "        cluster2other.setdefault(i, []).append(Distance(cluster=j, dist=distance))\n",
    "        cluster2other.setdefault(j, []).append(Distance(cluster=i, dist=distance))"
   ]
  },
  {
   "cell_type": "code",
   "execution_count": 26,
   "id": "fd40a607",
   "metadata": {},
   "outputs": [
    {
     "data": {
      "text/plain": [
       "10.257773667103406"
      ]
     },
     "execution_count": 26,
     "metadata": {},
     "output_type": "execute_result"
    }
   ],
   "source": [
    "cluster2nearest = {}\n",
    "for i, dists in cluster2other.items():\n",
    "    cluster2nearest[i] = max(dists, key=lambda x: x.dist)\n",
    "\n",
    "    \n",
    "dbi = np.mean([v.dist for v in cluster2nearest.values()])\n",
    "dbi"
   ]
  },
  {
   "cell_type": "code",
   "execution_count": 27,
   "id": "1d53a7fb",
   "metadata": {},
   "outputs": [
    {
     "data": {
      "text/plain": [
       "10.25777366710325"
      ]
     },
     "execution_count": 27,
     "metadata": {},
     "output_type": "execute_result"
    }
   ],
   "source": [
    "davies_bouldin_score(X, labels)"
   ]
  },
  {
   "cell_type": "markdown",
   "id": "6853dffb",
   "metadata": {},
   "source": [
    "# Silhouette Score <a id='sil'></a>"
   ]
  },
  {
   "cell_type": "code",
   "execution_count": 43,
   "id": "a4b0edc8",
   "metadata": {},
   "outputs": [
    {
     "data": {
      "text/plain": [
       "-0.026550268419739464"
      ]
     },
     "execution_count": 43,
     "metadata": {},
     "output_type": "execute_result"
    }
   ],
   "source": [
    "from sklearn.metrics import silhouette_score, silhouette_samples\n",
    "silhouette_score(X, labels)"
   ]
  },
  {
   "cell_type": "code",
   "execution_count": 29,
   "id": "c53d8bdd",
   "metadata": {},
   "outputs": [
    {
     "data": {
      "text/plain": [
       "(['@_deprecate_positional_args\\n',\n",
       "  \"def silhouette_score(X, labels, *, metric='euclidean', sample_size=None,\\n\",\n",
       "  '                     random_state=None, **kwds):\\n',\n",
       "  '    \"\"\"Compute the mean Silhouette Coefficient of all samples.\\n',\n",
       "  '\\n',\n",
       "  '    The Silhouette Coefficient is calculated using the mean intra-cluster\\n',\n",
       "  '    distance (``a``) and the mean nearest-cluster distance (``b``) for each\\n',\n",
       "  '    sample.  The Silhouette Coefficient for a sample is ``(b - a) / max(a,\\n',\n",
       "  '    b)``.  To clarify, ``b`` is the distance between a sample and the nearest\\n',\n",
       "  '    cluster that the sample is not a part of.\\n',\n",
       "  '    Note that Silhouette Coefficient is only defined if number of labels\\n',\n",
       "  '    is 2 <= n_labels <= n_samples - 1.\\n',\n",
       "  '\\n',\n",
       "  '    This function returns the mean Silhouette Coefficient over all samples.\\n',\n",
       "  '    To obtain the values for each sample, use :func:`silhouette_samples`.\\n',\n",
       "  '\\n',\n",
       "  '    The best value is 1 and the worst value is -1. Values near 0 indicate\\n',\n",
       "  '    overlapping clusters. Negative values generally indicate that a sample has\\n',\n",
       "  '    been assigned to the wrong cluster, as a different cluster is more similar.\\n',\n",
       "  '\\n',\n",
       "  '    Read more in the :ref:`User Guide <silhouette_coefficient>`.\\n',\n",
       "  '\\n',\n",
       "  '    Parameters\\n',\n",
       "  '    ----------\\n',\n",
       "  '    X : array [n_samples_a, n_samples_a] if metric == \"precomputed\", or, \\\\\\n',\n",
       "  '             [n_samples_a, n_features] otherwise\\n',\n",
       "  '        Array of pairwise distances between samples, or a feature array.\\n',\n",
       "  '\\n',\n",
       "  '    labels : array, shape = [n_samples]\\n',\n",
       "  '         Predicted labels for each sample.\\n',\n",
       "  '\\n',\n",
       "  '    metric : string, or callable\\n',\n",
       "  '        The metric to use when calculating distance between instances in a\\n',\n",
       "  '        feature array. If metric is a string, it must be one of the options\\n',\n",
       "  '        allowed by :func:`metrics.pairwise.pairwise_distances\\n',\n",
       "  '        <sklearn.metrics.pairwise.pairwise_distances>`. If X is the distance\\n',\n",
       "  '        array itself, use ``metric=\"precomputed\"``.\\n',\n",
       "  '\\n',\n",
       "  '    sample_size : int or None\\n',\n",
       "  '        The size of the sample to use when computing the Silhouette Coefficient\\n',\n",
       "  '        on a random subset of the data.\\n',\n",
       "  '        If ``sample_size is None``, no sampling is used.\\n',\n",
       "  '\\n',\n",
       "  '    random_state : int, RandomState instance or None, optional (default=None)\\n',\n",
       "  '        Determines random number generation for selecting a subset of samples.\\n',\n",
       "  '        Used when ``sample_size is not None``.\\n',\n",
       "  '        Pass an int for reproducible results across multiple function calls.\\n',\n",
       "  '        See :term:`Glossary <random_state>`.\\n',\n",
       "  '\\n',\n",
       "  '    **kwds : optional keyword parameters\\n',\n",
       "  '        Any further parameters are passed directly to the distance function.\\n',\n",
       "  '        If using a scipy.spatial.distance metric, the parameters are still\\n',\n",
       "  '        metric dependent. See the scipy docs for usage examples.\\n',\n",
       "  '\\n',\n",
       "  '    Returns\\n',\n",
       "  '    -------\\n',\n",
       "  '    silhouette : float\\n',\n",
       "  '        Mean Silhouette Coefficient for all samples.\\n',\n",
       "  '\\n',\n",
       "  '    References\\n',\n",
       "  '    ----------\\n',\n",
       "  '\\n',\n",
       "  '    .. [1] `Peter J. Rousseeuw (1987). \"Silhouettes: a Graphical Aid to the\\n',\n",
       "  '       Interpretation and Validation of Cluster Analysis\". Computational\\n',\n",
       "  '       and Applied Mathematics 20: 53-65.\\n',\n",
       "  '       <https://www.sciencedirect.com/science/article/pii/0377042787901257>`_\\n',\n",
       "  '\\n',\n",
       "  '    .. [2] `Wikipedia entry on the Silhouette Coefficient\\n',\n",
       "  '           <https://en.wikipedia.org/wiki/Silhouette_(clustering)>`_\\n',\n",
       "  '\\n',\n",
       "  '    \"\"\"\\n',\n",
       "  '    if sample_size is not None:\\n',\n",
       "  \"        X, labels = check_X_y(X, labels, accept_sparse=['csc', 'csr'])\\n\",\n",
       "  '        random_state = check_random_state(random_state)\\n',\n",
       "  '        indices = random_state.permutation(X.shape[0])[:sample_size]\\n',\n",
       "  '        if metric == \"precomputed\":\\n',\n",
       "  '            X, labels = X[indices].T[indices].T, labels[indices]\\n',\n",
       "  '        else:\\n',\n",
       "  '            X, labels = X[indices], labels[indices]\\n',\n",
       "  '    return np.mean(silhouette_samples(X, labels, metric=metric, **kwds))\\n'],\n",
       " 38)"
      ]
     },
     "execution_count": 29,
     "metadata": {},
     "output_type": "execute_result"
    }
   ],
   "source": [
    "import inspect\n",
    "\n",
    "# inspect.getsourcelines(silhouette_score)"
   ]
  },
  {
   "cell_type": "code",
   "execution_count": 55,
   "id": "56bdbc59",
   "metadata": {},
   "outputs": [],
   "source": [
    "def get_silhouette_for_sample(x, cluster_x, other_clusters):\n",
    "    \"\"\" \n",
    "    a meansures how close to the points in the same cluster\n",
    "    inters measure how close to the points of another cluster\n",
    "    b is the smallest among inters and represents how close to the nearest neighboring cluster\n",
    "    \"\"\"\n",
    "    n_cluster = cluster_x.shape[0]\n",
    "    if n_cluster == 1: return 0\n",
    "    a = np.sum(pairwise_distances(cluster_x, [x])) / (n_cluster - 1)\n",
    "    inters = []\n",
    "    for other_cluster in other_clusters:\n",
    "        inters.append(np.mean(pairwise_distances(other_cluster, [x]))) \n",
    "    b = min(inters) \n",
    "    return (b - a) / max(a, b)"
   ]
  },
  {
   "cell_type": "code",
   "execution_count": 56,
   "id": "c0c6f18e",
   "metadata": {},
   "outputs": [
    {
     "data": {
      "text/plain": [
       "(100, 5)"
      ]
     },
     "execution_count": 56,
     "metadata": {},
     "output_type": "execute_result"
    }
   ],
   "source": [
    "X.shape"
   ]
  },
  {
   "cell_type": "code",
   "execution_count": 57,
   "id": "5a330f75",
   "metadata": {},
   "outputs": [
    {
     "data": {
      "text/plain": [
       "(array([[0.65481691, 0.25052482, 0.20312108, 0.26463258, 0.86589611],\n",
       "        [0.20183729, 0.31023726, 0.6077858 , 0.87119358, 0.53492397],\n",
       "        [0.26669158, 0.3043665 , 0.18981735, 0.99389037, 0.63526697]]),\n",
       " array([[0.20183729, 0.31023726, 0.6077858 , 0.87119358, 0.53492397],\n",
       "        [0.26669158, 0.3043665 , 0.18981735, 0.99389037, 0.63526697]]))"
      ]
     },
     "execution_count": 57,
     "metadata": {},
     "output_type": "execute_result"
    }
   ],
   "source": [
    "x = X[:3, :]\n",
    "x, np.delete(x, 0, 0)"
   ]
  },
  {
   "cell_type": "code",
   "execution_count": 58,
   "id": "66bba1c5",
   "metadata": {},
   "outputs": [
    {
     "name": "stdout",
     "output_type": "stream",
     "text": [
      "1 43\n",
      "2 30\n",
      "3 27\n"
     ]
    }
   ],
   "source": [
    "label2index = dict(zip(range(1, 4), [labels == i for i in range(1, 4)]))\n",
    "silhouettes = list()\n",
    "\n",
    "for k, v in label2index.items():\n",
    "    print(k, np.sum(v))\n",
    "\n",
    "for x, label in zip(X, labels):\n",
    "    cluster_x = X[label2index[label]]\n",
    "    other_clusters = [X[label2index[other_label]] for other_label in range(1, 4) if other_label != label]\n",
    "    silhouette = get_silhouette_for_sample(x, cluster_x, other_clusters)\n",
    "    silhouettes.append(silhouette)"
   ]
  },
  {
   "cell_type": "code",
   "execution_count": 59,
   "id": "71f0a832",
   "metadata": {},
   "outputs": [
    {
     "data": {
      "text/plain": [
       "-0.026550268508579694"
      ]
     },
     "execution_count": 59,
     "metadata": {},
     "output_type": "execute_result"
    }
   ],
   "source": [
    "np.mean(silhouettes)"
   ]
  },
  {
   "cell_type": "code",
   "execution_count": 60,
   "id": "5521c8e6",
   "metadata": {},
   "outputs": [
    {
     "data": {
      "text/plain": [
       "99"
      ]
     },
     "execution_count": 60,
     "metadata": {},
     "output_type": "execute_result"
    }
   ],
   "source": [
    "i"
   ]
  },
  {
   "cell_type": "code",
   "execution_count": 61,
   "id": "869d5ff1",
   "metadata": {},
   "outputs": [
    {
     "data": {
      "text/plain": [
       "array([-0.01911961, -0.00319283,  0.01774095, -0.02866315, -0.04380257,\n",
       "       -0.06636078, -0.05874458, -0.10084966, -0.02507859, -0.03774477,\n",
       "       -0.00797902,  0.03115136, -0.10394859,  0.01490487, -0.02499371,\n",
       "       -0.06937265, -0.05467665, -0.07873286, -0.06165016, -0.02409868,\n",
       "        0.0159463 ,  0.00309462, -0.09990845,  0.02490216, -0.03354179,\n",
       "       -0.09984039,  0.03272453, -0.00711942,  0.04043652,  0.02534043,\n",
       "       -0.04877535,  0.03443575, -0.0032145 , -0.05108119,  0.00473856,\n",
       "       -0.06391584,  0.00579958, -0.02054897, -0.05452016, -0.05437354,\n",
       "       -0.09029871, -0.046282  , -0.08639628, -0.07650065, -0.07409867,\n",
       "        0.03055817, -0.11967971,  0.03561882,  0.0300124 ,  0.01857143,\n",
       "        0.04404687,  0.02198653,  0.00205605, -0.00677625,  0.01148252,\n",
       "       -0.00805039,  0.01558129, -0.00081476, -0.07337459, -0.07131647,\n",
       "        0.00670091, -0.07623232, -0.08539074,  0.05407924, -0.02699979,\n",
       "        0.00232213,  0.00529427,  0.00203591,  0.01580862, -0.08920058,\n",
       "       -0.03306549, -0.07753667, -0.01175283,  0.00929589, -0.02472651,\n",
       "        0.01784064, -0.03289659, -0.00147743, -0.04095812, -0.0098342 ,\n",
       "       -0.08175402,  0.00985587, -0.0292761 , -0.11925857, -0.09147233,\n",
       "        0.03463075, -0.02615372, -0.000386  , -0.03818164, -0.0313756 ,\n",
       "       -0.05603526, -0.02786053,  0.01480194, -0.04296824, -0.00683196,\n",
       "       -0.0168736 ,  0.03815045, -0.0939812 , -0.09209691, -0.06295929])"
      ]
     },
     "execution_count": 61,
     "metadata": {},
     "output_type": "execute_result"
    }
   ],
   "source": [
    "silhouette_samples(X, labels)"
   ]
  },
  {
   "cell_type": "code",
   "execution_count": null,
   "id": "f35867e0",
   "metadata": {},
   "outputs": [],
   "source": []
  }
 ],
 "metadata": {
  "kernelspec": {
   "display_name": "Python 3",
   "language": "python",
   "name": "python3"
  },
  "language_info": {
   "codemirror_mode": {
    "name": "ipython",
    "version": 3
   },
   "file_extension": ".py",
   "mimetype": "text/x-python",
   "name": "python",
   "nbconvert_exporter": "python",
   "pygments_lexer": "ipython3",
   "version": "3.7.3"
  }
 },
 "nbformat": 4,
 "nbformat_minor": 5
}
