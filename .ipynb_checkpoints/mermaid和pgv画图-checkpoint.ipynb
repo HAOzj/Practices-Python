{
 "cells": [
  {
   "cell_type": "markdown",
   "id": "af99c061-792f-4c06-9151-412226006f08",
   "metadata": {},
   "source": [
    "- .[mermaid](#mm)\n",
    "- .[graphviz](#pgv)"
   ]
  },
  {
   "cell_type": "markdown",
   "id": "59a013b8-359b-4d06-8c17-654a88df2929",
   "metadata": {},
   "source": [
    "# mermaid <a id='mm'></a>"
   ]
  },
  {
   "cell_type": "code",
   "execution_count": 3,
   "id": "aefdc053-36c9-410f-925c-e305e8842ab6",
   "metadata": {},
   "outputs": [
    {
     "data": {
      "text/html": [
       "<img src=\"https://mermaid.ink/img/CmdyYXBoIExSOwogICAgQS0tPiBCICYgQyAmIEQ7CiAgICBCLS0+IEEgJiBFOwogICAgQy0tPiBBICYgRTsKICAgIEQtLT4gQSAmIEU7CiAgICBFLS0+IEIgJiBDICYgRDsK\"/>"
      ],
      "text/plain": [
       "<IPython.core.display.Image object>"
      ]
     },
     "metadata": {},
     "output_type": "display_data"
    }
   ],
   "source": [
    "import base64\n",
    "from IPython.display import Image, display\n",
    "\n",
    "def mm(graph):\n",
    "    graphbytes = graph.encode(\"utf8\")\n",
    "    base64_bytes = base64.b64encode(graphbytes)\n",
    "    base64_string = base64_bytes.decode(\"ascii\")\n",
    "    display(Image(url=\"https://mermaid.ink/img/\" + base64_string))\n",
    "\n",
    "mm(\"\"\"\n",
    "graph LR;\n",
    "    A--> B & C & D;\n",
    "    B--> A & E;\n",
    "    C--> A & E;\n",
    "    D--> A & E;\n",
    "    E--> B & C & D;\n",
    "\"\"\")"
   ]
  },
  {
   "cell_type": "code",
   "execution_count": 7,
   "id": "ba04a274-203f-4acb-910e-8297d05f6023",
   "metadata": {},
   "outputs": [
    {
     "data": {
      "text/html": [
       "<img src=\"https://mermaid.ink/img/CmdyYXBoIExSCiAgICBBW2hlbGxvLmNdIC0tPiBCW1ByZS1wcm9jZXNzb3IgKGNwcCldCiAgICBCIC0tPiBDW2hlbGxvLmldCiAgICBDIC0tPiBEW0NvbXBpbGVyIChjYyldCiAgICBEIC0tPiBFW2hlbGxvLnNdCiAgICBFIC0tPiBGW0Fzc2VtYmxlciAoYXMpXQogICAgRiAtLT4gR1toZWxsby5vXQogICAgRyAtLT4gSFtMaW5rZXIgKGxkKV0KICAgIEggLS0+IElbcHJpbnRmLm9dCiAgICBJIC0tPiBKW2hlbGxvXSAgICAKICAgIGNsYXNzRGVmIGJveCBmaWxsOiNmZmYsc3Ryb2tlOiMwMDAsc3Ryb2tlLXdpZHRoOjJweDsKICAgIGNsYXNzIEEsQixDLEQsRSxGLEcsSCxJLEogYm94Owo=\"/>"
      ],
      "text/plain": [
       "<IPython.core.display.Image object>"
      ]
     },
     "metadata": {},
     "output_type": "display_data"
    }
   ],
   "source": [
    "mm(\"\"\"\n",
    "graph LR\n",
    "    A[hello.c] --> B[Pre-processor (cpp)]\n",
    "    B --> C[hello.i]\n",
    "    C --> D[Compiler (cc)]\n",
    "    D --> E[hello.s]\n",
    "    E --> F[Assembler (as)]\n",
    "    F --> G[hello.o]\n",
    "    G --> H[Linker (ld)]\n",
    "    H --> I[printf.o]\n",
    "    I --> J[hello]    \n",
    "    classDef box fill:#fff,stroke:#000,stroke-width:2px;\n",
    "    class A,B,C,D,E,F,G,H,I,J box;\n",
    "\"\"\")"
   ]
  },
  {
   "cell_type": "code",
   "execution_count": null,
   "id": "785d5c22-26f1-49a6-89d8-1d113d8c6ea7",
   "metadata": {},
   "outputs": [],
   "source": []
  },
  {
   "cell_type": "markdown",
   "id": "58d6be62-f13e-4c9c-ab42-400a5aaf7b3f",
   "metadata": {},
   "source": [
    "# graphviz <a id='pgv'></a>"
   ]
  },
  {
   "cell_type": "code",
   "execution_count": null,
   "id": "a03bb78c-8232-4a81-9038-1dfe06360cce",
   "metadata": {},
   "outputs": [],
   "source": [
    "import pygraphviz as pgv \n",
    "\n",
    "G = pgv.AGraph(directed=True)\n",
    "nodes = ['s', '1', '2', 't']\n",
    "capacity = [[0, 100, 100, 0], [0, 0, 1, 10], [0, 0, 0, 100], [0] * 4]\n",
    "\n",
    "G.add_nodes_from(nodes)\n",
    "for i, row in enumerate(capacity):\n",
    "    for j, ele in enumerate(row):\n",
    "        weight = capacity[i][j]\n",
    "        if weight:\n",
    "            G.add_(nodes[i], nodes[j], weight=weight)\n",
    "\n",
    "G.layout()\n",
    "\n",
    "G.draw('试试.png', prog='dot')"
   ]
  }
 ],
 "metadata": {
  "kernelspec": {
   "display_name": "Python 3 (ipykernel)",
   "language": "python",
   "name": "python3"
  },
  "language_info": {
   "codemirror_mode": {
    "name": "ipython",
    "version": 3
   },
   "file_extension": ".py",
   "mimetype": "text/x-python",
   "name": "python",
   "nbconvert_exporter": "python",
   "pygments_lexer": "ipython3",
   "version": "3.12.3"
  }
 },
 "nbformat": 4,
 "nbformat_minor": 5
}
