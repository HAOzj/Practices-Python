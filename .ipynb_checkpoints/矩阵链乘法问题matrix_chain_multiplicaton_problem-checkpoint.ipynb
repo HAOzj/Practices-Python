{
 "cells": [
  {
   "cell_type": "markdown",
   "metadata": {},
   "source": [
    "\n",
    "**矩阵链和矩阵相容**  \n",
    "给定一个矩阵链 $A_0, A_1, ..., A_l $,矩阵$A_i$的维度为$D_i * D_{i+1}$,此矩阵链中前后相接的矩阵相容(也就是前一个矩阵的列数等于后一个矩阵的行数,可以进行矩阵乘法).  \n",
    "\n",
    "**矩阵乘法结合律和相乘顺序**  \n",
    "因为矩阵乘法满足结合律(associative laws)，也就是多个矩阵相乘时,相乘的顺序不影响结果,顺序可以用括号来表示,比如$(A_0 * A_1) * A_2 = A_0 * (A_1 * A_2)$,前者表示$A_0, A_1$是第一次矩阵乘法,它们的乘积和$A_2$做第二次矩阵乘法,后者表示$A_1, A_2$先乘.  \n",
    "\n",
    "**矩阵链乘法问题**\n",
    "虽然相乘顺序不影响结果,但是影响运算中标量乘法的数量.比如对于$A_0^{1*5} * A_1^{5*10} * A_2^{10*5}$,其中$A_0$有1行5列.   \n",
    "$(A_0 * A_1) * A_2$需要 $1*5*10 + 1*10*5 = 100$ 标量计算,而$A_0 * (A_1 * A_2)$需要$5*10*5 + 1*5 * 5 = 275$标量运算.所以我们希望找到一个相乘顺序,使得矩阵链乘法需要的标量运算最少.\n",
    "\n",
    "在这种情况下,可以用动态规划解决.设整个矩阵链最后一次乘法发生在$A_0*A_1*...*A_k$和$A_{k+1}*...*A_l$处,则此时最少的标量运算就是$A_0*A_1*...*A_{k-1}$所需的最少的标量运算加上$A_k*...*A_l$所需的最少的标量运算再加上$D_0*D_k*D_{l+1}$.  \n",
    "我们从$k=0,...,l-1$中选择最好的k就得到了最优乘法顺序.也就是  \n",
    "$M[0,l] = \\max\\limits_{k=0}^{l-1} M[0,k]+M[k+1,l]+D_0*D_{k+1}*D_{l+1}$\n",
    "\n",
    "我们用M和P两个矩阵来实现动态规划:\n",
    "1. M表示矩阵乘法所需的最少的标量计算,$M_{i,j}, i <= j$表示$A_i*A_{i+1}*...*A_j$所需的最少的标量积算.  \n",
    "2. P记录最优乘法顺序时最后一次乘法发生的位置.$P_{i,j} = k, i <= j$表示$A_i*A_{i+1}*...*A_j$最后一次乘法发生在$A_k$左侧.  \n",
    "\n",
    "所以$M_{0,l}$就是整个矩阵链所需的最少的标量积算,运算顺序可以通过P矩阵倒推."
   ]
  },
  {
   "cell_type": "code",
   "execution_count": 1,
   "metadata": {
    "collapsed": true
   },
   "outputs": [],
   "source": [
    "from MatMul import MatMulOrder"
   ]
  },
  {
   "cell_type": "markdown",
   "metadata": {},
   "source": [
    "**讲解中例子**"
   ]
  },
  {
   "cell_type": "code",
   "execution_count": 2,
   "metadata": {
    "collapsed": true
   },
   "outputs": [],
   "source": [
    "D = [1, 5, 10,5]"
   ]
  },
  {
   "cell_type": "code",
   "execution_count": 3,
   "metadata": {},
   "outputs": [
    {
     "name": "stdout",
     "output_type": "stream",
     "text": [
      "There are 3 matrix to multiply\n"
     ]
    }
   ],
   "source": [
    "M, P = MatMulOrder(D)"
   ]
  },
  {
   "cell_type": "code",
   "execution_count": 4,
   "metadata": {},
   "outputs": [
    {
     "data": {
      "text/plain": [
       "[[0, 50, 100], [0, 0, 250], [0, 0, 0]]"
      ]
     },
     "execution_count": 4,
     "metadata": {},
     "output_type": "execute_result"
    }
   ],
   "source": [
    "M "
   ]
  },
  {
   "cell_type": "code",
   "execution_count": 5,
   "metadata": {},
   "outputs": [
    {
     "data": {
      "text/plain": [
       "[[0, 0, 1], [0, 0, 1], [0, 0, 0]]"
      ]
     },
     "execution_count": 5,
     "metadata": {},
     "output_type": "execute_result"
    }
   ],
   "source": [
    "P"
   ]
  },
  {
   "cell_type": "markdown",
   "metadata": {},
   "source": [
    "对应$A_0^{1*5} * A_1^{5*10} * A_2^{10*5}$的矩阵链乘法,\n",
    "1. 需要的标量运算值就是M[0,2] = 100\n",
    "2. 乘法顺序就是最后一次乘法发生在$A_1$右侧,用括号表示就是$(A_0 * A_1) * A_2$"
   ]
  },
  {
   "cell_type": "markdown",
   "metadata": {},
   "source": [
    "**例子2**"
   ]
  },
  {
   "cell_type": "code",
   "execution_count": 6,
   "metadata": {
    "collapsed": true
   },
   "outputs": [],
   "source": [
    "D1 = [5, 15, 10,15,10]"
   ]
  },
  {
   "cell_type": "code",
   "execution_count": 7,
   "metadata": {},
   "outputs": [
    {
     "name": "stdout",
     "output_type": "stream",
     "text": [
      "There are 4 matrix to multiply\n"
     ]
    }
   ],
   "source": [
    "M1, P1 = MatMulOrder(D1)"
   ]
  },
  {
   "cell_type": "code",
   "execution_count": 8,
   "metadata": {},
   "outputs": [
    {
     "data": {
      "text/plain": [
       "[[0, 750, 1500, 2250], [0, 0, 2250, 3000], [0, 0, 0, 1500], [0, 0, 0, 0]]"
      ]
     },
     "execution_count": 8,
     "metadata": {},
     "output_type": "execute_result"
    }
   ],
   "source": [
    "M1"
   ]
  },
  {
   "cell_type": "code",
   "execution_count": 9,
   "metadata": {},
   "outputs": [
    {
     "data": {
      "text/plain": [
       "[[0, 0, 1, 2], [0, 0, 1, 1], [0, 0, 0, 2], [0, 0, 0, 0]]"
      ]
     },
     "execution_count": 9,
     "metadata": {},
     "output_type": "execute_result"
    }
   ],
   "source": [
    "P1"
   ]
  },
  {
   "cell_type": "markdown",
   "metadata": {},
   "source": [
    "对应$A_0^{5*15} * A_1^{15*10} * A_2^{10*15} * A_3^{15*10}$的矩阵链乘法,\n",
    "1. 需要的标量运算值就是M1[0,3] = 2250\n",
    "2. 乘法顺序就是\n",
    "    1. 最后一次乘法发生在$A_2$右侧,用括号表示就是$(A_0 * A_1 * A_2) * A_3$\n",
    "    2. 之前乘法发生在$A_1$右侧,用括号表示就是$( (A_0 * A_1) * A_2) * A_3$"
   ]
  },
  {
   "cell_type": "markdown",
   "metadata": {},
   "source": [
    "大家可以演算下\n",
    "\n",
    "此外,我们发现一个违反直觉的事实,就是 $A_0^{5*15} * A_1^{15*10} * A_2^{10*15} * A_3^{15*10}$最少需要2250次标量运算,  \n",
    "而$ A_1^{15*10} * A_2^{10*15} * A_3^{15*10}$竟然最少需要3000次标量运算！  "
   ]
  }
 ],
 "metadata": {
  "kernelspec": {
   "display_name": "Python 3",
   "language": "python",
   "name": "python3"
  },
  "language_info": {
   "codemirror_mode": {
    "name": "ipython",
    "version": 3
   },
   "file_extension": ".py",
   "mimetype": "text/x-python",
   "name": "python",
   "nbconvert_exporter": "python",
   "pygments_lexer": "ipython3",
   "version": "3.6.3"
  }
 },
 "nbformat": 4,
 "nbformat_minor": 2
}
