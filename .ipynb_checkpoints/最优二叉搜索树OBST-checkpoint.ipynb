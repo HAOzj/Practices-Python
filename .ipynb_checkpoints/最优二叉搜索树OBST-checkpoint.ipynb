{
 "cells": [
  {
   "cell_type": "markdown",
   "metadata": {},
   "source": [
    "**二叉搜索树**  \n",
    "\n",
    "[二叉搜索树](https://en.wikipedia.org/wiki/Binary_search_tree)是一种常用的数据结构.具有如下性质,  \n",
    "1. 任意一个节点如果有左子树,则其左子树上所有节点的值都小于(等于)该节点的值;  \n",
    "2. 任意一个节点如果有右子树,则其右子树上所有节点的值都大于该节点的值.  \n",
    "体现的是一种已经排序的结构.对应于二分查找\\排序法.  \n",
    "![二叉树例子](BT.jpg)\n",
    "\n",
    "**最优二叉搜索树**  \n",
    "\n",
    "设想一个问题,我们把所有单词按照字母顺序放在二叉搜索树上,有些单词是我们关注的,叫做关键词,按照字母顺序,用${k_i}_{i=1}^n$表示,$k_1 < k_2 < ... < k_n$.而这些关键词之间用非关键字${d_i}_{i=1}^{n+1}$来填满.整个单词集便用一个有序序列表示,放在了二叉搜索树上.顺序为$d_1 < k_1 < d_2 < ...< d_n < k_n < d_{n+1}$.  \n",
    "${k_i}_{i=1}^n$对应的概率为${q_i}_{i=1}^n$,而${d_i}_{i=1}^{n+1}$对应的概率为${q_i}_{i=1}^{n+1}$.关键字和非关键字的概率总和为1,也就是$ q_{n+1} + \\sum\\limits_{ord=1}^{n} p_ord + q_ord = 1 $.\n",
    "\n",
    "我们想构造一个全部单词的二叉搜索树,使得这些关键词搜索长度之和的期望最小,这样的二叉搜索树叫做*最有二叉搜索树*.数学得表示就是$\\sum\\limits_{i=1}^{k} (depth_{d_i}+1) * p_i$最小,其中$depth_{d_i}$表示$d_i$在二叉搜素树中的深度.上图中A的深度为0.  \n",
    "\n",
    "设想,如果存在$d_{i+1}$不是叶子节点,则$k_i$或$k_{i+1}$必然是它子树上的节点(因为$k_i$和$k_{i+1}$在有序序列中,是$d_{k+1}$的相邻元素).\n",
    "<center>\n",
    "<img src=\"BT1.jpg\" width=\"20%\" height=\"10%\" />\n",
    "</center>\n",
    "这时我们总可以通过调换$d_{i+1}$和$k_i$或$k_{i+1}$的位置来构造更优的二叉搜索树.\n",
    "<center>\n",
    "<img src=\"BT2.jpg\" width=\"20%\" height=\"10%\" />\n",
    "</center>\n",
    "所以最优二叉搜索树必然是非关键字构成叶子节点,而关键字非叶子节点."
   ]
  },
  {
   "cell_type": "markdown",
   "metadata": {},
   "source": [
    "*动态规划解最优二叉搜索树问题**  \n",
    "\n",
    "如果穷举所有的二叉搜索树,然后选择关键字搜索路径之和期望最小者,是极其没有效率的.我们可以用动态规划来解决最优二叉搜索树的问题.  \n",
    "\n",
    "因为一课二叉搜素树上的子树和其他子树是独立的,且涉及${k_{ord}}_{ord =i}^j$的最优二叉搜索树必然有根节点和左\\右子树(可以为空),其左\\右子树必然是涉及其上关键字的最优二叉搜索树(否则用更优的结构代替子树,整树也会得到优化,与整树是最优的矛盾).\n",
    "\n",
    "所以我们可以用如下的迭代方式来构造最优二叉搜索树:\n",
    "\n",
    "1. 用$OBST(i,j)$表示涉及${k_{ord}}_{ord =i}^j$的子树的最优搜索长度.则$OBST(i, j) = \\min\\limits_{key=i}^{j-1} OBST(i,key) + OBST(key+1， j) + \\sum\\limits_{k=i}^j p_i$,key表示涉及${k_{ord}}_{ord =i}^j$的子树的根节点.其中$OBST(i,key)$表示左子树的搜索路径之和的期望,$ OBST(key+1， j)$表示右子树的搜索路径之和的期望,再加上$\\sum\\limits_{k=i}^j p_i$是因为${k_{ord}}_{ord =i}^j$每个节点的深度都增加了1.    \n",
    "2. 当i==j时$OBST(i, j) = p_i$  \n",
    "\n",
    "简而言之,就是我们在${k_i}_{i=1}^n$中选择最优根节点,以根节点为边界,分为两个子树,每个子树再选择其最优根节点,直到完成整棵树的构建."
   ]
  },
  {
   "cell_type": "markdown",
   "metadata": {},
   "source": [
    "算法实现中我们用Exp和Pivot来记录迭代的过程.其中  \n",
    "1. Exp[i-j]表示$OBST(i,j)$  \n",
    "2. Pivot[i_j]记录涉及$k_i, k_{i+1}, ..., k_j$的子树的根节点"
   ]
  },
  {
   "cell_type": "code",
   "execution_count": 1,
   "metadata": {},
   "outputs": [],
   "source": [
    "from OBST import OBST"
   ]
  },
  {
   "cell_type": "code",
   "execution_count": 2,
   "metadata": {},
   "outputs": [
    {
     "name": "stdout",
     "output_type": "stream",
     "text": [
      "k3是根\n",
      "k3的左孩子是k1\n",
      "k1的左孩子是k0\n",
      "k1的右孩子是k2\n",
      "k3的右孩子是k4\n"
     ]
    },
    {
     "data": {
      "text/plain": [
       "({'0_-1': 0,\n",
       "  '0_0': 0.15,\n",
       "  '0_1': 0.4,\n",
       "  '0_2': 0.5,\n",
       "  '0_3': 0.75,\n",
       "  '0_4': 1.3,\n",
       "  '1_0': 0,\n",
       "  '1_1': 0.1,\n",
       "  '1_2': 0.25,\n",
       "  '1_3': 0.45,\n",
       "  '1_4': 0.9,\n",
       "  '2_1': 0,\n",
       "  '2_2': 0.05,\n",
       "  '2_3': 0.2,\n",
       "  '2_4': 0.55,\n",
       "  '3_2': 0,\n",
       "  '3_3': 0.1,\n",
       "  '3_4': 0.4,\n",
       "  '4_3': 0,\n",
       "  '4_4': 0.2,\n",
       "  '5_4': 0},\n",
       " {'0_0': 0,\n",
       "  '0_1': 1,\n",
       "  '0_2': 1,\n",
       "  '0_3': 1,\n",
       "  '0_4': 3,\n",
       "  '1_1': 1,\n",
       "  '1_2': 2,\n",
       "  '1_3': 2,\n",
       "  '1_4': 3,\n",
       "  '2_2': 2,\n",
       "  '2_3': 3,\n",
       "  '2_4': 4,\n",
       "  '3_3': 3,\n",
       "  '3_4': 4,\n",
       "  '4_4': 4,\n",
       "  '5_5': 5})"
      ]
     },
     "execution_count": 2,
     "metadata": {},
     "output_type": "execute_result"
    }
   ],
   "source": [
    "P = [0.15, 0.10, 0.05, 0.10, 0.20] # 5\n",
    "Q = [0.05, 0.10, 0.05, 0.05, 0.05, 0.10] # 6\n",
    "\n",
    "OBST(P, Q)"
   ]
  },
  {
   "cell_type": "markdown",
   "metadata": {},
   "source": [
    "<center>\n",
    "<img src=\"OBST.jpg\" width=\"20%\" height=\"10%\" />\n",
    "</center>"
   ]
  },
  {
   "cell_type": "code",
   "execution_count": null,
   "metadata": {
    "collapsed": true
   },
   "outputs": [],
   "source": []
  }
 ],
 "metadata": {
  "kernelspec": {
   "display_name": "Python 3",
   "language": "python",
   "name": "python3"
  },
  "language_info": {
   "codemirror_mode": {
    "name": "ipython",
    "version": 3
   },
   "file_extension": ".py",
   "mimetype": "text/x-python",
   "name": "python",
   "nbconvert_exporter": "python",
   "pygments_lexer": "ipython3",
   "version": "3.6.3"
  }
 },
 "nbformat": 4,
 "nbformat_minor": 2
}
