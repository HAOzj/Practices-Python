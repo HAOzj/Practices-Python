{
 "cells": [
  {
   "cell_type": "code",
   "execution_count": 5,
   "id": "7c355851-c054-4f5f-8ab2-689e5fef6150",
   "metadata": {},
   "outputs": [],
   "source": [
    "from pg import Postgres\n",
    "conf_dict = {\n",
    "    'database': \"hzj_db\",\n",
    "    \"host\": \"127.0.0.1\",\n",
    "    \"port\": \"5432\",\n",
    "    \"user\": \"hzj\",\n",
    "    \"password\": \"haozhao1991\"\n",
    "}\n",
    "post_gres = Postgres(conf_dict)"
   ]
  },
  {
   "cell_type": "code",
   "execution_count": 12,
   "id": "f1c4cb38-14eb-495e-8489-caf96f9c1614",
   "metadata": {},
   "outputs": [],
   "source": [
    "res = post_gres.query(\"\"\"\n",
    "SELECT *\n",
    "FROM user_name\n",
    "WHERE init='a'\n",
    "\"\"\")"
   ]
  },
  {
   "cell_type": "code",
   "execution_count": 13,
   "id": "569f56fa-1590-4f03-9261-5165dbdca387",
   "metadata": {},
   "outputs": [
    {
     "data": {
      "text/plain": [
       "list"
      ]
     },
     "execution_count": 13,
     "metadata": {},
     "output_type": "execute_result"
    }
   ],
   "source": [
    "type(res)"
   ]
  },
  {
   "cell_type": "code",
   "execution_count": null,
   "id": "2d6f15a3-154d-489b-9f76-a20dccc40c0e",
   "metadata": {},
   "outputs": [],
   "source": []
  }
 ],
 "metadata": {
  "kernelspec": {
   "display_name": "Python 3 (ipykernel)",
   "language": "python",
   "name": "python3"
  },
  "language_info": {
   "codemirror_mode": {
    "name": "ipython",
    "version": 3
   },
   "file_extension": ".py",
   "mimetype": "text/x-python",
   "name": "python",
   "nbconvert_exporter": "python",
   "pygments_lexer": "ipython3",
   "version": "3.12.3"
  }
 },
 "nbformat": 4,
 "nbformat_minor": 5
}
