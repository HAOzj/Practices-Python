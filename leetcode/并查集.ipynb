{
 "cells": [
  {
   "cell_type": "code",
   "execution_count": 38,
   "id": "6c8bedb7",
   "metadata": {},
   "outputs": [],
   "source": [
    "def get_number_of_islands(binaryMatrix):\n",
    "    \"\"\"\\\n",
    "    [[0,    1,    0,    1,    0],\n",
    "    [0,    0,    1,    1,    1],\n",
    "    [1,    0,    0,    1,    0],\n",
    "    [0,    1,    1,    0,    0],\n",
    "    [1,    0,    1,    0,    1]]\n",
    "\n",
    "    m * n: #element\n",
    "\n",
    "    m * n * 4 to compare, union the root of adjacent 1s, o(1). o(m * n)\n",
    "    \"\"\"\n",
    "    m, n = len(binaryMatrix), len(binaryMatrix[0])\n",
    "\n",
    "    def find_adjacent_1s(x, y):\n",
    "        res = [[x-1, y], [x+1, y], [x, y-1], [x, y+1]]\n",
    "        return filter(lambda x: 0 <= x[0] < m and 0 <= x[1] < n, res)\n",
    "\n",
    "    ds = DisjointSet(binaryMatrix, m, n)\n",
    "    for i1, row in enumerate(binaryMatrix):\n",
    "        for j1, num in enumerate(row):\n",
    "            if num:\n",
    "                neighbors = find_adjacent_1s(i1, j1)\n",
    "                neighbors = filter(lambda t2: binaryMatrix[t2[0]][t2[1]], neighbors)\n",
    "                for i2, j2 in neighbors:\n",
    "                    ds.union(i1, j1, i2, j2)\n",
    "\n",
    "    print(ds._root)\n",
    "    return ds.count_roots()         \n",
    "\n",
    "\n",
    "class DisjointSet:\n",
    "    def __init__(self, binaryMatrix, m, n):\n",
    "        self._root = [[0 for _ in range(n)] for _ in range(m)]\n",
    "        self._size = [[0 for _ in range(n)] for _ in range(m)]\n",
    "        for i, row in enumerate(binaryMatrix):\n",
    "            for j, num in enumerate(row):\n",
    "                if num:\n",
    "                    self._root[i][j] = (i, j)\n",
    "    \n",
    "    def find_root(self, i, j):\n",
    "        \"\"\"to find the root of given element\n",
    "        \"\"\"\n",
    "        ri, rj = self._root[i][j]\n",
    "        if (ri, rj) == (i, j):\n",
    "            return i, j \n",
    "        \n",
    "        # 压缩路径\n",
    "        self._root[i][j] = self.find_root(ri, rj)\n",
    "        return self._root[i][j]\n",
    "  \n",
    "    def union(self, i, j, i2, j2):\n",
    "        \"\"\"to be used when we find the adjacent 1\n",
    "\n",
    "        if ind1 and ind2 share the root, pass\n",
    "        else merge the root of lesser nodes to the larger root\n",
    "        \"\"\"\n",
    "        ri1, rj1 = self.find_root(i, j)\n",
    "        ri2, rj2 = self.find_root(i2, j2)\n",
    "        if ri1 != ri2 or rj1 != rj2:\n",
    "            if self._size[ri1][rj1] < self._size[ri2][rj2]:\n",
    "                self._root[ri1][rj1] = self._root[ri2][rj2]\n",
    "                self._size[ri2][rj2] += self._size[ri1][rj1]\n",
    "            else:\n",
    "                self._root[ri2][rj2] = self._root[ri1][rj1]\n",
    "                self._size[ri1][rj1] += self._size[ri2][rj2]\n",
    "    \n",
    "    def count_roots(self):\n",
    "        roots = set()\n",
    "        for row in self._root:\n",
    "            roots |= set(row)\n",
    "      \n",
    "        return len(roots) - 1"
   ]
  },
  {
   "cell_type": "code",
   "execution_count": 39,
   "id": "57e6b332",
   "metadata": {},
   "outputs": [
    {
     "name": "stdout",
     "output_type": "stream",
     "text": [
      "[[0, (0, 1), 0, (1, 2), 0], [0, 0, (1, 2), (1, 2), (1, 2)], [(2, 0), 0, 0, (1, 2), 0], [0, (3, 1), (3, 1), 0, 0], [(4, 0), 0, (3, 1), 0, (4, 4)]]\n"
     ]
    },
    {
     "data": {
      "text/plain": [
       "6"
      ]
     },
     "execution_count": 39,
     "metadata": {},
     "output_type": "execute_result"
    }
   ],
   "source": [
    "mat = [[0,    1,    0,    1,    0],\n",
    "    [0,    0,    1,    1,    1],\n",
    "    [1,    0,    0,    1,    0],\n",
    "    [0,    1,    1,    0,    0],\n",
    "    [1,    0,    1,    0,    1]]\n",
    "\n",
    "get_number_of_islands(mat)"
   ]
  },
  {
   "cell_type": "code",
   "execution_count": null,
   "id": "984f3745",
   "metadata": {},
   "outputs": [],
   "source": []
  }
 ],
 "metadata": {
  "kernelspec": {
   "display_name": "Python 3",
   "language": "python",
   "name": "python3"
  },
  "language_info": {
   "codemirror_mode": {
    "name": "ipython",
    "version": 3
   },
   "file_extension": ".py",
   "mimetype": "text/x-python",
   "name": "python",
   "nbconvert_exporter": "python",
   "pygments_lexer": "ipython3",
   "version": "3.7.3"
  }
 },
 "nbformat": 4,
 "nbformat_minor": 5
}
