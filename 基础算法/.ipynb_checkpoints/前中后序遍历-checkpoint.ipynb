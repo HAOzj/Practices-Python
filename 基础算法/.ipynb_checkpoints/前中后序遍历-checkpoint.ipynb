{
 "cells": [
  {
   "cell_type": "code",
   "execution_count": 1,
   "metadata": {},
   "outputs": [],
   "source": [
    "class Node():\n",
    "    def __init__(self, v):\n",
    "        self.left = None\n",
    "        self.right = None\n",
    "        self.val = v \n"
   ]
  },
  {
   "cell_type": "code",
   "execution_count": 2,
   "metadata": {},
   "outputs": [],
   "source": [
    "def Inorder(racine: Node):\n",
    "    \"\"\"中序遍历\n",
    "    \n",
    "    先左子树然后根再右子树\n",
    "    在二叉搜索树(Binary Search Tree, BST)中可以用于非降序排序\n",
    "    \n",
    "    Args:\n",
    "        racine(Node) :- 根节点\n",
    "    \"\"\"\n",
    "    if racine:\n",
    "        Inorder(racine.left)\n",
    "        print(racine.val)\n",
    "        Inorder(racine.right)"
   ]
  },
  {
   "cell_type": "code",
   "execution_count": 3,
   "metadata": {},
   "outputs": [],
   "source": [
    "root = Node(4)"
   ]
  },
  {
   "cell_type": "code",
   "execution_count": 4,
   "metadata": {},
   "outputs": [],
   "source": [
    "root.left = Node(2)\n",
    "root.right = Node(5)\n",
    "root.left.left = Node(1)\n",
    "root.left.right = Node(3)"
   ]
  },
  {
   "cell_type": "code",
   "execution_count": 5,
   "metadata": {},
   "outputs": [
    {
     "name": "stdout",
     "output_type": "stream",
     "text": [
      "1\n",
      "2\n",
      "3\n",
      "4\n",
      "5\n"
     ]
    }
   ],
   "source": [
    "Inorder(root)"
   ]
  },
  {
   "cell_type": "code",
   "execution_count": 6,
   "metadata": {},
   "outputs": [],
   "source": [
    "def Postorder(racine: Node):\n",
    "    \"\"\"后序遍历\n",
    "    \n",
    "    先左子树然后右子树再根\n",
    "    可以用于遍历binary expression tree来获得inverse Polish notation的表达式\n",
    "    \n",
    "    其中Polish notation是运算符在运算子后面,比如 22+表示\"二加二\"\n",
    "\n",
    "    \n",
    "    Args:\n",
    "        racine(Node) :- 根节点\n",
    "    \"\"\"\n",
    "    if racine:\n",
    "        Postorder(racine.left)\n",
    "        Postorder(racine.right)\n",
    "        print(racine.val)"
   ]
  },
  {
   "cell_type": "code",
   "execution_count": 7,
   "metadata": {},
   "outputs": [
    {
     "name": "stdout",
     "output_type": "stream",
     "text": [
      "2\n",
      "2\n",
      "+\n",
      "5\n",
      "*\n"
     ]
    }
   ],
   "source": [
    "root = Node(\"*\")\n",
    "root.left = Node(\"+\")\n",
    "root.right = Node(5)\n",
    "root.left.left = Node(2)\n",
    "root.left.right = Node(2)\n",
    "\n",
    "Postorder(root)"
   ]
  },
  {
   "cell_type": "code",
   "execution_count": 8,
   "metadata": {},
   "outputs": [],
   "source": [
    "def Preorder(racine: Node):\n",
    "    \"\"\"先序遍历\n",
    "    \n",
    "    先根然后左子树再右子树\n",
    "    可以用于遍历binary expression tree来获得Polish notation的表达式\n",
    "    \n",
    "    其中Polish notation是运算符在运算子前面,比如 + 2 2; \n",
    "    不同于我们习惯的infix notation,就是运算符在运算子之间的,比如 2 + 2\n",
    "\n",
    "    \n",
    "    Args:\n",
    "        racine(Node) :- 根节点\n",
    "    \"\"\"\n",
    "    if racine:\n",
    "        print(racine.val)\n",
    "        Preorder(racine.left)\n",
    "        Preorder(racine.right)\n",
    "        "
   ]
  },
  {
   "cell_type": "code",
   "execution_count": 9,
   "metadata": {},
   "outputs": [
    {
     "name": "stdout",
     "output_type": "stream",
     "text": [
      "*\n",
      "+\n",
      "2\n",
      "2\n",
      "5\n"
     ]
    }
   ],
   "source": [
    "root = Node(\"*\")\n",
    "root.left = Node(\"+\")\n",
    "root.right = Node(5)\n",
    "root.left.left = Node(2)\n",
    "root.left.right = Node(2)\n",
    "\n",
    "\n",
    "Preorder(root) # (2+2)*5"
   ]
  },
  {
   "cell_type": "code",
   "execution_count": null,
   "metadata": {},
   "outputs": [],
   "source": []
  }
 ],
 "metadata": {
  "kernelspec": {
   "display_name": "Python 3",
   "language": "python",
   "name": "python3"
  },
  "language_info": {
   "codemirror_mode": {
    "name": "ipython",
    "version": 3
   },
   "file_extension": ".py",
   "mimetype": "text/x-python",
   "name": "python",
   "nbconvert_exporter": "python",
   "pygments_lexer": "ipython3",
   "version": "3.7.3"
  }
 },
 "nbformat": 4,
 "nbformat_minor": 2
}
