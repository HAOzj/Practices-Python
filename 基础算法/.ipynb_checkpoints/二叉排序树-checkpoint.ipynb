{
 "cells": [
  {
   "cell_type": "markdown",
   "metadata": {},
   "source": [
    "# 二叉排序树  \n",
    "\n",
    "二叉排序树是一种二叉树,它满足\n",
    "\n",
    "1. 除了叶子节点,最多有两个子节点\n",
    "2. 它的左子树的所有的值都小于根节点\n",
    "3. 它的右子树的所有的值都大于根节点\n",
    "4. 它的左子树和右子树也是二叉排序树"
   ]
  },
  {
   "cell_type": "markdown",
   "metadata": {},
   "source": [
    "二叉排序树的搜索一般相比普通的树更有效率,但插入和删除会复杂些."
   ]
  },
  {
   "cell_type": "code",
   "execution_count": 1,
   "metadata": {},
   "outputs": [],
   "source": [
    "class Node():\n",
    "    def __init__(self, v):\n",
    "        self.left = None\n",
    "        self.right = None\n",
    "        self.val = v \n"
   ]
  },
  {
   "cell_type": "code",
   "execution_count": 2,
   "metadata": {},
   "outputs": [],
   "source": [
    "def traverse(bst: Node, vals: list)->list:\n",
    "    \"\"\"遍历树\"\"\"\n",
    "    if bst:\n",
    "        vals.append(bst.val)\n",
    "        if bst.left:\n",
    "            traverse(bst.left, vals)\n",
    "        if bst.right:\n",
    "            traverse(bst.right, vals)\n",
    "        "
   ]
  },
  {
   "cell_type": "code",
   "execution_count": 3,
   "metadata": {},
   "outputs": [],
   "source": [
    "bst = Node(1)\n",
    "bst.left = Node(0)\n",
    "bst.right = Node(3)\n",
    "bst.right.left = Node(2)\n",
    "bst.right.left.left = Node(1.5)"
   ]
  },
  {
   "cell_type": "code",
   "execution_count": 4,
   "metadata": {},
   "outputs": [
    {
     "data": {
      "text/plain": [
       "[1, 0, 3, 2, 1.5]"
      ]
     },
     "execution_count": 4,
     "metadata": {},
     "output_type": "execute_result"
    }
   ],
   "source": [
    "vals = []\n",
    "traverse(bst, vals)\n",
    "vals"
   ]
  },
  {
   "cell_type": "code",
   "execution_count": 5,
   "metadata": {},
   "outputs": [],
   "source": [
    "def check_if_sorted_recursion(bst: Node)->bool:\n",
    "    \"\"\"检查二叉排序树的2和3条件\"\"\"\n",
    "    print(f\"现在检查{bst.val}节点\")\n",
    "    if bst.left:\n",
    "        vals = []\n",
    "        traverse(bst.left, vals)\n",
    "        print(\"左边是\", vals)\n",
    "        if not all([val<bst.val for val in vals]):\n",
    "            return False \n",
    "    if bst.right:\n",
    "        vals = []\n",
    "        traverse(bst.right, vals)\n",
    "        print(\"右边是\", vals)\n",
    "        if not all([val>bst.val for val in vals]):\n",
    "            return False \n",
    "    return True \n",
    "        \n",
    "    "
   ]
  },
  {
   "cell_type": "code",
   "execution_count": 6,
   "metadata": {},
   "outputs": [
    {
     "name": "stdout",
     "output_type": "stream",
     "text": [
      "现在检查1节点\n",
      "左边是 [0]\n",
      "右边是 [3, 2, 1.5]\n"
     ]
    },
    {
     "data": {
      "text/plain": [
       "True"
      ]
     },
     "execution_count": 6,
     "metadata": {},
     "output_type": "execute_result"
    }
   ],
   "source": [
    "check_if_sorted_recursion(bst)"
   ]
  },
  {
   "cell_type": "code",
   "execution_count": 7,
   "metadata": {},
   "outputs": [],
   "source": [
    "def check_if_sorted(bst: Node)->bool:\n",
    "    \"\"\"检查二叉排序树的2,3和4条件\"\"\"\n",
    "    if bst is None:\n",
    "        return True \n",
    "    \n",
    "    if not check_if_sorted_recursion(bst):\n",
    "        return False \n",
    "    else:\n",
    "        return check_if_sorted(bst.left) and check_if_sorted(bst.right)"
   ]
  },
  {
   "cell_type": "code",
   "execution_count": 8,
   "metadata": {},
   "outputs": [
    {
     "name": "stdout",
     "output_type": "stream",
     "text": [
      "现在检查1节点\n",
      "左边是 [0]\n",
      "右边是 [3, 2, 1.5]\n",
      "现在检查0节点\n",
      "现在检查3节点\n",
      "左边是 [2, 1.5]\n",
      "现在检查2节点\n",
      "左边是 [1.5]\n",
      "现在检查1.5节点\n"
     ]
    },
    {
     "data": {
      "text/plain": [
       "True"
      ]
     },
     "execution_count": 8,
     "metadata": {},
     "output_type": "execute_result"
    }
   ],
   "source": [
    "check_if_sorted(bst)"
   ]
  },
  {
   "cell_type": "code",
   "execution_count": null,
   "metadata": {},
   "outputs": [],
   "source": []
  }
 ],
 "metadata": {
  "kernelspec": {
   "display_name": "Python 3",
   "language": "python",
   "name": "python3"
  },
  "language_info": {
   "codemirror_mode": {
    "name": "ipython",
    "version": 3
   },
   "file_extension": ".py",
   "mimetype": "text/x-python",
   "name": "python",
   "nbconvert_exporter": "python",
   "pygments_lexer": "ipython3",
   "version": "3.7.3"
  }
 },
 "nbformat": 4,
 "nbformat_minor": 2
}
