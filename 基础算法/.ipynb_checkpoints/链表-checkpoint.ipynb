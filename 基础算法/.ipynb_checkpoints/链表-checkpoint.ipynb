{
 "cells": [
  {
   "cell_type": "markdown",
   "metadata": {},
   "source": [
    "链表(linked list)和数组,栈,队列一样,也是一种顺序的数据集合,每个元素叫做结点,包含值和指针.但是元素的顺序不是由逻辑内存位置决定的,而是由每个元素指向下一个元素或上一个元素的指针来决定.  \n",
    "我们想象一群手拉手玩的小朋友.有时候小朋友要回家,拉ta两只手的小伙伴拉起手来;有时候有新的小伙伴加入其中,到了之前两个拉手的小伙伴之间. \n",
    "\n",
    "它的基本操作包括:\n",
    "- Search,查找指定元素 \n",
    "- Get,按照索引返回元素\n",
    "- Insert,指定位置插入指定元素\n",
    "- InsertAtHead,在头部插入元素\n",
    "- InsertAtTail,在尾部插入元素\n",
    "- Traversal,从头到尾返回所有结点的值\n",
    "- Pop,删除指定索引的元素\n",
    "- Delete,删除指定元素"
   ]
  },
  {
   "cell_type": "markdown",
   "metadata": {},
   "source": [
    "# 分类\n",
    "- 按照每个结点的指针类型可以分为单链表和双链表.单链表只有指向下一个的指针,双链表有next和previous的指针.  \n",
    "- 按照首尾是否相连,链表分为普通链表和循环链表.循环单链表的最后一个结点指向头结点,而循环双链表不仅最后一个结点的next指向头结点,头结点的previous指向尾结点."
   ]
  },
  {
   "cell_type": "markdown",
   "metadata": {},
   "source": [
    "# 和其他线性数据结果的对比. \n",
    "相比数组等,链表的好处是\n",
    "- 插入和删除不需要移动大量元素,需要调整指针就可以\n",
    "坏处是\n",
    "- 按照索引查找比较费时,需要从头开始一个个找\n",
    "- 占用空间,因为指针的存在\n",
    "- 对于单链表来说,逆转(reverse)很复杂\n",
    "\n",
    "# 应用  \n",
    "单循环链表的应用包括操作系统的资源分配,比如单核系统运行多个程序时,其实多个程序不是同时运行的,而是每个程序轮流运行很短的时间,短到你看不出来同一个程序之间有间隔.这时每个结点表示每个进程,数值为该进程单次的执行时间,系统循环运行每个程序.   \n",
    "\n",
    "**待补充**"
   ]
  },
  {
   "cell_type": "code",
   "execution_count": 12,
   "metadata": {},
   "outputs": [],
   "source": [
    "class Node():\n",
    "    def __init__(self, val):\n",
    "        self.val = val \n",
    "        self.next = None \n",
    "        \n",
    "class ListedNode():\n",
    "    \"\"\"单向链表\"\"\"\n",
    "    def __init__(self):\n",
    "        self.head = Node(None)\n",
    "    \n",
    "    @property\n",
    "    def isEmpty(self):\n",
    "        if self.head.next == None:\n",
    "            return True\n",
    "        return False \n",
    "    \n",
    "    @property\n",
    "    def Size(self):\n",
    "        size = 0\n",
    "        cur = self.head\n",
    "        while cur.next:\n",
    "            cur = cur.next\n",
    "            size += 1\n",
    "        return size\n",
    "    \n",
    "    @property\n",
    "    def Traversal(self):\n",
    "        cur = self.head\n",
    "        while cur.next:\n",
    "            cur = cur.next\n",
    "            print(cur.val)\n",
    "    \n",
    "    def Search(self, val):\n",
    "        \"\"\"在链表中查找元素val\n",
    "        \n",
    "        如果找不到则返回-1\n",
    "        找到则返回该结点索引\n",
    "        \"\"\"\n",
    "        index = 0\n",
    "        cur = self.head.next \n",
    "        while cur is not None:\n",
    "            if cur.val == val:\n",
    "                return index\n",
    "            else:\n",
    "                cur = cur.next\n",
    "                index += 1\n",
    "        return -1\n",
    "    \n",
    "    def Get(self, index):\n",
    "        \"\"\"获得指定索引的元素\n",
    "        \n",
    "        Args:\n",
    "            index(int) :- non-negative integer\n",
    "        \"\"\"\n",
    "        if self.isEmpty:\n",
    "            return None\n",
    "        cur = self.head\n",
    "        for i in range(index+1):\n",
    "            if cur.next:\n",
    "                cur = cur.next\n",
    "            else:\n",
    "                return None\n",
    "        return cur.val\n",
    "    \n",
    "    def InsertAtHead(self, val):\n",
    "        tmp = self.head.next\n",
    "        node = Node(val)\n",
    "        node.next = tmp\n",
    "        self.head.next = node \n",
    "        \n",
    "    def InsertAtTail(self, val):\n",
    "        cur = self.head\n",
    "        while cur.next:\n",
    "            cur = cur.next\n",
    "        cur.next = Node(val)\n",
    "    \n",
    "    def Insert(self, index, val):\n",
    "        if self.isEmpty:\n",
    "            self.head.next = Node(val)\n",
    "        cur = self.head\n",
    "        for i in range(index+1):\n",
    "            if cur.next is not None:\n",
    "                cur = cur.next\n",
    "            else:\n",
    "                cur.next = Node(val)\n",
    "                return \n",
    "        tmp = cur.next\n",
    "        node = Node(val)\n",
    "        node.next = tmp\n",
    "        cur.next = node\n",
    "    \n",
    "    def Pop(self, index):\n",
    "        if self.isEmpty:\n",
    "            return\n",
    "        cur = self.head\n",
    "        for i in range(index):\n",
    "            if cur.next is not None:\n",
    "                cur = cur.next\n",
    "            else:\n",
    "                return\n",
    "        cur.next = cur.next.next\n",
    "        \n",
    "    def Delete(self, val):\n",
    "        \"\"\"删除全部值为val的元素\"\"\"\n",
    "        if self.isEmpty:\n",
    "            return\n",
    "        cur = self.head\n",
    "        while cur.next is not None:\n",
    "            if cur.next.val == val:\n",
    "                cur.next = cur.next.next\n",
    "            cur = cur.next"
   ]
  },
  {
   "cell_type": "code",
   "execution_count": 13,
   "metadata": {},
   "outputs": [],
   "source": [
    "xixi = ListedNode()"
   ]
  },
  {
   "cell_type": "code",
   "execution_count": 14,
   "metadata": {},
   "outputs": [
    {
     "data": {
      "text/plain": [
       "5"
      ]
     },
     "execution_count": 14,
     "metadata": {},
     "output_type": "execute_result"
    }
   ],
   "source": [
    "for val in range(10, 0, -1):\n",
    "    xixi.InsertAtHead(val)\n",
    "xixi.Search(6)"
   ]
  },
  {
   "cell_type": "code",
   "execution_count": 15,
   "metadata": {},
   "outputs": [
    {
     "name": "stdout",
     "output_type": "stream",
     "text": [
      "1\n",
      "2\n",
      "3\n",
      "4\n",
      "5\n",
      "6\n",
      "7\n",
      "8\n",
      "9\n",
      "10\n"
     ]
    }
   ],
   "source": [
    "xixi.Traversal"
   ]
  },
  {
   "cell_type": "code",
   "execution_count": 16,
   "metadata": {},
   "outputs": [],
   "source": [
    "xixi.Delete(0)"
   ]
  },
  {
   "cell_type": "code",
   "execution_count": 17,
   "metadata": {},
   "outputs": [
    {
     "data": {
      "text/plain": [
       "-1"
      ]
     },
     "execution_count": 17,
     "metadata": {},
     "output_type": "execute_result"
    }
   ],
   "source": [
    "xixi.Search(0)"
   ]
  },
  {
   "cell_type": "code",
   "execution_count": 18,
   "metadata": {},
   "outputs": [
    {
     "data": {
      "text/plain": [
       "1"
      ]
     },
     "execution_count": 18,
     "metadata": {},
     "output_type": "execute_result"
    }
   ],
   "source": [
    "xixi.Get(0)"
   ]
  },
  {
   "cell_type": "code",
   "execution_count": 19,
   "metadata": {},
   "outputs": [
    {
     "data": {
      "text/plain": [
       "10"
      ]
     },
     "execution_count": 19,
     "metadata": {},
     "output_type": "execute_result"
    }
   ],
   "source": [
    "xixi.Size"
   ]
  },
  {
   "cell_type": "code",
   "execution_count": 20,
   "metadata": {},
   "outputs": [
    {
     "name": "stdout",
     "output_type": "stream",
     "text": [
      "1\n",
      "2\n",
      "3\n",
      "5\n",
      "6\n",
      "7\n",
      "8\n",
      "9\n",
      "10\n"
     ]
    }
   ],
   "source": [
    "xixi.Pop(3)\n",
    "xixi.Traversal"
   ]
  },
  {
   "cell_type": "code",
   "execution_count": 21,
   "metadata": {},
   "outputs": [
    {
     "name": "stdout",
     "output_type": "stream",
     "text": [
      "2\n",
      "3\n",
      "5\n",
      "6\n",
      "7\n",
      "8\n",
      "9\n",
      "10\n"
     ]
    }
   ],
   "source": [
    "xixi.Delete(1)\n",
    "xixi.Traversal"
   ]
  },
  {
   "cell_type": "code",
   "execution_count": 22,
   "metadata": {},
   "outputs": [
    {
     "data": {
      "text/plain": [
       "8"
      ]
     },
     "execution_count": 22,
     "metadata": {},
     "output_type": "execute_result"
    }
   ],
   "source": [
    "xixi.Size"
   ]
  },
  {
   "cell_type": "code",
   "execution_count": 23,
   "metadata": {},
   "outputs": [],
   "source": [
    "xixi.InsertAtTail(0)"
   ]
  },
  {
   "cell_type": "code",
   "execution_count": 24,
   "metadata": {},
   "outputs": [
    {
     "name": "stdout",
     "output_type": "stream",
     "text": [
      "2\n",
      "3\n",
      "5\n",
      "6\n",
      "7\n",
      "8\n",
      "9\n",
      "10\n",
      "0\n"
     ]
    }
   ],
   "source": [
    "xixi.Traversal"
   ]
  },
  {
   "cell_type": "code",
   "execution_count": null,
   "metadata": {},
   "outputs": [],
   "source": []
  }
 ],
 "metadata": {
  "kernelspec": {
   "display_name": "Python 3",
   "language": "python",
   "name": "python3"
  },
  "language_info": {
   "codemirror_mode": {
    "name": "ipython",
    "version": 3
   },
   "file_extension": ".py",
   "mimetype": "text/x-python",
   "name": "python",
   "nbconvert_exporter": "python",
   "pygments_lexer": "ipython3",
   "version": "3.7.3"
  }
 },
 "nbformat": 4,
 "nbformat_minor": 2
}
