{
 "cells": [
  {
   "cell_type": "markdown",
   "metadata": {},
   "source": [
    "队列(queue)是一种基于数组的数据结构,它的特点是先进先出(FIFO, First In First Out).想象我们结账排队,排在前面的先结账出来.\n",
    "\n",
    "如果我们把它看作一个队伍的话,它的基本操作包括:\n",
    "- Enqueue,队列末尾加入一个元素\n",
    "- Dequeue,队列头部出来一个元素\n",
    "- Top,返回队列头部第一个元素\n",
    "\n"
   ]
  },
  {
   "cell_type": "code",
   "execution_count": 1,
   "metadata": {},
   "outputs": [],
   "source": [
    "class Queue():\n",
    "    def __init__(self):\n",
    "        self.q = []\n",
    "    \n",
    "    def Enqueue(self, v):\n",
    "        self.q.append(v)\n",
    "    \n",
    "    def Dequeue(self):\n",
    "        if not self.isEmpty:\n",
    "            return self.q.pop(0)\n",
    "    \n",
    "    @property\n",
    "    def isEmpty(self):\n",
    "        if len(self.q):\n",
    "            return False\n",
    "        return True\n",
    "    \n",
    "    @property\n",
    "    def Top(self):\n",
    "        if not self.isEmpty:\n",
    "            return self.q[0]\n",
    "            \n",
    "        \n",
    "    "
   ]
  },
  {
   "cell_type": "code",
   "execution_count": 2,
   "metadata": {},
   "outputs": [],
   "source": [
    "q = Queue()"
   ]
  },
  {
   "cell_type": "code",
   "execution_count": 3,
   "metadata": {},
   "outputs": [],
   "source": [
    "for d in list(\"唐宋元明清\"):\n",
    "    q.Enqueue(d)"
   ]
  },
  {
   "cell_type": "code",
   "execution_count": 4,
   "metadata": {},
   "outputs": [
    {
     "data": {
      "text/plain": [
       "'唐'"
      ]
     },
     "execution_count": 4,
     "metadata": {},
     "output_type": "execute_result"
    }
   ],
   "source": [
    "q.Dequeue()"
   ]
  },
  {
   "cell_type": "code",
   "execution_count": 5,
   "metadata": {},
   "outputs": [
    {
     "data": {
      "text/plain": [
       "'宋'"
      ]
     },
     "execution_count": 5,
     "metadata": {},
     "output_type": "execute_result"
    }
   ],
   "source": [
    "q.Top"
   ]
  },
  {
   "cell_type": "code",
   "execution_count": null,
   "metadata": {},
   "outputs": [],
   "source": []
  }
 ],
 "metadata": {
  "kernelspec": {
   "display_name": "Python 3",
   "language": "python",
   "name": "python3"
  },
  "language_info": {
   "codemirror_mode": {
    "name": "ipython",
    "version": 3
   },
   "file_extension": ".py",
   "mimetype": "text/x-python",
   "name": "python",
   "nbconvert_exporter": "python",
   "pygments_lexer": "ipython3",
   "version": "3.7.3"
  }
 },
 "nbformat": 4,
 "nbformat_minor": 2
}
