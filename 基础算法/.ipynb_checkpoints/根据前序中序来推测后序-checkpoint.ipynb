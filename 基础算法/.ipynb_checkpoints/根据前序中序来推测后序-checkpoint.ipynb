{
 "cells": [
  {
   "cell_type": "code",
   "execution_count": 1,
   "metadata": {},
   "outputs": [],
   "source": [
    "class Node():\n",
    "    def __init__(self, val):\n",
    "        self.right = None \n",
    "        self.left = None \n",
    "        self.val = val\n",
    "\n",
    "\n",
    "    "
   ]
  },
  {
   "cell_type": "markdown",
   "metadata": {},
   "source": [
    "# 用递归方法实现前中后序遍历"
   ]
  },
  {
   "cell_type": "code",
   "execution_count": 2,
   "metadata": {},
   "outputs": [],
   "source": [
    "def in_order(node: Node)->list:\n",
    "    \"\"\"中序遍历\"\"\"\n",
    "    vals = []\n",
    "    if not node:\n",
    "        return vals\n",
    "    \n",
    "    if node.left:\n",
    "        vals += in_order(node.left)\n",
    "    vals.append(node.val)\n",
    "    if node.right:\n",
    "        vals += in_order(node.right)\n",
    "    return vals\n",
    "\n",
    "\n",
    "def pre_order(node: Node)->list:\n",
    "    \"\"\"先序遍历\"\"\"\n",
    "    vals = []\n",
    "    if not node:\n",
    "        return vals\n",
    "    \n",
    "    vals.append(node.val)\n",
    "    if node.left:\n",
    "        vals += pre_order(node.left)\n",
    "    if node.right:\n",
    "        vals += pre_order(node.right)\n",
    "    return vals\n",
    "\n",
    "\n",
    "def post_order(node: Node)->list:\n",
    "    \"\"\"后序遍历\"\"\"\n",
    "    vals = []\n",
    "    if not node:\n",
    "        return vals\n",
    "    \n",
    "    if node.left:\n",
    "        vals += post_order(node.left)\n",
    "    if node.right:\n",
    "        vals += post_order(node.right)\n",
    "    vals.append(node.val)\n",
    "    return vals"
   ]
  },
  {
   "cell_type": "markdown",
   "metadata": {},
   "source": [
    "# 其他方法来遍历"
   ]
  },
  {
   "cell_type": "code",
   "execution_count": null,
   "metadata": {},
   "outputs": [],
   "source": [
    "def pre_order_stack(node: Node)->list:\n",
    "    \"\"\"用栈和标记法来遍历\"\"\"\n",
    "    res = []\n",
    "    if not node:\n",
    "        return res \n",
    "    \n",
    "    stack = [node]\n",
    "    while stack:\n",
    "        tmp = stack.pop()\n",
    "        if tmp is None:\n",
    "            continue\n",
    "        elif isinstance(tmp, Node):\n",
    "            stack.append(tmp.right)\n",
    "            stack.append(tmp.left)\n",
    "            tmp = tmp.val\n",
    "        res.append(tmp)\n",
    "        \n",
    "    return res\n",
    "\n",
    "\n",
    "def in_order_iter(root: Optional[Node]):\n",
    "    \"\"\"用迭代方法来模拟递归过程\n",
    "    \n",
    "    求中序遍历第k小的数时无需遍历整个数\n",
    "    \"\"\"\n",
    "    if not root:\n",
    "        return []\n",
    "    \n",
    "    node = root\n",
    "    res, stack = [], [node]\n",
    "    while stack:\n",
    "        while node.left:\n",
    "            node = node.left\n",
    "            stack.append(node)\n",
    "        node = stack.pop()\n",
    "        res.append(node.val)\n",
    "        if node.right:\n",
    "            stack.append(node.right)\n",
    "    return res "
   ]
  },
  {
   "cell_type": "code",
   "execution_count": 4,
   "metadata": {},
   "outputs": [],
   "source": [
    "tree = Node(\"+\")\n",
    "tree.left = Node(\"*\")\n",
    "tree.left.left = Node(2)\n",
    "tree.left.right = Node(3)\n",
    "tree.right = Node(4)"
   ]
  },
  {
   "cell_type": "code",
   "execution_count": 5,
   "metadata": {},
   "outputs": [
    {
     "data": {
      "text/plain": [
       "[2, 3, '*', 4, '+']"
      ]
     },
     "execution_count": 5,
     "metadata": {},
     "output_type": "execute_result"
    }
   ],
   "source": [
    "post_order(tree)\n"
   ]
  },
  {
   "cell_type": "code",
   "execution_count": 6,
   "metadata": {},
   "outputs": [],
   "source": [
    "def reconstruction_by_in_pre(in_: list, pre_: list)->Node:\n",
    "    \"\"\"假设没有重复的值\"\"\"\n",
    "    try:\n",
    "        assert len(in_) == len(pre_)\n",
    "    except AssertionError:\n",
    "        raise AssertionError(\"in-order and pre-order traversals are of different lengths\")\n",
    "        return None\n",
    "    \n",
    "    try:\n",
    "        assert len(in_) == len(set(in_))\n",
    "    except AssertionError:\n",
    "        print(\"there exist duplicated values\")\n",
    "        return None\n",
    "    \n",
    "    if not in_:\n",
    "        return None\n",
    "    pivot = pre_[0]\n",
    "    node = Node(pivot)\n",
    "    pivot_index = in_.index(pivot)\n",
    "    node.left = reconstruction_by_in_pre(in_[: pivot_index], pre_[1: pivot_index+1])\n",
    "    node.right = reconstruction_by_in_pre(in_[pivot_index+1:], pre_[pivot_index+1:])\n",
    "    return node"
   ]
  },
  {
   "cell_type": "code",
   "execution_count": 7,
   "metadata": {},
   "outputs": [],
   "source": [
    "def from_in_pre_to_post(in_: list, pre_: list)->list:\n",
    "    \"\"\"根据中序和前序遍历来获得后序遍历\"\"\"\n",
    "    return post_order(reconstruction_by_in_pre(in_, pre_))"
   ]
  },
  {
   "cell_type": "code",
   "execution_count": 8,
   "metadata": {},
   "outputs": [],
   "source": [
    "node1 = Node(\"+\")\n",
    "node1.left = Node(4)\n",
    "node1.right = Node(\"*\")\n",
    "node1.right.left = Node(2)\n",
    "node1.right.right = Node(3)\n",
    "\n",
    "node2= Node(3)\n",
    "node2.left = Node(1)\n",
    "node2.left.left = Node(0.5)\n",
    "node2.left.right = Node(2)\n",
    "node2.left.right.right = Node(2.5)\n",
    "\n",
    "\n",
    "node3 = None\n",
    "\n",
    "node4 = Node(1)\n",
    "node4.right = Node(2)\n",
    "node4.right.right = Node(3)\n",
    "node4.right.right.right = Node(4)\n",
    "node4.right.right.right.right = Node(5)\n",
    "\n",
    "node5 = Node(1)\n",
    "node5.left = Node(1)\n",
    "\n",
    "nodes = [tree, node1, node2, node3, node4, node5]"
   ]
  },
  {
   "cell_type": "code",
   "execution_count": 9,
   "metadata": {},
   "outputs": [
    {
     "name": "stderr",
     "output_type": "stream",
     "text": [
      "\r",
      "  0%|                                                                                            | 0/6 [00:00<?, ?it/s]"
     ]
    },
    {
     "name": "stdout",
     "output_type": "stream",
     "text": [
      "there exist duplicated values\n",
      "中序遍历为 [1, 1]\n",
      "前序遍历为 [1, 1]\n",
      "后序遍历为 [1, 1]\n",
      "推测的后序遍历为 []\n"
     ]
    },
    {
     "name": "stderr",
     "output_type": "stream",
     "text": [
      "100%|███████████████████████████████████████████████████████████████████████████████████| 6/6 [00:00<00:00, 754.33it/s]\n"
     ]
    }
   ],
   "source": [
    "from tqdm import tqdm \n",
    "\n",
    "def test(nodes: list):\n",
    "    for node in tqdm(nodes):\n",
    "        in_ = in_order(node)\n",
    "        pre_ = pre_order(node)\n",
    "        post_ = post_order(node)\n",
    "        post_infered = from_in_pre_to_post(in_, pre_)\n",
    "        try:\n",
    "            assert post_ == post_infered\n",
    "        except AssertionError:\n",
    "            print(\"中序遍历为\", in_)\n",
    "            print(\"前序遍历为\", pre_)\n",
    "            print(\"后序遍历为\", post_)\n",
    "            print(\"推测的后序遍历为\", post_infered)\n",
    "            if len(in_) != len(set(in_)):\n",
    "                continue\n",
    "            raise AssertionError\n",
    "\n",
    "test(nodes)\n"
   ]
  },
  {
   "cell_type": "code",
   "execution_count": null,
   "metadata": {},
   "outputs": [],
   "source": []
  },
  {
   "cell_type": "code",
   "execution_count": null,
   "metadata": {},
   "outputs": [],
   "source": []
  }
 ],
 "metadata": {
  "kernelspec": {
   "display_name": "Python 3",
   "language": "python",
   "name": "python3"
  },
  "language_info": {
   "codemirror_mode": {
    "name": "ipython",
    "version": 3
   },
   "file_extension": ".py",
   "mimetype": "text/x-python",
   "name": "python",
   "nbconvert_exporter": "python",
   "pygments_lexer": "ipython3",
   "version": "3.7.3"
  }
 },
 "nbformat": 4,
 "nbformat_minor": 2
}
