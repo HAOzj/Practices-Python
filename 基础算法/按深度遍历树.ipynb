{
 "cells": [
  {
   "cell_type": "code",
   "execution_count": 1,
   "metadata": {},
   "outputs": [],
   "source": [
    "class TreeNode():\n",
    "    def __init__(self, val):\n",
    "        self.right = None \n",
    "        self.left = None \n",
    "        self.val = val\n",
    "\n",
    "\n",
    "    "
   ]
  },
  {
   "cell_type": "code",
   "execution_count": 2,
   "metadata": {},
   "outputs": [],
   "source": [
    "def levelOrderTraversal(tree: TreeNode)->list:\n",
    "    \"\"\"从下到上从左到右遍历树\"\"\"\n",
    "    liste = []\n",
    "    if tree:\n",
    "        liste.append(tree.val)\n",
    "    current = [tree]\n",
    "    while current:\n",
    "        descendant = []\n",
    "        for node in current:\n",
    "            if node.right:\n",
    "                descendant.append(node.right)\n",
    "            if node.left:\n",
    "                descendant.append(node.left)\n",
    "\n",
    "        liste += [node.val for node in descendant]\n",
    "        current = descendant\n",
    "    liste.reverse()\n",
    "    return liste "
   ]
  },
  {
   "cell_type": "code",
   "execution_count": 3,
   "metadata": {},
   "outputs": [],
   "source": [
    "tree = TreeNode(1)\n",
    "tree.left = TreeNode(2)\n",
    "tree.right = TreeNode(3)\n",
    "tree.left.left = TreeNode(4)\n",
    "tree.left.left.left = TreeNode(5)\n",
    "tree.left.left.right = TreeNode(6)"
   ]
  },
  {
   "cell_type": "code",
   "execution_count": 4,
   "metadata": {},
   "outputs": [
    {
     "data": {
      "text/plain": [
       "[5, 6, 4, 2, 3, 1]"
      ]
     },
     "execution_count": 4,
     "metadata": {},
     "output_type": "execute_result"
    }
   ],
   "source": [
    "levelOrderTraversal(tree)"
   ]
  },
  {
   "cell_type": "code",
   "execution_count": null,
   "metadata": {},
   "outputs": [],
   "source": []
  }
 ],
 "metadata": {
  "kernelspec": {
   "display_name": "Python 3",
   "language": "python",
   "name": "python3"
  },
  "language_info": {
   "codemirror_mode": {
    "name": "ipython",
    "version": 3
   },
   "file_extension": ".py",
   "mimetype": "text/x-python",
   "name": "python",
   "nbconvert_exporter": "python",
   "pygments_lexer": "ipython3",
   "version": "3.7.2"
  }
 },
 "nbformat": 4,
 "nbformat_minor": 2
}
