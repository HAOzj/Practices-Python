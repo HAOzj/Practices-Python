{
 "cells": [
  {
   "cell_type": "code",
   "execution_count": null,
   "metadata": {},
   "outputs": [],
   "source": [
    "\n",
    "        "
   ]
  },
  {
   "cell_type": "code",
   "execution_count": null,
   "metadata": {},
   "outputs": [],
   "source": []
  },
  {
   "cell_type": "code",
   "execution_count": 1,
   "metadata": {},
   "outputs": [],
   "source": [
    "from termcolor import colored\n",
    "from math import ceil\n",
    "import random\n",
    "import numpy as np\n",
    "\n",
    "from sort import (\n",
    "    bubble_sort, insert_sort, shell_sort, \n",
    "    quick_sort, merge_sort\n",
    ")"
   ]
  },
  {
   "cell_type": "code",
   "execution_count": null,
   "metadata": {
    "collapsed": true
   },
   "outputs": [],
   "source": []
  },
  {
   "cell_type": "code",
   "execution_count": 2,
   "metadata": {},
   "outputs": [
    {
     "data": {
      "text/plain": [
       "[85, 55, 21, 51, 66, 8, 11, 85, 6, 82]"
      ]
     },
     "execution_count": 2,
     "metadata": {},
     "output_type": "execute_result"
    }
   ],
   "source": [
    "liste = [ np.random.randint(0,100) for _ in range(10) ]\n",
    "liste"
   ]
  },
  {
   "cell_type": "code",
   "execution_count": null,
   "metadata": {
    "collapsed": true
   },
   "outputs": [],
   "source": []
  },
  {
   "cell_type": "markdown",
   "metadata": {},
   "source": [
    "**冒泡排序**  \n",
    "\n",
    "冒泡排序是最简单的排序算法之一,开始时整个数列为未排序子列,把未排序子列的最大元素排到最后,剩下元素组成新的为未排序子列,一直把未排序子列最大元素排到该子列最后,直到未排序子列长度未1.  \n",
    "这个过程中未排序子列的最大元素就像气泡一样从下面冒出来.\n",
    "\n",
    "*迭代过程*  \n",
    "\n",
    "不妨设要排序的序列为list,长度为len,用remain来标记未排序的子列长度,remain初始化为list的长度  \n",
    "\n",
    "1. list[:remain],也就是整个数列,为未排序子列,  \n",
    "2. 将未排序子列最大的数找出来并放在该子列最后,   \n",
    "3. remain = remian-1    \n",
    "4. 如果remain>=2,重复2步和3步  \n",
    "\n",
    "*复杂度*   \n",
    "\n",
    "要排序的数列长度标记为n.  \n",
    "每次迭代,操作数都是未排序子列长度的常数倍,不妨设为c.所以一共操作数约等于 $\\sum\\limits_{k =n}^2 k*c$.所以时间复杂度为$O(n^2)$.  \n",
    "迭代过程中,操作包括将未排序子列中每个元素从头到尾和下一个元素比较,大于下一个元素则交换位置,所以只需要一个额外的存储空间用于交换位置.\n",
    "\n"
   ]
  },
  {
   "cell_type": "code",
   "execution_count": 3,
   "metadata": {},
   "outputs": [
    {
     "name": "stdout",
     "output_type": "stream",
     "text": [
      "[85, 55, 21, 51, 66, 8, 11, 85, 6, 82]\n",
      "55 21 51 66 8 11 85 6 82 \u001b[31m85\u001b[0m \n",
      "\n",
      "21 51 55 8 11 66 6 82 \u001b[31m85\u001b[0m 85 \n",
      "\n",
      "21 51 8 11 55 6 66 \u001b[31m82\u001b[0m 85 85 \n",
      "\n",
      "21 8 11 51 6 55 \u001b[31m66\u001b[0m 82 85 85 \n",
      "\n",
      "8 11 21 6 51 \u001b[31m55\u001b[0m 66 82 85 85 \n",
      "\n",
      "8 11 6 21 \u001b[31m51\u001b[0m 55 66 82 85 85 \n",
      "\n",
      "8 6 11 \u001b[31m21\u001b[0m 51 55 66 82 85 85 \n",
      "\n",
      "6 8 \u001b[31m11\u001b[0m 21 51 55 66 82 85 85 \n",
      "\n",
      "6 \u001b[31m8\u001b[0m 11 21 51 55 66 82 85 85 \n",
      "\n"
     ]
    },
    {
     "data": {
      "text/plain": [
       "[6, 8, 11, 21, 51, 55, 66, 82, 85, 85]"
      ]
     },
     "execution_count": 3,
     "metadata": {},
     "output_type": "execute_result"
    }
   ],
   "source": [
    "liste2 = liste.copy()\n",
    "print(liste2)\n",
    "bubble_sort(liste2)\n",
    "liste2 # 红色标识每次冒出来的数(未排序子列的最大值)"
   ]
  },
  {
   "cell_type": "code",
   "execution_count": null,
   "metadata": {
    "collapsed": true
   },
   "outputs": [],
   "source": []
  },
  {
   "cell_type": "code",
   "execution_count": null,
   "metadata": {
    "collapsed": true
   },
   "outputs": [],
   "source": []
  },
  {
   "cell_type": "markdown",
   "metadata": {},
   "source": [
    "**插入排序**  \n",
    "\n",
    "插入排序是最简单的排序算法之一,从第二个元素开始,把每个元素插入到当前的有序子列.\n",
    "\n",
    "*迭代过程*  \n",
    "\n",
    "不妨设要排序的序列为list,长度为len,用i来标记要插入的元素的索引,i初始化为1    \n",
    "\n",
    "1. list[i]插入到list[:i]中, list[:i+1]成为了新的有序子列  \n",
    "2. i = i+1    \n",
    "3. 如果i<=len-1,重复1步和2步  \n",
    "\n",
    "*复杂度*   \n",
    "\n",
    "要排序的数列长度标记为n.  \n",
    "一个元素插入长度为k的有序数列的时间复杂度为O(logk)\n",
    "每次迭代,都是将新元素插入到当前的有序子序列中.所以一共操作数约等于 $\\sum\\limits_{k =2}^n logk*c$(约等于$$\\int logx dx$$).所以时间复杂度为$O(n*logn)$.  \n",
    "迭代过程中,需要使用O(n)个空间来帮助插入."
   ]
  },
  {
   "cell_type": "code",
   "execution_count": 4,
   "metadata": {},
   "outputs": [
    {
     "name": "stdout",
     "output_type": "stream",
     "text": [
      "[85, 55, 21, 51, 66, 8, 11, 85, 6, 82]\n",
      "\u001b[31m55\u001b[0m 85 \n",
      "\n",
      "\u001b[31m21\u001b[0m 55 85 \n",
      "\n",
      "21 \u001b[31m51\u001b[0m 55 85 \n",
      "\n",
      "21 51 55 \u001b[31m66\u001b[0m 85 \n",
      "\n",
      "\u001b[31m8\u001b[0m 21 51 55 66 85 \n",
      "\n",
      "8 \u001b[31m11\u001b[0m 21 51 55 66 85 \n",
      "\n",
      "8 11 21 51 55 66 \u001b[31m85\u001b[0m 85 \n",
      "\n",
      "\u001b[31m6\u001b[0m 8 11 21 51 55 66 85 85 \n",
      "\n",
      "6 8 11 21 51 55 66 \u001b[31m82\u001b[0m 85 85 \n",
      "\n"
     ]
    },
    {
     "data": {
      "text/plain": [
       "[6, 8, 11, 21, 51, 55, 66, 82, 85, 85]"
      ]
     },
     "execution_count": 4,
     "metadata": {},
     "output_type": "execute_result"
    }
   ],
   "source": [
    "liste2 = liste.copy()\n",
    "print(liste2)\n",
    "insert_sort(liste2)\n",
    "liste2 # 红色标识每次插入的数"
   ]
  },
  {
   "cell_type": "code",
   "execution_count": null,
   "metadata": {
    "collapsed": true
   },
   "outputs": [],
   "source": []
  },
  {
   "cell_type": "code",
   "execution_count": 5,
   "metadata": {},
   "outputs": [
    {
     "name": "stdout",
     "output_type": "stream",
     "text": [
      "[85, 55, 21, 51, 66, 8, 11, 85, 6, 82]\n",
      "d为5\n",
      "第1组间距为d的子列\n",
      "\u001b[31m8\u001b[0m 85 \n",
      "\n",
      "第2组间距为d的子列\n",
      "\u001b[31m11\u001b[0m 55 \n",
      "\n",
      "第3组间距为d的子列\n",
      "21 \u001b[31m85\u001b[0m \n",
      "\n",
      "第4组间距为d的子列\n",
      "\u001b[31m6\u001b[0m 51 \n",
      "\n",
      "第5组间距为d的子列\n",
      "66 \u001b[31m82\u001b[0m \n",
      "\n",
      "现在数组变成 [8, 11, 21, 6, 66, 85, 55, 85, 51, 82]\n",
      "d为2\n",
      "第1组间距为d的子列\n",
      "8 \u001b[31m21\u001b[0m \n",
      "\n",
      "8 21 \u001b[31m66\u001b[0m \n",
      "\n",
      "8 21 \u001b[31m55\u001b[0m 66 \n",
      "\n",
      "8 21 \u001b[31m51\u001b[0m 55 66 \n",
      "\n",
      "第2组间距为d的子列\n",
      "\u001b[31m6\u001b[0m 11 \n",
      "\n",
      "6 11 \u001b[31m85\u001b[0m \n",
      "\n",
      "6 11 \u001b[31m85\u001b[0m 85 \n",
      "\n",
      "6 11 \u001b[31m82\u001b[0m 85 85 \n",
      "\n",
      "现在数组变成 [8, 6, 21, 11, 51, 82, 55, 85, 66, 85]\n",
      "d为1\n",
      "第1组间距为d的子列\n",
      "\u001b[31m6\u001b[0m 8 \n",
      "\n",
      "6 8 \u001b[31m21\u001b[0m \n",
      "\n",
      "6 8 \u001b[31m11\u001b[0m 21 \n",
      "\n",
      "6 8 11 21 \u001b[31m51\u001b[0m \n",
      "\n",
      "6 8 11 21 51 \u001b[31m82\u001b[0m \n",
      "\n",
      "6 8 11 21 51 \u001b[31m55\u001b[0m 82 \n",
      "\n",
      "6 8 11 21 51 55 82 \u001b[31m85\u001b[0m \n",
      "\n",
      "6 8 11 21 51 55 \u001b[31m66\u001b[0m 82 85 \n",
      "\n",
      "6 8 11 21 51 55 66 82 \u001b[31m85\u001b[0m 85 \n",
      "\n",
      "现在数组变成 [6, 8, 11, 21, 51, 55, 66, 82, 85, 85]\n"
     ]
    },
    {
     "data": {
      "text/plain": [
       "[6, 8, 11, 21, 51, 55, 66, 82, 85, 85]"
      ]
     },
     "execution_count": 5,
     "metadata": {},
     "output_type": "execute_result"
    }
   ],
   "source": [
    "liste2 = liste.copy()\n",
    "print(liste2)\n",
    "shell_sort(liste2)\n",
    "liste2 "
   ]
  },
  {
   "cell_type": "code",
   "execution_count": 6,
   "metadata": {},
   "outputs": [
    {
     "name": "stdout",
     "output_type": "stream",
     "text": [
      "[85, 55, 21, 51, 66, 8, 11, 85, 6, 82]\n",
      "\n",
      "\n",
      "\u001b[32m55\u001b[0m \u001b[32m21\u001b[0m \u001b[32m51\u001b[0m \u001b[32m66\u001b[0m \u001b[32m8\u001b[0m \u001b[32m11\u001b[0m \u001b[32m85\u001b[0m \u001b[32m6\u001b[0m \u001b[32m82\u001b[0m \u001b[31m85\u001b[0m \n",
      "\n",
      "\u001b[32m21\u001b[0m \u001b[32m51\u001b[0m \u001b[32m8\u001b[0m \u001b[32m11\u001b[0m \u001b[32m6\u001b[0m \u001b[31m55\u001b[0m \u001b[32m66\u001b[0m \u001b[32m85\u001b[0m \u001b[32m82\u001b[0m 85 \n",
      "\n",
      "\u001b[32m8\u001b[0m \u001b[32m11\u001b[0m \u001b[32m6\u001b[0m \u001b[31m21\u001b[0m \u001b[32m51\u001b[0m 55 66 85 82 85 \n",
      "\n",
      "\u001b[32m6\u001b[0m \u001b[31m8\u001b[0m \u001b[32m11\u001b[0m 21 51 55 66 85 82 85 \n",
      "\n",
      "6 8 11 21 51 55 \u001b[31m66\u001b[0m \u001b[32m85\u001b[0m \u001b[32m82\u001b[0m 85 \n",
      "\n",
      "6 8 11 21 51 55 66 \u001b[32m82\u001b[0m \u001b[31m85\u001b[0m 85 "
     ]
    },
    {
     "data": {
      "text/plain": [
       "[6, 8, 11, 21, 51, 55, 66, 82, 85, 85]"
      ]
     },
     "execution_count": 6,
     "metadata": {},
     "output_type": "execute_result"
    }
   ],
   "source": [
    "liste2 = liste.copy()\n",
    "print(liste2)\n",
    "quick_sort(liste2)\n",
    "liste2 # 红色表示pivot，绿色表示被pivot分开的数"
   ]
  },
  {
   "cell_type": "code",
   "execution_count": 7,
   "metadata": {},
   "outputs": [
    {
     "name": "stdout",
     "output_type": "stream",
     "text": [
      "[85, 55, 21, 51, 66, 8, 11, 85, 6, 82]\n",
      "\n",
      "要合并的列表的数量 : 5\n",
      "\n",
      "\n",
      "\u001b[32m55\u001b[0m \u001b[32m85\u001b[0m 21 51 66 8 11 85 6 82 \n",
      "\n",
      "55 85 \u001b[32m21\u001b[0m \u001b[32m51\u001b[0m 66 8 11 85 6 82 \n",
      "\n",
      "55 85 21 51 \u001b[32m8\u001b[0m \u001b[32m66\u001b[0m 11 85 6 82 \n",
      "\n",
      "55 85 21 51 8 66 \u001b[32m11\u001b[0m \u001b[32m85\u001b[0m 6 82 \n",
      "\n",
      "55 85 21 51 8 66 11 85 \u001b[32m6\u001b[0m \u001b[32m82\u001b[0m \n",
      "要合并的列表的数量 : 3\n",
      "\n",
      "\n",
      "\u001b[32m21\u001b[0m \u001b[32m51\u001b[0m \u001b[32m55\u001b[0m \u001b[32m85\u001b[0m 8 66 11 85 6 82 \n",
      "\n",
      "21 51 55 85 \u001b[32m8\u001b[0m \u001b[32m11\u001b[0m \u001b[32m66\u001b[0m \u001b[32m85\u001b[0m 6 82 \n",
      "\n",
      "21 51 55 85 8 11 66 85 \u001b[32m6\u001b[0m \u001b[32m82\u001b[0m \n",
      "要合并的列表的数量 : 2\n",
      "\n",
      "\n",
      "\u001b[32m8\u001b[0m \u001b[32m11\u001b[0m \u001b[32m21\u001b[0m \u001b[32m51\u001b[0m \u001b[32m55\u001b[0m \u001b[32m66\u001b[0m \u001b[32m85\u001b[0m \u001b[32m85\u001b[0m 6 82 \n",
      "\n",
      "8 11 21 51 55 66 85 85 \u001b[32m6\u001b[0m \u001b[32m82\u001b[0m \n",
      "要合并的列表的数量 : 1\n",
      "\n",
      "\n",
      "\u001b[32m6\u001b[0m \u001b[32m8\u001b[0m \u001b[32m11\u001b[0m \u001b[32m21\u001b[0m \u001b[32m51\u001b[0m \u001b[32m55\u001b[0m \u001b[32m66\u001b[0m \u001b[32m82\u001b[0m \u001b[32m85\u001b[0m \u001b[32m85\u001b[0m "
     ]
    },
    {
     "data": {
      "text/plain": [
       "[6, 8, 11, 21, 51, 55, 66, 82, 85, 85]"
      ]
     },
     "execution_count": 7,
     "metadata": {},
     "output_type": "execute_result"
    }
   ],
   "source": [
    "liste2 = liste.copy()\n",
    "print(liste2)\n",
    "merge_sort(liste2)\n",
    "liste2 # 绿色表示要进行合并的两个子列"
   ]
  },
  {
   "cell_type": "code",
   "execution_count": null,
   "metadata": {},
   "outputs": [],
   "source": []
  },
  {
   "cell_type": "markdown",
   "metadata": {},
   "source": [
    "**各排序算法的时间比较**"
   ]
  },
  {
   "cell_type": "code",
   "execution_count": 11,
   "metadata": {},
   "outputs": [],
   "source": [
    "import time\n",
    "\n",
    "\n",
    "def timer(func):\n",
    "    \n",
    "    start = time.time()\n",
    "    for j in range(500):\n",
    "        np.random.seed(j)\n",
    "        list2test = [np.random.randint(0,1000) for i in range(1000)]\n",
    "        func(list2test)\n",
    "        \n",
    "    print(\"耗时 : {}\".format( time.time()- start))"
   ]
  },
  {
   "cell_type": "code",
   "execution_count": null,
   "metadata": {},
   "outputs": [],
   "source": [
    "timer(quick_sort) # 快拍"
   ]
  },
  {
   "cell_type": "markdown",
   "metadata": {},
   "source": [
    "耗时 : 3.1763925552368164"
   ]
  },
  {
   "cell_type": "code",
   "execution_count": null,
   "metadata": {},
   "outputs": [],
   "source": [
    "timer(merge_sort) # 归并排序"
   ]
  },
  {
   "cell_type": "markdown",
   "metadata": {},
   "source": [
    "耗时 : 4.782266139984131\n"
   ]
  },
  {
   "cell_type": "code",
   "execution_count": null,
   "metadata": {},
   "outputs": [],
   "source": [
    "timer(bubble_sort) # 冒泡排序"
   ]
  },
  {
   "cell_type": "markdown",
   "metadata": {},
   "source": [
    "耗时 : 81.65709590911865"
   ]
  },
  {
   "cell_type": "code",
   "execution_count": null,
   "metadata": {},
   "outputs": [],
   "source": [
    "timer(insert_sort) # 插入排序"
   ]
  },
  {
   "cell_type": "markdown",
   "metadata": {},
   "source": [
    "耗时 : 5.50515604019165"
   ]
  },
  {
   "cell_type": "code",
   "execution_count": null,
   "metadata": {},
   "outputs": [],
   "source": [
    "timer(sorted) # py自带"
   ]
  },
  {
   "cell_type": "markdown",
   "metadata": {},
   "source": [
    "耗时 : 1.522684097290039"
   ]
  },
  {
   "cell_type": "code",
   "execution_count": null,
   "metadata": {
    "collapsed": true
   },
   "outputs": [],
   "source": []
  }
 ],
 "metadata": {
  "kernelspec": {
   "display_name": "Python 3",
   "language": "python",
   "name": "python3"
  },
  "language_info": {
   "codemirror_mode": {
    "name": "ipython",
    "version": 3
   },
   "file_extension": ".py",
   "mimetype": "text/x-python",
   "name": "python",
   "nbconvert_exporter": "python",
   "pygments_lexer": "ipython3",
   "version": "3.6.3"
  }
 },
 "nbformat": 4,
 "nbformat_minor": 2
}
