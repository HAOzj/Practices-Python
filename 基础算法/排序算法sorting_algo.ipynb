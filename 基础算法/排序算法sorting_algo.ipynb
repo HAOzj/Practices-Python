{
 "cells": [
  {
   "cell_type": "code",
   "execution_count": null,
   "metadata": {},
   "outputs": [],
   "source": [
    "\n",
    "        "
   ]
  },
  {
   "cell_type": "code",
   "execution_count": null,
   "metadata": {},
   "outputs": [],
   "source": []
  },
  {
   "cell_type": "code",
   "execution_count": 1,
   "metadata": {},
   "outputs": [],
   "source": [
    "from termcolor import colored\n",
    "from math import ceil\n",
    "import random\n",
    "import numpy as np\n",
    "\n",
    "from sort import (\n",
    "    bubble_sort, insert_sort, shell_sort, \n",
    "    quick_sort, merge_sort\n",
    ")"
   ]
  },
  {
   "cell_type": "code",
   "execution_count": 2,
   "metadata": {},
   "outputs": [],
   "source": [
    "print_flag = True"
   ]
  },
  {
   "cell_type": "code",
   "execution_count": 3,
   "metadata": {},
   "outputs": [
    {
     "data": {
      "text/plain": [
       "[18, 26, 62, 6, 39, 87, 7, 50, 5, 79]"
      ]
     },
     "execution_count": 3,
     "metadata": {},
     "output_type": "execute_result"
    }
   ],
   "source": [
    "liste = [ np.random.randint(0,100) for _ in range(10) ]\n",
    "liste"
   ]
  },
  {
   "cell_type": "code",
   "execution_count": null,
   "metadata": {},
   "outputs": [],
   "source": []
  },
  {
   "cell_type": "markdown",
   "metadata": {},
   "source": [
    "**冒泡排序**  \n",
    "\n",
    "冒泡排序是最简单的排序算法之一,开始时整个数列为未排序子列,把未排序子列的最大元素排到最后,剩下元素组成新的为未排序子列,一直把未排序子列最大元素排到该子列最后,直到未排序子列长度未1.  \n",
    "这个过程中未排序子列的最大元素就像气泡一样从下面冒出来.\n",
    "\n",
    "*迭代过程*  \n",
    "\n",
    "不妨设要排序的序列为list,长度为len,用remain来标记未排序的子列长度,remain初始化为list的长度  \n",
    "\n",
    "1. list[:remain],也就是整个数列,为未排序子列,  \n",
    "2. 将未排序子列最大的数找出来并放在该子列最后,   \n",
    "3. remain = remian-1    \n",
    "4. 如果remain>=2,重复2步和3步  \n",
    "\n",
    "*复杂度*   \n",
    "\n",
    "要排序的数列长度标记为n.  \n",
    "每次迭代,操作数都是未排序子列长度的常数倍,不妨设为c.所以一共操作数约等于 $\\sum\\limits_{k =n}^2 k*c$.所以时间复杂度为$O(n^2)$.  \n",
    "迭代过程中,操作包括将未排序子列中每个元素从头到尾和下一个元素比较,大于下一个元素则交换位置,所以只需要一个额外的存储空间用于交换位置.\n",
    "\n"
   ]
  },
  {
   "cell_type": "code",
   "execution_count": 4,
   "metadata": {},
   "outputs": [
    {
     "name": "stdout",
     "output_type": "stream",
     "text": [
      "[18, 26, 62, 6, 39, 87, 7, 50, 5, 79]\n",
      "18 26 6 39 62 7 50 5 79 \u001b[31m87\u001b[0m \n",
      "\n",
      "18 6 26 39 7 50 5 62 \u001b[31m79\u001b[0m 87 \n",
      "\n",
      "6 18 26 7 39 5 50 \u001b[31m62\u001b[0m 79 87 \n",
      "\n",
      "6 18 7 26 5 39 \u001b[31m50\u001b[0m 62 79 87 \n",
      "\n",
      "6 7 18 5 26 \u001b[31m39\u001b[0m 50 62 79 87 \n",
      "\n",
      "6 7 5 18 \u001b[31m26\u001b[0m 39 50 62 79 87 \n",
      "\n",
      "6 5 7 \u001b[31m18\u001b[0m 26 39 50 62 79 87 \n",
      "\n",
      "5 6 \u001b[31m7\u001b[0m 18 26 39 50 62 79 87 \n",
      "\n",
      "5 \u001b[31m6\u001b[0m 7 18 26 39 50 62 79 87 \n",
      "\n"
     ]
    },
    {
     "data": {
      "text/plain": [
       "[5, 6, 7, 18, 26, 39, 50, 62, 79, 87]"
      ]
     },
     "execution_count": 4,
     "metadata": {},
     "output_type": "execute_result"
    }
   ],
   "source": [
    "liste2 = liste.copy()\n",
    "print(liste2)\n",
    "bubble_sort(liste2, print_flag)\n",
    "liste2 # 红色标识每次冒出来的数(未排序子列的最大值)"
   ]
  },
  {
   "cell_type": "code",
   "execution_count": null,
   "metadata": {},
   "outputs": [],
   "source": []
  },
  {
   "cell_type": "code",
   "execution_count": null,
   "metadata": {},
   "outputs": [],
   "source": []
  },
  {
   "cell_type": "markdown",
   "metadata": {},
   "source": [
    "**插入排序**  \n",
    "\n",
    "插入排序是最简单的排序算法之一,从第二个元素开始,把每个元素插入到当前的有序子列.\n",
    "\n",
    "*迭代过程*  \n",
    "\n",
    "不妨设要排序的序列为list,长度为len,用i来标记要插入的元素的索引,i初始化为1    \n",
    "\n",
    "1. list[i]插入到list[:i]中, list[:i+1]成为了新的有序子列  \n",
    "2. i = i+1    \n",
    "3. 如果i<=len-1,重复1步和2步  \n",
    "\n",
    "*复杂度*   \n",
    "\n",
    "要排序的数列长度标记为n.  \n",
    "一个元素插入长度为k的有序数列的时间复杂度为O(logk)\n",
    "每次迭代,都是将新元素插入到当前的有序子序列中.所以一共操作数约等于 $\\sum\\limits_{k =2}^n logk*c$(约等于$$\\int logx dx$$).所以时间复杂度为$O(n*logn)$.  \n",
    "迭代过程中,需要使用O(n)个空间来帮助插入."
   ]
  },
  {
   "cell_type": "code",
   "execution_count": 5,
   "metadata": {},
   "outputs": [
    {
     "name": "stdout",
     "output_type": "stream",
     "text": [
      "[18, 26, 62, 6, 39, 87, 7, 50, 5, 79]\n",
      "18 \u001b[31m26\u001b[0m \n",
      "\n",
      "18 26 \u001b[31m62\u001b[0m \n",
      "\n",
      "\u001b[31m6\u001b[0m 18 26 62 \n",
      "\n",
      "6 18 26 \u001b[31m39\u001b[0m 62 \n",
      "\n",
      "6 18 26 39 62 \u001b[31m87\u001b[0m \n",
      "\n",
      "6 \u001b[31m7\u001b[0m 18 26 39 62 87 \n",
      "\n",
      "6 7 18 26 39 \u001b[31m50\u001b[0m 62 87 \n",
      "\n",
      "\u001b[31m5\u001b[0m 6 7 18 26 39 50 62 87 \n",
      "\n",
      "5 6 7 18 26 39 50 62 \u001b[31m79\u001b[0m 87 \n",
      "\n"
     ]
    },
    {
     "data": {
      "text/plain": [
       "[5, 6, 7, 18, 26, 39, 50, 62, 79, 87]"
      ]
     },
     "execution_count": 5,
     "metadata": {},
     "output_type": "execute_result"
    }
   ],
   "source": [
    "liste2 = liste.copy()\n",
    "print(liste2)\n",
    "insert_sort(liste2, print_flag)\n",
    "liste2 # 红色标识每次插入的数"
   ]
  },
  {
   "cell_type": "code",
   "execution_count": null,
   "metadata": {},
   "outputs": [],
   "source": []
  },
  {
   "cell_type": "code",
   "execution_count": 6,
   "metadata": {},
   "outputs": [
    {
     "name": "stdout",
     "output_type": "stream",
     "text": [
      "[18, 26, 62, 6, 39, 87, 7, 50, 5, 79]\n",
      "d为5\n",
      "第1组间距为d的子列\n",
      "18 \u001b[31m87\u001b[0m \n",
      "\n",
      "第2组间距为d的子列\n",
      "\u001b[31m7\u001b[0m 26 \n",
      "\n",
      "第3组间距为d的子列\n",
      "\u001b[31m50\u001b[0m 62 \n",
      "\n",
      "第4组间距为d的子列\n",
      "\u001b[31m5\u001b[0m 6 \n",
      "\n",
      "第5组间距为d的子列\n",
      "39 \u001b[31m79\u001b[0m \n",
      "\n",
      "现在数组变成 [18, 7, 50, 5, 39, 87, 26, 62, 6, 79]\n",
      "d为2\n",
      "第1组间距为d的子列\n",
      "18 \u001b[31m50\u001b[0m \n",
      "\n",
      "18 \u001b[31m39\u001b[0m 50 \n",
      "\n",
      "18 \u001b[31m26\u001b[0m 39 50 \n",
      "\n",
      "\u001b[31m6\u001b[0m 18 26 39 50 \n",
      "\n",
      "第2组间距为d的子列\n",
      "\u001b[31m5\u001b[0m 7 \n",
      "\n",
      "5 7 \u001b[31m87\u001b[0m \n",
      "\n",
      "5 7 \u001b[31m62\u001b[0m 87 \n",
      "\n",
      "5 7 62 \u001b[31m79\u001b[0m 87 \n",
      "\n",
      "现在数组变成 [6, 5, 18, 7, 26, 62, 39, 79, 50, 87]\n",
      "d为1\n",
      "第1组间距为d的子列\n",
      "\u001b[31m5\u001b[0m 6 \n",
      "\n",
      "5 6 \u001b[31m18\u001b[0m \n",
      "\n",
      "5 6 \u001b[31m7\u001b[0m 18 \n",
      "\n",
      "5 6 7 18 \u001b[31m26\u001b[0m \n",
      "\n",
      "5 6 7 18 26 \u001b[31m62\u001b[0m \n",
      "\n",
      "5 6 7 18 26 \u001b[31m39\u001b[0m 62 \n",
      "\n",
      "5 6 7 18 26 39 62 \u001b[31m79\u001b[0m \n",
      "\n",
      "5 6 7 18 26 39 \u001b[31m50\u001b[0m 62 79 \n",
      "\n",
      "5 6 7 18 26 39 50 62 79 \u001b[31m87\u001b[0m \n",
      "\n",
      "现在数组变成 [5, 6, 7, 18, 26, 39, 50, 62, 79, 87]\n"
     ]
    },
    {
     "data": {
      "text/plain": [
       "[5, 6, 7, 18, 26, 39, 50, 62, 79, 87]"
      ]
     },
     "execution_count": 6,
     "metadata": {},
     "output_type": "execute_result"
    }
   ],
   "source": [
    "liste2 = liste.copy()\n",
    "print(liste2)\n",
    "shell_sort(liste2, print_flag)\n",
    "liste2 "
   ]
  },
  {
   "cell_type": "code",
   "execution_count": null,
   "metadata": {},
   "outputs": [],
   "source": []
  },
  {
   "cell_type": "markdown",
   "metadata": {},
   "source": [
    "**快速排序**  \n",
    "\n",
    "快速排序是工业界最常用的排序算法之一,选取一个元素作为pivot,然后把序列中比pivot小的排在其左边,比pivot大的排在其右边.\n",
    "\n",
    "*迭代过程*  \n",
    "\n",
    "不妨设要排序的序列为list,长度为len,用p来标记当前pivot的索引,p初始化为0,l和r分别标记要根据pivot来重排的子序列的两端    \n",
    "\n",
    "1. l和r分别初始化为0和len  \n",
    "2. 得到l和r两个输入参数,只要l<r,就把list[l:r]中比list[p]小的和大的分别重新排列在list[p]的左右两侧成为了新的有序子列,并标记pivot新的索引为p  \n",
    "3. 分别把l和p以及p和r作为输入参数,按照2操作    \n",
    "\n",
    "*复杂度*   \n",
    "\n",
    "要排序的数列长度标记为n.  \n",
    "第k轮的2和3步需要将整个数列切分成$s_k1$个子序列,$s_k \\in [1, 2^k]$,每个子序列任何元素都和该序列的pivot进行比较,也就是说,一共进行$n-s_k$次比较.\n",
    "一共的轮数最优情况下为$log_2(n)$,也就是每个子序列的pivot恰好是中间值;最差情况下为n轮,也就是每次都选中最大或者最小的数作为pivot.\n",
    "一般情况下,时间复杂度为$O(n*log(n))$  \n",
    "迭代过程中,需要使用O(n)个空间来帮助插入."
   ]
  },
  {
   "cell_type": "code",
   "execution_count": 7,
   "metadata": {},
   "outputs": [
    {
     "name": "stdout",
     "output_type": "stream",
     "text": [
      "[18, 26, 62, 6, 39, 87, 7, 50, 5, 79]\n",
      "\n",
      "\n",
      "\u001b[32m6\u001b[0m \u001b[32m7\u001b[0m \u001b[32m5\u001b[0m \u001b[31m18\u001b[0m \u001b[32m39\u001b[0m \u001b[32m87\u001b[0m \u001b[32m62\u001b[0m \u001b[32m50\u001b[0m \u001b[32m26\u001b[0m \u001b[32m79\u001b[0m \n",
      "\n",
      "\u001b[32m5\u001b[0m \u001b[31m6\u001b[0m \u001b[32m7\u001b[0m 18 39 87 62 50 26 79 \n",
      "\n",
      "5 6 7 18 \u001b[32m26\u001b[0m \u001b[31m39\u001b[0m \u001b[32m62\u001b[0m \u001b[32m50\u001b[0m \u001b[32m87\u001b[0m \u001b[32m79\u001b[0m \n",
      "\n",
      "5 6 7 18 26 39 \u001b[32m50\u001b[0m \u001b[31m62\u001b[0m \u001b[32m87\u001b[0m \u001b[32m79\u001b[0m \n",
      "\n",
      "5 6 7 18 26 39 50 62 \u001b[32m79\u001b[0m \u001b[31m87\u001b[0m "
     ]
    },
    {
     "data": {
      "text/plain": [
       "[5, 6, 7, 18, 26, 39, 50, 62, 79, 87]"
      ]
     },
     "execution_count": 7,
     "metadata": {},
     "output_type": "execute_result"
    }
   ],
   "source": [
    "liste2 = liste.copy()\n",
    "print(liste2)\n",
    "quick_sort(liste2, print_flag)\n",
    "liste2 # 红色表示pivot，绿色表示被pivot分开的数"
   ]
  },
  {
   "cell_type": "code",
   "execution_count": null,
   "metadata": {},
   "outputs": [],
   "source": []
  },
  {
   "cell_type": "markdown",
   "metadata": {},
   "source": [
    "**归并排序**  \n",
    "\n",
    "*迭代过程*  \n",
    "\n",
    "\n",
    "*复杂度*   \n"
   ]
  },
  {
   "cell_type": "code",
   "execution_count": 8,
   "metadata": {},
   "outputs": [
    {
     "name": "stdout",
     "output_type": "stream",
     "text": [
      "[18, 26, 62, 6, 39, 87, 7, 50, 5, 79]\n",
      "\n",
      "要合并的列表的数量 : 5\n",
      "\n",
      "\n",
      "\u001b[32m18\u001b[0m \u001b[32m26\u001b[0m 62 6 39 87 7 50 5 79 \n",
      "\n",
      "18 26 \u001b[32m6\u001b[0m \u001b[32m62\u001b[0m 39 87 7 50 5 79 \n",
      "\n",
      "18 26 6 62 \u001b[32m39\u001b[0m \u001b[32m87\u001b[0m 7 50 5 79 \n",
      "\n",
      "18 26 6 62 39 87 \u001b[32m7\u001b[0m \u001b[32m50\u001b[0m 5 79 \n",
      "\n",
      "18 26 6 62 39 87 7 50 \u001b[32m5\u001b[0m \u001b[32m79\u001b[0m \n",
      "要合并的列表的数量 : 3\n",
      "\n",
      "\n",
      "\u001b[32m6\u001b[0m \u001b[32m18\u001b[0m \u001b[32m26\u001b[0m \u001b[32m62\u001b[0m 39 87 7 50 5 79 \n",
      "\n",
      "6 18 26 62 \u001b[32m7\u001b[0m \u001b[32m39\u001b[0m \u001b[32m50\u001b[0m \u001b[32m87\u001b[0m 5 79 \n",
      "\n",
      "6 18 26 62 7 39 50 87 \u001b[32m5\u001b[0m \u001b[32m79\u001b[0m \n",
      "要合并的列表的数量 : 2\n",
      "\n",
      "\n",
      "\u001b[32m6\u001b[0m \u001b[32m7\u001b[0m \u001b[32m18\u001b[0m \u001b[32m26\u001b[0m \u001b[32m39\u001b[0m \u001b[32m50\u001b[0m \u001b[32m62\u001b[0m \u001b[32m87\u001b[0m 5 79 \n",
      "\n",
      "6 7 18 26 39 50 62 87 \u001b[32m5\u001b[0m \u001b[32m79\u001b[0m \n",
      "要合并的列表的数量 : 1\n",
      "\n",
      "\n",
      "\u001b[32m5\u001b[0m \u001b[32m6\u001b[0m \u001b[32m7\u001b[0m \u001b[32m18\u001b[0m \u001b[32m26\u001b[0m \u001b[32m39\u001b[0m \u001b[32m50\u001b[0m \u001b[32m62\u001b[0m \u001b[32m79\u001b[0m \u001b[32m87\u001b[0m "
     ]
    },
    {
     "data": {
      "text/plain": [
       "[5, 6, 7, 18, 26, 39, 50, 62, 79, 87]"
      ]
     },
     "execution_count": 8,
     "metadata": {},
     "output_type": "execute_result"
    }
   ],
   "source": [
    "liste2 = liste.copy()\n",
    "print(liste2)\n",
    "merge_sort(liste2, print_flag)\n",
    "liste2 # 绿色表示要进行合并的两个子列"
   ]
  },
  {
   "cell_type": "code",
   "execution_count": null,
   "metadata": {},
   "outputs": [],
   "source": []
  },
  {
   "cell_type": "markdown",
   "metadata": {},
   "source": [
    "**各排序算法的时间比较**"
   ]
  },
  {
   "cell_type": "code",
   "execution_count": 9,
   "metadata": {},
   "outputs": [],
   "source": [
    "import time\n",
    "\n",
    "\n",
    "def timer(func):\n",
    "    \n",
    "    start = time.time()\n",
    "    for j in range(500):\n",
    "        np.random.seed(j)\n",
    "        list2test = [np.random.randint(0,1000) for i in range(1000)]\n",
    "        func(list2test)\n",
    "        \n",
    "    print(\"耗时 : {}\".format( time.time()- start))"
   ]
  },
  {
   "cell_type": "code",
   "execution_count": 10,
   "metadata": {},
   "outputs": [
    {
     "name": "stdout",
     "output_type": "stream",
     "text": [
      "耗时 : 2.3093690872192383\n"
     ]
    }
   ],
   "source": [
    "timer(quick_sort) # 快排"
   ]
  },
  {
   "cell_type": "markdown",
   "metadata": {},
   "source": [
    "耗时 : 3.1763925552368164"
   ]
  },
  {
   "cell_type": "code",
   "execution_count": 11,
   "metadata": {},
   "outputs": [
    {
     "name": "stdout",
     "output_type": "stream",
     "text": [
      "耗时 : 2.5401620864868164\n"
     ]
    }
   ],
   "source": [
    "timer(merge_sort) # 归并排序"
   ]
  },
  {
   "cell_type": "markdown",
   "metadata": {},
   "source": [
    "耗时 : 4.782266139984131\n"
   ]
  },
  {
   "cell_type": "code",
   "execution_count": 12,
   "metadata": {},
   "outputs": [
    {
     "name": "stdout",
     "output_type": "stream",
     "text": [
      "耗时 : 47.5571608543396\n"
     ]
    }
   ],
   "source": [
    "timer(bubble_sort) # 冒泡排序"
   ]
  },
  {
   "cell_type": "markdown",
   "metadata": {},
   "source": [
    "耗时 : 81.65709590911865"
   ]
  },
  {
   "cell_type": "code",
   "execution_count": 13,
   "metadata": {},
   "outputs": [
    {
     "name": "stdout",
     "output_type": "stream",
     "text": [
      "耗时 : 2.8905439376831055\n"
     ]
    }
   ],
   "source": [
    "timer(insert_sort) # 插入排序"
   ]
  },
  {
   "cell_type": "markdown",
   "metadata": {},
   "source": [
    "耗时 : 5.50515604019165"
   ]
  },
  {
   "cell_type": "code",
   "execution_count": 14,
   "metadata": {},
   "outputs": [
    {
     "name": "stdout",
     "output_type": "stream",
     "text": [
      "耗时 : 0.6418108940124512\n"
     ]
    }
   ],
   "source": [
    "timer(sorted) # py自带"
   ]
  },
  {
   "cell_type": "markdown",
   "metadata": {},
   "source": [
    "耗时 : 1.522684097290039"
   ]
  },
  {
   "cell_type": "code",
   "execution_count": null,
   "metadata": {},
   "outputs": [],
   "source": []
  }
 ],
 "metadata": {
  "kernelspec": {
   "display_name": "Python 3",
   "language": "python",
   "name": "python3"
  },
  "language_info": {
   "codemirror_mode": {
    "name": "ipython",
    "version": 3
   },
   "file_extension": ".py",
   "mimetype": "text/x-python",
   "name": "python",
   "nbconvert_exporter": "python",
   "pygments_lexer": "ipython3",
   "version": "3.7.3"
  }
 },
 "nbformat": 4,
 "nbformat_minor": 2
}
