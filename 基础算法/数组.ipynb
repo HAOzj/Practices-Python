{
 "cells": [
  {
   "cell_type": "markdown",
   "metadata": {},
   "source": [
    "数组是一种最简单的数据结构,数据存储在连续的逻辑单元中.根据索引查找起来很方便,但是插入和删除比较耗时和耗空间."
   ]
  },
  {
   "cell_type": "code",
   "execution_count": 1,
   "metadata": {},
   "outputs": [],
   "source": [
    "class Array():\n",
    "    def __init__(self):\n",
    "        self.l = []\n",
    "        self.index = 0\n",
    "        \n",
    "    def insert(self, index, value):\n",
    "        if index >= len(self.l):\n",
    "            self.l.append(value)\n",
    "        else:\n",
    "            self.l.insert(index, value)\n",
    "    \n",
    "    def get(self, index):\n",
    "        if index >= len(self.l):\n",
    "            return None\n",
    "        else:\n",
    "            return self.l[index]\n",
    "        \n",
    "    def delete(self, index):\n",
    "        if index < len(self.l):\n",
    "            self.l.pop(index)\n",
    "    \n",
    "    def __len__(self):\n",
    "        return self.size\n",
    "    \n",
    "    def __getitem__(self, ind):\n",
    "        if ind < self.size:\n",
    "            return self.l[ind]\n",
    "        else:\n",
    "            raise IndexError \n",
    "    \n",
    "    def __iter__(self):\n",
    "        return self\n",
    "    \n",
    "    def __next__(self):\n",
    "        if self.index < self.size:\n",
    "            ans = self.l[self.index]\n",
    "            self.index += 1\n",
    "            return ans \n",
    "        else:\n",
    "            raise StopIteration\n",
    "            \n",
    "    def __iadd__(self, val):\n",
    "        self.l.append(val)\n",
    "        return self \n",
    "        \n",
    "            \n",
    "    @property\n",
    "    def size(self):\n",
    "        return len(self.l)\n",
    "    \n",
    "    "
   ]
  }
 ],
 "metadata": {
  "kernelspec": {
   "display_name": "Python 3",
   "language": "python",
   "name": "python3"
  },
  "language_info": {
   "codemirror_mode": {
    "name": "ipython",
    "version": 3
   },
   "file_extension": ".py",
   "mimetype": "text/x-python",
   "name": "python",
   "nbconvert_exporter": "python",
   "pygments_lexer": "ipython3",
   "version": "3.7.3"
  }
 },
 "nbformat": 4,
 "nbformat_minor": 2
}
