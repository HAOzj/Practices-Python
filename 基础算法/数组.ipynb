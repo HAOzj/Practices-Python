{
 "cells": [
  {
   "cell_type": "markdown",
   "metadata": {},
   "source": [
    "数组是一种最简单的数据结构,数据存储在连续的逻辑单元中.根据索引查找起来很方便,但是插入和删除比较耗时和耗空间."
   ]
  },
  {
   "cell_type": "code",
   "execution_count": 1,
   "metadata": {},
   "outputs": [],
   "source": [
    "class Array():\n",
    "    def __init__(self):\n",
    "        self.l = []\n",
    "        \n",
    "    def Insert(self, index, value):\n",
    "        if index >= len(self.l):\n",
    "            self.l.append(value)\n",
    "        else:\n",
    "            self.l.insert(index, value)\n",
    "    \n",
    "    def Get(self, index):\n",
    "        if index >= len(self.l):\n",
    "            return None\n",
    "        else:\n",
    "            return self.l[index]\n",
    "        \n",
    "    def Delete(self, index):\n",
    "        if index < len(self.l):\n",
    "            self.l.pop(index)\n",
    "            \n",
    "    @property\n",
    "    def Size(self):\n",
    "        return len(self.l)\n",
    "    \n",
    "    "
   ]
  }
 ],
 "metadata": {
  "kernelspec": {
   "display_name": "Python 3",
   "language": "python",
   "name": "python3"
  },
  "language_info": {
   "codemirror_mode": {
    "name": "ipython",
    "version": 3
   },
   "file_extension": ".py",
   "mimetype": "text/x-python",
   "name": "python",
   "nbconvert_exporter": "python",
   "pygments_lexer": "ipython3",
   "version": "3.7.3"
  }
 },
 "nbformat": 4,
 "nbformat_minor": 2
}
