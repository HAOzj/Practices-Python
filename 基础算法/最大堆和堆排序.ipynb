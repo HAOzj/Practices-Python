{
 "cells": [
  {
   "cell_type": "code",
   "execution_count": 1,
   "metadata": {},
   "outputs": [],
   "source": [
    "import math\n",
    "import sys \n",
    "\n",
    "\n",
    "def swap(a, i, j):\n",
    "    a[i], a[j] = a[j], a[i]\n",
    "    \n",
    "    \n",
    "def build_max_heap(a):\n",
    "    \"\"\"根据乱序数组构建最大堆,\n",
    "    也就是重排该数组使得符合最大堆的要求,\n",
    "    即子节点不得大于父节点\n",
    "    \n",
    "    Args:\n",
    "        a(iterables) :- 无序数组\n",
    "    \"\"\"\n",
    "    for f in range(math.floor(len(a)/2), -1, -1):\n",
    "        heapify(a, f)\n",
    "\n",
    "    \n",
    "def heapify(a, f):\n",
    "    \"\"\"调整f和其子节点的位置,使得满足最大堆的要求\n",
    "    \"\"\"\n",
    "    left = 2 * f + 1\n",
    "    right = left + 1\n",
    "    largest = f\n",
    "    if left < arr_len and a[left] > a[largest]:\n",
    "        largest = left\n",
    "    if right < arr_len and a[right] > a[largest]:\n",
    "        largest = right\n",
    "    \n",
    "    # 如果存在子节点大于父节点的情况\n",
    "    if largest != f:\n",
    "        swap(a, largest, f)\n",
    "        heapify(a, largest)"
   ]
  },
  {
   "cell_type": "code",
   "execution_count": 6,
   "metadata": {},
   "outputs": [],
   "source": [
    "def heap_sort(a):\n",
    "    \"\"\"堆排序\n",
    "    \n",
    "    利用最大堆的结构来升序排列无序数组,\n",
    "    1. 每次把最大堆顶部元素,即最大元素,和最后元素互换,这样最大元素就到了最后,并在堆结构中忽略该元素\n",
    "    2. 然后再对新的顶部元素heapify\n",
    "    3. 重复1和2直到只剩一个元素\n",
    "    \n",
    "    \n",
    "    \"\"\"\n",
    "    global arr_len\n",
    "    arr_len = len(a)\n",
    "    build_max_heap(a)\n",
    "    print(a)\n",
    "    for i in range(arr_len-1, 0, -1):\n",
    "        swap(a, i, 0) # 堆顶最大元素放到最后\n",
    "        arr_len -= 1  # 把i之后的元素从堆的结构中去掉\n",
    "        heapify(a, 0)\n",
    "        print(a)\n",
    "    return a"
   ]
  },
  {
   "cell_type": "code",
   "execution_count": 7,
   "metadata": {},
   "outputs": [],
   "source": [
    "import numpy as np\n",
    "\n",
    "a = [np.random.randint(20) for _ in range(15)]"
   ]
  },
  {
   "cell_type": "code",
   "execution_count": 8,
   "metadata": {},
   "outputs": [
    {
     "data": {
      "text/plain": [
       "[3, 19, 11, 4, 9, 17, 11, 19, 6, 2, 18, 7, 3, 15, 10]"
      ]
     },
     "execution_count": 8,
     "metadata": {},
     "output_type": "execute_result"
    }
   ],
   "source": [
    "a"
   ]
  },
  {
   "cell_type": "code",
   "execution_count": 9,
   "metadata": {},
   "outputs": [
    {
     "name": "stdout",
     "output_type": "stream",
     "text": [
      "[19, 19, 17, 6, 18, 11, 15, 4, 3, 2, 9, 7, 3, 11, 10]\n",
      "[19, 18, 17, 6, 10, 11, 15, 4, 3, 2, 9, 7, 3, 11, 19]\n",
      "[18, 11, 17, 6, 10, 11, 15, 4, 3, 2, 9, 7, 3, 19, 19]\n",
      "[17, 11, 15, 6, 10, 11, 3, 4, 3, 2, 9, 7, 18, 19, 19]\n",
      "[15, 11, 11, 6, 10, 7, 3, 4, 3, 2, 9, 17, 18, 19, 19]\n",
      "[11, 10, 11, 6, 9, 7, 3, 4, 3, 2, 15, 17, 18, 19, 19]\n",
      "[11, 10, 7, 6, 9, 2, 3, 4, 3, 11, 15, 17, 18, 19, 19]\n",
      "[10, 9, 7, 6, 3, 2, 3, 4, 11, 11, 15, 17, 18, 19, 19]\n",
      "[9, 6, 7, 4, 3, 2, 3, 10, 11, 11, 15, 17, 18, 19, 19]\n",
      "[7, 6, 3, 4, 3, 2, 9, 10, 11, 11, 15, 17, 18, 19, 19]\n",
      "[6, 4, 3, 2, 3, 7, 9, 10, 11, 11, 15, 17, 18, 19, 19]\n",
      "[4, 3, 3, 2, 6, 7, 9, 10, 11, 11, 15, 17, 18, 19, 19]\n",
      "[3, 2, 3, 4, 6, 7, 9, 10, 11, 11, 15, 17, 18, 19, 19]\n",
      "[3, 2, 3, 4, 6, 7, 9, 10, 11, 11, 15, 17, 18, 19, 19]\n",
      "[2, 3, 3, 4, 6, 7, 9, 10, 11, 11, 15, 17, 18, 19, 19]\n"
     ]
    },
    {
     "data": {
      "text/plain": [
       "[2, 3, 3, 4, 6, 7, 9, 10, 11, 11, 15, 17, 18, 19, 19]"
      ]
     },
     "execution_count": 9,
     "metadata": {},
     "output_type": "execute_result"
    }
   ],
   "source": [
    "heap_sort(a)"
   ]
  },
  {
   "cell_type": "code",
   "execution_count": null,
   "metadata": {},
   "outputs": [],
   "source": []
  }
 ],
 "metadata": {
  "kernelspec": {
   "display_name": "Python 3",
   "language": "python",
   "name": "python3"
  },
  "language_info": {
   "codemirror_mode": {
    "name": "ipython",
    "version": 3
   },
   "file_extension": ".py",
   "mimetype": "text/x-python",
   "name": "python",
   "nbconvert_exporter": "python",
   "pygments_lexer": "ipython3",
   "version": "3.7.3"
  }
 },
 "nbformat": 4,
 "nbformat_minor": 2
}
