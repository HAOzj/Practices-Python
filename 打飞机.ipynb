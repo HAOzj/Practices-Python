{
 "cells": [
  {
   "cell_type": "code",
   "execution_count": 1,
   "id": "07d47803",
   "metadata": {},
   "outputs": [
    {
     "name": "stdout",
     "output_type": "stream",
     "text": [
      "pygame 2.3.0 (SDL 2.24.2, Python 3.9.6)\n",
      "Hello from the pygame community. https://www.pygame.org/contribute.html\n"
     ]
    }
   ],
   "source": [
    "# 导入两个库\n",
    "import pygame\n",
    "import random\n",
    "\n",
    "# 常量，屏幕宽高\n",
    "WIDTH, HEIGHT = 800, 600\n",
    "\n",
    "# 初始化操作\n",
    "pygame.init()\n",
    "pygame.mixer.init()\n",
    "# 创建游戏窗口\n",
    "screen = pygame.display.set_mode((WIDTH, HEIGHT))\n",
    "\n",
    "# 设置游戏标题\n",
    "pygame.display.set_caption('飞机大战')"
   ]
  },
  {
   "cell_type": "code",
   "execution_count": 2,
   "id": "d2307e0d",
   "metadata": {},
   "outputs": [
    {
     "data": {
      "text/plain": [
       "296"
      ]
     },
     "execution_count": 2,
     "metadata": {},
     "output_type": "execute_result"
    }
   ],
   "source": [
    "hero_image = pygame.image.load('./image/plane.jpeg')\n",
    "hero_image.get_height()"
   ]
  },
  {
   "cell_type": "code",
   "execution_count": 3,
   "id": "b926a48e",
   "metadata": {},
   "outputs": [
    {
     "data": {
      "text/plain": [
       "<rect(0, 0, 474, 296)>"
      ]
     },
     "execution_count": 3,
     "metadata": {},
     "output_type": "execute_result"
    }
   ],
   "source": [
    "hero_image.get_rect()"
   ]
  },
  {
   "cell_type": "code",
   "execution_count": 4,
   "id": "d774d4ec",
   "metadata": {},
   "outputs": [],
   "source": [
    "# # 添加音乐\n",
    "# pygame.mixer.music.load('./sound/bgLoop.wav')\n",
    "# pygame.mixer.music.set_volume(0.5)  # 音量\n",
    "# pygame.mixer.music.play(-1, 0)\n",
    "\n",
    "# 添加系统时钟，用于设置帧的刷新\n",
    "FPS = 40\n",
    "clock = pygame.time.Clock()\n",
    "\n",
    "# 创建用户自定义事件，每隔2000毫秒触发一次事件，随机创建敌人\n",
    "CREATE_ENEMY = pygame.USEREVENT\n",
    "# 每隔2000毫秒，会传递一个信号\n",
    "pygame.time.set_timer(CREATE_ENEMY, 2000)\n",
    "\n",
    "# 对于精灵定义了主角，子弹，敌人，爆炸，可移动背景四个。\n",
    "#class Hero(pygame.sprite.Sprite)\n",
    "#class Bullet(pygame.sprite.Sprite)\n",
    "#class Enemy(pygame.sprite.Sprite)\n",
    "#class Explode(pygame.sprite.Sprite)\n",
    "#class BackGround(pygame.sprite.Sprite)\n",
    "# 主角\n",
    "class Hero(pygame.sprite.Sprite):\n",
    "    def __init__(self, speed):\n",
    "        super().__init__()  # 调用父类的初始化方法\n",
    "        self.image = pygame.image.load('./image/plane.jpeg')\n",
    "        self.rect = self.image.get_rect()\n",
    "        # 对图片进行一些尺寸处理\n",
    "        self.rect.width *= 0.2\n",
    "        self.rect.height *= 0.2\n",
    "        self.image = pygame.transform.scale(self.image, (self.rect.width, self.rect.height))\n",
    "        # 主角初始化位置\n",
    "        self.rect.x, self.rect.y = 0, 100\n",
    "        self.speed = speed\n",
    "        self.ready_to_fire = 0\n",
    "\n",
    "    def update(self, *args):\n",
    "        keys = pygame.key.get_pressed()\n",
    "        if keys[pygame.K_UP]:\n",
    "            self.rect.y -= self.speed\n",
    "        if keys[pygame.K_DOWN]:\n",
    "            self.rect.y += self.speed\n",
    "        if keys[pygame.K_LEFT]:\n",
    "            self.rect.x -= self.speed\n",
    "        if keys[pygame.K_RIGHT]:\n",
    "            self.rect.x += self.speed\n",
    "        if keys[pygame.K_SPACE]:\n",
    "            if self.ready_to_fire == 0:\n",
    "                self.fire()\n",
    "            self.ready_to_fire += 1\n",
    "            if self.ready_to_fire > 5:\n",
    "                self.ready_to_fire = 0\n",
    "        else:\n",
    "            self.ready_to_fire = 0\n",
    "        if self.rect.x < 0:\n",
    "            self.rect.x = 0\n",
    "        if self.rect.y < 0:\n",
    "            self.rect.y = 0\n",
    "        if self.rect.y > HEIGHT - self.rect.height:\n",
    "            self.rect.y = HEIGHT - self.rect.height\n",
    "    # 子弹发射\n",
    "    def fire(self):\n",
    "        bullet = Bullet(10)\n",
    "        bullet.rect.x = self.rect.right\n",
    "        bullet.rect.centery = self.rect.centery\n",
    "        bullet_sprite.add(bullet)\n",
    "#         # 音效\n",
    "#         sound = pygame.mixer.Sound('./sound/laser.wav')\n",
    "#         sound.play()\n",
    "\n",
    "\n",
    "class Bullet(pygame.sprite.Sprite):\n",
    "    def __init__(self, speed):\n",
    "        super().__init__()\n",
    "        self.image = pygame.image.load('./image/bullet.jpeg')\n",
    "        self.rect = self.image.get_rect()\n",
    "#         self.rect.width *= 0.2\n",
    "#         self.rect.height *= 0.2\n",
    "        self.rect = []\n",
    "        self.speed = speed\n",
    "\n",
    "    def update(self, *args):\n",
    "        self.rect.x += self.speed\n",
    "        if self.rect.x > WIDTH:\n",
    "            self.kill()\n",
    "\n",
    "\n",
    "class Enemy(pygame.sprite.Sprite):\n",
    "    def __init__(self, speed):\n",
    "        super().__init__()\n",
    "        self.image = pygame.image.load('./image/enemy.jpeg')\n",
    "        self.rect = self.image.get_rect()\n",
    "        self.rect.width *= 0.4\n",
    "        self.rect.height *= 0.4\n",
    "        self.rect.x = 800\n",
    "        self.rect.y = random.randint(0, HEIGHT)\n",
    "        self.speed = speed\n",
    "\n",
    "    def update(self, *args):\n",
    "        self.rect.x -= self.speed\n",
    "        if self.rect.right < 0:\n",
    "            self.kill()\n",
    "\n",
    "\n",
    "class Explode(pygame.sprite.Sprite):\n",
    "    def __init__(self):\n",
    "        super().__init__()\n",
    "        self.images = [pygame.image.load('./image/explode' + str(i) + '.jpeg') for i in range(1, 4)]\n",
    "        self.image_index = 0\n",
    "        self.image = self.images[self.image_index]\n",
    "        self.rect = self.image.get_rect()\n",
    "        self.readt_to_change = 0\n",
    "#         sound = pygame.mixer.Sound('./sound/enemyExplode.wav')\n",
    "#         sound.play()\n",
    "\n",
    "    def update(self, *args):\n",
    "        if self.image_index < 2:\n",
    "            self.readt_to_change += 1\n",
    "            if self.readt_to_change % 4 == 0:\n",
    "                self.image_index += 1\n",
    "                self.image = self.images[self.image_index]\n",
    "        else:\n",
    "            self.kill()\n",
    "\n",
    "\n",
    "class BackGround(pygame.sprite.Sprite):\n",
    "    def __init__(self):\n",
    "        super().__init__()\n",
    "        self.image = pygame.image.load('./image/background.jpeg')\n",
    "        self.rect = self.image.get_rect()\n",
    "        self.ready_to_move = 0\n",
    "\n",
    "    def update(self, *args):\n",
    "        self.rect.x -= 3\n",
    "        if self.rect.right <= 0:\n",
    "            self.rect.x = self.rect.width"
   ]
  },
  {
   "cell_type": "code",
   "execution_count": 5,
   "id": "7ce40099",
   "metadata": {},
   "outputs": [],
   "source": [
    "# 初始化精灵组\n",
    "bg_sprite = pygame.sprite.Group()\n",
    "hero_sprite = pygame.sprite.Group()\n",
    "enemy_sprite = pygame.sprite.Group()\n",
    "bullet_sprite = pygame.sprite.Group()\n",
    "explode_sprite = pygame.sprite.Group()\n",
    "\n",
    "# 定义人物\n",
    "\n",
    "hero1 = Hero(4)\n",
    "hero_sprite.add(hero1)\n",
    "\n",
    "enemy1 = Enemy(5)\n",
    "enemy2 = Enemy(7)\n",
    "\n",
    "bg1 = BackGround()\n",
    "bg2 = BackGround()\n",
    "bg2.rect.x = bg2.rect.width\n",
    "bg_sprite.add(bg1, bg2)"
   ]
  },
  {
   "cell_type": "code",
   "execution_count": 6,
   "id": "1d05a5fe",
   "metadata": {},
   "outputs": [
    {
     "name": "stderr",
     "output_type": "stream",
     "text": [
      "2023-04-12 23:07:41.759 Python[1252:22589] TSM AdjustCapsLockLEDForKeyTransitionHandling - _ISSetPhysicalKeyboardCapsLockLED Inhibit\n"
     ]
    },
    {
     "ename": "AttributeError",
     "evalue": "'list' object has no attribute 'x'",
     "output_type": "error",
     "traceback": [
      "\u001b[0;31m---------------------------------------------------------------------------\u001b[0m",
      "\u001b[0;31mAttributeError\u001b[0m                            Traceback (most recent call last)",
      "Cell \u001b[0;32mIn[6], line 25\u001b[0m\n\u001b[1;32m     23\u001b[0m \u001b[38;5;66;03m# screen.fill((0,0,0))\u001b[39;00m\n\u001b[1;32m     24\u001b[0m \u001b[38;5;28;01mfor\u001b[39;00m group \u001b[38;5;129;01min\u001b[39;00m [bg_sprite, hero_sprite, enemy_sprite, bullet_sprite, explode_sprite]:\n\u001b[0;32m---> 25\u001b[0m     \u001b[43mgroup\u001b[49m\u001b[38;5;241;43m.\u001b[39;49m\u001b[43mupdate\u001b[49m\u001b[43m(\u001b[49m\u001b[43m)\u001b[49m\n\u001b[1;32m     26\u001b[0m     group\u001b[38;5;241m.\u001b[39mdraw(screen)\n\u001b[1;32m     27\u001b[0m pygame\u001b[38;5;241m.\u001b[39mdisplay\u001b[38;5;241m.\u001b[39mupdate()\n",
      "File \u001b[0;32m~/Library/Python/3.9/lib/python/site-packages/pygame/sprite.py:537\u001b[0m, in \u001b[0;36mAbstractGroup.update\u001b[0;34m(self, *args, **kwargs)\u001b[0m\n\u001b[1;32m    528\u001b[0m \u001b[38;5;250m\u001b[39m\u001b[38;5;124;03m\"\"\"call the update method of every member sprite\u001b[39;00m\n\u001b[1;32m    529\u001b[0m \n\u001b[1;32m    530\u001b[0m \u001b[38;5;124;03mGroup.update(*args, **kwargs): return None\u001b[39;00m\n\u001b[0;32m   (...)\u001b[0m\n\u001b[1;32m    534\u001b[0m \n\u001b[1;32m    535\u001b[0m \u001b[38;5;124;03m\"\"\"\u001b[39;00m\n\u001b[1;32m    536\u001b[0m \u001b[38;5;28;01mfor\u001b[39;00m sprite \u001b[38;5;129;01min\u001b[39;00m \u001b[38;5;28mself\u001b[39m\u001b[38;5;241m.\u001b[39msprites():\n\u001b[0;32m--> 537\u001b[0m     \u001b[43msprite\u001b[49m\u001b[38;5;241;43m.\u001b[39;49m\u001b[43mupdate\u001b[49m\u001b[43m(\u001b[49m\u001b[38;5;241;43m*\u001b[39;49m\u001b[43margs\u001b[49m\u001b[43m,\u001b[49m\u001b[43m \u001b[49m\u001b[38;5;241;43m*\u001b[39;49m\u001b[38;5;241;43m*\u001b[39;49m\u001b[43mkwargs\u001b[49m\u001b[43m)\u001b[49m\n",
      "Cell \u001b[0;32mIn[4], line 48\u001b[0m, in \u001b[0;36mHero.update\u001b[0;34m(self, *args)\u001b[0m\n\u001b[1;32m     46\u001b[0m \u001b[38;5;28;01mif\u001b[39;00m keys[pygame\u001b[38;5;241m.\u001b[39mK_SPACE]:\n\u001b[1;32m     47\u001b[0m     \u001b[38;5;28;01mif\u001b[39;00m \u001b[38;5;28mself\u001b[39m\u001b[38;5;241m.\u001b[39mready_to_fire \u001b[38;5;241m==\u001b[39m \u001b[38;5;241m0\u001b[39m:\n\u001b[0;32m---> 48\u001b[0m         \u001b[38;5;28;43mself\u001b[39;49m\u001b[38;5;241;43m.\u001b[39;49m\u001b[43mfire\u001b[49m\u001b[43m(\u001b[49m\u001b[43m)\u001b[49m\n\u001b[1;32m     49\u001b[0m     \u001b[38;5;28mself\u001b[39m\u001b[38;5;241m.\u001b[39mready_to_fire \u001b[38;5;241m+\u001b[39m\u001b[38;5;241m=\u001b[39m \u001b[38;5;241m1\u001b[39m\n\u001b[1;32m     50\u001b[0m     \u001b[38;5;28;01mif\u001b[39;00m \u001b[38;5;28mself\u001b[39m\u001b[38;5;241m.\u001b[39mready_to_fire \u001b[38;5;241m>\u001b[39m \u001b[38;5;241m5\u001b[39m:\n",
      "Cell \u001b[0;32mIn[4], line 63\u001b[0m, in \u001b[0;36mHero.fire\u001b[0;34m(self)\u001b[0m\n\u001b[1;32m     61\u001b[0m \u001b[38;5;28;01mdef\u001b[39;00m \u001b[38;5;21mfire\u001b[39m(\u001b[38;5;28mself\u001b[39m):\n\u001b[1;32m     62\u001b[0m     bullet \u001b[38;5;241m=\u001b[39m Bullet(\u001b[38;5;241m10\u001b[39m)\n\u001b[0;32m---> 63\u001b[0m     \u001b[43mbullet\u001b[49m\u001b[38;5;241;43m.\u001b[39;49m\u001b[43mrect\u001b[49m\u001b[38;5;241;43m.\u001b[39;49m\u001b[43mx\u001b[49m \u001b[38;5;241m=\u001b[39m \u001b[38;5;28mself\u001b[39m\u001b[38;5;241m.\u001b[39mrect\u001b[38;5;241m.\u001b[39mright\n\u001b[1;32m     64\u001b[0m     bullet\u001b[38;5;241m.\u001b[39mrect\u001b[38;5;241m.\u001b[39mcentery \u001b[38;5;241m=\u001b[39m \u001b[38;5;28mself\u001b[39m\u001b[38;5;241m.\u001b[39mrect\u001b[38;5;241m.\u001b[39mcentery\n\u001b[1;32m     65\u001b[0m     bullet_sprite\u001b[38;5;241m.\u001b[39madd(bullet)\n",
      "\u001b[0;31mAttributeError\u001b[0m: 'list' object has no attribute 'x'"
     ]
    }
   ],
   "source": [
    "# 保持游戏运行状态(游戏循环）\n",
    "while True:\n",
    "    # ===========游戏帧的刷新===========\n",
    "    clock.tick(FPS)\n",
    "\n",
    "    # 检测事件\n",
    "    for event in pygame.event.get():\n",
    "        # 检测关闭按钮被点击的事件\n",
    "        if event.type == pygame.QUIT:\n",
    "            # 退出\n",
    "            pygame.quit()\n",
    "            exit()\n",
    "        if event.type == CREATE_ENEMY:\n",
    "            enemy_sprite.add(Enemy(random.randint(1, 7)))\n",
    "\n",
    "    # 碰撞检测,返回字典，得到二者信息\n",
    "    collision = pygame.sprite.groupcollide(enemy_sprite, bullet_sprite, True, True)\n",
    "    for enemy in collision.keys():\n",
    "        explode = Explode()\n",
    "        explode.rect = enemy.rect\n",
    "        explode_sprite.add(explode)\n",
    "\n",
    "    # screen.fill((0,0,0))\n",
    "    for group in [bg_sprite, hero_sprite, enemy_sprite, bullet_sprite, explode_sprite]:\n",
    "        group.update()\n",
    "        group.draw(screen)\n",
    "    pygame.display.update()"
   ]
  }
 ],
 "metadata": {
  "kernelspec": {
   "display_name": "Python 3 (ipykernel)",
   "language": "python",
   "name": "python3"
  },
  "language_info": {
   "codemirror_mode": {
    "name": "ipython",
    "version": 3
   },
   "file_extension": ".py",
   "mimetype": "text/x-python",
   "name": "python",
   "nbconvert_exporter": "python",
   "pygments_lexer": "ipython3",
   "version": "3.9.6"
  }
 },
 "nbformat": 4,
 "nbformat_minor": 5
}
